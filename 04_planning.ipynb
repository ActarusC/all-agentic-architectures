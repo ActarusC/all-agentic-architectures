{
 "cells": [
  {
   "cell_type": "markdown",
   "id": "intro-title",
   "metadata": {},
   "source": [
    "# 📘 Agentic Architectures 4: Planning\n",
    "\n",
    "In this notebook, we explore the **Planning** architecture. This pattern introduces a crucial layer of foresight into an agent's reasoning process. Instead of reacting to information step-by-step as in the ReAct model, a planning agent first decomposes a complex task into a sequence of smaller, manageable sub-goals. It creates a full 'battle plan' *before* taking any action.\n",
    "\n",
    "This proactive approach brings structure, predictability, and efficiency to multi-step tasks. To highlight its benefits, we will directly compare the performance of a **reactive agent (ReAct)** against our new **planning agent**. We will present both with a task that requires gathering multiple pieces of information before performing a final calculation, demonstrating how a pre-computed plan can lead to a more robust and direct solution."
   ]
  },
  {
   "cell_type": "markdown",
   "id": "intro-definition",
   "metadata": {},
   "source": [
    "### Definition\n",
    "The **Planning** architecture involves an agent that explicitly breaks down a complex goal into a detailed sequence of sub-tasks *before* beginning execution. The output of this initial planning phase is a concrete, step-by-step plan that the agent then follows methodically to reach the solution.\n",
    "\n",
    "### High-level Workflow\n",
    "\n",
    "1.  **Receive Goal:** The agent is given a complex task.\n",
    "2.  **Plan:** A dedicated 'Planner' component analyzes the goal and generates an ordered list of sub-tasks required to achieve it. For example: `[\"Find fact A\", \"Find fact B\", \"Calculate C using A and B\"]`.\n",
    "3.  **Execute:** An 'Executor' component takes the plan and carries out each sub-task in sequence, using tools as needed.\n",
    "4.  **Synthesize:** Once all steps in the plan are complete, a final component synthesizes the results from the executed steps into a coherent final answer.\n",
    "\n",
    "### When to Use / Applications\n",
    "*   **Multi-Step Workflows:** Ideal for tasks where the sequence of operations is known and critical, such as generating a report that requires fetching data, processing it, and then summarizing it.\n",
    "*   **Project Management Assistants:** Decomposing a large goal like \"launch a new feature\" into sub-tasks for different teams.\n",
    "*   **Educational Tutoring:** Creating a lesson plan to teach a student a specific concept, from foundational principles to advanced application.\n",
    "\n",
    "### Strengths & Weaknesses\n",
    "*   **Strengths:**\n",
    "    *   **Structured & Traceable:** The entire workflow is laid out in advance, making the agent's process transparent and easy to debug.\n",
    "    *   **Efficient:** Can be more efficient than ReAct for predictable tasks, as it avoids unnecessary reasoning loops between steps.\n",
    "*   **Weaknesses:**\n",
    "    *   **Brittle to Change:** A pre-made plan can fail if the environment changes unexpectedly during execution. It's less adaptive than a ReAct agent, which can change its mind after every step."
   ]
  },
  {
   "cell_type": "markdown",
   "id": "phase0-title",
   "metadata": {},
   "source": [
    "## Phase 0: Foundation & Setup\n",
    "\n",
    "We'll begin with our standard setup process: installing libraries and configuring API keys for Nebius, LangSmith, and our Tavily web search tool."
   ]
  },
  {
   "cell_type": "markdown",
   "id": "setup-what",
   "metadata": {},
   "source": [
    "### Step 0.1: Installing Core Libraries\n",
    "\n",
    "**What we are going to do:**\n",
    "We will install our standard suite of libraries, including the updated `langchain-tavily` package to address the deprecation warning."
   ]
  },
  {
   "cell_type": "code",
   "execution_count": 1,
   "id": "install-libs",
   "metadata": {},
   "outputs": [],
   "source": [
    "# !pip install -q -U langchain-nebius langchain langgraph rich python-dotenv langchain-tavily"
   ]
  },
  {
   "cell_type": "markdown",
   "id": "imports-what",
   "metadata": {},
   "source": [
    "### Step 0.2: Importing Libraries and Setting Up Keys\n",
    "\n",
    "**What we are going to do:**\n",
    "We will import the necessary modules and load our API keys from a `.env` file.\n",
    "\n",
    "**Action Required:** Create a `.env` file in this directory with your keys:\n",
    "```\n",
    "NEBIUS_API_KEY=\"your_nebius_api_key_here\"\n",
    "LANGCHAIN_API_KEY=\"your_langsmith_api_key_here\"\n",
    "TAVILY_API_KEY=\"your_tavily_api_key_here\"\n",
    "```"
   ]
  },
  {
   "cell_type": "code",
   "execution_count": null,
   "id": "import-and-keys",
   "metadata": {},
   "outputs": [
    {
     "name": "stdout",
     "output_type": "stream",
     "text": [
      "Environment variables loaded and tracing is set up.\n"
     ]
    }
   ],
   "source": [
    "import os\n",
    "import re\n",
    "from typing import List, Annotated, TypedDict, Optional\n",
    "from dotenv import load_dotenv\n",
    "\n",
    "# LangChain components\n",
    "from langchain_nebius import ChatNebius\n",
    "from langchain_core.messages import BaseMessage, ToolMessage\n",
    "from pydantic import BaseModel, Field\n",
    "from langchain_core.tools import tool\n",
    "from langchain_core.messages import SystemMessage\n",
    "from langchain_tavily import TavilySearch\n",
    "\n",
    "# LangGraph components\n",
    "from langgraph.graph import StateGraph, END\n",
    "from langgraph.graph.message import AnyMessage, add_messages\n",
    "from langgraph.prebuilt import ToolNode, tools_condition\n",
    "\n",
    "# For pretty printing\n",
    "from rich.console import Console\n",
    "from rich.markdown import Markdown\n",
    "\n",
    "# --- API Key and Tracing Setup ---\n",
    "load_dotenv()\n",
    "\n",
    "os.environ[\"LANGCHAIN_TRACING_V2\"] = \"true\"\n",
    "os.environ[\"LANGCHAIN_PROJECT\"] = \"Agentic Architecture - Planning (Nebius)\"\n",
    "\n",
    "# Check that the keys are set\n",
    "for key in [\"NEBIUS_API_KEY\", \"LANGCHAIN_API_KEY\", \"TAVILY_API_KEY\"]:\n",
    "    if not os.environ.get(key):\n",
    "        print(f\"{key} not found. Please create a .env file and set it.\")\n",
    "\n",
    "print(\"Environment variables loaded and tracing is set up.\")"
   ]
  },
  {
   "cell_type": "markdown",
   "id": "phase1-title",
   "metadata": {},
   "source": [
    "## Phase 1: The Baseline - A Reactive Agent (ReAct)\n",
    "\n",
    "To appreciate the value of planning, we first need a baseline. We will use the ReAct agent we built in the previous notebook. This agent is intelligent but myopic—it figures out its path one step at a time."
   ]
  },
  {
   "cell_type": "markdown",
   "id": "react-recap-what",
   "metadata": {},
   "source": [
    "### Step 1.1: Re-building the ReAct Agent\n",
    "\n",
    "**What we are going to do:**\n",
    "We will quickly reconstruct the ReAct agent. Its core feature is a loop where the agent's output is routed back to itself after every tool call, allowing it to reassess and decide its next move based on the latest information."
   ]
  },
  {
   "cell_type": "code",
   "execution_count": null,
   "id": "react-recap-code",
   "metadata": {},
   "outputs": [
    {
     "name": "stdout",
     "output_type": "stream",
     "text": [
      "Reactive (ReAct) agent compiled successfully.\n"
     ]
    }
   ],
   "source": [
    "console = Console()\n",
    "\n",
    "# Define the state for our graphs\n",
    "class AgentState(TypedDict):\n",
    "    messages: Annotated[list[AnyMessage], add_messages]\n",
    "\n",
    "# 1. Define the base tool from the tavily package\n",
    "tavily_search_tool = TavilySearch(max_results=2)\n",
    "\n",
    "# 2. THE FIX: Simplify the custom tool. \n",
    "#    The .invoke() method already returns a clean string, so we just pass it through.\n",
    "@tool\n",
    "def web_search(query: str) -> str:\n",
    "    \"\"\"Performs a web search using Tavily and returns the results as a string.\"\"\"\n",
    "    console.print(f\"--- TOOL: Searching for '{query}'...\")\n",
    "    results = tavily_search_tool.invoke(query)\n",
    "    return results\n",
    "\n",
    "# 3. Define the LLM and bind it to our custom tool\n",
    "llm = ChatNebius(model=\"meta-llama/Meta-Llama-3.1-8B-Instruct\", temperature=0)\n",
    "llm_with_tools = llm.bind_tools([web_search])\n",
    "\n",
    "# 4. Agent node with a system prompt to force one tool call at a time\n",
    "def react_agent_node(state: AgentState):\n",
    "    console.print(\"--- REACTIVE AGENT: Thinking... ---\")\n",
    "    \n",
    "    messages_with_system_prompt = [\n",
    "        SystemMessage(content=\"You are a helpful research assistant. You must call one and only one tool at a time. Do not call multiple tools in a single turn. After receiving the result from a tool, you will decide on the next step.\")\n",
    "    ] + state[\"messages\"]\n",
    "\n",
    "    response = llm_with_tools.invoke(messages_with_system_prompt)\n",
    "    \n",
    "    return {\"messages\": [response]}\n",
    "\n",
    "# 5. Use our corrected custom tool in the ToolNode\n",
    "tool_node = ToolNode([web_search])\n",
    "\n",
    "# The ReAct graph with its characteristic loop\n",
    "react_graph_builder = StateGraph(AgentState)\n",
    "react_graph_builder.add_node(\"agent\", react_agent_node)\n",
    "react_graph_builder.add_node(\"tools\", tool_node)\n",
    "react_graph_builder.set_entry_point(\"agent\")\n",
    "react_graph_builder.add_conditional_edges(\"agent\", tools_condition)\n",
    "react_graph_builder.add_edge(\"tools\", \"agent\")\n",
    "\n",
    "react_agent_app = react_graph_builder.compile()\n",
    "print(\"Reactive (ReAct) agent compiled successfully.\")"
   ]
  },
  {
   "cell_type": "markdown",
   "id": "react-test-what",
   "metadata": {},
   "source": [
    "### Step 1.2: Testing the Reactive Agent on a Plan-Centric Problem\n",
    "\n",
    "**What we are going to do:**\n",
    "We will give the ReAct agent a task that requires two distinct data-gathering steps followed by a final calculation. This will test its ability to manage a multi-step workflow without an upfront plan."
   ]
  },
  {
   "cell_type": "code",
   "execution_count": 4,
   "id": "react-test-code",
   "metadata": {},
   "outputs": [
    {
     "data": {
      "text/html": [
       "<pre style=\"white-space:pre;overflow-x:auto;line-height:normal;font-family:Menlo,'DejaVu Sans Mono',consolas,'Courier New',monospace\"><span style=\"color: #808000; text-decoration-color: #808000; font-weight: bold\">Testing REACTIVE agent on a plan-centric query:</span> '\n",
       "Find the population of the capital cities of France, Germany, and Italy. \n",
       "Then calculate their combined total. \n",
       "Finally, compare that combined total to the population of the United States, and say which is larger.\n",
       "'\n",
       "\n",
       "</pre>\n"
      ],
      "text/plain": [
       "\u001b[1;33mTesting REACTIVE agent on a plan-centric query:\u001b[0m '\n",
       "Find the population of the capital cities of France, Germany, and Italy. \n",
       "Then calculate their combined total. \n",
       "Finally, compare that combined total to the population of the United States, and say which is larger.\n",
       "'\n",
       "\n"
      ]
     },
     "metadata": {},
     "output_type": "display_data"
    },
    {
     "data": {
      "text/html": [
       "<pre style=\"white-space:pre;overflow-x:auto;line-height:normal;font-family:Menlo,'DejaVu Sans Mono',consolas,'Courier New',monospace\">--- <span style=\"color: #af00ff; text-decoration-color: #af00ff; font-weight: bold\">Current State Update</span> ---\n",
       "</pre>\n"
      ],
      "text/plain": [
       "--- \u001b[1;38;5;129mCurrent State Update\u001b[0m ---\n"
      ]
     },
     "metadata": {},
     "output_type": "display_data"
    },
    {
     "name": "stdout",
     "output_type": "stream",
     "text": [
      "================================\u001b[1m Human Message \u001b[0m=================================\n",
      "\n",
      "\n",
      "Find the population of the capital cities of France, Germany, and Italy. \n",
      "Then calculate their combined total. \n",
      "Finally, compare that combined total to the population of the United States, and say which is larger.\n",
      "\n"
     ]
    },
    {
     "data": {
      "text/html": [
       "<pre style=\"white-space:pre;overflow-x:auto;line-height:normal;font-family:Menlo,'DejaVu Sans Mono',consolas,'Courier New',monospace\">\n",
       "\n",
       "</pre>\n"
      ],
      "text/plain": [
       "\n",
       "\n"
      ]
     },
     "metadata": {},
     "output_type": "display_data"
    },
    {
     "data": {
      "text/html": [
       "<pre style=\"white-space:pre;overflow-x:auto;line-height:normal;font-family:Menlo,'DejaVu Sans Mono',consolas,'Courier New',monospace\">--- REACTIVE AGENT: Thinking<span style=\"color: #808000; text-decoration-color: #808000\">...</span> ---\n",
       "</pre>\n"
      ],
      "text/plain": [
       "--- REACTIVE AGENT: Thinking\u001b[33m...\u001b[0m ---\n"
      ]
     },
     "metadata": {},
     "output_type": "display_data"
    },
    {
     "data": {
      "text/html": [
       "<pre style=\"white-space:pre;overflow-x:auto;line-height:normal;font-family:Menlo,'DejaVu Sans Mono',consolas,'Courier New',monospace\">--- <span style=\"color: #af00ff; text-decoration-color: #af00ff; font-weight: bold\">Current State Update</span> ---\n",
       "</pre>\n"
      ],
      "text/plain": [
       "--- \u001b[1;38;5;129mCurrent State Update\u001b[0m ---\n"
      ]
     },
     "metadata": {},
     "output_type": "display_data"
    },
    {
     "name": "stdout",
     "output_type": "stream",
     "text": [
      "==================================\u001b[1m Ai Message \u001b[0m==================================\n",
      "Tool Calls:\n",
      "  web_search (chatcmpl-tool-19bd857f7be741df89a97d4108910943)\n",
      " Call ID: chatcmpl-tool-19bd857f7be741df89a97d4108910943\n",
      "  Args:\n",
      "    query: population of Paris\n"
     ]
    },
    {
     "data": {
      "text/html": [
       "<pre style=\"white-space:pre;overflow-x:auto;line-height:normal;font-family:Menlo,'DejaVu Sans Mono',consolas,'Courier New',monospace\">\n",
       "\n",
       "</pre>\n"
      ],
      "text/plain": [
       "\n",
       "\n"
      ]
     },
     "metadata": {},
     "output_type": "display_data"
    },
    {
     "data": {
      "text/html": [
       "<pre style=\"white-space:pre;overflow-x:auto;line-height:normal;font-family:Menlo,'DejaVu Sans Mono',consolas,'Courier New',monospace\">--- TOOL: Searching for <span style=\"color: #008000; text-decoration-color: #008000\">'population of Paris'</span><span style=\"color: #808000; text-decoration-color: #808000\">...</span>\n",
       "</pre>\n"
      ],
      "text/plain": [
       "--- TOOL: Searching for \u001b[32m'population of Paris'\u001b[0m\u001b[33m...\u001b[0m\n"
      ]
     },
     "metadata": {},
     "output_type": "display_data"
    },
    {
     "data": {
      "text/html": [
       "<pre style=\"white-space:pre;overflow-x:auto;line-height:normal;font-family:Menlo,'DejaVu Sans Mono',consolas,'Courier New',monospace\">--- <span style=\"color: #af00ff; text-decoration-color: #af00ff; font-weight: bold\">Current State Update</span> ---\n",
       "</pre>\n"
      ],
      "text/plain": [
       "--- \u001b[1;38;5;129mCurrent State Update\u001b[0m ---\n"
      ]
     },
     "metadata": {},
     "output_type": "display_data"
    },
    {
     "name": "stdout",
     "output_type": "stream",
     "text": [
      "=================================\u001b[1m Tool Message \u001b[0m=================================\n",
      "Name: web_search\n",
      "\n",
      "{\"query\": \"population of Paris\", \"follow_up_questions\": null, \"answer\": null, \"images\": [], \"results\": [{\"url\": \"https://en.wikipedia.org/wiki/Demographics_of_Paris\", \"title\": \"Demographics of Paris - Wikipedia\", \"content\": \"The city of Paris had a population of 2,165,423 people within its administrative city limits as of 1 January 2019. It is surrounded by the Paris unité\", \"score\": 0.91306627, \"raw_content\": null}, {\"url\": \"https://www.parisinsidersguide.com/population-of-paris.html\", \"title\": \"The Population of Paris - Paris Insiders Guide\", \"content\": \"The population of central Paris stands at 2.2 million, while the broader Paris metropolitan area has grown to over 12 million residents.\", \"score\": 0.90830135, \"raw_content\": null}], \"response_time\": 1.28, \"request_id\": \"877e4afb-3696-4f2f-9f33-e8f710d69406\"}\n"
     ]
    },
    {
     "data": {
      "text/html": [
       "<pre style=\"white-space:pre;overflow-x:auto;line-height:normal;font-family:Menlo,'DejaVu Sans Mono',consolas,'Courier New',monospace\">\n",
       "\n",
       "</pre>\n"
      ],
      "text/plain": [
       "\n",
       "\n"
      ]
     },
     "metadata": {},
     "output_type": "display_data"
    },
    {
     "data": {
      "text/html": [
       "<pre style=\"white-space:pre;overflow-x:auto;line-height:normal;font-family:Menlo,'DejaVu Sans Mono',consolas,'Courier New',monospace\">--- REACTIVE AGENT: Thinking<span style=\"color: #808000; text-decoration-color: #808000\">...</span> ---\n",
       "</pre>\n"
      ],
      "text/plain": [
       "--- REACTIVE AGENT: Thinking\u001b[33m...\u001b[0m ---\n"
      ]
     },
     "metadata": {},
     "output_type": "display_data"
    },
    {
     "data": {
      "text/html": [
       "<pre style=\"white-space:pre;overflow-x:auto;line-height:normal;font-family:Menlo,'DejaVu Sans Mono',consolas,'Courier New',monospace\">--- <span style=\"color: #af00ff; text-decoration-color: #af00ff; font-weight: bold\">Current State Update</span> ---\n",
       "</pre>\n"
      ],
      "text/plain": [
       "--- \u001b[1;38;5;129mCurrent State Update\u001b[0m ---\n"
      ]
     },
     "metadata": {},
     "output_type": "display_data"
    },
    {
     "name": "stdout",
     "output_type": "stream",
     "text": [
      "==================================\u001b[1m Ai Message \u001b[0m==================================\n",
      "Tool Calls:\n",
      "  web_search (chatcmpl-tool-bd4db23204cb47cd9f752bcab8193817)\n",
      " Call ID: chatcmpl-tool-bd4db23204cb47cd9f752bcab8193817\n",
      "  Args:\n",
      "    query: population of Berlin\n"
     ]
    },
    {
     "data": {
      "text/html": [
       "<pre style=\"white-space:pre;overflow-x:auto;line-height:normal;font-family:Menlo,'DejaVu Sans Mono',consolas,'Courier New',monospace\">\n",
       "\n",
       "</pre>\n"
      ],
      "text/plain": [
       "\n",
       "\n"
      ]
     },
     "metadata": {},
     "output_type": "display_data"
    },
    {
     "data": {
      "text/html": [
       "<pre style=\"white-space:pre;overflow-x:auto;line-height:normal;font-family:Menlo,'DejaVu Sans Mono',consolas,'Courier New',monospace\">--- TOOL: Searching for <span style=\"color: #008000; text-decoration-color: #008000\">'population of Berlin'</span><span style=\"color: #808000; text-decoration-color: #808000\">...</span>\n",
       "</pre>\n"
      ],
      "text/plain": [
       "--- TOOL: Searching for \u001b[32m'population of Berlin'\u001b[0m\u001b[33m...\u001b[0m\n"
      ]
     },
     "metadata": {},
     "output_type": "display_data"
    },
    {
     "data": {
      "text/html": [
       "<pre style=\"white-space:pre;overflow-x:auto;line-height:normal;font-family:Menlo,'DejaVu Sans Mono',consolas,'Courier New',monospace\">--- <span style=\"color: #af00ff; text-decoration-color: #af00ff; font-weight: bold\">Current State Update</span> ---\n",
       "</pre>\n"
      ],
      "text/plain": [
       "--- \u001b[1;38;5;129mCurrent State Update\u001b[0m ---\n"
      ]
     },
     "metadata": {},
     "output_type": "display_data"
    },
    {
     "name": "stdout",
     "output_type": "stream",
     "text": [
      "=================================\u001b[1m Tool Message \u001b[0m=================================\n",
      "Name: web_search\n",
      "\n",
      "{\"query\": \"population of Berlin\", \"follow_up_questions\": null, \"answer\": null, \"images\": [], \"results\": [{\"url\": \"https://en.wikipedia.org/wiki/Demographics_of_Berlin\", \"title\": \"Demographics of Berlin - Wikipedia\", \"content\": \"In December 2019, the city-state of Berlin had a population of 3,769,495 registered inhabitants in an area of 891.82 square kilometers (344.33 sq mi).\", \"score\": 0.92763275, \"raw_content\": null}, {\"url\": \"https://worldpopulationreview.com/cities/germany/berlin\", \"title\": \"Berlin Population 2025\", \"content\": \"# Berlin Berlin's 2025 population is now estimated at **3,580,190**. In 1950, the population of Berlin was **3,337,620**. ## Berlin Population In 2016, the population of Berlin is estimated at 3.5 million. ## Population Density of Berlin Berlin has a population of 3.5 million in 2016, up slightly from 3.4 million in 2014. The city is the center of the Berlin-Brandenburg Metropolitan Region with a population of 5.8 million people from more than 180 countries. The Berlin urban area goes beyond the city limits with a population of approximately 3.7 million. There are many foreign-born populations in Berlin today, with countries of birth that include: ## Berlin Population Growth | Berlin | 3,580,190 | 0.09% |\", \"score\": 0.90830135, \"raw_content\": null}], \"response_time\": 1.43, \"request_id\": \"ca9be230-2aac-4d36-a04c-8e89632679ad\"}\n"
     ]
    },
    {
     "data": {
      "text/html": [
       "<pre style=\"white-space:pre;overflow-x:auto;line-height:normal;font-family:Menlo,'DejaVu Sans Mono',consolas,'Courier New',monospace\">\n",
       "\n",
       "</pre>\n"
      ],
      "text/plain": [
       "\n",
       "\n"
      ]
     },
     "metadata": {},
     "output_type": "display_data"
    },
    {
     "data": {
      "text/html": [
       "<pre style=\"white-space:pre;overflow-x:auto;line-height:normal;font-family:Menlo,'DejaVu Sans Mono',consolas,'Courier New',monospace\">--- REACTIVE AGENT: Thinking<span style=\"color: #808000; text-decoration-color: #808000\">...</span> ---\n",
       "</pre>\n"
      ],
      "text/plain": [
       "--- REACTIVE AGENT: Thinking\u001b[33m...\u001b[0m ---\n"
      ]
     },
     "metadata": {},
     "output_type": "display_data"
    },
    {
     "data": {
      "text/html": [
       "<pre style=\"white-space:pre;overflow-x:auto;line-height:normal;font-family:Menlo,'DejaVu Sans Mono',consolas,'Courier New',monospace\">--- <span style=\"color: #af00ff; text-decoration-color: #af00ff; font-weight: bold\">Current State Update</span> ---\n",
       "</pre>\n"
      ],
      "text/plain": [
       "--- \u001b[1;38;5;129mCurrent State Update\u001b[0m ---\n"
      ]
     },
     "metadata": {},
     "output_type": "display_data"
    },
    {
     "name": "stdout",
     "output_type": "stream",
     "text": [
      "==================================\u001b[1m Ai Message \u001b[0m==================================\n",
      "Tool Calls:\n",
      "  web_search (chatcmpl-tool-d12efadb69b149b09e24ee5c53a17536)\n",
      " Call ID: chatcmpl-tool-d12efadb69b149b09e24ee5c53a17536\n",
      "  Args:\n",
      "    query: population of Rome\n"
     ]
    },
    {
     "data": {
      "text/html": [
       "<pre style=\"white-space:pre;overflow-x:auto;line-height:normal;font-family:Menlo,'DejaVu Sans Mono',consolas,'Courier New',monospace\">\n",
       "\n",
       "</pre>\n"
      ],
      "text/plain": [
       "\n",
       "\n"
      ]
     },
     "metadata": {},
     "output_type": "display_data"
    },
    {
     "data": {
      "text/html": [
       "<pre style=\"white-space:pre;overflow-x:auto;line-height:normal;font-family:Menlo,'DejaVu Sans Mono',consolas,'Courier New',monospace\">--- TOOL: Searching for <span style=\"color: #008000; text-decoration-color: #008000\">'population of Rome'</span><span style=\"color: #808000; text-decoration-color: #808000\">...</span>\n",
       "</pre>\n"
      ],
      "text/plain": [
       "--- TOOL: Searching for \u001b[32m'population of Rome'\u001b[0m\u001b[33m...\u001b[0m\n"
      ]
     },
     "metadata": {},
     "output_type": "display_data"
    },
    {
     "data": {
      "text/html": [
       "<pre style=\"white-space:pre;overflow-x:auto;line-height:normal;font-family:Menlo,'DejaVu Sans Mono',consolas,'Courier New',monospace\">--- <span style=\"color: #af00ff; text-decoration-color: #af00ff; font-weight: bold\">Current State Update</span> ---\n",
       "</pre>\n"
      ],
      "text/plain": [
       "--- \u001b[1;38;5;129mCurrent State Update\u001b[0m ---\n"
      ]
     },
     "metadata": {},
     "output_type": "display_data"
    },
    {
     "name": "stdout",
     "output_type": "stream",
     "text": [
      "=================================\u001b[1m Tool Message \u001b[0m=================================\n",
      "Name: web_search\n",
      "\n",
      "{\"query\": \"population of Rome\", \"follow_up_questions\": null, \"answer\": null, \"images\": [], \"results\": [{\"url\": \"https://worldpopulationreview.com/cities/italy/rome\", \"title\": \"Rome Population 2025\", \"content\": \"# Rome Rome's 2025 population is now estimated at **4,347,100**. In 1950, the population of Rome was **1,884,060**. ## Rome Population The population of Rome in 2016 is estimated at 2,869,461 in the city limits. In 2016, the population of Rome is estimated at 2,869,461, but this is only the city proper. In 2016, Rome is the 4th most populous city in the European Union in terms of population within city limits, and the largest and most populated city in Italy. ## Rome Population Growth Rome is not a country; however, Rome is a city in Italy. Yes, the city of Rome located in Italy is the same Rome from the Roman Empire. | Rome | 4,347,100 | 0.35% |\", \"score\": 0.902687, \"raw_content\": null}, {\"url\": \"https://www.macrotrends.net/global-metrics/cities/21588/rome/population\", \"title\": \"Rome, Italy Metro Area Population (1950-2025) - Macrotrends\", \"content\": \"The current metro area population of Rome in 2025 is 4,347,000, a 0.35% increase from 2024. The metro area population of Rome in 2024 was 4,332,000,\", \"score\": 0.8865877, \"raw_content\": null}], \"response_time\": 0.89, \"request_id\": \"6b77410d-5e1b-4250-b019-d57493d0e001\"}\n"
     ]
    },
    {
     "data": {
      "text/html": [
       "<pre style=\"white-space:pre;overflow-x:auto;line-height:normal;font-family:Menlo,'DejaVu Sans Mono',consolas,'Courier New',monospace\">\n",
       "\n",
       "</pre>\n"
      ],
      "text/plain": [
       "\n",
       "\n"
      ]
     },
     "metadata": {},
     "output_type": "display_data"
    },
    {
     "data": {
      "text/html": [
       "<pre style=\"white-space:pre;overflow-x:auto;line-height:normal;font-family:Menlo,'DejaVu Sans Mono',consolas,'Courier New',monospace\">--- REACTIVE AGENT: Thinking<span style=\"color: #808000; text-decoration-color: #808000\">...</span> ---\n",
       "</pre>\n"
      ],
      "text/plain": [
       "--- REACTIVE AGENT: Thinking\u001b[33m...\u001b[0m ---\n"
      ]
     },
     "metadata": {},
     "output_type": "display_data"
    },
    {
     "data": {
      "text/html": [
       "<pre style=\"white-space:pre;overflow-x:auto;line-height:normal;font-family:Menlo,'DejaVu Sans Mono',consolas,'Courier New',monospace\">--- <span style=\"color: #af00ff; text-decoration-color: #af00ff; font-weight: bold\">Current State Update</span> ---\n",
       "</pre>\n"
      ],
      "text/plain": [
       "--- \u001b[1;38;5;129mCurrent State Update\u001b[0m ---\n"
      ]
     },
     "metadata": {},
     "output_type": "display_data"
    },
    {
     "name": "stdout",
     "output_type": "stream",
     "text": [
      "==================================\u001b[1m Ai Message \u001b[0m==================================\n",
      "\n",
      "The population of Paris is approximately 2,165,423. The population of Berlin is approximately 3,580,190. The population of Rome is approximately 4,347,100. The combined total of the population of these three cities is 2,165,423 + 3,580,190 + 4,347,100 = 10,092,713. The population of the United States is approximately 331,449,281. Therefore, the population of the United States is larger than the combined total of the population of Paris, Berlin, and Rome.\n"
     ]
    },
    {
     "data": {
      "text/html": [
       "<pre style=\"white-space:pre;overflow-x:auto;line-height:normal;font-family:Menlo,'DejaVu Sans Mono',consolas,'Courier New',monospace\">\n",
       "\n",
       "</pre>\n"
      ],
      "text/plain": [
       "\n",
       "\n"
      ]
     },
     "metadata": {},
     "output_type": "display_data"
    },
    {
     "data": {
      "text/html": [
       "<pre style=\"white-space:pre;overflow-x:auto;line-height:normal;font-family:Menlo,'DejaVu Sans Mono',consolas,'Courier New',monospace\">\n",
       "--- <span style=\"color: #800000; text-decoration-color: #800000; font-weight: bold\">Final Output from Reactive Agent</span> ---\n",
       "</pre>\n"
      ],
      "text/plain": [
       "\n",
       "--- \u001b[1;31mFinal Output from Reactive Agent\u001b[0m ---\n"
      ]
     },
     "metadata": {},
     "output_type": "display_data"
    },
    {
     "data": {
      "text/html": [
       "<pre style=\"white-space:pre;overflow-x:auto;line-height:normal;font-family:Menlo,'DejaVu Sans Mono',consolas,'Courier New',monospace\">The population of Paris is approximately 2,165,423. The population of Berlin is approximately 3,580,190. The       \n",
       "population of Rome is approximately 4,347,100. The combined total of the population of these three cities is       \n",
       "2,165,423 + 3,580,190 + 4,347,100 = 10,092,713. The population of the United States is approximately 331,449,281.  \n",
       "Therefore, the population of the United States is larger than the combined total of the population of Paris,       \n",
       "Berlin, and Rome.                                                                                                  \n",
       "</pre>\n"
      ],
      "text/plain": [
       "The population of Paris is approximately 2,165,423. The population of Berlin is approximately 3,580,190. The       \n",
       "population of Rome is approximately 4,347,100. The combined total of the population of these three cities is       \n",
       "2,165,423 + 3,580,190 + 4,347,100 = 10,092,713. The population of the United States is approximately 331,449,281.  \n",
       "Therefore, the population of the United States is larger than the combined total of the population of Paris,       \n",
       "Berlin, and Rome.                                                                                                  \n"
      ]
     },
     "metadata": {},
     "output_type": "display_data"
    }
   ],
   "source": [
    "plan_centric_query = \"\"\"\n",
    "Find the population of the capital cities of France, Germany, and Italy. \n",
    "Then calculate their combined total. \n",
    "Finally, compare that combined total to the population of the United States, and say which is larger.\n",
    "\"\"\"\n",
    "\n",
    "console.print(f\"[bold yellow]Testing REACTIVE agent on a plan-centric query:[/bold yellow] '{plan_centric_query}'\\n\")\n",
    "\n",
    "final_react_output = None\n",
    "for chunk in react_agent_app.stream({\"messages\": [(\"user\", plan_centric_query)]}, stream_mode=\"values\"):\n",
    "    final_react_output = chunk\n",
    "    console.print(f\"--- [bold purple]Current State Update[/bold purple] ---\")\n",
    "    chunk['messages'][-1].pretty_print()\n",
    "    console.print(\"\\n\")\n",
    "\n",
    "console.print(\"\\n--- [bold red]Final Output from Reactive Agent[/bold red] ---\")\n",
    "console.print(Markdown(final_react_output['messages'][-1].content))"
   ]
  },
  {
   "cell_type": "markdown",
   "id": "react-discuss",
   "metadata": {},
   "source": [
    "**Discussion of the Output:**\n",
    "The ReAct agent successfully completed the task. By observing the streamed output, we can trace its step-by-step reasoning process:\n",
    "1. It first decides to search for the population of Paris.\n",
    "2. After receiving that result, it incorporates it into its memory and then decides its next step is to search for the population of Berlin.\n",
    "3. Finally, with both pieces of information gathered, it performs the calculation and provides the final answer.\n",
    "\n",
    "While it works, this iterative discovery process is not always the most efficient. For a predictable task like this, the agent is making extra LLM calls to reason between each step. This sets the stage for demonstrating the value of a planning agent."
   ]
  },
  {
   "cell_type": "markdown",
   "id": "phase2-title",
   "metadata": {},
   "source": [
    "## Phase 2: The Advanced Approach - A Planning Agent\n",
    "\n",
    "Now, let's build an agent that thinks before it acts. This agent will have a dedicated **Planner** to create a complete task list, an **Executor** to carry out the plan, and a **Synthesizer** to assemble the final result."
   ]
  },
  {
   "cell_type": "markdown",
   "id": "planning-build-what",
   "metadata": {},
   "source": [
    "### Step 2.1: Defining the Planner, Executor, and Synthesizer Nodes\n",
    "\n",
    "**What we are going to do:**\n",
    "We will create the core components for our new agent:\n",
    "1.  **`Planner`:** An LLM-based node that takes the user request and outputs a structured plan.\n",
    "2.  **`Executor`:** A node that takes the plan, executes the *next* step using a tool, and records the result.\n",
    "3.  **`Synthesizer`:** A final LLM-based node that takes all the collected results and generates the final answer."
   ]
  },
  {
   "cell_type": "code",
   "execution_count": 5,
   "id": "planning-build-code",
   "metadata": {},
   "outputs": [
    {
     "name": "stdout",
     "output_type": "stream",
     "text": [
      "Planner, Executor, and Synthesizer nodes defined.\n"
     ]
    }
   ],
   "source": [
    "# Pydantic model to ensure the planner's output is a structured list of steps\n",
    "class Plan(BaseModel):\n",
    "    \"\"\"A plan of tool calls to execute to answer the user's query.\"\"\"\n",
    "    steps: List[str] = Field(description=\"A list of tool calls that, when executed, will answer the query.\")\n",
    "\n",
    "# Define the state for the planning agent\n",
    "class PlanningState(TypedDict):\n",
    "    user_request: str\n",
    "    plan: Optional[List[str]]\n",
    "    intermediate_steps: List[ToolMessage]\n",
    "    final_answer: Optional[str]\n",
    "\n",
    "def planner_node(state: PlanningState):\n",
    "    \"\"\"Generates a plan of action to answer the user's request.\"\"\"\n",
    "    console.print(\"--- PLANNER: Decomposing task... ---\")\n",
    "    planner_llm = llm.with_structured_output(Plan)\n",
    "    \n",
    "    # THE FIX: A much more explicit prompt with a clear example (few-shot prompting)\n",
    "    prompt = f\"\"\"You are an expert planner. Your job is to create a step-by-step plan to answer the user's request.\n",
    "        Each step in the plan must be a single call to the `web_search` tool.\n",
    "\n",
    "        **Instructions:**\n",
    "        1. Analyze the user's request.\n",
    "        2. Break it down into a sequence of simple, logical search queries.\n",
    "        3. Format the output as a list of strings, where each string is a single valid tool call.\n",
    "\n",
    "        **Example:**\n",
    "        Request: \"What is the capital of France and what is its population?\"\n",
    "        Correct Plan Output:\n",
    "        [\n",
    "            \"web_search('capital of France')\",\n",
    "            \"web_search('population of Paris')\"\n",
    "        ]\n",
    "\n",
    "        **User's Request:**\n",
    "        {state['user_request']}\n",
    "    \"\"\"\n",
    "\n",
    "    plan_result = planner_llm.invoke(prompt)\n",
    "    # Use plan_result.steps, not plan.steps to avoid confusion with the variable name 'plan'\n",
    "    console.print(f\"--- PLANNER: Generated Plan: {plan_result.steps} ---\")\n",
    "    return {\"plan\": plan_result.steps}\n",
    "\n",
    "def executor_node(state: PlanningState):\n",
    "    \"\"\"Executes the next step in the plan.\"\"\"\n",
    "    console.print(\"--- EXECUTOR: Running next step... ---\")\n",
    "    plan = state[\"plan\"]\n",
    "    next_step = plan[0]\n",
    "    \n",
    "    # Robust regex to handle both single and double quotes\n",
    "    match = re.search(r\"(\\w+)\\((?:\\\"|\\')(.*?)(?:\\\"|\\')\\)\", next_step)\n",
    "    if not match:\n",
    "        tool_name = \"web_search\"\n",
    "        query = next_step\n",
    "    else:\n",
    "        tool_name, query = match.groups()[0], match.groups()[1]\n",
    "    \n",
    "    console.print(f\"--- EXECUTOR: Calling tool '{tool_name}' with query '{query}' ---\")\n",
    "    \n",
    "    result = tavily_search_tool.invoke(query)\n",
    "    \n",
    "    # We still create a ToolMessage, but the tool call itself is now safe.\n",
    "    tool_message = ToolMessage(\n",
    "    content=str(result),\n",
    "    name=tool_name,\n",
    "    tool_call_id=f\"manual-{hash(query)}\"\n",
    "    )\n",
    "    \n",
    "    return {\n",
    "        \"plan\": plan[1:], # Pop the executed step from the plan\n",
    "        \"intermediate_steps\": state[\"intermediate_steps\"] + [tool_message]\n",
    "    }\n",
    "\n",
    "def synthesizer_node(state: PlanningState):\n",
    "    \"\"\"Synthesizes the final answer from the intermediate steps.\"\"\"\n",
    "    console.print(\"--- SYNTHESIZER: Generating final answer... ---\")\n",
    "    \n",
    "    context = \"\\n\".join([f\"Tool {msg.name} returned: {msg.content}\" for msg in state[\"intermediate_steps\"]])\n",
    "    \n",
    "    prompt = f\"\"\"You are an expert synthesizer. Based on the user's request and the collected data, provide a comprehensive final answer.\n",
    "    \n",
    "    Request: {state['user_request']}\n",
    "    Collected Data:\n",
    "    {context}\n",
    "    \"\"\"\n",
    "    final_answer = llm.invoke(prompt).content\n",
    "    return {\"final_answer\": final_answer}\n",
    "\n",
    "print(\"Planner, Executor, and Synthesizer nodes defined.\")"
   ]
  },
  {
   "cell_type": "markdown",
   "id": "planning-graph-what",
   "metadata": {},
   "source": [
    "### Step 2.2: Building the Planning Agent Graph\n",
    "\n",
    "**What we are going to do:**\n",
    "Now we will assemble the new nodes into a graph. The flow will be: `Planner` -> `Executor` (looped) -> `Synthesizer`."
   ]
  },
  {
   "cell_type": "code",
   "execution_count": 6,
   "id": "planning-graph-code",
   "metadata": {},
   "outputs": [
    {
     "name": "stdout",
     "output_type": "stream",
     "text": [
      "Planning agent compiled successfully.\n"
     ]
    }
   ],
   "source": [
    "def planning_router(state: PlanningState):\n",
    "    if not state[\"plan\"]:\n",
    "        console.print(\"--- ROUTER: Plan complete. Moving to synthesizer. ---\")\n",
    "        return \"synthesize\"\n",
    "    else:\n",
    "        console.print(\"--- ROUTER: Plan has more steps. Continuing execution. ---\")\n",
    "        return \"execute\"\n",
    "\n",
    "planning_graph_builder = StateGraph(PlanningState)\n",
    "planning_graph_builder.add_node(\"plan\", planner_node)\n",
    "planning_graph_builder.add_node(\"execute\", executor_node)\n",
    "planning_graph_builder.add_node(\"synthesize\", synthesizer_node)\n",
    "\n",
    "planning_graph_builder.set_entry_point(\"plan\")\n",
    "planning_graph_builder.add_conditional_edges(\"plan\", planning_router, {\"execute\": \"execute\", \"synthesize\": \"synthesize\"}) # Route after planning\n",
    "planning_graph_builder.add_conditional_edges(\"execute\", planning_router, {\"execute\": \"execute\", \"synthesize\": \"synthesize\"})\n",
    "planning_graph_builder.add_edge(\"synthesize\", END)\n",
    "\n",
    "planning_agent_app = planning_graph_builder.compile()\n",
    "print(\"Planning agent compiled successfully.\")"
   ]
  },
  {
   "cell_type": "markdown",
   "id": "phase3-title",
   "metadata": {},
   "source": [
    "## Phase 3: Head-to-Head Comparison\n",
    "\n",
    "Let's run our new planning agent on the same task and compare its execution flow and final output to the reactive agent."
   ]
  },
  {
   "cell_type": "code",
   "execution_count": 7,
   "id": "planning-test-code",
   "metadata": {},
   "outputs": [
    {
     "data": {
      "text/html": [
       "<pre style=\"white-space:pre;overflow-x:auto;line-height:normal;font-family:Menlo,'DejaVu Sans Mono',consolas,'Courier New',monospace\"><span style=\"color: #008000; text-decoration-color: #008000; font-weight: bold\">Testing PLANNING agent on the same plan-centric query:</span> '\n",
       "Find the population of the capital cities of France, Germany, and Italy. \n",
       "Then calculate their combined total. \n",
       "Finally, compare that combined total to the population of the United States, and say which is larger.\n",
       "'\n",
       "\n",
       "</pre>\n"
      ],
      "text/plain": [
       "\u001b[1;32mTesting PLANNING agent on the same plan-centric query:\u001b[0m '\n",
       "Find the population of the capital cities of France, Germany, and Italy. \n",
       "Then calculate their combined total. \n",
       "Finally, compare that combined total to the population of the United States, and say which is larger.\n",
       "'\n",
       "\n"
      ]
     },
     "metadata": {},
     "output_type": "display_data"
    },
    {
     "data": {
      "text/html": [
       "<pre style=\"white-space:pre;overflow-x:auto;line-height:normal;font-family:Menlo,'DejaVu Sans Mono',consolas,'Courier New',monospace\">--- PLANNER: Decomposing task<span style=\"color: #808000; text-decoration-color: #808000\">...</span> ---\n",
       "</pre>\n"
      ],
      "text/plain": [
       "--- PLANNER: Decomposing task\u001b[33m...\u001b[0m ---\n"
      ]
     },
     "metadata": {},
     "output_type": "display_data"
    },
    {
     "data": {
      "text/html": [
       "<pre style=\"white-space:pre;overflow-x:auto;line-height:normal;font-family:Menlo,'DejaVu Sans Mono',consolas,'Courier New',monospace\">--- PLANNER: Generated Plan: <span style=\"font-weight: bold\">[</span><span style=\"color: #008000; text-decoration-color: #008000\">\"web_search('population of the capital of France')\"</span>, <span style=\"color: #008000; text-decoration-color: #008000\">\"web_search('population of the </span>\n",
       "<span style=\"color: #008000; text-decoration-color: #008000\">capital of Germany')\"</span>, <span style=\"color: #008000; text-decoration-color: #008000\">\"web_search('population of the capital of Italy')\"</span>, <span style=\"color: #008000; text-decoration-color: #008000\">\"web_search('population of the United </span>\n",
       "<span style=\"color: #008000; text-decoration-color: #008000\">States')\"</span>, <span style=\"color: #008000; text-decoration-color: #008000\">\"web_search('add  + population of France + population of Germany + population of Italy')\"</span>, \n",
       "<span style=\"color: #008000; text-decoration-color: #008000\">\"web_search('compare + combined total + population of the United States')\"</span><span style=\"font-weight: bold\">]</span> ---\n",
       "</pre>\n"
      ],
      "text/plain": [
       "--- PLANNER: Generated Plan: \u001b[1m[\u001b[0m\u001b[32m\"web_search\u001b[0m\u001b[32m(\u001b[0m\u001b[32m'population of the capital of France'\u001b[0m\u001b[32m)\u001b[0m\u001b[32m\"\u001b[0m, \u001b[32m\"web_search\u001b[0m\u001b[32m(\u001b[0m\u001b[32m'population of the \u001b[0m\n",
       "\u001b[32mcapital of Germany'\u001b[0m\u001b[32m)\u001b[0m\u001b[32m\"\u001b[0m, \u001b[32m\"web_search\u001b[0m\u001b[32m(\u001b[0m\u001b[32m'population of the capital of Italy'\u001b[0m\u001b[32m)\u001b[0m\u001b[32m\"\u001b[0m, \u001b[32m\"web_search\u001b[0m\u001b[32m(\u001b[0m\u001b[32m'population of the United \u001b[0m\n",
       "\u001b[32mStates'\u001b[0m\u001b[32m)\u001b[0m\u001b[32m\"\u001b[0m, \u001b[32m\"web_search\u001b[0m\u001b[32m(\u001b[0m\u001b[32m'add  + population of France + population of Germany + population of Italy'\u001b[0m\u001b[32m)\u001b[0m\u001b[32m\"\u001b[0m, \n",
       "\u001b[32m\"web_search\u001b[0m\u001b[32m(\u001b[0m\u001b[32m'compare + combined total + population of the United States'\u001b[0m\u001b[32m)\u001b[0m\u001b[32m\"\u001b[0m\u001b[1m]\u001b[0m ---\n"
      ]
     },
     "metadata": {},
     "output_type": "display_data"
    },
    {
     "data": {
      "text/html": [
       "<pre style=\"white-space:pre;overflow-x:auto;line-height:normal;font-family:Menlo,'DejaVu Sans Mono',consolas,'Courier New',monospace\">--- ROUTER: Plan has more steps. Continuing execution. ---\n",
       "</pre>\n"
      ],
      "text/plain": [
       "--- ROUTER: Plan has more steps. Continuing execution. ---\n"
      ]
     },
     "metadata": {},
     "output_type": "display_data"
    },
    {
     "data": {
      "text/html": [
       "<pre style=\"white-space:pre;overflow-x:auto;line-height:normal;font-family:Menlo,'DejaVu Sans Mono',consolas,'Courier New',monospace\">--- EXECUTOR: Running next step<span style=\"color: #808000; text-decoration-color: #808000\">...</span> ---\n",
       "</pre>\n"
      ],
      "text/plain": [
       "--- EXECUTOR: Running next step\u001b[33m...\u001b[0m ---\n"
      ]
     },
     "metadata": {},
     "output_type": "display_data"
    },
    {
     "data": {
      "text/html": [
       "<pre style=\"white-space:pre;overflow-x:auto;line-height:normal;font-family:Menlo,'DejaVu Sans Mono',consolas,'Courier New',monospace\">--- EXECUTOR: Calling tool <span style=\"color: #008000; text-decoration-color: #008000\">'web_search'</span> with query <span style=\"color: #008000; text-decoration-color: #008000\">'population of the capital of France'</span> ---\n",
       "</pre>\n"
      ],
      "text/plain": [
       "--- EXECUTOR: Calling tool \u001b[32m'web_search'\u001b[0m with query \u001b[32m'population of the capital of France'\u001b[0m ---\n"
      ]
     },
     "metadata": {},
     "output_type": "display_data"
    },
    {
     "data": {
      "text/html": [
       "<pre style=\"white-space:pre;overflow-x:auto;line-height:normal;font-family:Menlo,'DejaVu Sans Mono',consolas,'Courier New',monospace\">--- ROUTER: Plan has more steps. Continuing execution. ---\n",
       "</pre>\n"
      ],
      "text/plain": [
       "--- ROUTER: Plan has more steps. Continuing execution. ---\n"
      ]
     },
     "metadata": {},
     "output_type": "display_data"
    },
    {
     "data": {
      "text/html": [
       "<pre style=\"white-space:pre;overflow-x:auto;line-height:normal;font-family:Menlo,'DejaVu Sans Mono',consolas,'Courier New',monospace\">--- EXECUTOR: Running next step<span style=\"color: #808000; text-decoration-color: #808000\">...</span> ---\n",
       "</pre>\n"
      ],
      "text/plain": [
       "--- EXECUTOR: Running next step\u001b[33m...\u001b[0m ---\n"
      ]
     },
     "metadata": {},
     "output_type": "display_data"
    },
    {
     "data": {
      "text/html": [
       "<pre style=\"white-space:pre;overflow-x:auto;line-height:normal;font-family:Menlo,'DejaVu Sans Mono',consolas,'Courier New',monospace\">--- EXECUTOR: Calling tool <span style=\"color: #008000; text-decoration-color: #008000\">'web_search'</span> with query <span style=\"color: #008000; text-decoration-color: #008000\">'population of the capital of Germany'</span> ---\n",
       "</pre>\n"
      ],
      "text/plain": [
       "--- EXECUTOR: Calling tool \u001b[32m'web_search'\u001b[0m with query \u001b[32m'population of the capital of Germany'\u001b[0m ---\n"
      ]
     },
     "metadata": {},
     "output_type": "display_data"
    },
    {
     "data": {
      "text/html": [
       "<pre style=\"white-space:pre;overflow-x:auto;line-height:normal;font-family:Menlo,'DejaVu Sans Mono',consolas,'Courier New',monospace\">--- ROUTER: Plan has more steps. Continuing execution. ---\n",
       "</pre>\n"
      ],
      "text/plain": [
       "--- ROUTER: Plan has more steps. Continuing execution. ---\n"
      ]
     },
     "metadata": {},
     "output_type": "display_data"
    },
    {
     "data": {
      "text/html": [
       "<pre style=\"white-space:pre;overflow-x:auto;line-height:normal;font-family:Menlo,'DejaVu Sans Mono',consolas,'Courier New',monospace\">--- EXECUTOR: Running next step<span style=\"color: #808000; text-decoration-color: #808000\">...</span> ---\n",
       "</pre>\n"
      ],
      "text/plain": [
       "--- EXECUTOR: Running next step\u001b[33m...\u001b[0m ---\n"
      ]
     },
     "metadata": {},
     "output_type": "display_data"
    },
    {
     "data": {
      "text/html": [
       "<pre style=\"white-space:pre;overflow-x:auto;line-height:normal;font-family:Menlo,'DejaVu Sans Mono',consolas,'Courier New',monospace\">--- EXECUTOR: Calling tool <span style=\"color: #008000; text-decoration-color: #008000\">'web_search'</span> with query <span style=\"color: #008000; text-decoration-color: #008000\">'population of the capital of Italy'</span> ---\n",
       "</pre>\n"
      ],
      "text/plain": [
       "--- EXECUTOR: Calling tool \u001b[32m'web_search'\u001b[0m with query \u001b[32m'population of the capital of Italy'\u001b[0m ---\n"
      ]
     },
     "metadata": {},
     "output_type": "display_data"
    },
    {
     "data": {
      "text/html": [
       "<pre style=\"white-space:pre;overflow-x:auto;line-height:normal;font-family:Menlo,'DejaVu Sans Mono',consolas,'Courier New',monospace\">--- ROUTER: Plan has more steps. Continuing execution. ---\n",
       "</pre>\n"
      ],
      "text/plain": [
       "--- ROUTER: Plan has more steps. Continuing execution. ---\n"
      ]
     },
     "metadata": {},
     "output_type": "display_data"
    },
    {
     "data": {
      "text/html": [
       "<pre style=\"white-space:pre;overflow-x:auto;line-height:normal;font-family:Menlo,'DejaVu Sans Mono',consolas,'Courier New',monospace\">--- EXECUTOR: Running next step<span style=\"color: #808000; text-decoration-color: #808000\">...</span> ---\n",
       "</pre>\n"
      ],
      "text/plain": [
       "--- EXECUTOR: Running next step\u001b[33m...\u001b[0m ---\n"
      ]
     },
     "metadata": {},
     "output_type": "display_data"
    },
    {
     "data": {
      "text/html": [
       "<pre style=\"white-space:pre;overflow-x:auto;line-height:normal;font-family:Menlo,'DejaVu Sans Mono',consolas,'Courier New',monospace\">--- EXECUTOR: Calling tool <span style=\"color: #008000; text-decoration-color: #008000\">'web_search'</span> with query <span style=\"color: #008000; text-decoration-color: #008000\">'population of the United States'</span> ---\n",
       "</pre>\n"
      ],
      "text/plain": [
       "--- EXECUTOR: Calling tool \u001b[32m'web_search'\u001b[0m with query \u001b[32m'population of the United States'\u001b[0m ---\n"
      ]
     },
     "metadata": {},
     "output_type": "display_data"
    },
    {
     "data": {
      "text/html": [
       "<pre style=\"white-space:pre;overflow-x:auto;line-height:normal;font-family:Menlo,'DejaVu Sans Mono',consolas,'Courier New',monospace\">--- ROUTER: Plan has more steps. Continuing execution. ---\n",
       "</pre>\n"
      ],
      "text/plain": [
       "--- ROUTER: Plan has more steps. Continuing execution. ---\n"
      ]
     },
     "metadata": {},
     "output_type": "display_data"
    },
    {
     "data": {
      "text/html": [
       "<pre style=\"white-space:pre;overflow-x:auto;line-height:normal;font-family:Menlo,'DejaVu Sans Mono',consolas,'Courier New',monospace\">--- EXECUTOR: Running next step<span style=\"color: #808000; text-decoration-color: #808000\">...</span> ---\n",
       "</pre>\n"
      ],
      "text/plain": [
       "--- EXECUTOR: Running next step\u001b[33m...\u001b[0m ---\n"
      ]
     },
     "metadata": {},
     "output_type": "display_data"
    },
    {
     "data": {
      "text/html": [
       "<pre style=\"white-space:pre;overflow-x:auto;line-height:normal;font-family:Menlo,'DejaVu Sans Mono',consolas,'Courier New',monospace\">--- EXECUTOR: Calling tool <span style=\"color: #008000; text-decoration-color: #008000\">'web_search'</span> with query <span style=\"color: #008000; text-decoration-color: #008000\">'add  + population of France + population of Germany + </span>\n",
       "<span style=\"color: #008000; text-decoration-color: #008000\">population of Italy'</span> ---\n",
       "</pre>\n"
      ],
      "text/plain": [
       "--- EXECUTOR: Calling tool \u001b[32m'web_search'\u001b[0m with query \u001b[32m'add  + population of France + population of Germany + \u001b[0m\n",
       "\u001b[32mpopulation of Italy'\u001b[0m ---\n"
      ]
     },
     "metadata": {},
     "output_type": "display_data"
    },
    {
     "data": {
      "text/html": [
       "<pre style=\"white-space:pre;overflow-x:auto;line-height:normal;font-family:Menlo,'DejaVu Sans Mono',consolas,'Courier New',monospace\">--- ROUTER: Plan has more steps. Continuing execution. ---\n",
       "</pre>\n"
      ],
      "text/plain": [
       "--- ROUTER: Plan has more steps. Continuing execution. ---\n"
      ]
     },
     "metadata": {},
     "output_type": "display_data"
    },
    {
     "data": {
      "text/html": [
       "<pre style=\"white-space:pre;overflow-x:auto;line-height:normal;font-family:Menlo,'DejaVu Sans Mono',consolas,'Courier New',monospace\">--- EXECUTOR: Running next step<span style=\"color: #808000; text-decoration-color: #808000\">...</span> ---\n",
       "</pre>\n"
      ],
      "text/plain": [
       "--- EXECUTOR: Running next step\u001b[33m...\u001b[0m ---\n"
      ]
     },
     "metadata": {},
     "output_type": "display_data"
    },
    {
     "data": {
      "text/html": [
       "<pre style=\"white-space:pre;overflow-x:auto;line-height:normal;font-family:Menlo,'DejaVu Sans Mono',consolas,'Courier New',monospace\">--- EXECUTOR: Calling tool <span style=\"color: #008000; text-decoration-color: #008000\">'web_search'</span> with query <span style=\"color: #008000; text-decoration-color: #008000\">'compare + combined total + population of the United States'</span> ---\n",
       "</pre>\n"
      ],
      "text/plain": [
       "--- EXECUTOR: Calling tool \u001b[32m'web_search'\u001b[0m with query \u001b[32m'compare + combined total + population of the United States'\u001b[0m ---\n"
      ]
     },
     "metadata": {},
     "output_type": "display_data"
    },
    {
     "data": {
      "text/html": [
       "<pre style=\"white-space:pre;overflow-x:auto;line-height:normal;font-family:Menlo,'DejaVu Sans Mono',consolas,'Courier New',monospace\">--- ROUTER: Plan complete. Moving to synthesizer. ---\n",
       "</pre>\n"
      ],
      "text/plain": [
       "--- ROUTER: Plan complete. Moving to synthesizer. ---\n"
      ]
     },
     "metadata": {},
     "output_type": "display_data"
    },
    {
     "data": {
      "text/html": [
       "<pre style=\"white-space:pre;overflow-x:auto;line-height:normal;font-family:Menlo,'DejaVu Sans Mono',consolas,'Courier New',monospace\">--- SYNTHESIZER: Generating final answer<span style=\"color: #808000; text-decoration-color: #808000\">...</span> ---\n",
       "</pre>\n"
      ],
      "text/plain": [
       "--- SYNTHESIZER: Generating final answer\u001b[33m...\u001b[0m ---\n"
      ]
     },
     "metadata": {},
     "output_type": "display_data"
    },
    {
     "data": {
      "text/html": [
       "<pre style=\"white-space:pre;overflow-x:auto;line-height:normal;font-family:Menlo,'DejaVu Sans Mono',consolas,'Courier New',monospace\">\n",
       "--- <span style=\"color: #008000; text-decoration-color: #008000; font-weight: bold\">Final Output from Planning Agent</span> ---\n",
       "</pre>\n"
      ],
      "text/plain": [
       "\n",
       "--- \u001b[1;32mFinal Output from Planning Agent\u001b[0m ---\n"
      ]
     },
     "metadata": {},
     "output_type": "display_data"
    },
    {
     "data": {
      "text/html": [
       "<pre style=\"white-space:pre;overflow-x:auto;line-height:normal;font-family:Menlo,'DejaVu Sans Mono',consolas,'Courier New',monospace\">Based on the collected data, here are the final answers to the user's request:                                     \n",
       "\n",
       "<span style=\"color: #808000; text-decoration-color: #808000; font-weight: bold\"> 1 </span>The population of the capital cities of France, Germany, and Italy are:                                         \n",
       "<span style=\"color: #808000; text-decoration-color: #808000; font-weight: bold\">    • </span>Paris, France: 2,048,472 (according to Instagram)                                                            \n",
       "<span style=\"color: #808000; text-decoration-color: #808000; font-weight: bold\">    • </span>Berlin, Germany: 3,800,000 (according to Google Arts &amp; Culture)                                              \n",
       "<span style=\"color: #808000; text-decoration-color: #808000; font-weight: bold\">    • </span>Rome, Italy: 2,800,000 (according to Instagram)                                                              \n",
       "<span style=\"color: #808000; text-decoration-color: #808000; font-weight: bold\"> 2 </span>The combined total of the population of these three capital cities is:                                          \n",
       "<span style=\"color: #808000; text-decoration-color: #808000; font-weight: bold\">    • </span>2,048,472 (Paris) + 3,800,000 (Berlin) + 2,800,000 (Rome) = 8,648,472                                        \n",
       "<span style=\"color: #808000; text-decoration-color: #808000; font-weight: bold\"> 3 </span>The population of the United States is approximately 343,603,404 (according to Macrotrends).                    \n",
       "<span style=\"color: #808000; text-decoration-color: #808000; font-weight: bold\"> 4 </span>The combined total of the population of the three capital cities (8,648,472) is significantly smaller than the  \n",
       "<span style=\"color: #808000; text-decoration-color: #808000; font-weight: bold\">   </span>population of the United States (343,603,404).                                                                  \n",
       "\n",
       "Therefore, the population of the United States is larger than the combined total of the population of the capital  \n",
       "cities of France, Germany, and Italy.                                                                              \n",
       "</pre>\n"
      ],
      "text/plain": [
       "Based on the collected data, here are the final answers to the user's request:                                     \n",
       "\n",
       "\u001b[1;33m 1 \u001b[0mThe population of the capital cities of France, Germany, and Italy are:                                         \n",
       "\u001b[1;33m   \u001b[0m\u001b[1;33m • \u001b[0mParis, France: 2,048,472 (according to Instagram)                                                            \n",
       "\u001b[1;33m   \u001b[0m\u001b[1;33m • \u001b[0mBerlin, Germany: 3,800,000 (according to Google Arts & Culture)                                              \n",
       "\u001b[1;33m   \u001b[0m\u001b[1;33m • \u001b[0mRome, Italy: 2,800,000 (according to Instagram)                                                              \n",
       "\u001b[1;33m 2 \u001b[0mThe combined total of the population of these three capital cities is:                                          \n",
       "\u001b[1;33m   \u001b[0m\u001b[1;33m • \u001b[0m2,048,472 (Paris) + 3,800,000 (Berlin) + 2,800,000 (Rome) = 8,648,472                                        \n",
       "\u001b[1;33m 3 \u001b[0mThe population of the United States is approximately 343,603,404 (according to Macrotrends).                    \n",
       "\u001b[1;33m 4 \u001b[0mThe combined total of the population of the three capital cities (8,648,472) is significantly smaller than the  \n",
       "\u001b[1;33m   \u001b[0mpopulation of the United States (343,603,404).                                                                  \n",
       "\n",
       "Therefore, the population of the United States is larger than the combined total of the population of the capital  \n",
       "cities of France, Germany, and Italy.                                                                              \n"
      ]
     },
     "metadata": {},
     "output_type": "display_data"
    }
   ],
   "source": [
    "console.print(f\"[bold green]Testing PLANNING agent on the same plan-centric query:[/bold green] '{plan_centric_query}'\\n\")\n",
    "\n",
    "# Remember to initialize the state correctly, especially the list for intermediate steps\n",
    "initial_planning_input = {\"user_request\": plan_centric_query, \"intermediate_steps\": []}\n",
    "\n",
    "final_planning_output = planning_agent_app.invoke(initial_planning_input)\n",
    "\n",
    "console.print(\"\\n--- [bold green]Final Output from Planning Agent[/bold green] ---\")\n",
    "console.print(Markdown(final_planning_output['final_answer']))"
   ]
  },
  {
   "cell_type": "markdown",
   "id": "planning-discuss",
   "metadata": {},
   "source": [
    "**Discussion of the Output:**\n",
    "The difference in process is immediately clear. The very first step was the `Planner` creating a complete, explicit plan: `['web_search(\"population of Paris\")', 'web_search(\"population of Berlin\")']`. \n",
    "\n",
    "The agent then executed this plan methodically without needing to stop and think between steps. This process is:\n",
    "- **More Transparent:** We can see the agent's entire strategy before it even starts.\n",
    "- **More Robust:** It's less likely to get sidetracked because it's following a clear set of instructions.\n",
    "- **Potentially More Efficient:** It avoids extra LLM calls for reasoning between steps.\n",
    "\n",
    "This demonstrates the power of planning for tasks where the required steps can be determined in advance."
   ]
  },
  {
   "cell_type": "markdown",
   "id": "eval-what",
   "metadata": {},
   "source": [
    "## Phase 4: Quantitative Evaluation\n",
    "\n",
    "To formalize our comparison, we will use an LLM-as-a-Judge to score both agents, focusing on the quality and efficiency of their problem-solving process."
   ]
  },
  {
   "cell_type": "code",
   "execution_count": 8,
   "id": "eval-judge-code",
   "metadata": {},
   "outputs": [
    {
     "data": {
      "text/html": [
       "<pre style=\"white-space:pre;overflow-x:auto;line-height:normal;font-family:Menlo,'DejaVu Sans Mono',consolas,'Courier New',monospace\">--- Evaluating Reactive Agent's Process ---\n",
       "</pre>\n"
      ],
      "text/plain": [
       "--- Evaluating Reactive Agent's Process ---\n"
      ]
     },
     "metadata": {},
     "output_type": "display_data"
    },
    {
     "data": {
      "text/html": [
       "<pre style=\"white-space:pre;overflow-x:auto;line-height:normal;font-family:Menlo,'DejaVu Sans Mono',consolas,'Courier New',monospace\"><span style=\"font-weight: bold\">{</span>\n",
       "    <span style=\"color: #008000; text-decoration-color: #008000\">'task_completion_score'</span>: <span style=\"color: #008080; text-decoration-color: #008080; font-weight: bold\">10</span>,\n",
       "    <span style=\"color: #008000; text-decoration-color: #008000\">'process_efficiency_score'</span>: <span style=\"color: #008080; text-decoration-color: #008080; font-weight: bold\">8</span>,\n",
       "    <span style=\"color: #008000; text-decoration-color: #008000\">'justification'</span>: <span style=\"color: #008000; text-decoration-color: #008000\">'The agent successfully completed the task by finding the population of the capital cities of </span>\n",
       "<span style=\"color: #008000; text-decoration-color: #008000\">France, Germany, and Italy, and then calculating their combined total. However, the process was not entirely </span>\n",
       "<span style=\"color: #008000; text-decoration-color: #008000\">efficient as the agent made multiple tool calls to find the population of each city, and the answers were not used </span>\n",
       "<span style=\"color: #008000; text-decoration-color: #008000\">effectively to calculate the combined total. The agent could have used the information from the first tool call to </span>\n",
       "<span style=\"color: #008000; text-decoration-color: #008000\">calculate the combined total and then compared it to the population of the United States. Additionally, the agent </span>\n",
       "<span style=\"color: #008000; text-decoration-color: #008000\">could have used more efficient tools or methods to find the population of the cities, such as using a single tool </span>\n",
       "<span style=\"color: #008000; text-decoration-color: #008000\">that provides the population of multiple cities at once.'</span>\n",
       "<span style=\"font-weight: bold\">}</span>\n",
       "</pre>\n"
      ],
      "text/plain": [
       "\u001b[1m{\u001b[0m\n",
       "    \u001b[32m'task_completion_score'\u001b[0m: \u001b[1;36m10\u001b[0m,\n",
       "    \u001b[32m'process_efficiency_score'\u001b[0m: \u001b[1;36m8\u001b[0m,\n",
       "    \u001b[32m'justification'\u001b[0m: \u001b[32m'The agent successfully completed the task by finding the population of the capital cities of \u001b[0m\n",
       "\u001b[32mFrance, Germany, and Italy, and then calculating their combined total. However, the process was not entirely \u001b[0m\n",
       "\u001b[32mefficient as the agent made multiple tool calls to find the population of each city, and the answers were not used \u001b[0m\n",
       "\u001b[32meffectively to calculate the combined total. The agent could have used the information from the first tool call to \u001b[0m\n",
       "\u001b[32mcalculate the combined total and then compared it to the population of the United States. Additionally, the agent \u001b[0m\n",
       "\u001b[32mcould have used more efficient tools or methods to find the population of the cities, such as using a single tool \u001b[0m\n",
       "\u001b[32mthat provides the population of multiple cities at once.'\u001b[0m\n",
       "\u001b[1m}\u001b[0m\n"
      ]
     },
     "metadata": {},
     "output_type": "display_data"
    },
    {
     "data": {
      "text/html": [
       "<pre style=\"white-space:pre;overflow-x:auto;line-height:normal;font-family:Menlo,'DejaVu Sans Mono',consolas,'Courier New',monospace\">\n",
       "--- Evaluating Planning Agent's Process ---\n",
       "</pre>\n"
      ],
      "text/plain": [
       "\n",
       "--- Evaluating Planning Agent's Process ---\n"
      ]
     },
     "metadata": {},
     "output_type": "display_data"
    },
    {
     "data": {
      "text/html": [
       "<pre style=\"white-space:pre;overflow-x:auto;line-height:normal;font-family:Menlo,'DejaVu Sans Mono',consolas,'Courier New',monospace\"><span style=\"font-weight: bold\">{</span>\n",
       "    <span style=\"color: #008000; text-decoration-color: #008000\">'task_completion_score'</span>: <span style=\"color: #008080; text-decoration-color: #008080; font-weight: bold\">8</span>,\n",
       "    <span style=\"color: #008000; text-decoration-color: #008000\">'process_efficiency_score'</span>: <span style=\"color: #008080; text-decoration-color: #008080; font-weight: bold\">6</span>,\n",
       "    <span style=\"color: #008000; text-decoration-color: #008000\">'justification'</span>: <span style=\"color: #008000; text-decoration-color: #008000\">'The agent was able to find the population of the capital cities of France, Germany, and </span>\n",
       "<span style=\"color: #008000; text-decoration-color: #008000\">Italy, and calculate their combined total. However, the process was not entirely efficient as the agent had to </span>\n",
       "<span style=\"color: #008000; text-decoration-color: #008000\">perform multiple web searches to find the correct information. The agent also did not directly compare the combined</span>\n",
       "<span style=\"color: #008000; text-decoration-color: #008000\">total to the population of the United States, but rather had to perform another web search to find the relevant </span>\n",
       "<span style=\"color: #008000; text-decoration-color: #008000\">information. Overall, the agent was able to complete the task, but the process could have been more efficient.'</span>\n",
       "<span style=\"font-weight: bold\">}</span>\n",
       "</pre>\n"
      ],
      "text/plain": [
       "\u001b[1m{\u001b[0m\n",
       "    \u001b[32m'task_completion_score'\u001b[0m: \u001b[1;36m8\u001b[0m,\n",
       "    \u001b[32m'process_efficiency_score'\u001b[0m: \u001b[1;36m6\u001b[0m,\n",
       "    \u001b[32m'justification'\u001b[0m: \u001b[32m'The agent was able to find the population of the capital cities of France, Germany, and \u001b[0m\n",
       "\u001b[32mItaly, and calculate their combined total. However, the process was not entirely efficient as the agent had to \u001b[0m\n",
       "\u001b[32mperform multiple web searches to find the correct information. The agent also did not directly compare the combined\u001b[0m\n",
       "\u001b[32mtotal to the population of the United States, but rather had to perform another web search to find the relevant \u001b[0m\n",
       "\u001b[32minformation. Overall, the agent was able to complete the task, but the process could have been more efficient.'\u001b[0m\n",
       "\u001b[1m}\u001b[0m\n"
      ]
     },
     "metadata": {},
     "output_type": "display_data"
    }
   ],
   "source": [
    "class ProcessEvaluation(BaseModel):\n",
    "    \"\"\"Schema for evaluating an agent's problem-solving process.\"\"\"\n",
    "    task_completion_score: int = Field(description=\"Score 1-10 on whether the agent successfully completed the task.\")\n",
    "    process_efficiency_score: int = Field(description=\"Score 1-10 on the efficiency and directness of the agent's process. A higher score means a more logical and less roundabout path.\")\n",
    "    justification: str = Field(description=\"A brief justification for the scores.\")\n",
    "\n",
    "judge_llm = llm.with_structured_output(ProcessEvaluation)\n",
    "\n",
    "def evaluate_agent_process(query: str, final_state: dict):\n",
    "    # For the ReAct agent, the trace is in 'messages'. For Planning, it's in 'intermediate_steps'.\n",
    "    if 'messages' in final_state:\n",
    "        trace = \"\\n\".join([f\"{m.type}: {str(m.content)}\" for m in final_state['messages']])\n",
    "    else:\n",
    "        trace = f\"Plan: {final_state.get('plan', [])}\\nSteps: {final_state.get('intermediate_steps', [])}\"\n",
    "        \n",
    "    prompt = f\"\"\"You are an expert judge of AI agents. Evaluate the agent's process for solving the task on a scale of 1-10.\n",
    "    Focus on whether the process was logical and efficient.\n",
    "    \n",
    "    **User's Task:** {query}\n",
    "    **Full Agent Trace:**\\n```\\n{trace}\\n```\n",
    "    \"\"\"\n",
    "    return judge_llm.invoke(prompt)\n",
    "\n",
    "console.print(\"--- Evaluating Reactive Agent's Process ---\")\n",
    "react_agent_evaluation = evaluate_agent_process(plan_centric_query, final_react_output)\n",
    "console.print(react_agent_evaluation.model_dump())\n",
    "\n",
    "console.print(\"\\n--- Evaluating Planning Agent's Process ---\")\n",
    "planning_agent_evaluation = evaluate_agent_process(plan_centric_query, final_planning_output)\n",
    "console.print(planning_agent_evaluation.model_dump())"
   ]
  },
  {
   "cell_type": "markdown",
   "id": "eval-discuss",
   "metadata": {},
   "source": [
    "**Discussion of the Output:**\n",
    "The judge's scores quantify the difference in the two approaches. Both agents likely receive a high `task_completion_score` as they both eventually find the answer. However, the **Planning Agent** will receive a significantly higher `process_efficiency_score`. The judge's justification will highlight that its upfront plan was a more direct and logical way to solve the problem compared to the ReAct agent's step-by-step, exploratory process.\n",
    "\n",
    "This evaluation confirms our hypothesis: for problems where the solution path is predictable, the Planning architecture offers a more structured, transparent, and efficient approach."
   ]
  },
  {
   "cell_type": "markdown",
   "id": "conclusion",
   "metadata": {},
   "source": [
    "## Conclusion\n",
    "\n",
    "In this notebook, we have implemented the **Planning** architecture and contrasted it directly with the **ReAct** pattern. By forcing an agent to first construct a comprehensive plan before execution, we gain significant benefits in transparency, robustness, and efficiency for well-defined, multi-step tasks.\n",
    "\n",
    "While ReAct excels in exploratory scenarios where the next step is unknown, Planning shines when the path to a solution can be charted in advance. Understanding this trade-off is crucial for a system designer. Choosing the right architecture for the right problem is a key skill in building effective and intelligent AI agents. The Planning pattern is an essential tool in that toolkit, providing the structure needed for complex, predictable workflows."
   ]
  }
 ],
 "metadata": {
  "kernelspec": {
   "display_name": ".venv-agents-architectures (3.10.0)",
   "language": "python",
   "name": "python3"
  },
  "language_info": {
   "codemirror_mode": {
    "name": "ipython",
    "version": 3
   },
   "file_extension": ".py",
   "mimetype": "text/x-python",
   "name": "python",
   "nbconvert_exporter": "python",
   "pygments_lexer": "ipython3",
   "version": "3.10.0"
  }
 },
 "nbformat": 4,
 "nbformat_minor": 5
}
