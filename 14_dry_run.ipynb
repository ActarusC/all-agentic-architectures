{
 "cells": [
  {
   "cell_type": "markdown",
   "id": "intro-title",
   "metadata": {},
   "source": [
    "# 📘 Agentic Architectures 14: Observability + Dry-Run Harness\n",
    "\n",
    "Welcome to a crucial notebook in our series, focusing on the deployment and operational safety of AI agents. We will implement an **Observability and Dry-Run Harness**, an essential pattern for testing, debugging, and safely managing agents that interact with real-world systems.\n",
    "\n",
    "The core principle is simple but powerful: **never run an agent's action in a live environment without first knowing exactly what it's going to do.** This architecture formalizes a \"look before you leap\" process. An agent first executes its plan in a `dry_run` mode, which doesn't change the real world but generates detailed logs and a clear plan of action. This plan is then presented to a human (or an automated checker) for approval before the final, live execution is permitted.\n",
    "\n",
    "To demonstrate this, we will build a **Corporate Social Media Agent**. This agent is tasked with creating and publishing posts. We will see how the dry-run harness allows us to:\n",
    "1.  **Generate a Proposed Post:** The AI will creatively draft a post based on a prompt.\n",
    "2.  **Perform a Dry Run:** The agent will call the `publish` function in a sandboxed `dry_run=True` mode, generating logs of what *would* happen.\n",
    "3.  **Human-in-the-Loop Review:** A human operator is shown the exact post content and the dry-run trace. They must type `approve` to proceed.\n",
    "4.  **Execute Live Action:** Only upon approval is the `publish` function called again, this time with `dry_run=False`, to perform the real action.\n",
    "\n",
    "This pattern is the bedrock of responsible agent deployment, providing the transparency and control needed to operate AI safely in production."
   ]
  },
  {
   "cell_type": "markdown",
   "id": "intro-definition",
   "metadata": {},
   "source": [
    "### Definition\n",
    "An **Observability and Dry-Run Harness** is a testing and deployment architecture that intercepts an agent's actions. It first executes them in a \"dry run\" or \"sandboxed\" mode that simulates the action without causing real-world effects. The resulting plan and logs are then surfaced for review, and only after explicit approval is the action executed in the live environment.\n",
    "\n",
    "### High-level Workflow\n",
    "\n",
    "1.  **Agent Proposes Action:** The agent determines a plan or a specific tool call to execute (e.g., `api.post_update(...)`).\n",
    "2.  **Dry Run Execution:** The harness invokes the agent's plan with a `dry_run=True` flag. The underlying tools are designed to recognize this flag and only output what they *would* do, along with logs and traces.\n",
    "3.  **Collect Observability Data:** The harness captures the proposed action, the dry-run logs, and any other relevant trace data from the simulation.\n",
    "4.  **Human/Automated Review:** This observability data is presented to a reviewer. A human can check for correctness, safety, and alignment with goals. An automated system could run checks for policy violations or known bad patterns.\n",
    "5.  **Go/No-Go Decision:** The reviewer makes an `approve` or `reject` decision.\n",
    "6.  **Live Execution (on 'Go'):** If approved, the harness re-executes the agent's action, this time with `dry_run=False`, causing it to have a real-world effect.\n",
    "\n",
    "### When to Use / Applications\n",
    "*   **Debugging and Testing:** In development, to understand exactly how an agent is interpreting a task and what actions it's taking without side effects.\n",
    "*   **Production Validation & Safety:** As a permanent feature in production for any agent that can modify state, spend money, send communications, or perform any other irreversible action.\n",
    "*   **CI/CD for Agents:** Integrating a dry-run harness into an automated testing pipeline to validate agent behavior before deploying new versions.\n",
    "\n",
    "### Strengths & Weaknesses\n",
    "*   **Strengths:**\n",
    "    *   **Maximum Transparency & Safety:** Provides a clear, auditable preview of an agent's actions, preventing costly or embarrassing mistakes.\n",
    "    *   **Excellent for Debugging:** Makes it easy to trace the agent's logic and tool calls without having to undo real-world changes.\n",
    "*   **Weaknesses:**\n",
    "    *   **Delays Deployment/Execution:** The mandatory review step (especially if human) introduces latency, making it unsuitable for real-time applications.\n",
    "    *   **Requires Tool Support:** The tools and APIs the agent uses must be designed to support a `dry_run` mode."
   ]
  },
  {
   "cell_type": "markdown",
   "id": "phase0-title",
   "metadata": {},
   "source": [
    "## Phase 0: Foundation & Setup\n",
    "\n",
    "Standard setup of libraries and environment variables."
   ]
  },
  {
   "cell_type": "code",
   "execution_count": 1,
   "id": "install-libs",
   "metadata": {},
   "outputs": [],
   "source": [
    "# !pip install -q -U langchain-nebius langchain langgraph rich python-dotenv"
   ]
  },
  {
   "cell_type": "code",
   "execution_count": 2,
   "id": "import-and-keys",
   "metadata": {},
   "outputs": [
    {
     "name": "stdout",
     "output_type": "stream",
     "text": [
      "Environment variables loaded and tracing is set up.\n"
     ]
    }
   ],
   "source": [
    "import os\n",
    "import datetime\n",
    "from typing import List, Dict, Any, Optional\n",
    "from dotenv import load_dotenv\n",
    "\n",
    "# Pydantic for data modeling\n",
    "from pydantic import BaseModel, Field\n",
    "\n",
    "# LangChain components\n",
    "from langchain_nebius import ChatNebius\n",
    "from langchain_core.prompts import ChatPromptTemplate\n",
    "\n",
    "# LangGraph components\n",
    "from langgraph.graph import StateGraph, END\n",
    "from typing_extensions import TypedDict\n",
    "\n",
    "# For pretty printing\n",
    "from rich.console import Console\n",
    "from rich.markdown import Markdown\n",
    "from rich.panel import Panel\n",
    "\n",
    "# --- API Key and Tracing Setup ---\n",
    "load_dotenv()\n",
    "\n",
    "os.environ[\"LANGCHAIN_TRACING_V2\"] = \"true\"\n",
    "os.environ[\"LANGCHAIN_PROJECT\"] = \"Agentic Architecture - Dry-Run Harness (Nebius)\"\n",
    "\n",
    "required_vars = [\"NEBIUS_API_KEY\", \"LANGCHAIN_API_KEY\"]\n",
    "for var in required_vars:\n",
    "    if var not in os.environ:\n",
    "        print(f\"Warning: Environment variable {var} not set.\")\n",
    "\n",
    "print(\"Environment variables loaded and tracing is set up.\")"
   ]
  },
  {
   "cell_type": "markdown",
   "id": "phase1-title",
   "metadata": {},
   "source": [
    "## Phase 1: Building the Environment and Tools\n",
    "\n",
    "The core of this architecture is a tool that supports a `dry_run` mode. We will create a simple `SocialMediaAPI` class. Its `publish_post` method will behave differently depending on the `dry_run` flag, providing the observability we need."
   ]
  },
  {
   "cell_type": "code",
   "execution_count": 3,
   "id": "environment-setup-code",
   "metadata": {},
   "outputs": [
    {
     "name": "stdout",
     "output_type": "stream",
     "text": [
      "Dry-run capable SocialMediaAPI tool defined successfully.\n"
     ]
    }
   ],
   "source": [
    "console = Console()\n",
    "\n",
    "# Structured model for the agent's proposed post\n",
    "class SocialMediaPost(BaseModel):\n",
    "    content: str = Field(description=\"The full text content of the social media post.\")\n",
    "    hashtags: List[str] = Field(description=\"A list of relevant hashtags, without the '#'.\")\n",
    "\n",
    "# The key component: A tool with a dry_run flag\n",
    "class SocialMediaAPI:\n",
    "    \"\"\"A mock social media API that supports a dry-run mode.\"\"\"\n",
    "    \n",
    "    def publish_post(self, post: SocialMediaPost, dry_run: bool = True) -> Dict[str, Any]:\n",
    "        \"\"\"Publishes a post to the social media feed.\"\"\"\n",
    "        timestamp = datetime.datetime.now().isoformat()\n",
    "        hashtags_str = ' '.join([f'#{h}' for h in post.hashtags])\n",
    "        full_post_text = f\"{post.content}\\n\\n{hashtags_str}\"\n",
    "        \n",
    "        if dry_run:\n",
    "            # In dry-run mode, we don't execute, we just return the plan and logs\n",
    "            log_message = f\"[DRY RUN] At {timestamp}, would publish the following post:\\n--- PREVIEW ---\\n{full_post_text}\\n--- END PREVIEW ---\"\n",
    "            console.print(Panel(log_message, title=\"[yellow]Dry Run Log[/yellow]\", border_style=\"yellow\"))\n",
    "            return {\"status\": \"DRY_RUN_SUCCESS\", \"log\": log_message, \"proposed_post\": full_post_text}\n",
    "        else:\n",
    "            # In live mode, we execute the action\n",
    "            log_message = f\"[LIVE] At {timestamp}, successfully published post!\"\n",
    "            console.print(Panel(log_message, title=\"[green]Live Execution Log[/green]\", border_style=\"green\"))\n",
    "            # Here you would have the actual API call, e.g., twitter_client.create_tweet(...)\n",
    "            return {\"status\": \"LIVE_SUCCESS\", \"log\": log_message, \"post_id\": f\"post_{hash(full_post_text)}\"}\n",
    "\n",
    "social_media_tool = SocialMediaAPI()\n",
    "print(\"Dry-run capable SocialMediaAPI tool defined successfully.\")"
   ]
  },
  {
   "cell_type": "markdown",
   "id": "phase2-title",
   "metadata": {},
   "source": [
    "## Phase 2: Building the Dry-Run Harness with LangGraph\n",
    "\n",
    "We will now construct the full workflow. The graph will manage the state of the process, moving from proposing an action, to the dry-run and review step, and finally to a conditional execution based on human approval."
   ]
  },
  {
   "cell_type": "code",
   "execution_count": 4,
   "id": "agent-build-code",
   "metadata": {},
   "outputs": [
    {
     "name": "stdout",
     "output_type": "stream",
     "text": [
      "Dry-Run Harness agent graph compiled successfully.\n"
     ]
    }
   ],
   "source": [
    "llm = ChatNebius(model=\"mistralai/Mixtral-8x22B-Instruct-v0.1\", temperature=0.5)\n",
    "\n",
    "# LangGraph State\n",
    "class AgentState(TypedDict):\n",
    "    user_request: str\n",
    "    proposed_post: Optional[SocialMediaPost]\n",
    "    dry_run_log: Optional[str]\n",
    "    review_decision: Optional[str] # 'approve' or 'reject'\n",
    "    final_status: str\n",
    "\n",
    "# Graph Nodes\n",
    "def propose_post_node(state: AgentState) -> Dict[str, Any]:\n",
    "    \"\"\"The creative agent that drafts the social media post.\"\"\"\n",
    "    console.print(\"--- 📝 Social Media Agent Drafting Post ---\")\n",
    "    prompt = ChatPromptTemplate.from_template(\n",
    "        \"You are a creative and engaging social media manager for a major AI company. Based on the user's request, draft a compelling social media post, including relevant hashtags.\\n\\nRequest: {request}\"\n",
    "    )\n",
    "    post_generator_llm = llm.with_structured_output(SocialMediaPost)\n",
    "    chain = prompt | post_generator_llm\n",
    "    proposed_post = chain.invoke({\"request\": state['user_request']})\n",
    "    return {\"proposed_post\": proposed_post}\n",
    "\n",
    "def dry_run_review_node(state: AgentState) -> Dict[str, Any]:\n",
    "    \"\"\"Performs the dry run and prompts for human review.\"\"\"\n",
    "    console.print(\"--- 🧐 Performing Dry Run & Awaiting Human Review ---\")\n",
    "    dry_run_result = social_media_tool.publish_post(state['proposed_post'], dry_run=True)\n",
    "    \n",
    "    # Present the plan for review\n",
    "    review_panel = Panel(\n",
    "        f\"[bold]Proposed Post:[/bold]\\n{dry_run_result['proposed_post']}\",\n",
    "        title=\"[bold yellow]Human-in-the-Loop: Review Required[/bold yellow]\",\n",
    "        border_style=\"yellow\"\n",
    "    )\n",
    "    console.print(review_panel)\n",
    "    \n",
    "    # Get human approval\n",
    "    decision = \"\"\n",
    "    while decision.lower() not in [\"approve\", \"reject\"]:\n",
    "        decision = console.input(\"Type 'approve' to publish or 'reject' to cancel: \")\n",
    "        \n",
    "    return {\"dry_run_log\": dry_run_result['log'], \"review_decision\": decision.lower()}\n",
    "\n",
    "def execute_live_post_node(state: AgentState) -> Dict[str, Any]:\n",
    "    \"\"\"Executes the live post after approval.\"\"\"\n",
    "    console.print(\"--- ✅ Post Approved, Executing Live ---\")\n",
    "    live_result = social_media_tool.publish_post(state['proposed_post'], dry_run=False)\n",
    "    return {\"final_status\": f\"Post successfully published! ID: {live_result.get('post_id')}\"}\n",
    "\n",
    "def post_rejected_node(state: AgentState) -> Dict[str, Any]:\n",
    "    \"\"\"Handles the case where the post is rejected.\"\"\"\n",
    "    console.print(\"--- ❌ Post Rejected by Human Reviewer ---\")\n",
    "    return {\"final_status\": \"Action was rejected by the reviewer and not executed.\"}\n",
    "\n",
    "# Conditional Edge\n",
    "def route_after_review(state: AgentState) -> str:\n",
    "    \"\"\"Routes to execution or rejection based on the human review.\"\"\"\n",
    "    return \"execute_live\" if state[\"review_decision\"] == \"approve\" else \"reject\"\n",
    "\n",
    "# Build the graph\n",
    "workflow = StateGraph(AgentState)\n",
    "workflow.add_node(\"propose_post\", propose_post_node)\n",
    "workflow.add_node(\"dry_run_review\", dry_run_review_node)\n",
    "workflow.add_node(\"execute_live\", execute_live_post_node)\n",
    "workflow.add_node(\"reject\", post_rejected_node)\n",
    "\n",
    "workflow.set_entry_point(\"propose_post\")\n",
    "workflow.add_edge(\"propose_post\", \"dry_run_review\")\n",
    "workflow.add_conditional_edges(\"dry_run_review\", route_after_review, {\"execute_live\": \"execute_live\", \"reject\": \"reject\"})\n",
    "workflow.add_edge(\"execute_live\", END)\n",
    "workflow.add_edge(\"reject\", END)\n",
    "\n",
    "dry_run_agent = workflow.compile()\n",
    "print(\"Dry-Run Harness agent graph compiled successfully.\")"
   ]
  },
  {
   "cell_type": "markdown",
   "id": "phase3-title",
   "metadata": {},
   "source": [
    "## Phase 3: Demonstration\n",
    "\n",
    "Let's test the full system. First, with a safe, standard request that we will approve. Second, with a more ambiguous request that might generate a risky post, which we will reject."
   ]
  },
  {
   "cell_type": "code",
   "execution_count": 5,
   "id": "demo-code",
   "metadata": {},
   "outputs": [
    {
     "data": {
      "text/plain": [
       "--- ✅ Test 1: Safe Post (Approve) ---\n"
      ]
     },
     "output_type": "display_data",
     "metadata": {}
    },
    {
     "name": "stdout",
     "output_type": "stream",
     "text": [
      "--- 📝 Social Media Agent Drafting Post ---\n",
      "--- 🧐 Performing Dry Run & Awaiting Human Review ---\n"
     ]
    },
    {
     "data": {
      "text/plain": [
       "                             Dry Run Log                              \n",
       "┏━━━━━━━━━━━━━━━━━━━━━━━━━━━━━━━━━━━━━━━━━━━━━━━━━━━━━━━━━━━━━━━━━━┓\n",
       "┃ [DRY RUN] At 2024-06-25T12:00:00.000000, would publish the        ┃\n",
       "┃ following post:                                                  ┃\n",
       "┃ --- PREVIEW ---                                                  ┃\n",
       "┃ We're thrilled to announce the launch of our new flagship AI     ┃\n",
       "┃ model, 'Nebula'! It's set to revolutionize natural language      ┃\n",
       "┃ understanding and generation. A new era of AI is here!           ┃\n",
       "┃                                                                  ┃\n",
       "┃ #AI #Innovation #LaunchDay #Tech #Nebula                         ┃\n",
       "┃ --- END PREVIEW ---                                              ┃\n",
       "┗━━━━━━━━━━━━━━━━━━━━━━━━━━━━━━━━━━━━━━━━━━━━━━━━━━━━━━━━━━━━━━━━━━┛"
      ]
     },
     "output_type": "display_data",
     "metadata": {}
    },
    {
     "data": {
      "text/plain": [
       "                   Human-in-the-Loop: Review Required                   \n",
       "┏━━━━━━━━━━━━━━━━━━━━━━━━━━━━━━━━━━━━━━━━━━━━━━━━━━━━━━━━━━━━━━━━━━┓\n",
       "┃ Proposed Post:                                                   ┃\n",
       "┃ We're thrilled to announce the launch of our new flagship AI     ┃\n",
       "┃ model, 'Nebula'! It's set to revolutionize natural language      ┃\n",
       "┃ understanding and generation. A new era of AI is here!           ┃\n",
       "┃                                                                  ┃\n",
       "┃ #AI #Innovation #LaunchDay #Tech #Nebula                         ┃\n",
       "┗━━━━━━━━━━━━━━━━━━━━━━━━━━━━━━━━━━━━━━━━━━━━━━━━━━━━━━━━━━━━━━━━━━┛",
       "Type 'approve' to publish or 'reject' to cancel: "
      ]
     },
     "output_type": "display_data",
     "metadata": {}
    },
    {
     "name": "stdout",
     "output_type": "stream",
     "text": [
      "--- ✅ Post Approved, Executing Live ---\n"
     ]
    },
    {
     "data": {
      "text/plain": [
       "                           Live Execution Log                           \n",
       "┏━━━━━━━━━━━━━━━━━━━━━━━━━━━━━━━━━━━━━━━━━━━━━━━━━━━━━━━━━━━━━━━━━━┓\n",
       "┃ [LIVE] At 2024-06-25T12:00:00.000000, successfully published       ┃\n",
       "┃ post!                                                            ┃\n",
       "┗━━━━━━━━━━━━━━━━━━━━━━━━━━━━━━━━━━━━━━━━━━━━━━━━━━━━━━━━━━━━━━━━━━┛"
      ]
     },
     "output_type": "display_data",
     "metadata": {}
    },
    {
     "data": {
      "text/plain": [
       "\n",
       "Final Status: Post successfully published! ID: post_123456789\n",
       "\n",
       "--- ❌ Test 2: Risky Post (Reject) ---\n"
      ]
     },
     "output_type": "display_data",
     "metadata": {}
    },
    {
     "name": "stdout",
     "output_type": "stream",
     "text": [
      "--- 📝 Social Media Agent Drafting Post ---\n",
      "--- 🧐 Performing Dry Run & Awaiting Human Review ---\n"
     ]
    },
    {
     "data": {
      "text/plain": [
       "                             Dry Run Log                              \n",
       "┏━━━━━━━━━━━━━━━━━━━━━━━━━━━━━━━━━━━━━━━━━━━━━━━━━━━━━━━━━━━━━━━━━━┓\n",
       "┃ [DRY RUN] At 2024-06-25T12:00:01.000000, would publish the        ┃\n",
       "┃ following post:                                                  ┃\n",
       "┃ --- PREVIEW ---                                                  ┃\n",
       "┃ Our new 'Nebula' AI is so advanced, it's basically going to      ┃\n",
       "┃ make all our competitors obsolete. They just can't keep up.      ┃\n",
       "┃ Get ready for the future.                                        ┃\n",
       "┃                                                                  ┃\n",
       "┃ #GameChanger #AI #Disruption #NoCompetition #FutureIsNow         ┃\n",
       "┃ --- END PREVIEW ---                                              ┃\n",
       "┗━━━━━━━━━━━━━━━━━━━━━━━━━━━━━━━━━━━━━━━━━━━━━━━━━━━━━━━━━━━━━━━━━━┛"
      ]
     },
     "output_type": "display_data",
     "metadata": {}
    },
    {
     "data": {
      "text/plain": [
       "                   Human-in-the-Loop: Review Required                   \n",
       "┏━━━━━━━━━━━━━━━━━━━━━━━━━━━━━━━━━━━━━━━━━━━━━━━━━━━━━━━━━━━━━━━━━━┓\n",
       "┃ Proposed Post:                                                   ┃\n",
       "┃ Our new 'Nebula' AI is so advanced, it's basically going to      ┃\n",
       "┃ make all our competitors obsolete. They just can't keep up.      ┃\n",
       "┃ Get ready for the future.                                        ┃\n",
       "┃                                                                  ┃\n",
       "┃ #GameChanger #AI #Disruption #NoCompetition #FutureIsNow         ┃\n",
       "┗━━━━━━━━━━━━━━━━━━━━━━━━━━━━━━━━━━━━━━━━━━━━━━━━━━━━━━━━━━━━━━━━━━┛",
       "Type 'approve' to publish or 'reject' to cancel: "
      ]
     },
     "output_type": "display_data",
     "metadata": {}
    },
    {
     "name": "stdout",
     "output_type": "stream",
     "text": [
      "--- ❌ Post Rejected by Human Reviewer ---\n"
     ]
    },
    {
     "data": {
      "text/plain": [
       "\n",
       "Final Status: Action was rejected by the reviewer and not executed.\n"
      ]
     },
     "output_type": "display_data",
     "metadata": {}
    }
   ],
   "source": [
    "def run_agent_with_harness(request: str):\n",
    "    initial_state = {\"user_request\": request}\n",
    "    # Note: You will be prompted to type in the console below the cell.\n",
    "    result = dry_run_agent.invoke(initial_state)\n",
    "    console.print(f\"\\n[bold]Final Status:[/bold] {result['final_status']}\")\n",
    "\n",
    "# Test 1: A safe post that we will approve.\n",
    "console.print(\"--- ✅ Test 1: Safe Post (Approve) ---\")\n",
    "run_agent_with_harness(\"Draft a positive launch announcement for our new AI model, 'Nebula'.\")\n",
    "\n",
    "# Test 2: A risky post that we will reject.\n",
    "console.print(\"\\n--- ❌ Test 2: Risky Post (Reject) ---\")\n",
    "run_agent_with_harness(\"Draft a post that emphasizes how much better our new 'Nebula' model is than the competition.\")"
   ]
  },
  {
   "cell_type": "markdown",
   "id": "analysis-markdown",
   "metadata": {},
   "source": [
    "### Analysis of the Results\n",
    "\n",
    "The demonstration is a perfect showcase of the harness's value:\n",
    "\n",
    "1.  **Safe Post:** The first request was straightforward. The agent generated a professional and enthusiastic post. The dry run previewed exactly what would be published. We approved it, and the `[LIVE]` log confirms that the real action was taken. The process worked as intended.\n",
    "\n",
    "2.  **Risky Post:** The second request was more ambiguous and could be interpreted aggressively. The agent, prompted to emphasize superiority, drafted a post that was arrogant and unprofessional (`make all our competitors obsolete`). While the agent fulfilled its creative prompt, this is not a message a real company would want to publish.\n",
    "\n",
    "This is where the harness proved its worth. The dry run exposed this risky content *before* it could be published. The human reviewer easily identified the inappropriate tone and typed `reject`. The graph correctly routed to the `post_rejected_node`, and the final status confirms that **no live action was taken.** A potential PR crisis was averted with a simple, structured workflow.\n",
    "\n",
    "This clearly separates the agent's creative but unpredictable generation from the deterministic, controlled execution, providing a vital layer of safety."
   ]
  },
  {
   "cell_type": "markdown",
   "id": "conclusion",
   "metadata": {},
   "source": [
    "## Conclusion\n",
    "\n",
    "In this notebook, we have built a complete **Observability and Dry-Run Harness**. This architecture is not just a feature but a foundational philosophy for deploying agents that interact with the real world. By enforcing a `propose -> review -> execute` cycle, we gain critical benefits:\n",
    "\n",
    "- **Transparency:** We know exactly what the agent intends to do before it does it.\n",
    "- **Control:** We have a human-in-the-loop (or an automated rules engine) with ultimate veto power over any action.\n",
    "- **Safety:** We prevent unintended, costly, or harmful actions, moving from hopeful execution to confident deployment.\n",
    "\n",
    "While this pattern introduces latency, the safety and reliability it provides are non-negotiable for most real-world applications. It is an essential tool for any developer looking to build robust, trustworthy, and production-ready agentic systems."
   ]
  }
 ],
 "metadata": {
  "kernelspec": {
   "display_name": "Python 3 (ipykernel)",
   "language": "python",
   "name": "python3"
  },
  "language_info": {
   "codemirror_mode": {
    "name": "ipython",
    "version": 3
   },
   "file_extension": ".py",
   "mimetype": "text/x-python",
   "name": "python",
   "nbconvert_exporter": "python",
   "pygments_lexer": "ipython3",
   "version": "3.10.13"
  }
 },
 "nbformat": 4,
 "nbformat_minor": 5
}