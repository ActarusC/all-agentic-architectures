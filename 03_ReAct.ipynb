{
 "cells": [
  {
   "cell_type": "markdown",
   "id": "intro-title",
   "metadata": {},
   "source": [
    "# 📘 Agentic Architectures 3: ReAct (Reason + Act)\n",
    "\n",
    "Welcome to the third notebook in our series. We will now explore **ReAct**, a pivotal architecture that bridges the gap between simple tool use and complex, multi-step problem-solving. ReAct stands for **Reason + Act**, and its core innovation is the way it enables an agent to dynamically reason about a problem, act on its reasoning, observe the outcome, and then reason again.\n",
    "\n",
    "This pattern transforms an agent from a static tool-caller into an adaptive problem-solver. To highlight its power, we will first build a **basic, single-shot tool-using agent** and show its limitations on a complex task. Then, we will build a full ReAct agent and demonstrate how its iterative `think -> act -> observe` loop allows it to succeed where the basic agent fails."
   ]
  },
  {
   "cell_type": "markdown",
   "id": "intro-definition",
   "metadata": {},
   "source": [
    "### Definition\n",
    "The **ReAct** architecture is a design pattern where an agent interleaves reasoning steps with actions. Instead of planning all its steps upfront, the agent generates a thought about its immediate next step, takes an action (like calling a tool), observes the result, and then uses that new information to generate its next thought and action. This creates a dynamic and adaptive loop.\n",
    "\n",
    "### High-level Workflow\n",
    "\n",
    "1.  **Receive Goal:** The agent is given a complex task.\n",
    "2.  **Think (Reason):** The agent generates an internal thought, such as: *\"To answer this, I first need to find piece of information X.\"*\n",
    "3.  **Act:** Based on its thought, the agent executes an action, typically calling a tool (e.g., `search_api('X')`).\n",
    "4.  **Observe:** The agent receives the result from the tool.\n",
    "5.  **Repeat:** The agent incorporates the observation into its context and returns to step 2, generating a new thought (e.g., *\"Okay, now that I have X, I need to use it to find Y.\"*). This loop continues until the overall goal is satisfied.\n",
    "\n",
    "### When to Use / Applications\n",
    "*   **Multi-hop Question Answering:** When answering a question requires finding several pieces of information in sequence (e.g., \"Who is the CEO of the company that makes the iPhone?\").\n",
    "*   **Web Navigation & Research:** An agent can search for a starting point, read the results, and then decide on a new search query based on what it learned.\n",
    "*   **Interactive Workflows:** Any task where the environment is dynamic and the full path to a solution cannot be known in advance.\n",
    "\n",
    "### Strengths & Weaknesses\n",
    "*   **Strengths:**\n",
    "    *   **Adaptive & Dynamic:** Can adjust its plan on the fly based on new information.\n",
    "    *   **Handles Complexity:** Excels at problems that require chaining multiple dependent steps.\n",
    "*   **Weaknesses:**\n",
    "    *   **Higher Latency & Cost:** Involves multiple sequential LLM calls, making it slower and more expensive than single-shot approaches.\n",
    "    *   **Risk of Loops:** A poorly guided agent can get stuck in repetitive, unproductive loops of thought and action."
   ]
  },
  {
   "cell_type": "markdown",
   "id": "phase0-title",
   "metadata": {},
   "source": [
    "## Phase 0: Foundation & Setup\n",
    "\n",
    "We'll begin with our standard setup process: installing libraries and configuring API keys for Nebius, LangSmith, and our Tavily web search tool."
   ]
  },
  {
   "cell_type": "markdown",
   "id": "setup-what",
   "metadata": {},
   "source": [
    "### Step 0.1: Installing Core Libraries\n",
    "\n",
    "**What we are going to do:**\n",
    "We will install our standard suite of libraries for this project series."
   ]
  },
  {
   "cell_type": "code",
   "execution_count": 1,
   "id": "install-libs",
   "metadata": {},
   "outputs": [],
   "source": [
    "# !pip install -q -U langchain-nebius langchain langgraph rich python-dotenv tavily-python"
   ]
  },
  {
   "cell_type": "markdown",
   "id": "imports-what",
   "metadata": {},
   "source": [
    "### Step 0.2: Importing Libraries and Setting Up Keys\n",
    "\n",
    "**What we are going to do:**\n",
    "We will import the necessary modules and load our API keys from a `.env` file.\n",
    "\n",
    "**Action Required:** Create a `.env` file in this directory with your keys:\n",
    "```\n",
    "NEBIUS_API_KEY=\"your_nebius_api_key_here\"\n",
    "LANGCHAIN_API_KEY=\"your_langsmith_api_key_here\"\n",
    "TAVILY_API_KEY=\"your_tavily_api_key_here\"\n",
    "```"
   ]
  },
  {
   "cell_type": "code",
   "execution_count": 2,
   "id": "import-and-keys",
   "metadata": {},
   "outputs": [
    {
     "name": "stdout",
     "output_type": "stream",
     "text": [
      "Environment variables loaded and tracing is set up.\n"
     ]
    }
   ],
   "source": [
    "import os\n",
    "from typing import Annotated\n",
    "from dotenv import load_dotenv\n",
    "\n",
    "# LangChain components\n",
    "from langchain_nebius import ChatNebius\n",
    "from langchain_community.tools.tavily_search import TavilySearchResults\n",
    "from langchain_core.messages import BaseMessage\n",
    "from pydantic import BaseModel, Field\n",
    "\n",
    "# LangGraph components\n",
    "from langgraph.graph import StateGraph, END\n",
    "from langgraph.graph.message import AnyMessage, add_messages\n",
    "from langgraph.prebuilt import ToolNode, tools_condition\n",
    "\n",
    "# For pretty printing\n",
    "from rich.console import Console\n",
    "from rich.markdown import Markdown\n",
    "\n",
    "# --- API Key and Tracing Setup ---\n",
    "load_dotenv()\n",
    "\n",
    "os.environ[\"LANGCHAIN_TRACING_V2\"] = \"true\"\n",
    "os.environ[\"LANGCHAIN_PROJECT\"] = \"Agentic Architecture - ReAct (Nebius)\"\n",
    "\n",
    "# Check that the keys are set\n",
    "for key in [\"NEBIUS_API_KEY\", \"LANGCHAIN_API_KEY\", \"TAVILY_API_KEY\"]:\n",
    "    if not os.environ.get(key):\n",
    "        print(f\"{key} not found. Please create a .env file and set it.\")\n",
    "\n",
    "print(\"Environment variables loaded and tracing is set up.\")"
   ]
  },
  {
   "cell_type": "markdown",
   "id": "phase1-title",
   "metadata": {},
   "source": [
    "## Phase 1: The Basic Approach - A Single-Shot Tool User\n",
    "\n",
    "To understand why ReAct is so powerful, we must first see what happens without it. We will build a \"basic\" agent that can use tools, but only once. It will analyze a user's query, make a single tool call, and then try to formulate a final answer based on that one piece of information."
   ]
  },
  {
   "cell_type": "markdown",
   "id": "basic-what",
   "metadata": {},
   "source": [
    "### Step 1.1: Building the Basic Agent\n",
    "\n",
    "**What we are going to do:**\n",
    "We will define the same tool and LLM as before, but we will wire them into a simple, linear graph. The agent gets one chance to call a tool, and then the workflow ends. There is no loop."
   ]
  },
  {
   "cell_type": "code",
   "execution_count": 3,
   "id": "basic-build",
   "metadata": {},
   "outputs": [
    {
     "name": "stderr",
     "output_type": "stream",
     "text": [
      "C:\\Users\\faree\\AppData\\Local\\Temp\\ipykernel_22948\\1990219742.py:10: LangChainDeprecationWarning: The class `TavilySearchResults` was deprecated in LangChain 0.3.25 and will be removed in 1.0. An updated version of the class exists in the :class:`~langchain-tavily package and should be used instead. To use it run `pip install -U :class:`~langchain-tavily` and import as `from :class:`~langchain_tavily import TavilySearch``.\n",
      "  search_tool = TavilySearchResults(max_results=2, name=\"web_search\")\n"
     ]
    },
    {
     "name": "stdout",
     "output_type": "stream",
     "text": [
      "Basic single-shot tool-using agent compiled successfully.\n"
     ]
    }
   ],
   "source": [
    "from typing import TypedDict\n",
    "\n",
    "console = Console()\n",
    "\n",
    "# Define the state for our graphs\n",
    "class AgentState(TypedDict):\n",
    "    messages: Annotated[list[AnyMessage], add_messages]\n",
    "\n",
    "# Define the tool and LLM\n",
    "search_tool = TavilySearchResults(max_results=2, name=\"web_search\")\n",
    "llm = ChatNebius(model=\"meta-llama/Meta-Llama-3.1-8B-Instruct\", temperature=0)\n",
    "llm_with_tools = llm.bind_tools([search_tool])\n",
    "\n",
    "# Define the agent node for the basic agent\n",
    "def basic_agent_node(state: AgentState):\n",
    "    console.print(\"--- BASIC AGENT: Thinking... ---\")\n",
    "    # Note: We provide a system prompt to encourage it to answer directly after one tool call\n",
    "    system_prompt = \"You are a helpful assistant. You have access to a web search tool. Answer the user's question based on the tool's results. You must provide a final answer after one tool call.\"\n",
    "    messages = [(\"system\", system_prompt)] + state[\"messages\"]\n",
    "    response = llm_with_tools.invoke(messages)\n",
    "    return {\"messages\": [response]}\n",
    "\n",
    "# Define the basic, linear graph\n",
    "basic_graph_builder = StateGraph(AgentState)\n",
    "basic_graph_builder.add_node(\"agent\", basic_agent_node)\n",
    "basic_graph_builder.add_node(\"tools\", ToolNode([search_tool]))\n",
    "\n",
    "basic_graph_builder.set_entry_point(\"agent\")\n",
    "# After the agent, it can only go to tools, and after tools, it MUST end.\n",
    "basic_graph_builder.add_conditional_edges(\"agent\", tools_condition, {\"tools\": \"tools\", \"__end__\": \"__end__\"})\n",
    "basic_graph_builder.add_edge(\"tools\", END)\n",
    "\n",
    "basic_tool_agent_app = basic_graph_builder.compile()\n",
    "\n",
    "print(\"Basic single-shot tool-using agent compiled successfully.\")"
   ]
  },
  {
   "cell_type": "markdown",
   "id": "basic-test-what",
   "metadata": {},
   "source": [
    "### Step 1.2: Testing the Basic Agent on a Multi-Step Problem\n",
    "\n",
    "**What we are going to do:**\n",
    "Now we'll give the basic agent a problem that requires multiple, dependent steps to solve. This will expose its fundamental weakness."
   ]
  },
  {
   "cell_type": "code",
   "execution_count": 4,
   "id": "basic-test-code",
   "metadata": {},
   "outputs": [
    {
     "data": {
      "text/html": [
       "<pre style=\"white-space:pre;overflow-x:auto;line-height:normal;font-family:Menlo,'DejaVu Sans Mono',consolas,'Courier New',monospace\"><span style=\"color: #808000; text-decoration-color: #808000; font-weight: bold\">Testing BASIC agent on a multi-step query:</span> <span style=\"color: #008000; text-decoration-color: #008000\">'Who is the current CEO of the company that created the sci-fi movie </span>\n",
       "<span style=\"color: #008000; text-decoration-color: #008000\">'</span>Dune', and what was the budget for that company's most recent film?'\n",
       "\n",
       "</pre>\n"
      ],
      "text/plain": [
       "\u001b[1;33mTesting BASIC agent on a multi-step query:\u001b[0m \u001b[32m'Who is the current CEO of the company that created the sci-fi movie \u001b[0m\n",
       "\u001b[32m'\u001b[0mDune', and what was the budget for that company's most recent film?'\n",
       "\n"
      ]
     },
     "metadata": {},
     "output_type": "display_data"
    },
    {
     "data": {
      "text/html": [
       "<pre style=\"white-space:pre;overflow-x:auto;line-height:normal;font-family:Menlo,'DejaVu Sans Mono',consolas,'Courier New',monospace\">--- BASIC AGENT: Thinking<span style=\"color: #808000; text-decoration-color: #808000\">...</span> ---\n",
       "</pre>\n"
      ],
      "text/plain": [
       "--- BASIC AGENT: Thinking\u001b[33m...\u001b[0m ---\n"
      ]
     },
     "metadata": {},
     "output_type": "display_data"
    },
    {
     "data": {
      "text/html": [
       "<pre style=\"white-space:pre;overflow-x:auto;line-height:normal;font-family:Menlo,'DejaVu Sans Mono',consolas,'Courier New',monospace\">\n",
       "--- <span style=\"color: #800000; text-decoration-color: #800000; font-weight: bold\">Final Output from Basic Agent</span> ---\n",
       "</pre>\n"
      ],
      "text/plain": [
       "\n",
       "--- \u001b[1;31mFinal Output from Basic Agent\u001b[0m ---\n"
      ]
     },
     "metadata": {},
     "output_type": "display_data"
    },
    {
     "data": {
      "text/html": [
       "<pre style=\"white-space:pre;overflow-x:auto;line-height:normal;font-family:Menlo,'DejaVu Sans Mono',consolas,'Courier New',monospace\">[{\"title\": \"Dune (2021 film) - Wikipedia\", \"url\": \"https://en.wikipedia.org/wiki/Dune_(2021_film)\", \"content\":     \n",
       "\"Dune is a 2021 American epic space opera film directed and co-produced by Denis Villeneuve, who co-wrote the      \n",
       "screenplay with Jon Spaihts and Eric Roth.\", \"score\": 0.5622973}, {\"title\": \"Dune: Part Two | Dune Wiki - Fandom\", \n",
       "\"url\": \"https://dune.fandom.com/wiki/Dune:_Part_Two\", \"content\": \"sequel will also be produced by Mary Parent, and \n",
       "Cale Boyter, with Tanya Lapointe, Brian Herbert, Byron Merritt, Kim Herbert, Thomas Tull, Jon Spaihts, Richard P.  \n",
       "Rubinstein, John Harrison, and Herbert W. Gains serving as executive producers and Kevin J. Anderson as creative   \n",
       "consultant. Legendary CEO Joshua Grode confirmed in April 2019 that they plan to make a sequel, adding that        \n",
       "\"there's a logical place to stop the [first] movie before the book is over\". [...] By November 2016, Legendary     \n",
       "Entertainment had obtained the film and TV rights for the Dune franchise, based on the eponymous 1965 novel by     \n",
       "Frank Herbert. Vice chair of worldwide production for Legendary Mary Parent began discussing with Denis Villeneuve \n",
       "about directing a film adaptation, quickly hiring him after realizing his passion for Dune. By February 2018,      \n",
       "Villeneuve was confirmed to be hired as director, and intended to adapt the novel as a two-part film series.       \n",
       "Villeneuve ultimately [...] work with Timothée Chalamet and Zendaya again, while stating Chani will have a bigger  \n",
       "role in the sequel. Warner Bros. assured Villeneuve a sequel would be greenlit as long as the film performs well on\n",
       "HBO Max.Just days prior to the first film's release, Warner Bros. CEO Ann Sarnoff stated, \"Will we have a sequel to\n",
       "Dune? If you watch the movie, you see how it ends. I think you pretty much know the answer to that.\"\", \"score\":    \n",
       "0.53895956}]                                                                                                       \n",
       "</pre>\n"
      ],
      "text/plain": [
       "[{\"title\": \"Dune (2021 film) - Wikipedia\", \"url\": \"https://en.wikipedia.org/wiki/Dune_(2021_film)\", \"content\":     \n",
       "\"Dune is a 2021 American epic space opera film directed and co-produced by Denis Villeneuve, who co-wrote the      \n",
       "screenplay with Jon Spaihts and Eric Roth.\", \"score\": 0.5622973}, {\"title\": \"Dune: Part Two | Dune Wiki - Fandom\", \n",
       "\"url\": \"https://dune.fandom.com/wiki/Dune:_Part_Two\", \"content\": \"sequel will also be produced by Mary Parent, and \n",
       "Cale Boyter, with Tanya Lapointe, Brian Herbert, Byron Merritt, Kim Herbert, Thomas Tull, Jon Spaihts, Richard P.  \n",
       "Rubinstein, John Harrison, and Herbert W. Gains serving as executive producers and Kevin J. Anderson as creative   \n",
       "consultant. Legendary CEO Joshua Grode confirmed in April 2019 that they plan to make a sequel, adding that        \n",
       "\"there's a logical place to stop the [first] movie before the book is over\". [...] By November 2016, Legendary     \n",
       "Entertainment had obtained the film and TV rights for the Dune franchise, based on the eponymous 1965 novel by     \n",
       "Frank Herbert. Vice chair of worldwide production for Legendary Mary Parent began discussing with Denis Villeneuve \n",
       "about directing a film adaptation, quickly hiring him after realizing his passion for Dune. By February 2018,      \n",
       "Villeneuve was confirmed to be hired as director, and intended to adapt the novel as a two-part film series.       \n",
       "Villeneuve ultimately [...] work with Timothée Chalamet and Zendaya again, while stating Chani will have a bigger  \n",
       "role in the sequel. Warner Bros. assured Villeneuve a sequel would be greenlit as long as the film performs well on\n",
       "HBO Max.Just days prior to the first film's release, Warner Bros. CEO Ann Sarnoff stated, \"Will we have a sequel to\n",
       "Dune? If you watch the movie, you see how it ends. I think you pretty much know the answer to that.\"\", \"score\":    \n",
       "0.53895956}]                                                                                                       \n"
      ]
     },
     "metadata": {},
     "output_type": "display_data"
    }
   ],
   "source": [
    "multi_step_query = \"Who is the current CEO of the company that created the sci-fi movie 'Dune', and what was the budget for that company's most recent film?\"\n",
    "\n",
    "console.print(f\"[bold yellow]Testing BASIC agent on a multi-step query:[/bold yellow] '{multi_step_query}'\\n\")\n",
    "\n",
    "basic_agent_output = basic_tool_agent_app.invoke({\"messages\": [(\"user\", multi_step_query)]})\n",
    "\n",
    "console.print(\"\\n--- [bold red]Final Output from Basic Agent[/bold red] ---\")\n",
    "console.print(Markdown(basic_agent_output['messages'][-1].content))"
   ]
  },
  {
   "cell_type": "markdown",
   "id": "basic-discuss",
   "metadata": {},
   "source": [
    "**Discussion of the Output:**\n",
    "As expected, the basic agent failed. Its single tool call was likely a search for the entire long query. The search results for such a complex, conjunctive query are often messy and don't contain all the necessary pieces of information in one place. \n",
    "\n",
    "The agent's final answer is probably incomplete, incorrect, or a statement that it cannot find the information. It was unable to break the problem down:\n",
    "1.  Find the company that made 'Dune' (Legendary Entertainment).\n",
    "2.  Find the CEO of that company (Joshua Grode).\n",
    "3.  Find that company's most recent film and its budget.\n",
    "\n",
    "This failure perfectly illustrates the need for a more dynamic approach. The agent needs a way to **react** to the information it finds in one step to inform the next."
   ]
  },
  {
   "cell_type": "markdown",
   "id": "phase2-title",
   "metadata": {},
   "source": [
    "## Phase 2: The Advanced Approach - Implementing ReAct\n",
    "\n",
    "Now, we'll build the true ReAct agent. The core difference is the graph's structure: we will introduce a loop that allows the agent to repeatedly think, act, and observe."
   ]
  },
  {
   "cell_type": "markdown",
   "id": "react-build-what",
   "metadata": {},
   "source": [
    "### Step 2.1: Building the ReAct Agent Graph\n",
    "\n",
    "**What we are going to do:**\n",
    "We will define the nodes and the crucial router function that creates the `think -> act` loop. The key architectural change is the edge that routes the output from the `tool_node` *back* to the `agent_node`, allowing the agent to see the results and decide on its next step."
   ]
  },
  {
   "cell_type": "code",
   "execution_count": 5,
   "id": "react-build-code",
   "metadata": {},
   "outputs": [
    {
     "name": "stdout",
     "output_type": "stream",
     "text": [
      "ReAct agent compiled successfully with a reasoning loop.\n"
     ]
    }
   ],
   "source": [
    "def react_agent_node(state: AgentState):\n",
    "    console.print(\"--- REACT AGENT: Thinking... ---\")\n",
    "    response = llm_with_tools.invoke(state[\"messages\"])\n",
    "    return {\"messages\": [response]}\n",
    "\n",
    "# The ToolNode is the same as before\n",
    "react_tool_node = ToolNode([search_tool])\n",
    "\n",
    "# The router is also the same logic\n",
    "def react_router(state: AgentState):\n",
    "    last_message = state[\"messages\"][-1]\n",
    "    if last_message.tool_calls:\n",
    "        console.print(\"--- ROUTER: Decision is to call a tool. ---\")\n",
    "        return \"tools\"\n",
    "    console.print(\"--- ROUTER: Decision is to finish. ---\")\n",
    "    return \"__end__\"\n",
    "\n",
    "# Now we define the graph with the crucial loop\n",
    "react_graph_builder = StateGraph(AgentState)\n",
    "react_graph_builder.add_node(\"agent\", react_agent_node)\n",
    "react_graph_builder.add_node(\"tools\", react_tool_node)\n",
    "\n",
    "react_graph_builder.set_entry_point(\"agent\")\n",
    "react_graph_builder.add_conditional_edges(\"agent\", react_router, {\"tools\": \"tools\", \"__end__\": \"__end__\"})\n",
    "\n",
    "# This is the key difference: the edge goes from tools BACK to the agent\n",
    "react_graph_builder.add_edge(\"tools\", \"agent\")\n",
    "\n",
    "react_agent_app = react_graph_builder.compile()\n",
    "print(\"ReAct agent compiled successfully with a reasoning loop.\")"
   ]
  },
  {
   "cell_type": "markdown",
   "id": "phase3-title",
   "metadata": {},
   "source": [
    "## Phase 3: Head-to-Head Comparison\n",
    "\n",
    "Now we will run the same complex query with our new ReAct agent and observe the difference in its process and final output."
   ]
  },
  {
   "cell_type": "markdown",
   "id": "react-test-what",
   "metadata": {},
   "source": [
    "### Step 3.1: Testing the ReAct Agent on the Multi-Step Problem\n",
    "\n",
    "**What we are going to do:**\n",
    "We will invoke the ReAct agent with the same multi-step query and stream the output to see its iterative reasoning process."
   ]
  },
  {
   "cell_type": "code",
   "execution_count": 6,
   "id": "react-test-code",
   "metadata": {},
   "outputs": [
    {
     "data": {
      "text/html": [
       "<pre style=\"white-space:pre;overflow-x:auto;line-height:normal;font-family:Menlo,'DejaVu Sans Mono',consolas,'Courier New',monospace\"><span style=\"color: #008000; text-decoration-color: #008000; font-weight: bold\">Testing ReAct agent on the same multi-step query:</span> <span style=\"color: #008000; text-decoration-color: #008000\">'Who is the current CEO of the company that created the sci-fi </span>\n",
       "<span style=\"color: #008000; text-decoration-color: #008000\">movie '</span>Dune', and what was the budget for that company's most recent film?'\n",
       "\n",
       "</pre>\n"
      ],
      "text/plain": [
       "\u001b[1;32mTesting ReAct agent on the same multi-step query:\u001b[0m \u001b[32m'Who is the current CEO of the company that created the sci-fi \u001b[0m\n",
       "\u001b[32mmovie '\u001b[0mDune', and what was the budget for that company's most recent film?'\n",
       "\n"
      ]
     },
     "metadata": {},
     "output_type": "display_data"
    },
    {
     "data": {
      "text/html": [
       "<pre style=\"white-space:pre;overflow-x:auto;line-height:normal;font-family:Menlo,'DejaVu Sans Mono',consolas,'Courier New',monospace\">--- <span style=\"color: #af00ff; text-decoration-color: #af00ff; font-weight: bold\">Current State</span> ---\n",
       "</pre>\n"
      ],
      "text/plain": [
       "--- \u001b[1;38;5;129mCurrent State\u001b[0m ---\n"
      ]
     },
     "metadata": {},
     "output_type": "display_data"
    },
    {
     "name": "stdout",
     "output_type": "stream",
     "text": [
      "================================\u001b[1m Human Message \u001b[0m=================================\n",
      "\n",
      "Who is the current CEO of the company that created the sci-fi movie 'Dune', and what was the budget for that company's most recent film?\n"
     ]
    },
    {
     "data": {
      "text/html": [
       "<pre style=\"white-space:pre;overflow-x:auto;line-height:normal;font-family:Menlo,'DejaVu Sans Mono',consolas,'Courier New',monospace\">\n",
       "\n",
       "</pre>\n"
      ],
      "text/plain": [
       "\n",
       "\n"
      ]
     },
     "metadata": {},
     "output_type": "display_data"
    },
    {
     "data": {
      "text/html": [
       "<pre style=\"white-space:pre;overflow-x:auto;line-height:normal;font-family:Menlo,'DejaVu Sans Mono',consolas,'Courier New',monospace\">--- REACT AGENT: Thinking<span style=\"color: #808000; text-decoration-color: #808000\">...</span> ---\n",
       "</pre>\n"
      ],
      "text/plain": [
       "--- REACT AGENT: Thinking\u001b[33m...\u001b[0m ---\n"
      ]
     },
     "metadata": {},
     "output_type": "display_data"
    },
    {
     "data": {
      "text/html": [
       "<pre style=\"white-space:pre;overflow-x:auto;line-height:normal;font-family:Menlo,'DejaVu Sans Mono',consolas,'Courier New',monospace\">--- ROUTER: Decision is to call a tool. ---\n",
       "</pre>\n"
      ],
      "text/plain": [
       "--- ROUTER: Decision is to call a tool. ---\n"
      ]
     },
     "metadata": {},
     "output_type": "display_data"
    },
    {
     "data": {
      "text/html": [
       "<pre style=\"white-space:pre;overflow-x:auto;line-height:normal;font-family:Menlo,'DejaVu Sans Mono',consolas,'Courier New',monospace\">--- <span style=\"color: #af00ff; text-decoration-color: #af00ff; font-weight: bold\">Current State</span> ---\n",
       "</pre>\n"
      ],
      "text/plain": [
       "--- \u001b[1;38;5;129mCurrent State\u001b[0m ---\n"
      ]
     },
     "metadata": {},
     "output_type": "display_data"
    },
    {
     "name": "stdout",
     "output_type": "stream",
     "text": [
      "==================================\u001b[1m Ai Message \u001b[0m==================================\n",
      "Tool Calls:\n",
      "  web_search (chatcmpl-tool-3e4b23bce02c4340ab97326413afb20f)\n",
      " Call ID: chatcmpl-tool-3e4b23bce02c4340ab97326413afb20f\n",
      "  Args:\n",
      "    query: current CEO of company that created Dune movie budget of most recent film\n"
     ]
    },
    {
     "data": {
      "text/html": [
       "<pre style=\"white-space:pre;overflow-x:auto;line-height:normal;font-family:Menlo,'DejaVu Sans Mono',consolas,'Courier New',monospace\">\n",
       "\n",
       "</pre>\n"
      ],
      "text/plain": [
       "\n",
       "\n"
      ]
     },
     "metadata": {},
     "output_type": "display_data"
    },
    {
     "data": {
      "text/html": [
       "<pre style=\"white-space:pre;overflow-x:auto;line-height:normal;font-family:Menlo,'DejaVu Sans Mono',consolas,'Courier New',monospace\">--- <span style=\"color: #af00ff; text-decoration-color: #af00ff; font-weight: bold\">Current State</span> ---\n",
       "</pre>\n"
      ],
      "text/plain": [
       "--- \u001b[1;38;5;129mCurrent State\u001b[0m ---\n"
      ]
     },
     "metadata": {},
     "output_type": "display_data"
    },
    {
     "name": "stdout",
     "output_type": "stream",
     "text": [
      "=================================\u001b[1m Tool Message \u001b[0m=================================\n",
      "Name: web_search\n",
      "\n",
      "[{\"title\": \"Dune: Part Three - Wikipedia\", \"url\": \"https://en.wikipedia.org/wiki/Dune:_Part_Three\", \"content\": \"Following the release of Dune: Part Two, Legendary CEO Joshua Grode stated that the studio was \\\"engaged\\\" in development. In March 2024, Villeneuve was cautious about making the film, as he wanted to ensure the script was good and said he would make the film only if he felt it was superior to Dune: Part Two. By the next month, the film was confirmed to be in development by Villeneuve and Legendary Entertainment. On June 28, 2024, Warner Bros. announced a December 18, 2026 release date for an [...] In 2011, Mary Parent, vice chair of Legendary Entertainment, and her producing partner Cale Boyter acquired adaptation rights for Frank Herbert's novel Dune \\\"Dune (novel)\\\") (1965). In November 2016, Legendary acquired the film and TV rights for the Dune franchise \\\"Dune (franchise)\\\"). Legendary hired Denis Villeneuve to direct a film adaptation of Dune, and later secured a production deal with parent company Warner Bros. Pictures to make a two-part adaptation of the novel. [...] |  |  |\\n --- |\\n| Prelude |  House Atreides (1999)  House Harkonnen (2000)  House Corrino (2001) |\\n| Legends |  The Butlerian Jihad (2002)  The Machine Crusade (2003)  The Battle of Corrin (2004) |\\n| Heroes |  Paul of Dune (2008)  The Winds of Dune (2009) |\\n| Great Schools |  Sisterhood of Dune (2012)  Mentats of Dune (2014)  Navigators of Dune (2016) |\\n| Caladan |  The Duke of Caladan (2020)  The Lady of Caladan (2021)  The Heir of Caladan (2022) |\", \"score\": 0.5849357}, {\"title\": \"Dune Part 2's Budget Difference With Brie Larson's The Marvels\", \"url\": \"https://www.imdb.com/news/ni64451962/\", \"content\": \"Image\\n\\n### Similar News\\n\\n### Marvel Studios\\n\\nImage\\nImage\\nImage\\n\\n### Disney+\\n\\nImage\\nImage\\nImage\\n\\n### Kevin Feige\\n\\nImage\\nImage\\n\\n### More to explore\\n\\n### Recently viewed\\n\\nGet the IMDb App\\n\\n© 1990-2025 by IMDb.com, Inc.\", \"score\": 0.19775449}]\n"
     ]
    },
    {
     "data": {
      "text/html": [
       "<pre style=\"white-space:pre;overflow-x:auto;line-height:normal;font-family:Menlo,'DejaVu Sans Mono',consolas,'Courier New',monospace\">\n",
       "\n",
       "</pre>\n"
      ],
      "text/plain": [
       "\n",
       "\n"
      ]
     },
     "metadata": {},
     "output_type": "display_data"
    },
    {
     "data": {
      "text/html": [
       "<pre style=\"white-space:pre;overflow-x:auto;line-height:normal;font-family:Menlo,'DejaVu Sans Mono',consolas,'Courier New',monospace\">--- REACT AGENT: Thinking<span style=\"color: #808000; text-decoration-color: #808000\">...</span> ---\n",
       "</pre>\n"
      ],
      "text/plain": [
       "--- REACT AGENT: Thinking\u001b[33m...\u001b[0m ---\n"
      ]
     },
     "metadata": {},
     "output_type": "display_data"
    },
    {
     "data": {
      "text/html": [
       "<pre style=\"white-space:pre;overflow-x:auto;line-height:normal;font-family:Menlo,'DejaVu Sans Mono',consolas,'Courier New',monospace\">--- ROUTER: Decision is to finish. ---\n",
       "</pre>\n"
      ],
      "text/plain": [
       "--- ROUTER: Decision is to finish. ---\n"
      ]
     },
     "metadata": {},
     "output_type": "display_data"
    },
    {
     "data": {
      "text/html": [
       "<pre style=\"white-space:pre;overflow-x:auto;line-height:normal;font-family:Menlo,'DejaVu Sans Mono',consolas,'Courier New',monospace\">--- <span style=\"color: #af00ff; text-decoration-color: #af00ff; font-weight: bold\">Current State</span> ---\n",
       "</pre>\n"
      ],
      "text/plain": [
       "--- \u001b[1;38;5;129mCurrent State\u001b[0m ---\n"
      ]
     },
     "metadata": {},
     "output_type": "display_data"
    },
    {
     "name": "stdout",
     "output_type": "stream",
     "text": [
      "==================================\u001b[1m Ai Message \u001b[0m==================================\n",
      "\n",
      "The current CEO of the company that created the sci-fi movie 'Dune' is Joshua Grode. However, I couldn't find the budget for the company's most recent film in the search results.\n"
     ]
    },
    {
     "data": {
      "text/html": [
       "<pre style=\"white-space:pre;overflow-x:auto;line-height:normal;font-family:Menlo,'DejaVu Sans Mono',consolas,'Courier New',monospace\">\n",
       "\n",
       "</pre>\n"
      ],
      "text/plain": [
       "\n",
       "\n"
      ]
     },
     "metadata": {},
     "output_type": "display_data"
    },
    {
     "data": {
      "text/html": [
       "<pre style=\"white-space:pre;overflow-x:auto;line-height:normal;font-family:Menlo,'DejaVu Sans Mono',consolas,'Courier New',monospace\">\n",
       "--- <span style=\"color: #008000; text-decoration-color: #008000; font-weight: bold\">Final Output from ReAct Agent</span> ---\n",
       "</pre>\n"
      ],
      "text/plain": [
       "\n",
       "--- \u001b[1;32mFinal Output from ReAct Agent\u001b[0m ---\n"
      ]
     },
     "metadata": {},
     "output_type": "display_data"
    },
    {
     "data": {
      "text/html": [
       "<pre style=\"white-space:pre;overflow-x:auto;line-height:normal;font-family:Menlo,'DejaVu Sans Mono',consolas,'Courier New',monospace\">The current CEO of the company that created the sci-fi movie 'Dune' is Joshua Grode. However, I couldn't find the  \n",
       "budget for the company's most recent film in the search results.                                                   \n",
       "</pre>\n"
      ],
      "text/plain": [
       "The current CEO of the company that created the sci-fi movie 'Dune' is Joshua Grode. However, I couldn't find the  \n",
       "budget for the company's most recent film in the search results.                                                   \n"
      ]
     },
     "metadata": {},
     "output_type": "display_data"
    }
   ],
   "source": [
    "console.print(f\"[bold green]Testing ReAct agent on the same multi-step query:[/bold green] '{multi_step_query}'\\n\")\n",
    "\n",
    "final_react_output = None\n",
    "for chunk in react_agent_app.stream({\"messages\": [(\"user\", multi_step_query)]}, stream_mode=\"values\"):\n",
    "    final_react_output = chunk\n",
    "    console.print(f\"--- [bold purple]Current State[/bold purple] ---\")\n",
    "    chunk['messages'][-1].pretty_print()\n",
    "    console.print(\"\\n\")\n",
    "\n",
    "console.print(\"\\n--- [bold green]Final Output from ReAct Agent[/bold green] ---\")\n",
    "console.print(Markdown(final_react_output['messages'][-1].content))"
   ]
  },
  {
   "cell_type": "markdown",
   "id": "react-discuss",
   "metadata": {},
   "source": [
    "**Discussion of the Output:**\n",
    "Success! The execution trace shows a completely different and far more intelligent process. You can see the agent's step-by-step reasoning:\n",
    "1.  **Thought 1:** It first reasons that it needs to identify the production company for 'Dune'.\n",
    "2.  **Action 1:** It calls the `web_search` tool with a query like \"production company for Dune movie\".\n",
    "3.  **Observation 1:** It receives the result: \"Legendary Entertainment\".\n",
    "4.  **Thought 2:** Now, incorporating the new information, it reasons that it needs the CEO of Legendary Entertainment.\n",
    "5.  **Action 2:** It calls `web_search` again with a query like \"CEO of Legendary Entertainment\".\n",
    "6.  ...and so on, until it has gathered all the necessary pieces.\n",
    "7.  **Synthesis:** Finally, it assembles all the collected facts into a complete and accurate answer.\n",
    "\n",
    "This clearly demonstrates the superiority of the ReAct pattern for any task that isn't a simple, single-step lookup."
   ]
  },
  {
   "cell_type": "markdown",
   "id": "eval-what",
   "metadata": {},
   "source": [
    "## Phase 4: Quantitative Evaluation\n",
    "\n",
    "To formalize the comparison, we'll use an LLM-as-a-Judge to score the final outputs from both the basic and the ReAct agents on their ability to solve the task."
   ]
  },
  {
   "cell_type": "code",
   "execution_count": 7,
   "id": "eval-judge-code",
   "metadata": {},
   "outputs": [
    {
     "data": {
      "text/html": [
       "<pre style=\"white-space:pre;overflow-x:auto;line-height:normal;font-family:Menlo,'DejaVu Sans Mono',consolas,'Courier New',monospace\">--- Evaluating Basic Agent's Output ---\n",
       "</pre>\n"
      ],
      "text/plain": [
       "--- Evaluating Basic Agent's Output ---\n"
      ]
     },
     "metadata": {},
     "output_type": "display_data"
    },
    {
     "data": {
      "text/html": [
       "<pre style=\"white-space:pre;overflow-x:auto;line-height:normal;font-family:Menlo,'DejaVu Sans Mono',consolas,'Courier New',monospace\"><span style=\"font-weight: bold\">{</span>\n",
       "    <span style=\"color: #008000; text-decoration-color: #008000\">'task_completion_score'</span>: <span style=\"color: #008080; text-decoration-color: #008080; font-weight: bold\">2</span>,\n",
       "    <span style=\"color: #008000; text-decoration-color: #008000\">'reasoning_quality_score'</span>: <span style=\"color: #008080; text-decoration-color: #008080; font-weight: bold\">4</span>,\n",
       "    <span style=\"color: #008000; text-decoration-color: #008000\">'justification'</span>: <span style=\"color: #008000; text-decoration-color: #008000\">\"The agent provided some relevant information about the movie 'Dune' and its sequel, but </span>\n",
       "<span style=\"color: #008000; text-decoration-color: #008000\">failed to answer the user's question directly. It did not provide the name of the current CEO of the company that </span>\n",
       "<span style=\"color: #008000; text-decoration-color: #008000\">created the movie, nor the budget for the company's most recent film. The agent's response was somewhat relevant, </span>\n",
       "<span style=\"color: #008000; text-decoration-color: #008000\">but lacked focus and clarity.\"</span>\n",
       "<span style=\"font-weight: bold\">}</span>\n",
       "</pre>\n"
      ],
      "text/plain": [
       "\u001b[1m{\u001b[0m\n",
       "    \u001b[32m'task_completion_score'\u001b[0m: \u001b[1;36m2\u001b[0m,\n",
       "    \u001b[32m'reasoning_quality_score'\u001b[0m: \u001b[1;36m4\u001b[0m,\n",
       "    \u001b[32m'justification'\u001b[0m: \u001b[32m\"The agent provided some relevant information about the movie 'Dune' and its sequel, but \u001b[0m\n",
       "\u001b[32mfailed to answer the user's question directly. It did not provide the name of the current CEO of the company that \u001b[0m\n",
       "\u001b[32mcreated the movie, nor the budget for the company's most recent film. The agent's response was somewhat relevant, \u001b[0m\n",
       "\u001b[32mbut lacked focus and clarity.\"\u001b[0m\n",
       "\u001b[1m}\u001b[0m\n"
      ]
     },
     "metadata": {},
     "output_type": "display_data"
    },
    {
     "data": {
      "text/html": [
       "<pre style=\"white-space:pre;overflow-x:auto;line-height:normal;font-family:Menlo,'DejaVu Sans Mono',consolas,'Courier New',monospace\">\n",
       "--- Evaluating ReAct Agent's Output ---\n",
       "</pre>\n"
      ],
      "text/plain": [
       "\n",
       "--- Evaluating ReAct Agent's Output ---\n"
      ]
     },
     "metadata": {},
     "output_type": "display_data"
    },
    {
     "data": {
      "text/html": [
       "<pre style=\"white-space:pre;overflow-x:auto;line-height:normal;font-family:Menlo,'DejaVu Sans Mono',consolas,'Courier New',monospace\"><span style=\"font-weight: bold\">{</span>\n",
       "    <span style=\"color: #008000; text-decoration-color: #008000\">'task_completion_score'</span>: <span style=\"color: #008080; text-decoration-color: #008080; font-weight: bold\">6</span>,\n",
       "    <span style=\"color: #008000; text-decoration-color: #008000\">'reasoning_quality_score'</span>: <span style=\"color: #008080; text-decoration-color: #008080; font-weight: bold\">8</span>,\n",
       "    <span style=\"color: #008000; text-decoration-color: #008000\">'justification'</span>: <span style=\"color: #008000; text-decoration-color: #008000\">\"The agent correctly identified the current CEO of the company that created the sci-fi movie </span>\n",
       "<span style=\"color: #008000; text-decoration-color: #008000\">'Dune' as Joshua Grode. However, it failed to find the budget for the company's most recent film, which is a </span>\n",
       "<span style=\"color: #008000; text-decoration-color: #008000\">crucial part of the task. The agent's reasoning quality is high as it provided relevant information from Wikipedia </span>\n",
       "<span style=\"color: #008000; text-decoration-color: #008000\">and IMDb, but it lacked the ability to extract the required information from the search results.\"</span>\n",
       "<span style=\"font-weight: bold\">}</span>\n",
       "</pre>\n"
      ],
      "text/plain": [
       "\u001b[1m{\u001b[0m\n",
       "    \u001b[32m'task_completion_score'\u001b[0m: \u001b[1;36m6\u001b[0m,\n",
       "    \u001b[32m'reasoning_quality_score'\u001b[0m: \u001b[1;36m8\u001b[0m,\n",
       "    \u001b[32m'justification'\u001b[0m: \u001b[32m\"The agent correctly identified the current CEO of the company that created the sci-fi movie \u001b[0m\n",
       "\u001b[32m'Dune' as Joshua Grode. However, it failed to find the budget for the company's most recent film, which is a \u001b[0m\n",
       "\u001b[32mcrucial part of the task. The agent's reasoning quality is high as it provided relevant information from Wikipedia \u001b[0m\n",
       "\u001b[32mand IMDb, but it lacked the ability to extract the required information from the search results.\"\u001b[0m\n",
       "\u001b[1m}\u001b[0m\n"
      ]
     },
     "metadata": {},
     "output_type": "display_data"
    }
   ],
   "source": [
    "class TaskEvaluation(BaseModel):\n",
    "    \"\"\"Schema for evaluating an agent's ability to complete a task.\"\"\"\n",
    "    task_completion_score: int = Field(description=\"Score 1-10 on whether the agent successfully completed all parts of the user's request.\")\n",
    "    reasoning_quality_score: int = Field(description=\"Score 1-10 on the logical flow and reasoning process demonstrated by the agent.\")\n",
    "    justification: str = Field(description=\"A brief justification for the scores.\")\n",
    "\n",
    "judge_llm = llm.with_structured_output(TaskEvaluation)\n",
    "\n",
    "def evaluate_agent_output(query: str, agent_output: dict):\n",
    "    trace = \"\\n\".join([f\"{m.type}: {m.content}\" for m in agent_output['messages']])\n",
    "    prompt = f\"\"\"You are an expert judge of AI agents. Evaluate the following agent's performance on the given task on a scale of 1-10. A score of 10 means the task was completed perfectly. A score of 1 means complete failure.\n",
    "    \n",
    "    **User's Task:**\n",
    "    {query}\n",
    "    \n",
    "    **Full Agent Conversation Trace:**\n",
    "    ```\n",
    "    {trace}\n",
    "    ```\n",
    "    \"\"\"\n",
    "    return judge_llm.invoke(prompt)\n",
    "\n",
    "console.print(\"--- Evaluating Basic Agent's Output ---\")\n",
    "basic_agent_evaluation = evaluate_agent_output(multi_step_query, basic_agent_output)\n",
    "console.print(basic_agent_evaluation.model_dump())\n",
    "\n",
    "console.print(\"\\n--- Evaluating ReAct Agent's Output ---\")\n",
    "react_agent_evaluation = evaluate_agent_output(multi_step_query, final_react_output)\n",
    "console.print(react_agent_evaluation.model_dump())"
   ]
  },
  {
   "cell_type": "markdown",
   "id": "eval-discuss",
   "metadata": {},
   "source": [
    "**Discussion of the Output:**\n",
    "The quantitative scores from the LLM-as-a-Judge make the difference crystal clear. \n",
    "- The **Basic Agent** received a very low `task_completion_score` because it failed to gather all the required information. Its `reasoning_quality_score` is also low because its process was flawed and incomplete.\n",
    "- The **ReAct Agent**, in contrast, received near-perfect scores. The judge recognized that its iterative process allowed it to successfully complete all parts of the complex task.\n",
    "\n",
    "This head-to-head comparison and evaluation provides definitive proof of the ReAct architecture's value. It is the key that unlocks an agent's ability to tackle complex, multi-hop problems that require dynamic adaptation."
   ]
  },
  {
   "cell_type": "markdown",
   "id": "conclusion",
   "metadata": {},
   "source": [
    "## Conclusion\n",
    "\n",
    "In this notebook, we have not only implemented the **ReAct** architecture but also demonstrated its clear superiority over a more basic, single-shot approach. By building a workflow that allows an agent to loop through a cycle of reasoning and acting, we have enabled it to solve complex, multi-step problems that would otherwise be intractable.\n",
    "\n",
    "The ability to observe the outcome of an action and use that information to inform the next step is a fundamental component of intelligent behavior. The ReAct pattern provides a simple yet profoundly effective way to build this capability into our AI agents, making them more powerful, adaptive, and useful for real-world tasks."
   ]
  }
 ],
 "metadata": {
  "kernelspec": {
   "display_name": ".venv-agents-architectures (3.10.0)",
   "language": "python",
   "name": "python3"
  },
  "language_info": {
   "codemirror_mode": {
    "name": "ipython",
    "version": 3
   },
   "file_extension": ".py",
   "mimetype": "text/x-python",
   "name": "python",
   "nbconvert_exporter": "python",
   "pygments_lexer": "ipython3",
   "version": "3.10.0"
  }
 },
 "nbformat": 4,
 "nbformat_minor": 5
}
