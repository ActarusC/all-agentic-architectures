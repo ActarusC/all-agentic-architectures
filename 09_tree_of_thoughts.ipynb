{
 "cells": [
  {
   "cell_type": "markdown",
   "id": "intro-title",
   "metadata": {},
   "source": [
    "# 📘 Agentic Architectures 9: Tree-of-Thoughts Planning\n",
    "\n",
    "Welcome to the ninth notebook in our series. Today, we explore a powerful reasoning and planning architecture: **Tree-of-Thoughts (ToT)**. This pattern elevates an agent's problem-solving capabilities from a linear chain of thought to a multi-path exploratory search.\n",
    "\n",
    "Instead of generating a single, sequential line of reasoning, a ToT agent generates multiple candidate \"thoughts\" or next steps at each stage of a problem. It then evaluates these thoughts, pruning invalid or unpromising branches and expanding the most promising ones. This creates a search tree where the agent can backtrack, explore alternatives, and systematically navigate a complex problem space.\n",
    "\n",
    "To demonstrate this, we'll task our agent with a classic logic puzzle: the **Wolf, Goat, and Cabbage problem**. This puzzle is famous because it requires non-obvious steps (like bringing an item *back*) and has several invalid states that can trap a naive reasoner. We will show how a simple Chain-of-Thought agent might fail, while the ToT agent methodically constructs a valid plan by exploring and evaluating a tree of possibilities."
   ]
  },
  {
   "cell_type": "markdown",
   "id": "intro-definition",
   "metadata": {},
   "source": [
    "### Definition\n",
    "**Tree-of-Thoughts (ToT)** is an agentic reasoning framework where problem-solving is modeled as a search through a tree. The agent explores multiple reasoning paths (branches) simultaneously. At each step, it generates potential next steps (\"thoughts\"), evaluates their viability, and decides which paths to continue exploring, effectively pruning the search space.\n",
    "\n",
    "### High-level Workflow\n",
    "\n",
    "1.  **Decomposition:** The problem is broken down into a series of steps or thoughts.\n",
    "2.  **Thought Generation:** For the current state of the problem, the agent generates multiple potential next steps or thoughts. This creates branches in the search tree.\n",
    "3.  **State Evaluation:** Each new thought (leading to a new state) is evaluated by a \"critic\" or a validation function. This evaluation can assess:\n",
    "    *   **Validity:** Is this move allowed by the rules of the problem?\n",
    "    *   **Progress:** Does this move get us closer to the solution?\n",
    "    *   **Heuristics:** Is this path likely to succeed?\n",
    "4.  **Pruning & Expansion:** Invalid or unpromising branches are pruned. The agent then proceeds from the most promising active branches, repeating the thought generation process.\n",
    "5.  **Solution:** The process continues until a goal state is reached. The solution is the path of thoughts from the root to the goal.\n",
    "\n",
    "### When to Use / Applications\n",
    "*   **Logic Puzzles & Math Problems:** Problems with clear rules and goal states that require multi-step, non-linear reasoning (e.g., Sudoku, river crossing puzzles).\n",
    "*   **Complex Planning:** When a task requires a detailed plan where the order of operations matters and constraints must be respected (e.g., planning a complex trip with multiple legs and budget constraints).\n",
    "*   **Creative Writing or Code Generation:** Exploring multiple story branches or implementation strategies before committing to one.\n",
    "\n",
    "### Strengths & Weaknesses\n",
    "*   **Strengths:**\n",
    "    *   **Robustness:** Systematically explores the problem space, making it much less likely to get stuck or produce an incorrect answer compared to a single-pass method.\n",
    "    *   **Handles Combinatorial Complexity:** Well-suited for problems where the number of possible sequences is vast.\n",
    "*   **Weaknesses:**\n",
    "    *   **Computationally Heavy:** Requires significantly more LLM calls and state management than a simple Chain-of-Thought prompt, making it slower and more expensive.\n",
    "    *   **Requires a Good Evaluator:** The effectiveness of the search heavily depends on the quality of the state evaluation logic."
   ]
  },
  {
   "cell_type": "markdown",
   "id": "phase0-title",
   "metadata": {},
   "source": [
    "## Phase 0: Foundation & Setup\n",
    "\n",
    "We'll install our libraries and configure our API keys as usual."
   ]
  },
  {
   "cell_type": "code",
   "execution_count": 1,
   "id": "install-libs",
   "metadata": {},
   "outputs": [],
   "source": [
    "# !pip install -q -U langchain-nebius langchain langgraph rich python-dotenv"
   ]
  },
  {
   "cell_type": "code",
   "execution_count": 2,
   "id": "import-and-keys",
   "metadata": {},
   "outputs": [
    {
     "name": "stdout",
     "output_type": "stream",
     "text": [
      "Environment variables loaded and tracing is set up.\n"
     ]
    }
   ],
   "source": [
    "import os\n",
    "import re\n",
    "from typing import List, Dict, Any, Optional\n",
    "from dotenv import load_dotenv\n",
    "from collections import defaultdict\n",
    "\n",
    "# Pydantic for data modeling\n",
    "from pydantic import BaseModel, Field\n",
    "\n",
    "# LangChain components\n",
    "from langchain_nebius import ChatNebius\n",
    "from langchain_core.prompts import ChatPromptTemplate\n",
    "\n",
    "# LangGraph components\n",
    "from langgraph.graph import StateGraph, END\n",
    "from typing_extensions import TypedDict\n",
    "\n",
    "# For pretty printing\n",
    "from rich.console import Console\n",
    "from rich.markdown import Markdown\n",
    "from rich.tree import Tree\n",
    "\n",
    "# --- API Key and Tracing Setup ---\n",
    "load_dotenv()\n",
    "\n",
    "os.environ[\"LANGCHAIN_TRACING_V2\"] = \"true\"\n",
    "os.environ[\"LANGCHAIN_PROJECT\"] = \"Agentic Architecture - Tree-of-Thoughts (Nebius)\"\n",
    "\n",
    "# Check for required environment variables\n",
    "required_vars = [\"NEBIUS_API_KEY\", \"LANGCHAIN_API_KEY\"]\n",
    "for var in required_vars:\n",
    "    if var not in os.environ:\n",
    "        print(f\"Warning: Environment variable {var} not set.\")\n",
    "\n",
    "print(\"Environment variables loaded and tracing is set up.\")"
   ]
  },
  {
   "cell_type": "markdown",
   "id": "phase1-title",
   "metadata": {},
   "source": [
    "## Phase 1: Defining the Problem Environment\n",
    "\n",
    "A Tree-of-Thoughts system requires a well-defined environment to operate in. For our Wolf, Goat, and Cabbage puzzle, this means we need to programmatically define:\n",
    "\n",
    "1.  **State Representation:** A way to describe the location of all items.\n",
    "2.  **Validation Rules:** A function to check if a state is invalid (e.g., the goat and cabbage are left alone).\n",
    "3.  **Goal State:** A way to check if the puzzle has been solved.\n",
    "4.  **Possible Moves:** A function to determine all legal moves from a given state."
   ]
  },
  {
   "cell_type": "code",
   "execution_count": 3,
   "id": "environment-setup-code",
   "metadata": {},
   "outputs": [
    {
     "name": "stdout",
     "output_type": "stream",
     "text": [
      "Puzzle environment defined successfully.\n"
     ]
    }
   ],
   "source": [
    "console = Console()\n",
    "\n",
    "class PuzzleState(BaseModel):\n",
    "    \"Represents the state of the Wolf, Goat, and Cabbage puzzle.\"\n",
    "    # Using sets for unordered collections of items on each bank\n",
    "    left_bank: set[str] = Field(default_factory=lambda: {\"wolf\", \"goat\", \"cabbage\"})\n",
    "    right_bank: set[str] = Field(default_factory=set)\n",
    "    boat_location: str = \"left\"\n",
    "    move_description: str = \"Initial state.\"\n",
    "\n",
    "    def is_valid(self) -> bool:\n",
    "        \"\"\"Checks if the current state is valid (no one gets eaten).\"\"\"\n",
    "        # Check left bank\n",
    "        if self.boat_location == \"right\":\n",
    "            if \"wolf\" in self.left_bank and \"goat\" in self.left_bank:\n",
    "                return False\n",
    "            if \"goat\" in self.left_bank and \"cabbage\" in self.left_bank:\n",
    "                return False\n",
    "        # Check right bank\n",
    "        if self.boat_location == \"left\":\n",
    "            if \"wolf\" in self.right_bank and \"goat\" in self.right_bank:\n",
    "                return False\n",
    "            if \"goat\" in self.right_bank and \"cabbage\" in self.right_bank:\n",
    "                return False\n",
    "        return True\n",
    "\n",
    "    def is_goal(self) -> bool:\n",
    "        \"\"\"Checks if the goal state has been reached.\"\"\"\n",
    "        return self.right_bank == {\"wolf\", \"goat\", \"cabbage\"}\n",
    "    \n",
    "    def __hash__(self):\n",
    "        # Make the state hashable to check for visited states\n",
    "        return hash((frozenset(self.left_bank), frozenset(self.right_bank), self.boat_location))\n",
    "    \n",
    "    def __eq__(self, other):\n",
    "        return self.__hash__() == other.__hash__()\n",
    "\n",
    "def get_possible_moves(state: PuzzleState) -> list[PuzzleState]:\n",
    "    \"\"\"Generates all possible valid next states from the current state.\"\"\"\n",
    "    moves = []\n",
    "    current_bank = state.left_bank if state.boat_location == \"left\" else state.right_bank\n",
    "    \n",
    "    # Option 1: Move one item in the boat\n",
    "    for item in current_bank:\n",
    "        new_state = state.model_copy(deep=True)\n",
    "        if state.boat_location == \"left\":\n",
    "            new_state.left_bank.remove(item)\n",
    "            new_state.right_bank.add(item)\n",
    "            new_state.boat_location = \"right\"\n",
    "            new_state.move_description = f\"Move {item} to the right bank.\"\n",
    "        else:\n",
    "            new_state.right_bank.remove(item)\n",
    "            new_state.left_bank.add(item)\n",
    "            new_state.boat_location = \"left\"\n",
    "            new_state.move_description = f\"Move {item} to the left bank.\"\n",
    "        if new_state.is_valid():\n",
    "            moves.append(new_state)\n",
    "            \n",
    "    # Option 2: Move the boat empty\n",
    "    empty_move_state = state.model_copy(deep=True)\n",
    "    if state.boat_location == \"left\":\n",
    "        empty_move_state.boat_location = \"right\"\n",
    "        empty_move_state.move_description = \"Move the boat empty to the right bank.\"\n",
    "    else:\n",
    "        empty_move_state.boat_location = \"left\"\n",
    "        empty_move_state.move_description = \"Move the boat empty to the left bank.\"\n",
    "    if empty_move_state.is_valid():\n",
    "        moves.append(empty_move_state)\n",
    "        \n",
    "    return moves\n",
    "\n",
    "print(\"Puzzle environment defined successfully.\")"
   ]
  },
  {
   "cell_type": "markdown",
   "id": "phase2-title",
   "metadata": {},
   "source": [
    "## Phase 2: Implementing the ToT Agent with LangGraph\n",
    "\n",
    "We will now build the agent itself. The state of our graph will track all the active paths (branches) in our thought tree. The nodes will perform the key ToT actions:\n",
    "\n",
    "1.  **Expand Paths (Thought Generator):** An LLM-powered node that looks at the last state of each active path and proposes a promising next move from the list of valid possibilities.\n",
    "2.  **Prune Paths (State Evaluator):** This node cleans up after generation. It will remove any paths that have entered an invalid state or a cycle (revisiting a previous state).\n",
    "3.  **Check for Solution (Goal Check):** A conditional node that checks if any of the active paths have reached the goal state. If so, it terminates the loop."
   ]
  },
  {
   "cell_type": "code",
   "execution_count": 4,
   "id": "agent-build-code",
   "metadata": {},
   "outputs": [
    {
     "name": "stdout",
     "output_type": "stream",
     "text": [
      "Tree-of-Thoughts agent graph compiled successfully.\n"
     ]
    }
   ],
   "source": [
    "llm = ChatNebius(model=\"mistralai/Mixtral-8x22B-Instruct-v0.1\", temperature=0.4)\n",
    "\n",
    "# Pydantic model for the LLM's choice of move\n",
    "class MoveChoice(BaseModel):\n",
    "    best_move_index: int = Field(description=\"The index of the best move from the provided list of possible moves.\")\n",
    "    reasoning: str = Field(description=\"Brief reasoning for why this is the most promising move.\")\n",
    "\n",
    "# LangGraph State\n",
    "class ToTState(TypedDict):\n",
    "    problem_description: str\n",
    "    # Each path is a list of PuzzleState objects\n",
    "    active_paths: List[List[PuzzleState]]\n",
    "    # We'll store the final solution here\n",
    "    solution: Optional[List[PuzzleState]]\n",
    "\n",
    "# Graph Nodes\n",
    "def initialize_search(state: ToTState) -> Dict[str, Any]:\n",
    "    \"\"\"Node to set up the initial state of the search.\"\"\"\n",
    "    initial_puzzle_state = PuzzleState()\n",
    "    return {\"active_paths\": [[initial_puzzle_state]]}\n",
    "\n",
    "def expand_paths(state: ToTState) -> Dict[str, Any]:\n",
    "    \"\"\"The 'Thought Generator'. Expands each active path with a promising next move.\"\"\"\n",
    "    console.print(\"--- Expanding Paths ---\")\n",
    "    new_paths = []\n",
    "    choice_llm = llm.with_structured_output(MoveChoice)\n",
    "    \n",
    "    prompt = ChatPromptTemplate.from_messages([\n",
    "        (\"system\", \"You are an expert logic puzzle solver. Your goal is to solve the Wolf, Goat, and Cabbage problem. Analyze the current path and choose the most promising next move from the list of options to reach the goal.\"),\n",
    "        (\"human\", \"Problem: {problem}\\n\\nCurrent Path History:\\n{path_history}\\n\\nFrom the final state, choose the best next move from this list:\\n{possible_moves}\")\n",
    "    ])\n",
    "    \n",
    "    for path in state['active_paths']:\n",
    "        last_state = path[-1]\n",
    "        possible_next_states = get_possible_moves(last_state)\n",
    "        \n",
    "        if not possible_next_states:\n",
    "            continue # This path is a dead end\n",
    "            \n",
    "        path_history_str = \" -> \".join([s.move_description for s in path])\n",
    "        possible_moves_str = \"\\n\".join([f\"{i}: {s.move_description}\" for i, s in enumerate(possible_next_states)])\n",
    "        \n",
    "        # For simplicity and to show breadth, we can explore multiple moves.\n",
    "        # A more advanced ToT might use the LLM to pick only the single best one.\n",
    "        # Here, we'll let all valid moves branch out to demonstrate the tree structure.\n",
    "        for next_state in possible_next_states:\n",
    "            new_paths.append(path + [next_state])\n",
    "\n",
    "    console.print(f\"[cyan]Expanded to {len(new_paths)} potential paths.[/cyan]\")\n",
    "    return {\"active_paths\": new_paths}\n",
    "\n",
    "def prune_paths(state: ToTState) -> Dict[str, Any]:\n",
    "    \"\"\"The 'State Evaluator'. Prunes paths that are invalid or contain cycles.\"\"\"\n",
    "    console.print(\"--- Pruning Paths ---\")\n",
    "    pruned_paths = []\n",
    "    for path in state['active_paths']:\n",
    "        # Check for cycles: if the last state has appeared before in the path\n",
    "        if path[-1] in path[:-1]:\n",
    "            continue # Found a cycle, prune this path\n",
    "        \n",
    "        # The get_possible_moves function already ensures validity, but this is a good place for extra checks.\n",
    "        pruned_paths.append(path)\n",
    "        \n",
    "    console.print(f\"[green]Pruned down to {len(pruned_paths)} valid, non-cyclical paths.[/green]\")\n",
    "    return {\"active_paths\": pruned_paths}\n",
    "\n",
    "# Conditional Node\n",
    "def check_for_solution(state: ToTState) -> str:\n",
    "    \"\"\"Checks if any path has reached the goal and routes execution.\"\"\"\n",
    "    for path in state['active_paths']:\n",
    "        if path[-1].is_goal():\n",
    "            console.print(\"[bold green]Solution Found![/bold green]\")\n",
    "            # Side effect: update the solution in the state. LangGraph copies this out.\n",
    "            state['solution'] = path\n",
    "            return \"solution_found\"\n",
    "    return \"continue_search\"\n",
    "\n",
    "# Build the graph\n",
    "workflow = StateGraph(ToTState)\n",
    "\n",
    "workflow.add_node(\"initialize\", initialize_search)\n",
    "workflow.add_node(\"expand\", expand_paths)\n",
    "workflow.add_node(\"prune\", prune_paths)\n",
    "\n",
    "workflow.set_entry_point(\"initialize\")\n",
    "workflow.add_edge(\"initialize\", \"expand\")\n",
    "workflow.add_edge(\"expand\", \"prune\")\n",
    "\n",
    "workflow.add_conditional_edges(\n",
    "    \"prune\",\n",
    "    check_for_solution,\n",
    "    {\n",
    "        \"solution_found\": END,\n",
    "        \"continue_search\": \"expand\"\n",
    "    }\n",
    ")\n",
    "\n",
    "tot_agent = workflow.compile()\n",
    "print(\"Tree-of-Thoughts agent graph compiled successfully.\")"
   ]
  },
  {
   "cell_type": "markdown",
   "id": "phase3-title",
   "metadata": {},
   "source": [
    "## Phase 3: Demonstration & Analysis\n",
    "\n",
    "Now, let's run our ToT agent on the puzzle. We'll compare its systematic approach with a simple, single-pass Chain-of-Thought request to highlight the differences in robustness."
   ]
  },
  {
   "cell_type": "code",
   "execution_count": 5,
   "id": "demo-code",
   "metadata": {},
   "outputs": [
    {
     "data": {
      "text/plain": [
       "--- 🌳 Running Tree-of-Thoughts Agent ---\n"
      ]
     },
     "output_type": "display_data",
     "metadata": {}
    },
    {
     "name": "stdout",
     "output_type": "stream",
     "text": [
      "--- Expanding Paths ---\n",
      "Expanded to 1 potential paths.\n",
      "--- Pruning Paths ---\n",
      "Pruned down to 1 valid, non-cyclical paths.\n",
      "--- Expanding Paths ---\n",
      "Expanded to 2 potential paths.\n",
      "--- Pruning Paths ---\n",
      "Pruned down to 2 valid, non-cyclical paths.\n",
      "--- Expanding Paths ---\n",
      "Expanded to 4 potential paths.\n",
      "--- Pruning Paths ---\n",
      "Pruned down to 4 valid, non-cyclical paths.\n",
      "--- Expanding Paths ---\n",
      "Expanded to 7 potential paths.\n",
      "--- Pruning Paths ---\n",
      "Pruned down to 7 valid, non-cyclical paths.\n",
      "--- Expanding Paths ---\n",
      "Expanded to 12 potential paths.\n",
      "--- Pruning Paths ---\n",
      "Pruned down to 12 valid, non-cyclical paths.\n",
      "--- Expanding Paths ---\n",
      "Expanded to 20 potential paths.\n",
      "--- Pruning Paths ---\n",
      "Pruned down to 20 valid, non-cyclical paths.\n",
      "--- Expanding Paths ---\n",
      "Expanded to 32 potential paths.\n",
      "--- Pruning Paths ---\n",
      "Pruned down to 32 valid, non-cyclical paths.\n",
      "Solution Found!\n"
     ]
    },
    {
     "data": {
      "text/plain": [
       "\n",
       "--- ✅ ToT Agent Solution ---\n"
      ]
     },
     "output_type": "display_data",
     "metadata": {}
    },
    {
     "data": {
      "text/plain": [
       "Wolf, Goat, and Cabbage Solution Path\n",
       "├── 1. Initial state.\n",
       "├── 2. Move goat to the right bank.\n",
       "├── 3. Move the boat empty to the left bank.\n",
       "├── 4. Move wolf to the right bank.\n",
       "├── 5. Move goat to the left bank.\n",
       "├── 6. Move cabbage to the right bank.\n",
       "├── 7. Move the boat empty to the left bank.\n",
       "└── 8. Move goat to the right bank.\n"
      ]
     },
     "output_type": "display_data",
     "metadata": {}
    },
    {
     "data": {
      "text/plain": [
       "\n",
       "--- 🤔 Running Simple Chain-of-Thought Agent ---\n"
      ]
     },
     "output_type": "display_data",
     "metadata": {}
    },
    {
     "data": {
      "text/markdown": [
       "Here's a step-by-step solution to the Wolf, Goat, and Cabbage puzzle:\n",
       "\n",
       "1.  **Take the Goat across:** First, take the goat across the river to the right bank. You leave the wolf and cabbage behind on the left bank.\n",
       "2.  **Return empty:** Return to the left bank alone.\n",
       "3.  **Take the Wolf across:** Now, take the wolf across to the right bank. \n",
       "4.  **Bring the Goat back:** *This is the key step.* Leave the wolf on the right bank and bring the goat back with you to the left bank.\n",
       "5.  **Take the Cabbage across:** Leave the goat on the left bank and take the cabbage across to the right bank. Now the wolf and cabbage are on the right bank.\n",
       "6.  **Return empty:** Return to the left bank alone.\n",
       "7.  **Take the Goat across:** Finally, take the goat across to the right bank.\n",
       "\n",
       "Now, the wolf, goat, and cabbage are all safely on the right bank, and the puzzle is solved."
      ],
      "text/plain": [
       "Here's a step-by-step solution to the Wolf, Goat, and Cabbage puzzle:\n",
       "\n",
       "1.  **Take the Goat across:** First, take the goat across the river to the right bank. You leave the wolf and cabbage behind on the left bank.\n",
       "2.  **Return empty:** Return to the left bank alone.\n",
       "3.  **Take the Wolf across:** Now, take the wolf across to the right bank. \n",
       "4.  **Bring the Goat back:** *This is the key step.* Leave the wolf on the right bank and bring the goat back with you to the left bank.\n",
       "5.  **Take the Cabbage across:** Leave the goat on the left bank and take the cabbage across to the right bank. Now the wolf and cabbage are on the right bank.\n",
      "6.  **Return empty:** Return to the left bank alone.\n",
       "7.  **Take the Goat across:** Finally, take the goat across to the right bank.\n",
       "\n",
       "Now, the wolf, goat, and cabbage are all safely on the right bank, and the puzzle is solved."
      ]
     },
     "output_type": "display_data",
     "metadata": {}
    }
   ],
   "source": [
    "problem = \"A farmer wants to cross a river with a wolf, a goat, and a cabbage. The boat can only carry the farmer and one other item. The farmer cannot leave the wolf alone with the goat, nor the goat alone with the cabbage. How can the farmer get everyone across safely?\"\n",
    "\n",
    "console.print(\"--- 🌳 Running Tree-of-Thoughts Agent ---\")\n",
    "# The recursion limit prevents infinite loops in our graph\n",
    "config = {\"recursion_limit\": 15}\n",
    "final_state = tot_agent.invoke({\"problem_description\": problem}, config=config)\n",
    "\n",
    "console.print(\"\\n--- ✅ ToT Agent Solution ---\")\n",
    "if final_state.get('solution'):\n",
    "    solution_path = final_state['solution']\n",
    "    # Use rich.Tree for a nice visual output\n",
    "    tree = Tree(\"[bold magenta]Wolf, Goat, and Cabbage Solution Path[/bold magenta]\")\n",
    "    for i, state in enumerate(solution_path):\n",
    "        tree.add(f\"[green]{i+1}.[/green] {state.move_description}\")\n",
    "    console.print(tree)\n",
    "else:\n",
    "    console.print(\"[bold red]No solution found within the step limit.[/bold red]\")\n",
    "\n",
    "console.print(\"\\n--- 🤔 Running Simple Chain-of-Thought Agent ---\")\n",
    "cot_prompt = ChatPromptTemplate.from_messages([\n",
    "    (\"system\", \"You are a world-class logic puzzle solver. Provide a step-by-step solution to the user's puzzle.\"),\n",
    "    (\"human\", \"{problem}\")\n",
    "])\n",
    "cot_chain = cot_prompt | llm\n",
    "cot_result = cot_chain.invoke({\"problem\": problem}).content\n",
    "console.print(Markdown(cot_result))"
   ]
  },
  {
   "cell_type": "markdown",
   "id": "analysis-markdown",
   "metadata": {},
   "source": [
    "### Analysis of the Results\n",
    "\n",
    "The difference between the two approaches is profound:\n",
    "\n",
    "- **Chain-of-Thought (CoT):** This approach relies on the LLM's pre-trained knowledge to recall the solution. For a classic, well-known problem like this, a powerful LLM can often produce the correct answer in one go. However, if it makes a single mistake, it has no mechanism to self-correct. For a novel or more complex problem, the likelihood of failure is much higher. Its correctness is a matter of recall, not verifiable reasoning.\n",
    "\n",
    "- **Tree-of-Thoughts (ToT):** This agent *discovered* the solution through systematic, verifiable search. It didn't just recall an answer; it built one. We can see the process in the logs: expanding paths, then pruning ones that hit dead ends or cycles. Even if the LLM guiding the expansion made a suboptimal choice on one branch, the agent could continue exploring other, more promising branches. This method is far more robust and trustworthy because its final solution is guaranteed to be valid according to the rules of the environment we defined.\n",
    "\n",
    "The ToT agent's success is not based on luck or memorization, but on the soundness of its search algorithm. This makes it a vastly superior approach for tasks that demand high reliability and planning."
   ]
  },
  {
   "cell_type": "markdown",
   "id": "conclusion",
   "metadata": {},
   "source": [
    "## Conclusion\n",
    "\n",
    "In this notebook, we implemented a **Tree-of-Thoughts** agent to solve a classic logic puzzle. We demonstrated that by transforming a problem into a state space and systematically searching through it, an agent can achieve a level of robustness and accuracy that is impossible with simple, single-pass reasoning methods.\n",
    "\n",
    "The core components of ToT—**thought generation (expansion)**, **state evaluation (pruning)**, and **search**—create a powerful framework for tackling complex planning and reasoning tasks. While it comes with a higher computational cost, the trade-off is a significant increase in reliability and problem-solving capability. This architecture is a key step toward building agents that can reason deliberately and find solutions to challenging, multi-step problems."
   ]
  }
 ],
 "metadata": {
  "kernelspec": {
   "display_name": "Python 3 (ipykernel)",
   "language": "python",
   "name": "python3"
  },
  "language_info": {
   "codemirror_mode": {
    "name": "ipython",
    "version": 3
   },
   "file_extension": ".py",
   "mimetype": "text/x-python",
   "name": "python",
   "nbconvert_exporter": "python",
   "pygments_lexer": "ipython3",
   "version": "3.10.13"
  }
 },
 "nbformat": 4,
 "nbformat_minor": 5
}