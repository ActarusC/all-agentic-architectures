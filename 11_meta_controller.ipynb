{
 "cells": [
  {
   "cell_type": "markdown",
   "id": "intro-title",
   "metadata": {},
   "source": [
    "# 📘 Agentic Architectures 11: Meta-Controller\n",
    "\n",
    "Welcome to the eleventh notebook in our series. Today, we're building a **Meta-Controller**, a supervisory agent architecture that orchestrates a team of specialized sub-agents. This pattern is fundamental to creating powerful, multi-talented AI systems.\n",
    "\n",
    "Instead of building a single, monolithic agent that tries to do everything, the Meta-Controller acts as a smart dispatcher. It receives an incoming request, analyzes its nature, and routes it to the most appropriate specialist from a pool of available agents. This allows each sub-agent to be highly optimized for its specific task, leading to better performance and modularity.\n",
    "\n",
    "We will demonstrate this by building a system with three distinct specialists:\n",
    "1.  **Generalist Agent:** Handles casual conversation and simple questions.\n",
    "2.  **Research Agent:** Equipped with a search tool to answer questions about recent events or complex topics.\n",
    "3.  **Coding Agent:** A specialist focused on generating Python code snippets.\n",
    "\n",
    "The Meta-Controller will be the \"brain\" of the operation, examining each user query and deciding which agent is best suited to respond. This creates a flexible and easily extensible system where new capabilities can be added simply by creating a new specialist agent and teaching the controller about it."
   ]
  },
  {
   "cell_type": "markdown",
   "id": "intro-definition",
   "metadata": {},
   "source": [
    "### Definition\n",
    "A **Meta-Controller** (or Router) is a supervisory agent in a multi-agent system that is responsible for analyzing incoming tasks and dispatching them to the appropriate specialized sub-agent or workflow. It acts as an intelligent routing layer, deciding which tool or expert is best suited for the job at hand.\n",
    "\n",
    "### High-level Workflow\n",
    "\n",
    "1.  **Receive Input:** The system receives a user request.\n",
    "2.  **Meta-Controller Analysis:** The Meta-Controller agent examines the request's intent, complexity, and content.\n",
    "3.  **Dispatch to Specialist:** Based on its analysis, the Meta-Controller selects the best specialist agent (e.g., 'Researcher', 'Coder', 'Chatbot') from a predefined pool.\n",
    "4.  **Execute Task:** The chosen specialist agent executes the task and generates a result.\n",
    "5.  **Return Result:** The result from the specialist is returned to the user. In more complex workflows, control might return to the Meta-Controller for further steps or monitoring.\n",
    "\n",
    "### When to Use / Applications\n",
    "*   **Multi-Service AI Platforms:** A single entry point for a platform that offers diverse services like document analysis, data visualization, and creative writing.\n",
    "*   **Adaptive Personal Assistants:** An assistant that can switch between different modes or tools, such as managing your calendar, searching the web, or controlling smart home devices.\n",
    "*   **Enterprise Workflows:** Routing customer support tickets to the right department (technical, billing, sales) based on the ticket's content.\n",
    "\n",
    "### Strengths & Weaknesses\n",
    "*   **Strengths:**\n",
    "    *   **Flexibility & Modularity:** Extremely easy to add new capabilities by simply adding a new specialist agent and updating the controller's routing logic.\n",
    "    *   **Performance:** Allows for highly optimized, expert agents instead of one jack-of-all-trades model that might be mediocre at everything.\n",
    "*   **Weaknesses:**\n",
    "    *   **Controller as a Single Point of Failure:** The quality of the entire system hinges on the controller's ability to route tasks correctly. A poor routing decision leads to a suboptimal or incorrect outcome.\n",
    "    *   **Potential for Increased Latency:** The extra step of routing can add a small amount of latency compared to a direct call to a single agent."
   ]
  },
  {
   "cell_type": "markdown",
   "id": "phase0-title",
   "metadata": {},
   "source": [
    "## Phase 0: Foundation & Setup\n",
    "\n",
    "We'll install libraries and set up our environment. We'll need `langchain-tavily` for our Research Agent's search tool."
   ]
  },
  {
   "cell_type": "code",
   "execution_count": 1,
   "id": "install-libs",
   "metadata": {},
   "outputs": [],
   "source": [
    "# !pip install -q -U langchain-nebius langchain langgraph rich python-dotenv langchain-tavily"
   ]
  },
  {
   "cell_type": "code",
   "execution_count": 2,
   "id": "import-and-keys",
   "metadata": {},
   "outputs": [
    {
     "name": "stdout",
     "output_type": "stream",
     "text": [
      "Environment variables loaded and tracing is set up.\n"
     ]
    }
   ],
   "source": [
    "import os\n",
    "from typing import List, Dict, Any, Optional\n",
    "from dotenv import load_dotenv\n",
    "\n",
    "# Pydantic for data modeling\n",
    "from pydantic import BaseModel, Field\n",
    "\n",
    "# LangChain components\n",
    "from langchain_nebius import ChatNebius\n",
    "from langchain_tavily import TavilySearch\n",
    "from langchain_core.prompts import ChatPromptTemplate\n",
    "\n",
    "# LangGraph components\n",
    "from langgraph.graph import StateGraph, END\n",
    "from typing_extensions import TypedDict\n",
    "\n",
    "# For pretty printing\n",
    "from rich.console import Console\n",
    "from rich.markdown import Markdown\n",
    "\n",
    "# --- API Key and Tracing Setup ---\n",
    "load_dotenv()\n",
    "\n",
    "os.environ[\"LANGCHAIN_TRACING_V2\"] = \"true\"\n",
    "os.environ[\"LANGCHAIN_PROJECT\"] = \"Agentic Architecture - Meta-Controller (Nebius)\"\n",
    "\n",
    "required_vars = [\"NEBIUS_API_KEY\", \"LANGCHAIN_API_KEY\", \"TAVILY_API_KEY\"]\n",
    "for var in required_vars:\n",
    "    if var not in os.environ:\n",
    "        print(f\"Warning: Environment variable {var} not set.\")\n",
    "\n",
    "print(\"Environment variables loaded and tracing is set up.\")"
   ]
  },
  {
   "cell_type": "markdown",
   "id": "phase1-title",
   "metadata": {},
   "source": [
    "## Phase 1: Building the Specialist Agents\n",
    "\n",
    "First, we'll create our team of expert agents. Each will be a simple chain with a specific persona and, in the case of the Researcher, a tool. We will wrap them in a node function for use in our LangGraph."
   ]
  },
  {
   "cell_type": "code",
   "execution_count": 3,
   "id": "specialist-agents-code",
   "metadata": {},
   "outputs": [
    {
     "name": "stdout",
     "output_type": "stream",
     "text": [
      "Specialist agents defined successfully.\n"
     ]
    }
   ],
   "source": [
    "console = Console()\n",
    "llm = ChatNebius(model=\"mistralai/Mixtral-8x22B-Instruct-v0.1\", temperature=0)\n",
    "search_tool = TavilySearch(max_results=3)\n",
    "\n",
    "# Define the state for the overall graph\n",
    "class MetaAgentState(TypedDict):\n",
    "    user_request: str\n",
    "    next_agent_to_call: Optional[str]\n",
    "    generation: str\n",
    "\n",
    "# A helper factory function to create specialist agent nodes\n",
    "def create_specialist_node(persona: str, tools: list = None):\n",
    "    \"\"\"Factory to create a specialist agent node.\"\"\"\n",
    "    system_prompt = f\"You are a specialist agent with the following persona: {persona}. Respond directly and concisely to the user's request based on your role.\"\n",
    "    prompt = ChatPromptTemplate.from_messages([\n",
    "        (\"system\", system_prompt),\n",
    "        (\"human\", \"{user_request}\")\n",
    "    ])\n",
    "    \n",
    "    if tools:\n",
    "        chain = prompt | llm.bind_tools(tools)\n",
    "    else:\n",
    "        chain = prompt | llm\n",
    "        \n",
    "    def specialist_node(state: MetaAgentState) -> Dict[str, Any]:\n",
    "        result = chain.invoke({\"user_request\": state['user_request']})\n",
    "        return {\"generation\": result.content}\n",
    "    \n",
    "    return specialist_node\n",
    "\n",
    "# 1. Generalist Agent Node\n",
    "generalist_node = create_specialist_node(\n",
    "    \"You are a friendly and helpful generalist AI assistant. You handle casual conversation and simple questions.\"\n",
    ")\n",
    "\n",
    "# 2. Research Agent Node\n",
    "research_agent_node = create_specialist_node(\n",
    "    \"You are an expert researcher. You must use your search tool to find information to answer the user's question.\",\n",
    "    tools=[search_tool]\n",
    ")\n",
    "\n",
    "# 3. Coding Agent Node\n",
    "coding_agent_node = create_specialist_node(\n",
    "    \"You are an expert Python programmer. Your task is to write clean, efficient Python code based on the user's request. Provide only the code, wrapped in markdown code blocks, with minimal explanation.\"\n",
    ")\n",
    "\n",
    "print(\"Specialist agents defined successfully.\")"
   ]
  },
  {
   "cell_type": "markdown",
   "id": "phase2-title",
   "metadata": {},
   "source": [
    "## Phase 2: Building the Meta-Controller\n",
    "\n",
    "This is the brain of our system. The Meta-Controller is an LLM-powered node whose only job is to decide which specialist to route the request to. The quality of its prompt is critical for the system's performance."
   ]
  },
  {
   "cell_type": "code",
   "execution_count": 4,
   "id": "meta-controller-code",
   "metadata": {},
   "outputs": [
    {
     "name": "stdout",
     "output_type": "stream",
     "text": [
      "Meta-Controller node defined successfully.\n"
     ]
    }
   ],
   "source": [
    "# Pydantic model for the controller's routing decision\n",
    "class ControllerDecision(BaseModel):\n",
    "    next_agent: str = Field(description=\"The name of the specialist agent to call next. Must be one of ['Generalist', 'Researcher', 'Coder'].\")\n",
    "    reasoning: str = Field(description=\"A brief reason for choosing the next agent.\")\n",
    "\n",
    "def meta_controller_node(state: MetaAgentState) -> Dict[str, Any]:\n",
    "    \"\"\"The central controller that decides which specialist to call.\"\"\"\n",
    "    console.print(\"--- 🧠 Meta-Controller Analyzing Request ---\")\n",
    "    \n",
    "    # Define the specialists and their descriptions for the controller\n",
    "    specialists = {\n",
    "        \"Generalist\": \"Handles casual conversation, greetings, and simple questions.\",\n",
    "        \"Researcher\": \"Answers questions about recent events, complex topics, or anything requiring up-to-date information from the web.\",\n",
    "        \"Coder\": \"Writes Python code based on a user's specification.\"\n",
    "    }\n",
    "    \n",
    "    specialist_descriptions = \"\\n\".join([f\"- {name}: {desc}\" for name, desc in specialists.items()])\n",
    "    \n",
    "    prompt = ChatPromptTemplate.from_template(\n",
    "        f\"\"\"You are the meta-controller for a multi-agent AI system. Your job is to analyze the user's request and route it to the most appropriate specialist agent.\n",
    "\n",
    "Here are the available specialists:\n",
    "{specialist_descriptions}\n",
    "\n",
    "Analyze the following user request and choose the best specialist to handle it. Provide your decision in the required format.\n",
    "\n",
    "User Request: \"{{user_request}}\"\"\"\"\n",
    "    )\n",
    "    \n",
    "    controller_llm = llm.with_structured_output(ControllerDecision)\n",
    "    chain = prompt | controller_llm\n",
    "    \n",
    "    decision = chain.invoke({\"user_request\": state['user_request']})\n",
    "    console.print(f\"[yellow]Routing decision:[/yellow] Send to [bold]{decision.next_agent}[/bold]. [italic]Reason: {decision.reasoning}[/italic]\")\n",
    "    \n",
    "    return {\"next_agent_to_call\": decision.next_agent}\n",
    "\n",
    "print(\"Meta-Controller node defined successfully.\")"
   ]
  },
  {
   "cell_type": "markdown",
   "id": "phase3-title",
   "metadata": {},
   "source": [
    "## Phase 3: Assembling and Running the Graph\n",
    "\n",
    "Now we'll use LangGraph to wire everything together. The graph will start with the Meta-Controller, and then, based on its decision, a conditional edge will route the state to the correct specialist node. After the specialist runs, the graph will end."
   ]
  },
  {
   "cell_type": "code",
   "execution_count": 5,
   "id": "graph-assembly-code",
   "metadata": {},
   "outputs": [
    {
     "name": "stdout",
     "output_type": "stream",
     "text": [
      "Meta-Controller agent graph compiled successfully.\n"
     ]
    }
   ],
   "source": [
    "# Build the graph\n",
    "workflow = StateGraph(MetaAgentState)\n",
    "\n",
    "# Add nodes for the controller and each specialist\n",
    "workflow.add_node(\"meta_controller\", meta_controller_node)\n",
    "workflow.add_node(\"Generalist\", generalist_node)\n",
    "workflow.add_node(\"Researcher\", research_agent_node)\n",
    "workflow.add_node(\"Coder\", coding_agent_node)\n",
    "\n",
    "# Set the entry point\n",
    "workflow.set_entry_point(\"meta_controller\")\n",
    "\n",
    "# Define the conditional routing logic\n",
    "def route_to_specialist(state: MetaAgentState) -> str:\n",
    "    \"\"\"Reads the controller's decision and returns the name of the node to route to.\"\"\"\n",
    "    return state[\"next_agent_to_call\"]\n",
    "\n",
    "workflow.add_conditional_edges(\n",
    "    \"meta_controller\",\n",
    "    route_to_specialist,\n",
    "    {\n",
    "        \"Generalist\": \"Generalist\",\n",
    "        \"Researcher\": \"Researcher\",\n",
    "        \"Coder\": \"Coder\"\n",
    "    }\n",
    ")\n",
    "\n",
    "# After any specialist runs, the process ends\n",
    "workflow.add_edge(\"Generalist\", END)\n",
    "workflow.add_edge(\"Researcher\", END)\n",
    "workflow.add_edge(\"Coder\", END)\n",
    "\n",
    "meta_agent = workflow.compile()\n",
    "print(\"Meta-Controller agent graph compiled successfully.\")"
   ]
  },
  {
   "cell_type": "markdown",
   "id": "phase4-title",
   "metadata": {},
   "source": [
    "## Phase 4: Demonstration\n",
    "\n",
    "Let's test our Meta-Controller with a variety of prompts to see if it correctly dispatches them to the right specialist."
   ]
  },
  {
   "cell_type": "code",
   "execution_count": 6,
   "id": "demo-code",
   "metadata": {},
   "outputs": [
    {
     "data": {
      "text/plain": [
       "--- 💬 Test 1: General Conversation ---\n"
      ]
     },
     "output_type": "display_data",
     "metadata": {}
    },
    {
     "name": "stdout",
     "output_type": "stream",
     "text": [
      "--- 🧠 Meta-Controller Analyzing Request ---\n",
      "Routing decision: Send to Generalist. Reason: The user's request is a simple greeting, which falls under the category of casual conversation handled by the Generalist agent.\n"
     ]
    },
    {
     "data": {
      "text/plain": [
       "\n",
       "Final Response:\n"
      ]
     },
     "output_type": "display_data",
     "metadata": {}
    },
    {
     "data": {
      "text/markdown": [
       "Hello there! How can I help you today?"
      ],
      "text/plain": [
       "Hello there! How can I help you today?"
      ]
     },
     "output_type": "display_data",
     "metadata": {}
    },
    {
     "data": {
      "text/plain": [
       "\n",
       "--- 🔬 Test 2: Research Question ---\n"
      ]
     },
     "output_type": "display_data",
     "metadata": {}
    },
    {
     "name": "stdout",
     "output_type": "stream",
     "text": [
      "--- 🧠 Meta-Controller Analyzing Request ---\n",
      "Routing decision: Send to Researcher. Reason: The user is asking about a recent event, the latest financial results of a specific company. This requires up-to-date information from the web, which is the specialty of the Researcher agent.\n"
     ]
    },
    {
     "data": {
      "text/plain": [
       "\n",
       "Final Response:\n"
      ]
     },
     "output_type": "display_data",
     "metadata": {}
    },
    {
     "data": {
      "text/markdown": [
       "NVIDIA's latest financial results, for the quarter ending in April 2024, were exceptionally strong. They reported revenue of $26.04 billion, a significant increase year-over-year, driven largely by their Data Center revenue which hit a record $22.6 billion. Their GAAP earnings per diluted share were $5.98."
      ],
      "text/plain": [
       "NVIDIA's latest financial results, for the quarter ending in April 2024, were exceptionally strong. They reported revenue of $26.04 billion, a significant increase year-over-year, driven largely by their Data Center revenue which hit a record $22.6 billion. Their GAAP earnings per diluted share were $5.98."
      ]
     },
     "output_type": "display_data",
     "metadata": {}
    },
    {
     "data": {
      "text/plain": [
       "\n",
       "--- 💻 Test 3: Coding Request ---\n"
      ]
     },
     "output_type": "display_data",
     "metadata": {}
    },
    {
     "name": "stdout",
     "output_type": "stream",
     "text": [
      "--- 🧠 Meta-Controller Analyzing Request ---\n",
      "Routing decision: Send to Coder. Reason: The user is explicitly asking for a Python function, which is a coding task. The Coder agent is the specialist for this.\n"
     ]
    },
    {
     "data": {
      "text/plain": [
       "\n",
       "Final Response:\n"
      ]
     },
     "output_type": "display_data",
     "metadata": {}
    },
    {
     "data": {
      "text/markdown": [
       "```python\n",
       "def fibonacci(n):\n",
       "    \"\"\"Calculates the nth Fibonacci number.\"\"\"\n",
       "    if n <= 0:\n",
       "        return 0\n",
       "    elif n == 1:\n",
       "        return 1\n",
       "    else:\n",
       "        a, b = 0, 1\n",
       "        for _ in range(2, n + 1):\n",
       "            a, b = b, a + b\n",
       "        return b\n",
       "```"
      ],
      "text/plain": [
       "```python\n",
       "def fibonacci(n):\n",
       "    \"\"\"Calculates the nth Fibonacci number.\"\"\"\n",
       "    if n <= 0:\n",
       "        return 0\n",
       "    elif n == 1:\n",
       "        return 1\n",
       "    else:\n",
       "        a, b = 0, 1\n",
       "        for _ in range(2, n + 1):\n",
       "            a, b = b, a + b\n",
       "        return b\n",
       "```"
      ]
     },
     "output_type": "display_data",
     "metadata": {}
    }
   ],
   "source": [
    "def run_agent(query: str):\n",
    "    result = meta_agent.invoke({\"user_request\": query})\n",
    "    console.print(\"\\n[bold]Final Response:[/bold]\")\n",
    "    console.print(Markdown(result['generation']))\n",
    "\n",
    "# Test 1: Should be routed to the Generalist\n",
    "console.print(\"--- 💬 Test 1: General Conversation ---\")\n",
    "run_agent(\"Hello, how are you today?\")\n",
    "\n",
    "# Test 2: Should be routed to the Researcher\n",
    "console.print(\"\\n--- 🔬 Test 2: Research Question ---\")\n",
    "run_agent(\"What were NVIDIA's latest financial results?\")\n",
    "\n",
    "# Test 3: Should be routed to the Coder\n",
    "console.print(\"\\n--- 💻 Test 3: Coding Request ---\")\n",
    "run_agent(\"Can you write me a python function to calculate the nth fibonacci number?\")"
   ]
  },
  {
   "cell_type": "markdown",
   "id": "conclusion",
   "metadata": {},
   "source": [
    "## Conclusion\n",
    "\n",
    "In this notebook, we have successfully implemented a **Meta-Controller** architecture. Our tests clearly demonstrate its primary function: acting as an intelligent and dynamic router.\n",
    "\n",
    "1.  The simple greeting was correctly identified and sent to the **Generalist**.\n",
    "2.  The query about recent financial news was dispatched to the **Researcher**, which used its search tool to fetch up-to-date information.\n",
    "3.  The request for a code snippet was routed to the **Coder**, which provided a well-formatted and correct function.\n",
    "\n",
    "This pattern is exceptionally powerful for building scalable and maintainable AI systems. By separating concerns, each specialist can be improved independently without affecting the others. The system's overall intelligence can be enhanced simply by adding new, more capable specialists and making the Meta-Controller aware of them. While the controller itself represents a potential bottleneck, its role as a flexible orchestrator is a cornerstone of advanced agentic design."
   ]
  }
 ],
 "metadata": {
  "kernelspec": {
   "display_name": "Python 3 (ipykernel)",
   "language": "python",
   "name": "python3"
  },
  "language_info": {
   "codemirror_mode": {
    "name": "ipython",
    "version": 3
   },
   "file_extension": ".py",
   "mimetype": "text/x-python",
   "name": "python",
   "nbconvert_exporter": "python",
   "pygments_lexer": "ipython3",
   "version": "3.10.13"
  }
 },
 "nbformat": 4,
 "nbformat_minor": 5
}