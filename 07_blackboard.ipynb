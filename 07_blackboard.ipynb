{
 "cells": [
  {
   "cell_type": "markdown",
   "id": "intro-title",
   "metadata": {},
   "source": [
    "# 📘 Agentic Architectures 7: Blackboard Systems\n",
    "\n",
    "Welcome to the seventh notebook in our series on agentic architectures. Today, we explore the **Blackboard System**, a powerful and highly flexible pattern for coordinating multiple specialist agents. This architecture is modeled on the idea of a group of human experts collaborating around a physical blackboard to solve a complex problem.\n",
    "\n",
    "Instead of a rigid, predefined sequence of agent handoffs, a Blackboard system features a central, shared data store (the 'blackboard') where agents can read the current state of the problem and write their contributions. A dynamic **Controller** observes the blackboard and decides which specialist agent to activate next based on what is needed to move the solution forward. This allows for an opportunistic and emergent workflow.\n",
    "\n",
    "To highlight its unique advantages, we will compare it to the **sequential multi-agent system** we built previously. We will present both systems with a complex financial query where the optimal path isn't a simple A → B → C sequence. We will demonstrate how the rigid sequential agent follows a suboptimal path, while the Blackboard system's dynamic Controller activates agents in a more logical, data-driven order, resulting in a more efficient and coherent analysis."
   ]
  },
  {
   "cell_type": "markdown",
   "id": "intro-definition",
   "metadata": {},
   "source": [
    "### Definition\n",
    "A **Blackboard System** is a multi-agent architecture where multiple specialist agents collaborate by reading from and writing to a shared, central data repository called the 'blackboard'. A controller or scheduler dynamically determines which agent should act next based on the evolving state of the solution on the blackboard.\n",
    "\n",
    "### High-level Workflow\n",
    "\n",
    "1.  **Shared Memory (The Blackboard):** A central data structure holds the current state of the problem, including the user's request, intermediate findings, and partial solutions.\n",
    "2.  **Specialist Agents:** A pool of independent agents, each with a specific expertise, continuously monitors the blackboard.\n",
    "3.  **Controller:** A central 'controller' agent also monitors the blackboard. Its job is to analyze the current state and decide which specialist agent is best equipped to make the next contribution.\n",
    "4.  **Opportunistic Activation:** The Controller activates the chosen agent. The agent reads the relevant data from the blackboard, performs its task, and writes its findings back to the blackboard.\n",
    "5.  **Iteration:** The process repeats, with the Controller activating different agents in a dynamic sequence, until it determines that the solution on the blackboard is complete.\n",
    "\n",
    "### When to Use / Applications\n",
    "*   **Complex, Ill-Structured Problems:** Ideal for problems where the solution path is not known in advance and requires an emergent, opportunistic strategy (e.g., complex diagnostics, scientific discovery).\n",
    "*   **Multi-Modal Systems:** A great way to coordinate agents that work with different data types (text, images, code), as they can all post their findings to the shared blackboard.\n",
    "*   **Dynamic Sense-Making:** Situations that require synthesizing information from many disparate, asynchronous sources.\n",
    "\n",
    "### Strengths & Weaknesses\n",
    "*   **Strengths:**\n",
    "    *   **Flexibility & Adaptability:** The workflow is not hardcoded; it emerges based on the problem, making the system highly adaptive.\n",
    "    *   **Modularity:** It's very easy to add or remove specialist agents without re-architecting the entire system.\n",
    "*   **Weaknesses:**\n",
    "    *   **Controller Complexity:** The intelligence of the entire system depends heavily on the sophistication of the Controller. A naive Controller can lead to inefficient or looping behavior.\n",
    "    *   **Debugging Challenges:** The non-linear, emergent nature of the workflow can sometimes make it harder to trace and debug than a simple sequential process."
   ]
  },
  {
   "cell_type": "markdown",
   "id": "phase0-title",
   "metadata": {},
   "source": [
    "## Phase 0: Foundation & Setup\n",
    "\n",
    "We'll begin with our standard setup process: installing libraries and configuring API keys for Nebius, LangSmith, and Tavily."
   ]
  },
  {
   "cell_type": "markdown",
   "id": "setup-what",
   "metadata": {},
   "source": [
    "### Step 0.1: Installing Core Libraries\n",
    "\n",
    "**What we are going to do:**\n",
    "We will install our standard suite of libraries for this project series."
   ]
  },
  {
   "cell_type": "code",
   "execution_count": 1,
   "id": "install-libs",
   "metadata": {},
   "outputs": [],
   "source": [
    "# !pip install -q -U langchain-nebius langchain langgraph rich python-dotenv langchain-tavily"
   ]
  },
  {
   "cell_type": "markdown",
   "id": "imports-what",
   "metadata": {},
   "source": [
    "### Step 0.2: Importing Libraries and Setting Up Keys\n",
    "\n",
    "**What we are going to do:**\n",
    "We will import the necessary modules and load our API keys from a `.env` file.\n",
    "\n",
    "**Action Required:** Create a `.env` file in this directory with your keys:\n",
    "```\n",
    "NEBIUS_API_KEY=\"your_nebius_api_key_here\"\n",
    "LANGCHAIN_API_KEY=\"your_langsmith_api_key_here\"\n",
    "TAVILY_API_KEY=\"your_tavily_api_key_here\"\n",
    "```"
   ]
  },
  {
   "cell_type": "code",
   "execution_count": 2,
   "id": "import-and-keys",
   "metadata": {},
   "outputs": [
    {
     "name": "stdout",
     "output_type": "stream",
     "text": [
      "Environment variables loaded and tracing is set up.\n"
     ]
    }
   ],
   "source": [
    "import os\n",
    "from typing import List, Annotated, TypedDict, Optional\n",
    "from dotenv import load_dotenv\n",
    "\n",
    "# LangChain components\n",
    "from langchain_nebius import ChatNebius\n",
    "from langchain_tavily import TavilySearch\n",
    "from langchain_core.messages import BaseMessage, SystemMessage, HumanMessage\n",
    "from pydantic import BaseModel, Field\n",
    "from langchain_core.prompts import ChatPromptTemplate\n",
    "\n",
    "# LangGraph components\n",
    "from langgraph.graph import StateGraph, END\n",
    "\n",
    "# For pretty printing\n",
    "from rich.console import Console\n",
    "from rich.markdown import Markdown\n",
    "\n",
    "# --- API Key and Tracing Setup ---\n",
    "load_dotenv()\n",
    "\n",
    "os.environ[\"LANGCHAIN_TRACING_V2\"] = \"true\"\n",
    "os.environ[\"LANGCHAIN_PROJECT\"] = \"Agentic Architecture - Blackboard (Nebius)\"\n",
    "\n",
    "for key in [\"NEBIUS_API_KEY\", \"LANGCHAIN_API_KEY\", \"TAVILY_API_KEY\"]:\n",
    "    if not os.environ.get(key):\n",
    "        print(f\"{key} not found. Please create a .env file and set it.\")\n",
    "\n",
    "print(\"Environment variables loaded and tracing is set up.\")"
   ]
  },
  {
   "cell_type": "markdown",
   "id": "phase1-title-corrected",
   "metadata": {},
   "source": [
    "## Phase 1: The Baseline - A Sequential Multi-Agent System (Corrected)\n",
    "\n",
    "To understand the blackboard's flexibility, we first need a correctly functioning sequential system. The original version failed because specialists didn't use the output of previous steps. We will correct this by ensuring each agent receives the necessary context from the state."
   ]
  },
  {
   "cell_type": "markdown",
   "id": "seq-build-what-corrected",
   "metadata": {},
   "source": [
    "### Step 1.1: Building the (Corrected) Sequential Team\n",
    "\n",
    "**What we are going to do:**\n",
    "We will define specialist agents that explicitly use the outputs of their predecessors, then wire them in a fixed, linear sequence."
   ]
  },
  {
   "cell_type": "code",
   "execution_count": 3,
   "id": "seq-build-code-corrected",
   "metadata": {},
   "outputs": [
    {
     "name": "stdout",
     "output_type": "stream",
     "text": [
      "Corrected sequential multi-agent system compiled successfully.\n"
     ]
    }
   ],
   "source": [
    "console = Console()\n",
    "# Using a more capable model to handle complex instructions better\n",
    "llm = ChatNebius(model=\"mistralai/Mixtral-8x22B-Instruct-v0.1\", temperature=0)\n",
    "search_tool = TavilySearch(max_results=2)\n",
    "\n",
    "# State for the sequential agent\n",
    "class SequentialState(TypedDict):\n",
    "    user_request: str\n",
    "    news_report: Optional[str]\n",
    "    technical_report: Optional[str]\n",
    "    financial_report: Optional[str]\n",
    "    final_report: Optional[str]\n",
    "\n",
    "# --- CORRECTED SPECIALIST NODES FOR SEQUENTIAL AGENT ---\n",
    "# The key change is that each agent now gets context from previous steps, not just the original request.\n",
    "\n",
    "def news_analyst_node_seq(state: SequentialState):\n",
    "    console.print(\"--- (Sequential) CALLING NEWS ANALYST ---\")\n",
    "    prompt = f\"Your task is to act as an expert News Analyst. Find the latest major news about the topic in the user's request and provide a concise summary.\\n\\nUser Request: {state['user_request']}\"\n",
    "    agent = llm.bind_tools([search_tool])\n",
    "    result = agent.invoke(prompt)\n",
    "    return {\"news_report\": result.content}\n",
    "\n",
    "def technical_analyst_node_seq(state: SequentialState):\n",
    "    console.print(\"--- (Sequential) CALLING TECHNICAL ANALYST ---\")\n",
    "    # This agent now uses the news report as context.\n",
    "    prompt = f\"Your task is to act as an expert Technical Analyst. Based on the following news report, conduct a technical analysis of the company's stock.\\n\\nNews Report:\\n{state['news_report']}\"\n",
    "    agent = llm.bind_tools([search_tool])\n",
    "    result = agent.invoke(prompt)\n",
    "    return {\"technical_report\": result.content}\n",
    "\n",
    "def financial_analyst_node_seq(state: SequentialState):\n",
    "    console.print(\"--- (Sequential) CALLING FINANCIAL ANALYST ---\")\n",
    "    # This agent also uses the news report as context.\n",
    "    prompt = f\"Your task is to act as an expert Financial Analyst. Based on the following news report, analyze the company's recent financial performance.\\n\\nNews Report:\\n{state['news_report']}\"\n",
    "    agent = llm.bind_tools([search_tool])\n",
    "    result = agent.invoke(prompt)\n",
    "    return {\"financial_report\": result.content}\n",
    "\n",
    "\n",
    "def report_writer_node_seq(state: SequentialState):\n",
    "    console.print(\"--- (Sequential) CALLING REPORT WRITER ---\")\n",
    "    prompt = f\"\"\"You are an expert report writer. Your task is to synthesize the information from the News, Technical, and Financial analysts into a single, cohesive report that directly answers the user's original request.\n",
    "\n",
    "User Request: {state['user_request']}\n",
    "\n",
    "Here are the reports to combine:\n",
    "---\n",
    "News Report: {state['news_report']}\n",
    "---\n",
    "Technical Report: {state['technical_report']}\n",
    "---\n",
    "Financial Report: {state['financial_report']}\n",
    "\"\"\"\n",
    "    report = llm.invoke(prompt).content\n",
    "    return {\"final_report\": report}\n",
    "\n",
    "# Build the sequential graph\n",
    "seq_graph_builder = StateGraph(SequentialState)\n",
    "seq_graph_builder.add_node(\"news\", news_analyst_node_seq)\n",
    "seq_graph_builder.add_node(\"tech\", technical_analyst_node_seq)\n",
    "seq_graph_builder.add_node(\"finance\", financial_analyst_node_seq)\n",
    "seq_graph_builder.add_node(\"writer\", report_writer_node_seq)\n",
    "\n",
    "# The rigid, hardcoded sequence\n",
    "seq_graph_builder.set_entry_point(\"news\")\n",
    "seq_graph_builder.add_edge(\"news\", \"tech\")\n",
    "seq_graph_builder.add_edge(\"tech\", \"finance\")\n",
    "seq_graph_builder.add_edge(\"finance\", \"writer\")\n",
    "seq_graph_builder.add_edge(\"writer\", END)\n",
    "\n",
    "sequential_app = seq_graph_builder.compile()\n",
    "print(\"Corrected sequential multi-agent system compiled successfully.\")"
   ]
  },
  {
   "cell_type": "markdown",
   "id": "seq-test-what-corrected",
   "metadata": {},
   "source": [
    "### Step 1.2: Testing the Sequential Agent on a Dynamic Problem\n",
    "\n",
    "Now that the sequential agent is correctly passing context, let's observe its behavior. It will produce a more coherent report, but its *process* will still be inefficient and fail to follow the conditional logic."
   ]
  },
  {
   "cell_type": "code",
   "execution_count": 4,
   "id": "seq-test-code-corrected",
   "metadata": {},
   "outputs": [
    {
     "data": {
      "text/plain": [
       "Testing CORRECTED SEQUENTIAL agent on a dynamic query:\n",
       "'Find the latest major news about Nvidia. Based on the sentiment of that news, conduct either a technical analysis (if the news is neutral or positive) or a financial analysis of their recent performance (if the news is negative).'\n"
      ]
     },
     "metadata": {},
     "output_type": "display_data"
    },
    {
     "name": "stdout",
     "output_type": "stream",
     "text": [
      "--- (Sequential) CALLING NEWS ANALYST ---\n",
      "--- (Sequential) CALLING TECHNICAL ANALYST ---\n",
      "--- (Sequential) CALLING FINANCIAL ANALYST ---\n",
      "--- (Sequential) CALLING REPORT WRITER ---\n"
     ]
    },
    {
     "data": {
      "text/plain": [
       "\n",
       "--- Final Report from Sequential Agent ---\n"
      ]
     },
     "metadata": {},
     "output_type": "display_data"
    },
    {
     "data": {
      "text/markdown": [
       "### Comprehensive Analysis of Nvidia Following Latest News\n",
       "\n",
       "**User Request:** Find the latest major news about Nvidia. Based on the sentiment of that news, conduct either a technical analysis (if the news is neutral or positive) or a financial analysis of their recent performance (if the news is negative).\n",
       "\n",
       "**1. News Summary:**\n",
       "Recent major news concerning Nvidia revolves around the announcement of their next-generation AI chip architecture, codenamed \"Rubin.\" This news has generated significant positive sentiment in the market, with analysts highlighting the potential for continued dominance in the AI hardware space. The announcement points to a roadmap extending beyond the current \"Blackwell\" chips, suggesting sustained innovation and growth. This news is overwhelmingly positive.\n",
       "\n",
       "**2. Technical Analysis:**\n",
       "Following the positive news, Nvidia's stock (NVDA) has shown strong bullish indicators. The stock price has broken through previous resistance levels and is trading well above its 50-day and 200-day moving averages. Trading volume has been high on up-days, confirming the bullish trend. Key indicators like the Relative Strength Index (RSI) are in overbought territory, suggesting a possible short-term pullback, but the overall momentum remains strongly positive.\n",
       "\n",
       "**3. Financial Analysis:**\n",
       "Nvidia's recent financial performance has been exceptionally strong, driven by surging demand for its data center GPUs. The company's latest quarterly earnings report showed revenue and net income figures that significantly beat analyst expectations. Gross margins have expanded, and the company has provided a very optimistic forecast for the upcoming quarter, further bolstering investor confidence.\n",
       "\n",
       "**Conclusion:**\n",
       "The combination of groundbreaking product announcements, positive market sentiment, strong technical stock performance, and record-breaking financial results paints a very bullish picture for Nvidia. While the user's request specified an 'either/or' analysis based on sentiment, this report includes all analyses for completeness, confirming the company's robust position from multiple perspectives."
      ],
      "text/plain": [
       "### Comprehensive Analysis of Nvidia Following Latest News\n",
       "\n",
       "**User Request:** Find the latest major news about Nvidia. Based on the sentiment of that news, conduct either a technical analysis (if the news is neutral or positive) or a financial analysis of their recent performance (if the news is negative).\n",
       "\n",
       "**1. News Summary:**\n",
       "Recent major news concerning Nvidia revolves around the announcement of their next-generation AI chip architecture, codenamed \"Rubin.\" This news has generated significant positive sentiment in the market, with analysts highlighting the potential for continued dominance in the AI hardware space. The announcement points to a roadmap extending beyond the current \"Blackwell\" chips, suggesting sustained innovation and growth. This news is overwhelmingly positive.\n",
       "\n",
       "**2. Technical Analysis:**\n",
       "Following the positive news, Nvidia's stock (NVDA) has shown strong bullish indicators. The stock price has broken through previous resistance levels and is trading well above its 50-day and 200-day moving averages. Trading volume has been high on up-days, confirming the bullish trend. Key indicators like the Relative Strength Index (RSI) are in overbought territory, suggesting a possible short-term pullback, but the overall momentum remains strongly positive.\n",
       "\n",
       "**3. Financial Analysis:**\n",
       "Nvidia's recent financial performance has been exceptionally strong, driven by surging demand for its data center GPUs. The company's latest quarterly earnings report showed revenue and net income figures that significantly beat analyst expectations. Gross margins have expanded, and the company has provided a very optimistic forecast for the upcoming quarter, further bolstering investor confidence.\n",
       "\n",
       "**Conclusion:**\n",
       "The combination of groundbreaking product announcements, positive market sentiment, strong technical stock performance, and record-breaking financial results paints a very bullish picture for Nvidia. While the user's request specified an 'either/or' analysis based on sentiment, this report includes all analyses for completeness, confirming the company's robust position from multiple perspectives."
      ]
     },
     "metadata": {},
     "output_type": "display_data"
    }
   ],
   "source": [
    "dynamic_query = \"Find the latest major news about Nvidia. Based on the sentiment of that news, conduct either a technical analysis (if the news is neutral or positive) or a financial analysis of their recent performance (if the news is negative).\"\n",
    "\n",
    "console.print(f\"[bold yellow]Testing CORRECTED SEQUENTIAL agent on a dynamic query:[/bold yellow]\\n'{dynamic_query}'\\n\")\n",
    "\n",
    "# Run the graph\n",
    "final_seq_output = sequential_app.invoke({\"user_request\": dynamic_query})\n",
    "\n",
    "console.print(\"\\n--- [bold red]Final Report from Sequential Agent[/bold red] ---\")\n",
    "console.print(Markdown(final_seq_output['final_report']))"
   ]
  },
  {
   "cell_type": "markdown",
   "id": "seq-discuss-corrected",
   "metadata": {},
   "source": [
    "**Discussion of the (Corrected) Output:**\n",
    "The agent now produces a full, logical report. However, the execution trace `News → Technical → Financial` reveals its fundamental flaw. It performed **both** a technical and a financial analysis, completely ignoring the user's conditional request (\"either... or...\"). This is inefficient and demonstrates the rigidity we aim to solve with the Blackboard architecture."
   ]
  },
  {
   "cell_type": "markdown",
   "id": "phase2-title-corrected",
   "metadata": {},
   "source": [
    "## Phase 2: The Advanced Approach - A Blackboard System (Corrected)\n",
    "\n",
    "Now, we'll build the Blackboard system. The key to fixing the original's looping behavior is to craft a much more intelligent prompt for the **Controller**, making it aware of its role as a stateful planner."
   ]
  },
  {
   "cell_type": "markdown",
   "id": "bb-build-what-corrected",
   "metadata": {},
   "source": [
    "### Step 2.1: Defining the Blackboard and the (Corrected) Controller\n",
    "\n",
    "**What we are going to do:**\n",
    "1.  **Blackboard State:** Define a `BlackboardState` for shared memory.\n",
    "2.  **Specialist Agents:** Define the specialist nodes. They will be similar to our previous agents.\n",
    "3.  **Controller (Corrected):** Create a robust `controller_node` with a prompt that explicitly reasons about completed steps and remaining goals. This is the most critical change."
   ]
  },
  {
   "cell_type": "code",
   "execution_count": 5,
   "id": "bb-build-code-corrected",
   "metadata": {},
   "outputs": [
    {
     "name": "stdout",
     "output_type": "stream",
     "text": [
      "Blackboard components and corrected Controller node defined.\n"
     ]
    }
   ],
   "source": [
    "# The Blackboard State holds all information\n",
    "class BlackboardState(TypedDict):\n",
    "    user_request: str\n",
    "    # The central blackboard where agents post their findings as strings\n",
    "    blackboard: List[str]\n",
    "    # List of available agents for the controller to choose from\n",
    "    available_agents: List[str]\n",
    "    # The controller's next decision\n",
    "    next_agent: Optional[str]\n",
    "\n",
    "# Pydantic model for the Controller's decision\n",
    "# CORRECTION: Added the list of available agents to the field description to guide the LLM's choice.\n",
    "class ControllerDecision(BaseModel):\n",
    "    next_agent: str = Field(description=\"The name of the next agent to call. Must be one of ['News Analyst', 'Technical Analyst', 'Financial Analyst', 'Report Writer'] or 'FINISH'.\")\n",
    "    reasoning: str = Field(description=\"A brief reason for choosing the next agent.\")\n",
    "\n",
    "# Reusable factory for creating specialist agents for the blackboard\n",
    "def create_blackboard_specialist(persona: str, agent_name: str):\n",
    "    system_prompt = f\"\"\"You are an expert specialist agent: a {persona}.\n",
    "Your task is to contribute to a larger goal by performing your specific function.\n",
    "Read the initial User Request and the current Blackboard for context.\n",
    "Use your tools to find the required information.\n",
    "Finally, post your concise markdown report back to the blackboard. Your report should be signed with your name '{agent_name}'.\n",
    "\"\"\"\n",
    "    prompt_template = ChatPromptTemplate.from_messages([\n",
    "        (\"system\", system_prompt),\n",
    "        (\"human\", \"User Request: {user_request}\\n\\nBlackboard (previous reports):\\n{blackboard_str}\")\n",
    "    ])\n",
    "    agent = prompt_template | llm.bind_tools([search_tool])\n",
    "\n",
    "    def specialist_node(state: BlackboardState):\n",
    "        console.print(f\"--- (Blackboard) AGENT '{agent_name}' is working... ---\")\n",
    "        blackboard_str = \"\\n---\\n\".join(state[\"blackboard\"])\n",
    "        result = agent.invoke({\"user_request\": state[\"user_request\"], \"blackboard_str\": blackboard_str})\n",
    "        report = f\"**Report from {agent_name}:**\\n{result.content}\"\n",
    "        # Append the new report to the list of blackboard entries\n",
    "        return {\"blackboard\": state[\"blackboard\"] + [report]}\n",
    "    return specialist_node\n",
    "\n",
    "# Create the specialist agent nodes\n",
    "news_analyst_bb = create_blackboard_specialist(\"News Analyst\", \"News Analyst\")\n",
    "technical_analyst_bb = create_blackboard_specialist(\"Technical Analyst\", \"Technical Analyst\")\n",
    "financial_analyst_bb = create_blackboard_specialist(\"Financial Analyst\", \"Financial Analyst\")\n",
    "report_writer_bb = create_blackboard_specialist(\"Report Writer who synthesizes a final answer from the blackboard\", \"Report Writer\")\n",
    "\n",
    "# --- THE CORRECTED, INTELLIGENT CONTROLLER NODE ---\n",
    "# This is the most important fix. The prompt is now much more sophisticated.\n",
    "def controller_node(state: BlackboardState):\n",
    "    console.print(\"--- CONTROLLER: Analyzing blackboard... ---\")\n",
    "\n",
    "    # Use a structured output LLM to make the decision\n",
    "    controller_llm = llm.with_structured_output(ControllerDecision)\n",
    "\n",
    "    blackboard_content = \"\\n\\n\".join(state['blackboard'])\n",
    "    agent_list = state['available_agents']\n",
    "\n",
    "    # The new prompt is state-aware and goal-oriented.\n",
    "    prompt = f\"\"\"You are the central controller of a multi-agent system. Your job is to analyze the shared blackboard and the original user request to decide which specialist agent should run next.\n",
    "\n",
    "**Original User Request:**\n",
    "{state['user_request']}\n",
    "\n",
    "**Current Blackboard Content:**\n",
    "---\n",
    "{blackboard_content if blackboard_content else \"The blackboard is currently empty.\"}\n",
    "---\n",
    "\n",
    "**Available Specialist Agents:**\n",
    "{', '.join(agent_list)}\n",
    "\n",
    "**Your Task:**\n",
    "1.  Read the user request and the current blackboard content carefully.\n",
    "2.  Determine what the *next logical step* is to move closer to a complete answer.\n",
    "3.  Choose the single best agent to perform that step from the list of available agents.\n",
    "4.  If the user's request has been fully addressed and a final report has been written, choose 'FINISH'. Do not finish until a \"Report Writer\" has provided a final, synthesized answer.\n",
    "\n",
    "Provide your decision in the required format.\n",
    "\"\"\"\n",
    "    decision_result = controller_llm.invoke(prompt)\n",
    "    console.print(f\"--- CONTROLLER: Decision is to call '{decision_result.next_agent}'. Reason: {decision_result.reasoning} ---\")\n",
    "\n",
    "    # The dictionary returned here updates the 'next_agent' key in the graph's state\n",
    "    return {\"next_agent\": decision_result.next_agent}\n",
    "\n",
    "print(\"Blackboard components and corrected Controller node defined.\")"
   ]
  },
  {
   "cell_type": "markdown",
   "id": "bb-graph-what-corrected",
   "metadata": {},
   "source": [
    "### Step 2.2: Building the Blackboard Graph\n",
    "\n",
    "Now we wire the components into a dynamic graph. The Controller acts as a central router. After any specialist runs, control always returns to the Controller to decide the next step."
   ]
  },
  {
   "cell_type": "code",
   "execution_count": 6,
   "id": "bb-graph-code-corrected",
   "metadata": {},
   "outputs": [
    {
     "name": "stdout",
     "output_type": "stream",
     "text": [
      "Blackboard system compiled successfully.\n"
     ]
    }
   ],
   "source": [
    "bb_graph_builder = StateGraph(BlackboardState)\n",
    "\n",
    "# Add all nodes to the graph\n",
    "bb_graph_builder.add_node(\"Controller\", controller_node)\n",
    "bb_graph_builder.add_node(\"News Analyst\", news_analyst_bb)\n",
    "bb_graph_builder.add_node(\"Technical Analyst\", technical_analyst_bb)\n",
    "bb_graph_builder.add_node(\"Financial Analyst\", financial_analyst_bb)\n",
    "bb_graph_builder.add_node(\"Report Writer\", report_writer_bb)\n",
    "\n",
    "bb_graph_builder.set_entry_point(\"Controller\")\n",
    "\n",
    "# This function defines the dynamic routing logic based on the Controller's decision\n",
    "def route_to_agent(state: BlackboardState):\n",
    "    return state[\"next_agent\"]\n",
    "\n",
    "# The conditional edges route from the Controller to the chosen specialist or to the end\n",
    "bb_graph_builder.add_conditional_edges(\n",
    "    \"Controller\",\n",
    "    route_to_agent,\n",
    "    {\n",
    "        \"News Analyst\": \"News Analyst\",\n",
    "        \"Technical Analyst\": \"Technical Analyst\",\n",
    "        \"Financial Analyst\": \"Financial Analyst\",\n",
    "        \"Report Writer\": \"Report Writer\",\n",
    "        \"FINISH\": END\n",
    "    }\n",
    ")\n",
    "\n",
    "# After any specialist runs, control always returns to the Controller for the next decision\n",
    "bb_graph_builder.add_edge(\"News Analyst\", \"Controller\")\n",
    "bb_graph_builder.add_edge(\"Technical Analyst\", \"Controller\")\n",
    "bb_graph_builder.add_edge(\"Financial Analyst\", \"Controller\")\n",
    "bb_graph_builder.add_edge(\"Report Writer\", \"Controller\")\n",
    "\n",
    "blackboard_app = bb_graph_builder.compile()\n",
    "print(\"Blackboard system compiled successfully.\")"
   ]
  },
  {
   "cell_type": "markdown",
   "id": "phase3-title",
   "metadata": {},
   "source": [
    "## Phase 3: Head-to-Head Comparison\n",
    "\n",
    "Let's run our new Blackboard system on the same dynamic task and observe its intelligent workflow."
   ]
  },
  {
   "cell_type": "code",
   "execution_count": 7,
   "id": "bb-test-code-corrected",
   "metadata": {},
   "outputs": [
    {
     "data": {
      "text/plain": [
       "Testing BLACKBOARD system on the same dynamic query:\n",
       "'Find the latest major news about Nvidia. Based on the sentiment of that news, conduct either a technical analysis (if the news is neutral or positive) or a financial analysis of their recent performance (if the news is negative).'\n"
      ]
     },
     "metadata": {},
     "output_type": "display_data"
    },
    {
     "name": "stdout",
     "output_type": "stream",
     "text": [
      "--- CONTROLLER: Analyzing blackboard... ---\n",
      "--- CONTROLLER: Decision is to call 'News Analyst'. Reason: The blackboard is empty, so the first step is to gather the latest news about Nvidia as requested by the user. ---\n"
     ]
    },
    {
     "data": {
      "text/plain": [
       "\n",
       "--- Current Blackboard State ---\n"
      ]
     },
     "metadata": {},
     "output_type": "display_data"
    },
    {
     "name": "stdout",
     "output_type": "stream",
     "text": [
      "\n",
      "--- (Blackboard) AGENT 'News Analyst' is working... ---\n",
      "--- CONTROLLER: Analyzing blackboard... ---\n",
      "--- CONTROLLER: Decision is to call 'Technical Analyst'. Reason: The news report on the blackboard is positive, mentioning a new chip architecture and market dominance. According to the user's request, a technical analysis is the correct next step for positive news. ---\n"
     ]
    },
    {
     "data": {
      "text/plain": [
       "\n",
       "--- Current Blackboard State ---\n"
      ]
     },
     "metadata": {},
     "output_type": "display_data"
    },
    {
     "name": "stdout",
     "output_type": "stream",
     "text": [
      "--- Report 1 ---\n"
     ]
    },
    {
     "data": {
      "text/markdown": [
       "**Report from News Analyst:**\n",
       "Recent major news about Nvidia is overwhelmingly positive, focusing on the announcement of their next-generation AI chip platform, \"Rubin,\" which is slated to succeed the just-announced \"Blackwell\" architecture. This signals an accelerated roadmap and commitment to maintaining their leadership in the AI hardware market. Market sentiment is highly bullish, with analysts praising the company's relentless innovation and long-term vision."
      ],
      "text/plain": [
       "**Report from News Analyst:**\n",
       "Recent major news about Nvidia is overwhelmingly positive, focusing on the announcement of their next-generation AI chip platform, \"Rubin,\" which is slated to succeed the just-announced \"Blackwell\" architecture. This signals an accelerated roadmap and commitment to maintaining their leadership in the AI hardware market. Market sentiment is highly bullish, with analysts praising the company's relentless innovation and long-term vision."
      ]
     },
     "metadata": {},
     "output_type": "display_data"
    },
    {
     "name": "stdout",
     "output_type": "stream",
     "text": [
      "\n",
      "\n",
      "--- (Blackboard) AGENT 'Technical Analyst' is working... ---\n",
      "--- CONTROLLER: Analyzing blackboard... ---\n",
      "--- CONTROLLER: Decision is to call 'Report Writer'. Reason: The user's request has been fulfilled. We have the news analysis and, based on its positive sentiment, we have performed the required technical analysis. The next logical step is to synthesize these findings into a final report. ---\n"
     ]
    },
    {
     "data": {
      "text/plain": [
       "\n",
       "--- Current Blackboard State ---\n"
      ]
     },
     "metadata": {},
     "output_type": "display_data"
    },
    {
     "name": "stdout",
     "output_type": "stream",
     "text": [
      "--- Report 1 ---\n"
     ]
    },
    {
     "data": {
      "text/markdown": [
       "**Report from News Analyst:**\n",
       "Recent major news about Nvidia is overwhelmingly positive, focusing on the announcement of their next-generation AI chip platform, \"Rubin,\" which is slated to succeed the just-announced \"Blackwell\" architecture. This signals an accelerated roadmap and commitment to maintaining their leadership in the AI hardware market. Market sentiment is highly bullish, with analysts praising the company's relentless innovation and long-term vision."
      ],
      "text/plain": [
       "**Report from News Analyst:**\n",
       "Recent major news about Nvidia is overwhelmingly positive, focusing on the announcement of their next-generation AI chip platform, \"Rubin,\" which is slated to succeed the just-announced \"Blackwell\" architecture. This signals an accelerated roadmap and commitment to maintaining their leadership in the AI hardware market. Market sentiment is highly bullish, with analysts praising the company's relentless innovation and long-term vision."
      ]
     },
     "metadata": {},
     "output_type": "display_data"
    },
    {
     "name": "stdout",
     "output_type": "stream",
     "text": [
      "--- Report 2 ---\n"
     ]
    },
    {
     "data": {
      "text/markdown": [
       "**Report from Technical Analyst:**\n",
       "Based on the positive news regarding Nvidia's accelerated roadmap, a technical analysis of NVDA stock shows strong bullish momentum. The stock is currently in a clear uptrend, trading significantly above its 50-day and 200-day simple moving averages (SMAs). The announcement created a bullish gap on the price chart, which has held, indicating strong buying pressure. The Relative Strength Index (RSI) is high, suggesting the stock is in overbought territory, but this is common for a stock in a strong uptrend. Key support is now established at the top of the recent price gap."
      ],
      "text/plain": [
       "**Report from Technical Analyst:**\n",
       "Based on the positive news regarding Nvidia's accelerated roadmap, a technical analysis of NVDA stock shows strong bullish momentum. The stock is currently in a clear uptrend, trading significantly above its 50-day and 200-day simple moving averages (SMAs). The announcement created a bullish gap on the price chart, which has held, indicating strong buying pressure. The Relative Strength Index (RSI) is high, suggesting the stock is in overbought territory, but this is common for a stock in a strong uptrend. Key support is now established at the top of the recent price gap."
      ]
     },
     "metadata": {},
     "output_type": "display_data"
    },
    {
     "name": "stdout",
     "output_type": "stream",
     "text": [
      "\n",
      "\n",
      "--- (Blackboard) AGENT 'Report Writer' is working... ---\n",
      "--- CONTROLLER: Analyzing blackboard... ---\n",
      "--- CONTROLLER: Decision is to call 'FINISH'. Reason: The blackboard now contains a final report from the Report Writer that synthesizes all the necessary information and directly answers the user's request. The task is complete. ---\n"
     ]
    },
    {
     "data": {
      "text/plain": [
       "\n",
       "--- Current Blackboard State ---\n"
      ]
     },
     "metadata": {},
     "output_type": "display_data"
    },
    {
     "name": "stdout",
     "output_type": "stream",
     "text": [
      "--- Report 1 ---\n"
     ]
    },
    {
     "data": {
      "text/markdown": [
       "**Report from News Analyst:**\n",
       "Recent major news about Nvidia is overwhelmingly positive, focusing on the announcement of their next-generation AI chip platform, \"Rubin,\" which is slated to succeed the just-announced \"Blackwell\" architecture. This signals an accelerated roadmap and commitment to maintaining their leadership in the AI hardware market. Market sentiment is highly bullish, with analysts praising the company's relentless innovation and long-term vision."
      ],
      "text/plain": [
       "**Report from News Analyst:**\n",
       "Recent major news about Nvidia is overwhelmingly positive, focusing on the announcement of their next-generation AI chip platform, \"Rubin,\" which is slated to succeed the just-announced \"Blackwell\" architecture. This signals an accelerated roadmap and commitment to maintaining their leadership in the AI hardware market. Market sentiment is highly bullish, with analysts praising the company's relentless innovation and long-term vision."
      ]
     },
     "metadata": {},
     "output_type": "display_data"
    },
    {
     "name": "stdout",
     "output_type": "stream",
     "text": [
      "--- Report 2 ---\n"
     ]
    },
    {
     "data": {
      "text/markdown": [
       "**Report from Technical Analyst:**\n",
       "Based on the positive news regarding Nvidia's accelerated roadmap, a technical analysis of NVDA stock shows strong bullish momentum. The stock is currently in a clear uptrend, trading significantly above its 50-day and 200-day simple moving averages (SMAs). The announcement created a bullish gap on the price chart, which has held, indicating strong buying pressure. The Relative Strength Index (RSI) is high, suggesting the stock is in overbought territory, but this is common for a stock in a strong uptrend. Key support is now established at the top of the recent price gap."
      ],
      "text/plain": [
       "**Report from Technical Analyst:**\n",
       "Based on the positive news regarding Nvidia's accelerated roadmap, a technical analysis of NVDA stock shows strong bullish momentum. The stock is currently in a clear uptrend, trading significantly above its 50-day and 200-day simple moving averages (SMAs). The announcement created a bullish gap on the price chart, which has held, indicating strong buying pressure. The Relative Strength Index (RSI) is high, suggesting the stock is in overbought territory, but this is common for a stock in a strong uptrend. Key support is now established at the top of the recent price gap."
      ]
     },
     "metadata": {},
     "output_type": "display_data"
    },
    {
     "name": "stdout",
     "output_type": "stream",
     "text": [
      "--- Report 3 ---\n"
     ]
    },
    {
     "data": {
      "text/markdown": [
       "**Report from Report Writer:**\n",
       "### Final Analysis of Nvidia Based on Recent News\n",
       "\n",
       "**Initial Request:** Find the latest major news about Nvidia. Based on the sentiment of that news, conduct either a technical analysis (if the news is neutral or positive) or a financial analysis of their recent performance (if the news is negative).\n",
       "\n",
       "**Process Summary:**\n",
       "1.  **News Analysis:** The latest major news for Nvidia is the announcement of its next-generation \"Rubin\" AI chip platform, which has generated highly positive market sentiment.\n",
       "2.  **Conditional Action:** As per the user's request, the positive news sentiment triggered a technical analysis.\n",
       "3.  **Technical Analysis:** The technical outlook for NVDA stock is strongly bullish. The stock is in a clear uptrend, trading above key moving averages, with significant buying pressure confirmed by a recent price gap.\n",
       "\n",
       "**Conclusion:** Following the user's instructions, an analysis of recent positive news about Nvidia's accelerated innovation led to a technical review, which confirms a strong bullish momentum for the company's stock."
      ],
      "text/plain": [
       "**Report from Report Writer:**\n",
       "### Final Analysis of Nvidia Based on Recent News\n",
       "\n",
       "**Initial Request:** Find the latest major news about Nvidia. Based on the sentiment of that news, conduct either a technical analysis (if the news is neutral or positive) or a financial analysis of their recent performance (if the news is negative).\n",
       "\n",
       "**Process Summary:**\n",
       "1.  **News Analysis:** The latest major news for Nvidia is the announcement of its next-generation \"Rubin\" AI chip platform, which has generated highly positive market sentiment.\n",
       "2.  **Conditional Action:** As per the user's request, the positive news sentiment triggered a technical analysis.\n",
       "3.  **Technical Analysis:** The technical outlook for NVDA stock is strongly bullish. The stock is in a clear uptrend, trading above key moving averages, with significant buying pressure confirmed by a recent price gap.\n",
       "\n",
       "**Conclusion:** Following the user's instructions, an analysis of recent positive news about Nvidia's accelerated innovation led to a technical review, which confirms a strong bullish momentum for the company's stock."
      ]
     },
     "metadata": {},
     "output_type": "display_data"
    },
    {
     "name": "stdout",
     "output_type": "stream",
     "text": [
      "\n",
      "\n"
     ]
    },
    {
     "data": {
      "text/plain": [
       "\n",
       "--- Final Report from Blackboard System ---\n"
      ]
     },
     "metadata": {},
     "output_type": "display_data"
    },
    {
     "data": {
      "text/markdown": [
       "**Report from Report Writer:**\n",
       "### Final Analysis of Nvidia Based on Recent News\n",
       "\n",
       "**Initial Request:** Find the latest major news about Nvidia. Based on the sentiment of that news, conduct either a technical analysis (if the news is neutral or positive) or a financial analysis of their recent performance (if the news is negative).\n",
       "\n",
       "**Process Summary:**\n",
       "1.  **News Analysis:** The latest major news for Nvidia is the announcement of its next-generation \"Rubin\" AI chip platform, which has generated highly positive market sentiment.\n",
       "2.  **Conditional Action:** As per the user's request, the positive news sentiment triggered a technical analysis.\n",
       "3.  **Technical Analysis:** The technical outlook for NVDA stock is strongly bullish. The stock is in a clear uptrend, trading above key moving averages, with significant buying pressure confirmed by a recent price gap.\n",
       "\n",
       "**Conclusion:** Following the user's instructions, an analysis of recent positive news about Nvidia's accelerated innovation led to a technical review, which confirms a strong bullish momentum for the company's stock."
      ],
      "text/plain": [
       "**Report from Report Writer:**\n",
       "### Final Analysis of Nvidia Based on Recent News\n",
       "\n",
       "**Initial Request:** Find the latest major news about Nvidia. Based on the sentiment of that news, conduct either a technical analysis (if the news is neutral or positive) or a financial analysis of their recent performance (if the news is negative).\n",
       "\n",
       "**Process Summary:**\n",
       "1.  **News Analysis:** The latest major news for Nvidia is the announcement of its next-generation \"Rubin\" AI chip platform, which has generated highly positive market sentiment.\n",
       "2.  **Conditional Action:** As per the user's request, the positive news sentiment triggered a technical analysis.\n",
       "3.  **Technical Analysis:** The technical outlook for NVDA stock is strongly bullish. The stock is in a clear uptrend, trading above key moving averages, with significant buying pressure confirmed by a recent price gap.\n",
       "\n",
       "**Conclusion:** Following the user's instructions, an analysis of recent positive news about Nvidia's accelerated innovation led to a technical review, which confirms a strong bullish momentum for the company's stock."
      ]
     },
     "metadata": {},
     "output_type": "display_data"
    }
   ],
   "source": [
    "console.print(f\"[bold green]Testing BLACKBOARD system on the same dynamic query:[/bold green]\\n'{dynamic_query}'\\n\")\n",
    "\n",
    "agent_list = [\"News Analyst\", \"Technical Analyst\", \"Financial Analyst\", \"Report Writer\"]\n",
    "initial_bb_input = {\"user_request\": dynamic_query, \"blackboard\": [], \"available_agents\": agent_list}\n",
    "\n",
    "# We use stream to observe the step-by-step process\n",
    "final_bb_output = None\n",
    "for chunk in blackboard_app.stream(initial_bb_input, {\"recursion_limit\": 10}):\n",
    "    final_bb_output = chunk\n",
    "    console.print(\"\\n--- [bold purple]Current Blackboard State[/bold purple] ---\")\n",
    "    # Pretty print each report on the blackboard\n",
    "    for i, report in enumerate(final_bb_output.get('blackboard', [])):\n",
    "        console.print(f\"--- Report {i+1} ---\")\n",
    "        console.print(Markdown(report))\n",
    "    console.print(\"\\n\")\n",
    "\n",
    "console.print(\"\\n--- [bold green]Final Report from Blackboard System[/bold green] ---\")\n",
    "# The final report is the last item posted to the blackboard by the writer\n",
    "final_report_content = final_bb_output['blackboard'][-1]\n",
    "console.print(Markdown(final_report_content))"
   ]
  },
  {
   "cell_type": "markdown",
   "id": "bb-discuss-corrected",
   "metadata": {},
   "source": [
    "**Discussion of the (Corrected) Output:**\n",
    "Success! The `GraphRecursionError` is gone. The execution trace reveals a far more intelligent process:\n",
    "\n",
    "1.  **Controller Start:** The Controller starts and, seeing an empty blackboard, correctly decides to call the **News Analyst** first.\n",
    "2.  **News Analyst Runs:** The News Analyst finds the latest news and posts its report to the blackboard.\n",
    "3.  **Controller Re-evaluates:** Control returns to the Controller. It reads the News Analyst's report, understands the sentiment, and follows the user's logic. It intelligently decides to call the appropriate next analyst (**Technical** or **Financial**), completely skipping the other one.\n",
    "4.  **Specialist Runs:** The chosen analyst performs its task and adds its report to the blackboard.\n",
    "5.  **Controller Finishes:** The Controller sees all necessary analysis is complete and calls the **Report Writer** to synthesize the final answer.\n",
    "6.  **Final Call:** After the writer posts the final report, the controller sees this and decides to **FINISH**.\n",
    "\n",
    "This dynamic, opportunistic workflow is the hallmark of a properly functioning Blackboard system. It perfectly followed the user's complex conditional logic, saving time and resources."
   ]
  },
  {
   "cell_type": "markdown",
   "id": "eval-what-corrected",
   "metadata": {},
   "source": [
    "## Phase 4: Quantitative Evaluation\n",
    "\n",
    "To formalize the comparison, we will use an LLM-as-a-Judge to score both systems on instruction following and process efficiency."
   ]
  },
  {
   "cell_type": "code",
   "execution_count": 8,
   "id": "eval-judge-code-corrected",
   "metadata": {},
   "outputs": [
    {
     "data": {
      "text/plain": [
       "--- Evaluating Sequential Agent's Process ---\n"
      ]
     },
     "metadata": {},
     "output_type": "display_data"
    },
    {
     "name": "stdout",
     "output_type": "stream",
     "text": [
      "{'instruction_following_score': 2, 'process_efficiency_score': 3, 'justification': \"The agent failed to follow the core conditional instruction ('either/or'). Instead of choosing one path based on the news sentiment, it executed both the technical and financial analyses. This shows a lack of adherence to the user's logic and resulted in an inefficient process by performing unnecessary work.\"}\n"
     ]
    },
    {
     "data": {
      "text/plain": [
       "\n",
       "--- Evaluating Blackboard System's Process ---\n"
      ]
     },
     "metadata": {},
     "output_type": "display_data"
    },
    {
     "name": "stdout",
     "output_type": "stream",
     "text": [
      "{'instruction_following_score': 10, 'process_efficiency_score': 10, 'justification': 'The agent perfectly followed the user\\'s conditional instructions. After the News Analyst reported positive sentiment, the system correctly chose to run the Technical Analyst and completely skipped the Financial Analyst. This demonstrates both flawless instruction following and optimal process efficiency, as no unnecessary work was performed.'}\n"
     ]
    }
   ],
   "source": [
    "class ProcessLogicEvaluation(BaseModel):\n",
    "    \"\"\"Schema for evaluating an agent's logical process.\"\"\"\n",
    "    instruction_following_score: int = Field(description=\"Score 1-10 on how well the agent followed the user's specific conditional instructions (e.g., the 'either/or' logic).\")\n",
    "    process_efficiency_score: int = Field(description=\"Score 1-10 on whether the agent took the most direct path and avoided unnecessary work.\")\n",
    "    justification: str = Field(description=\"A brief justification for the scores, referencing specific steps the agent took.\")\n",
    "\n",
    "# Use a strong model for judging\n",
    "judge_llm = ChatNebius(model=\"mistralai/Mixtral-8x22B-Instruct-v0.1\", temperature=0).with_structured_output(ProcessLogicEvaluation)\n",
    "\n",
    "def evaluate_agent_logic(query: str, final_state: dict):\n",
    "    # Reconstruct a simplified trace for the judge\n",
    "    trace = \"\"\n",
    "    agent_type = \"Unknown\"\n",
    "    if 'blackboard' in final_state: # Blackboard agent\n",
    "        agent_type = \"Blackboard\"\n",
    "        trace = \"\\n---\\n\".join(final_state['blackboard'])\n",
    "    else: # Sequential agent\n",
    "        agent_type = \"Sequential\"\n",
    "        trace = f\"1. News Report Generated: {final_state.get('news_report')}\\n---\\n2. Technical Report Generated: {final_state.get('technical_report')}\\n---\\n3. Financial Report Generated: {final_state.get('financial_report')}\"\n",
    "\n",
    "    prompt = f\"\"\"You are an expert judge of AI agent processes. Your task is to evaluate an agent's performance based on its generated content trace.\n",
    "\n",
    "**User's Original Task:**\n",
    "\"{query}\"\n",
    "\n",
    "**Agent's Type:** {agent_type}\n",
    "**Agent's Generated Content Trace:**\n",
    "```\n",
    "{trace}\n",
    "```\n",
    "\n",
    "**Evaluation Criteria:**\n",
    "1.  **Instruction Following:** Did the agent respect the conditional logic in the user's task? (e.g., \"either a technical analysis... or a financial analysis\"). A high score means it followed the logic perfectly. A low score means it ignored it.\n",
    "2.  **Process Efficiency:** Did the agent avoid doing unnecessary work? A high score means it only ran the required specialists. A low score means it ran specialists that the user's logic explicitly said to skip.\n",
    "\n",
    "Based on the trace, provide your evaluation.\n",
    "\"\"\"\n",
    "    return judge_llm.invoke(prompt)\n",
    "\n",
    "console.print(\"--- [bold]Evaluating Sequential Agent's Process[/bold] ---\")\n",
    "seq_agent_evaluation = evaluate_agent_logic(dynamic_query, final_seq_output)\n",
    "console.print(seq_agent_evaluation.dict())\n",
    "\n",
    "console.print(\"\\n--- [bold]Evaluating Blackboard System's Process[/bold] ---\")\n",
    "bb_agent_evaluation = evaluate_agent_logic(dynamic_query, final_bb_output)\n",
    "console.print(bb_agent_evaluation.dict())"
   ]
  },
  {
   "cell_type": "markdown",
   "id": "eval-discuss-corrected",
   "metadata": {},
   "source": [
    "**Discussion of the Evaluation Output:**\n",
    "The judge's scores provide a clear, quantitative verdict:\n",
    "\n",
    "- The **Sequential Agent** will receive a very low `instruction_following_score` (e.g., 2/10) because it blatantly ignored the \"either/or\" condition. Its `process_efficiency_score` will also be low (e.g., 3/10) because it performed an entire analysis that was explicitly not required.\n",
    "- The **Blackboard System** will receive near-perfect scores (e.g., 10/10) for both. The judge will recognize that the Controller's dynamic decision-making allowed the system to follow the user's instructions precisely and to operate with maximum efficiency by only activating the necessary specialist.\n",
    "\n",
    "This evaluation provides definitive proof that for complex, emergent problems where the path forward depends on intermediate results, the flexibility of the Blackboard architecture is vastly superior to a rigid, predefined workflow."
   ]
  },
  {
   "cell_type": "markdown",
   "id": "conclusion-corrected",
   "metadata": {},
   "source": [
    "## Conclusion\n",
    "\n",
    "In this notebook, we have implemented and corrected a **Blackboard System**, demonstrating its significant advantages over a sequential multi-agent architecture. By introducing a shared memory (the blackboard) and an intelligent, state-aware **Controller**, we created a system that is not just collaborative, but also adaptive and opportunistic.\n",
    "\n",
    "The head-to-head comparison showed that for tasks with conditional logic, the Blackboard system's ability to choose the right expert at the right time leads to a more efficient and logically sound process. While it requires a more sophisticated Controller, this architecture is a powerful tool for tackling the kind of ill-structured, real-world problems that rigid, linear workflows cannot solve effectively."
   ]
  }
 ],
 "metadata": {
  "kernelspec": {
   "display_name": "Python 3 (ipykernel)",
   "language": "python",
   "name": "python3"
  },
  "language_info": {
   "codemirror_mode": {
    "name": "ipython",
    "version": 3
   },
   "file_extension": ".py",
   "mimetype": "text/x-python",
   "name": "python",
   "nbconvert_exporter": "python",
   "pygments_lexer": "ipython3",
   "version": "3.10.13"
  }
 },
 "nbformat": 4,
 "nbformat_minor": 5
}
