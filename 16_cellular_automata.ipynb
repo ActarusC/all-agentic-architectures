{
 "cells": [
  {
   "cell_type": "markdown",
   "id": "intro-title",
   "metadata": {},
   "source": [
    "# 📘 Agentic Architectures 16: Cellular Automata / Grid-Based Systems\n",
    "\n",
    "Welcome to an exploration of a radically different agentic architecture: **Cellular Automata** and **Grid-Based Agent Systems**. This pattern is inspired by natural complex systems and concepts like Conway's Game of Life. It shifts the paradigm from a few complex, centralized agents to a massive number of simple, decentralized agents operating on a grid.\n",
    "\n",
    "In this model, the environment itself becomes the agent. Each cell in a grid is a mini-agent with its own state and a simple set of rules for updating that state based on its immediate neighbors. There is no central controller or complex pathfinding algorithm. Instead, intelligent, global behavior **emerges** from the repeated, synchronous application of these simple local rules. The system becomes a \"computational fabric\" that solves problems through wave-like propagation of information.\n",
    "\n",
    "To demonstrate this in a detailed, complex implementation, we will build a **Warehouse Logistics Simulator**. Our goal is to fulfill an order by moving items from shelves to a packing station. We will solve this complex spatial reasoning task not with a single \"robot\" agent, but by programming the grid cells themselves to collectively compute the optimal path."
   ]
  },
  {
   "cell_type": "markdown",
   "id": "intro-definition",
   "metadata": {},
   "source": [
    "### Definition\n",
    "A **Grid-Based Agent System** is an architecture where a large number of simple agents (or \"cells\") are arranged in a spatial grid. Each agent has a state and updates it synchronously based on a rule set that only considers the states of its immediate neighbors. Complex, high-level patterns and problem-solving capabilities emerge from these local interactions.\n",
    "\n",
    "### High-level Workflow\n",
    "\n",
    "1.  **Grid Initialization:** A grid of cell-agents is created, each initialized with a type (e.g., obstacle, empty) and a state (e.g., a value).\n",
    "2.  **Set Boundary Conditions:** One or more cells are given a special state to start a computation (e.g., a \"target\" cell's value is set to 0).\n",
    "3.  **Synchronous Tick:** The system \"ticks\" forward. In each tick, every cell simultaneously calculates its next state based on the current state of its neighbors.\n",
    "4.  **Emergence:** As the system ticks, information propagates across the grid like a wave. This can create gradients, paths, and other complex structures.\n",
    "5.  **State Stabilization:** The system runs until the grid state stabilizes (no more changes occur), indicating that the computation is complete.\n",
    "6.  **Readout:** The solution to the problem is then read directly from the final state of the grid (e.g., by following a computed gradient).\n",
    "\n",
    "### When to Use / Applications\n",
    "*   **Spatial Reasoning & Logistics:** Optimal pathfinding in dynamic environments (like our warehouse example).\n",
    "*   **Complex System Simulation:** Modeling phenomena with emergent behavior like forest fires, disease spread, or urban growth.\n",
    "*   **Parallel Computation:** Certain algorithms can be mapped to a cellular automata model for execution on highly parallel hardware (like GPUs).\n",
    "\n",
    "### Strengths & Weaknesses\n",
    "*   **Strengths:**\n",
    "    *   **High Parallelism:** The logic is inherently parallel, making it extremely fast on appropriate hardware.\n",
    "    *   **Adaptability:** The system can dynamically react to changes in the environment (e.g., a new obstacle) by simply re-propagating its waves.\n",
    "    *   **Emergent Complexity:** Can solve very complex problems with surprisingly simple rules.\n",
    "*   **Weaknesses:**\n",
    "    *   **Design Complexity:** Designing the local rules to produce the desired global behavior can be challenging and unintuitive.\n",
    "    *   **Less Introspective:** It's harder to ask a single cell \"why\" it has a certain state; the reasoning is distributed across the entire system."
   ]
  },
  {
   "cell_type": "markdown",
   "id": "phase0-title",
   "metadata": {},
   "source": [
    "## Phase 0: Foundation & Setup\n",
    "\n",
    "We need `numpy` for efficient grid operations and `rich` for high-quality terminal visualizations."
   ]
  },
  {
   "cell_type": "code",
   "execution_count": 1,
   "id": "install-libs",
   "metadata": {},
   "outputs": [],
   "source": [
    "# !pip install -q -U langchain-nebius rich python-dotenv numpy"
   ]
  },
  {
   "cell_type": "code",
   "execution_count": null,
   "id": "import-and-keys",
   "metadata": {},
   "outputs": [
    {
     "name": "stdout",
     "output_type": "stream",
     "text": [
      "Environment variables loaded and tracing is set up.\n"
     ]
    }
   ],
   "source": [
    "import os\n",
    "import numpy as np\n",
    "import time\n",
    "from typing import List, Dict, Any, Optional, Tuple\n",
    "from dotenv import load_dotenv\n",
    "from IPython.display import clear_output\n",
    "\n",
    "# LangChain for optional final summary\n",
    "from langchain_nebius import ChatNebius\n",
    "from langchain_core.prompts import ChatPromptTemplate\n",
    "\n",
    "# For pretty printing and visualization\n",
    "from rich.console import Console\n",
    "from rich.table import Table\n",
    "from rich.panel import Panel\n",
    "\n",
    "# --- API Key and Tracing Setup ---\n",
    "load_dotenv()\n",
    "\n",
    "os.environ[\"LANGCHAIN_TRACING_V2\"] = \"true\"\n",
    "os.environ[\"LANGCHAIN_PROJECT\"] = \"Agentic Architecture - Cellular Automata (Nebius)\"\n",
    "\n",
    "required_vars = [\"NEBIUS_API_KEY\", \"LANGCHAIN_API_KEY\"]\n",
    "for var in required_vars:\n",
    "    if var not in os.environ:\n",
    "        print(f\"Warning: Environment variable {var} not set.\")\n",
    "\n",
    "print(\"Environment variables loaded and tracing is set up.\")"
   ]
  },
  {
   "cell_type": "markdown",
   "id": "phase1-title",
   "metadata": {},
   "source": [
    "## Phase 1: Building the Cellular Automata Environment\n",
    "\n",
    "This is the most critical phase. We will define the two core classes for our simulation:\n",
    "1.  `CellAgent`: Represents a single cell in the grid. It contains its type, its state (a pathfinding value), and the local rule for updating that state.\n",
    "2.  `WarehouseGrid`: The container for the entire system. It will manage the 2D array of `CellAgent`s, orchestrate the synchronous `tick` updates, and handle visualization."
   ]
  },
  {
   "cell_type": "code",
   "execution_count": 3,
   "id": "environment-setup-code",
   "metadata": {},
   "outputs": [
    {
     "name": "stdout",
     "output_type": "stream",
     "text": [
      "Cellular Automata environment defined successfully.\n"
     ]
    }
   ],
   "source": [
    "console = Console()\n",
    "\n",
    "class CellAgent:\n",
    "    \"\"\"A single agent in our grid. Its only job is to update its value based on neighbors.\"\"\"\n",
    "    def __init__(self, cell_type: str, item: Optional[str] = None):\n",
    "        self.type = cell_type # 'EMPTY', 'OBSTACLE', 'SHELF', 'PACKING_STATION'\n",
    "        self.item = item\n",
    "        self.pathfinding_value = float('inf')\n",
    "\n",
    "    def update_value(self, neighbors: List['CellAgent']):\n",
    "        \"\"\"The core local rule: my new value is 1 + the minimum value of my non-obstacle neighbors.\"\"\"\n",
    "        if self.type == 'OBSTACLE':\n",
    "            return float('inf')\n",
    "        \n",
    "        min_neighbor_value = float('inf')\n",
    "        for neighbor in neighbors:\n",
    "            if neighbor.pathfinding_value < min_neighbor_value:\n",
    "                min_neighbor_value = neighbor.pathfinding_value\n",
    "        \n",
    "        # The +1 represents the cost of moving from a neighbor to this cell\n",
    "        return min(self.pathfinding_value, min_neighbor_value + 1)\n",
    "\n",
    "class WarehouseGrid:\n",
    "    \"\"\"Manages the entire grid of CellAgents and the simulation loop.\"\"\"\n",
    "    def __init__(self, layout: List[str]):\n",
    "        self.height = len(layout)\n",
    "        self.width = len(layout[0])\n",
    "        self.grid = self._create_grid_from_layout(layout)\n",
    "        self.item_locations = self._get_item_locations()\n",
    "\n",
    "    def _create_grid_from_layout(self, layout):\n",
    "        grid = np.empty((self.height, self.width), dtype=object)\n",
    "        for r, row_str in enumerate(layout):\n",
    "            for c, char in enumerate(row_str):\n",
    "                if char == ' ':\n",
    "                    grid[r, c] = CellAgent('EMPTY')\n",
    "                elif char == '#':\n",
    "                    grid[r, c] = CellAgent('OBSTACLE')\n",
    "                elif char == 'P':\n",
    "                    grid[r, c] = CellAgent('PACKING_STATION')\n",
    "                else: # It's an item\n",
    "                    grid[r, c] = CellAgent('SHELF', item=char)\n",
    "        return grid\n",
    "\n",
    "    def _get_item_locations(self) -> Dict[str, Tuple[int, int]]:\n",
    "        locations = {}\n",
    "        for r in range(self.height):\n",
    "            for c in range(self.width):\n",
    "                if self.grid[r, c].type == 'SHELF':\n",
    "                    locations[self.grid[r, c].item] = (r, c)\n",
    "                if self.grid[r, c].type == 'PACKING_STATION':\n",
    "                    locations['P'] = (r, c)\n",
    "        return locations\n",
    "\n",
    "    def get_neighbors(self, r: int, c: int) -> List[CellAgent]:\n",
    "        neighbors = []\n",
    "        for dr, dc in [(0, 1), (0, -1), (1, 0), (-1, 0)]: # N, S, E, W\n",
    "            nr, nc = r + dr, c + dc\n",
    "            if 0 <= nr < self.height and 0 <= nc < self.width:\n",
    "                neighbors.append(self.grid[nr, nc])\n",
    "        return neighbors\n",
    "\n",
    "    def tick(self) -> bool:\n",
    "        \"\"\"Performs one synchronous update of all cells. Returns True if any value changed.\"\"\"\n",
    "        changed = False\n",
    "        # First, calculate all new values based on the current state\n",
    "        new_values = np.empty((self.height, self.width))\n",
    "        for r in range(self.height):\n",
    "            for c in range(self.width):\n",
    "                neighbors = self.get_neighbors(r, c)\n",
    "                new_values[r, c] = self.grid[r, c].update_value(neighbors)\n",
    "        \n",
    "        # Then, apply all the new values\n",
    "        for r in range(self.height):\n",
    "            for c in range(self.width):\n",
    "                if self.grid[r, c].pathfinding_value != new_values[r, c]:\n",
    "                    self.grid[r, c].pathfinding_value = new_values[r, c]\n",
    "                    changed = True\n",
    "        return changed\n",
    "\n",
    "    def visualize(self, show_values: bool = False, title: str = \"Warehouse Grid\"):\n",
    "        \"\"\"Displays the grid state using Rich.\"\"\"\n",
    "        table = Table(title=title, show_header=False, show_edge=True, padding=0)\n",
    "        for _ in range(self.width):\n",
    "            table.add_column(justify=\"center\")\n",
    "        \n",
    "        for r in range(self.height):\n",
    "            row_renderables = []\n",
    "            for c in range(self.width):\n",
    "                cell = self.grid[r, c]\n",
    "                val = cell.pathfinding_value\n",
    "                display_char = ''\n",
    "                if cell.type == 'EMPTY': display_char = '[grey70]·[/grey70]'\n",
    "                elif cell.type == 'OBSTACLE': display_char = '[red]█[/red]'\n",
    "                elif cell.type == 'PACKING_STATION': display_char = '[bold green]P[/bold green]'\n",
    "                elif cell.type == 'SHELF': display_char = f'[bold blue]{cell.item}[/bold blue]'\n",
    "\n",
    "                if show_values and val != float('inf'):\n",
    "                    # Color code the path values\n",
    "                    color = int(255 - (val * 5) % 255)\n",
    "                    row_renderables.append(f\"[rgb({color},{color},{color}) on rgb(30,30,60)]{int(val):^3}[/]\")\n",
    "                else:\n",
    "                    row_renderables.append(f\" {display_char} \")\n",
    "            table.add_row(*row_renderables)\n",
    "        console.print(table)\n",
    "\n",
    "print(\"Cellular Automata environment defined successfully.\")"
   ]
  },
  {
   "cell_type": "markdown",
   "id": "phase2-title",
   "metadata": {},
   "source": [
    "## Phase 2: Implementing the Emergent Behaviors\n",
    "\n",
    "The grid itself is just a framework. We need to implement the high-level logic that uses the cellular automata to solve our problem. This involves two key emergent behaviors:\n",
    "\n",
    "1.  **Path Wave Propagation:** A function that sets a target and lets the grid `tick` until a complete pathfinding gradient has formed across the entire warehouse floor.\n",
    "2.  **Gradient Descent Traversal:** A function that simulates a \"carrier\" agent starting at an item's shelf and simply following the path of steepest descent (lowest `pathfinding_value`) until it reaches the target."
   ]
  },
  {
   "cell_type": "code",
   "execution_count": 4,
   "id": "emergent-behaviors-code",
   "metadata": {},
   "outputs": [
    {
     "name": "stdout",
     "output_type": "stream",
     "text": [
      "Emergent behavior functions defined successfully.\n"
     ]
    }
   ],
   "source": [
    "def propagate_path_wave(grid: WarehouseGrid, target_pos: Tuple[int, int], visualize_steps: bool = False):\n",
    "    \"\"\"Resets and then runs the simulation until the pathfinding values stabilize.\"\"\"\n",
    "    # Reset all pathfinding values\n",
    "    for r in range(grid.height):\n",
    "        for c in range(grid.width):\n",
    "            grid.grid[r, c].pathfinding_value = float('inf')\n",
    "            \n",
    "    # Set the target's value to 0 to start the wave\n",
    "    grid.grid[target_pos].pathfinding_value = 0\n",
    "    \n",
    "    tick_count = 0\n",
    "    while True:\n",
    "        tick_count += 1\n",
    "        if visualize_steps:\n",
    "            clear_output(wait=True)\n",
    "            grid.visualize(show_values=True, title=f\"Path Wave Propagation (Tick #{tick_count})\")\n",
    "            time.sleep(0.1)\n",
    "        \n",
    "        changed = grid.tick()\n",
    "        if not changed:\n",
    "            break\n",
    "    if visualize_steps:\n",
    "        clear_output(wait=True)\n",
    "        grid.visualize(show_values=True, title=f\"Path Wave Propagation (Stabilized at Tick #{tick_count})\")\n",
    "\n",
    "def trace_and_move_item(grid: WarehouseGrid, start_pos: Tuple[int, int]) -> List[Tuple[int, int]]:\n",
    "    \"\"\"Follows the gradient from the start position back to the target (value 0).\"\"\"\n",
    "    path = [start_pos]\n",
    "    r, c = start_pos\n",
    "    \n",
    "    while grid.grid[r, c].pathfinding_value > 0:\n",
    "        neighbors = grid.get_neighbors(r, c)\n",
    "        best_neighbor_pos = None\n",
    "        min_val = grid.grid[r, c].pathfinding_value\n",
    "        \n",
    "        # Find the neighbor with the lowest pathfinding value\n",
    "        for neighbor_cell in neighbors:\n",
    "            # Find the position of the neighbor cell\n",
    "            pos_list = np.where(grid.grid == neighbor_cell)\n",
    "            if len(pos_list[0]) > 0:\n",
    "                nr, nc = pos_list[0][0], pos_list[1][0]\n",
    "                if neighbor_cell.pathfinding_value < min_val:\n",
    "                    min_val = neighbor_cell.pathfinding_value\n",
    "                    best_neighbor_pos = (nr, nc)\n",
    "        \n",
    "        if best_neighbor_pos:\n",
    "            path.append(best_neighbor_pos)\n",
    "            r, c = best_neighbor_pos\n",
    "        else:\n",
    "            console.print(\"[red]Error: Path tracing got stuck. No downhill neighbor found.[/red]\")\n",
    "            break\n",
    "            \n",
    "    return path\n",
    "\n",
    "print(\"Emergent behavior functions defined successfully.\")"
   ]
  },
  {
   "cell_type": "markdown",
   "id": "phase3-title",
   "metadata": {},
   "source": [
    "## Phase 3: The Full Orchestration Workflow\n",
    "\n",
    "Now we'll create the top-level function that simulates the entire order fulfillment process. This will demonstrate how the emergent behaviors can be composed to solve a multi-step problem."
   ]
  },
  {
   "cell_type": "code",
   "execution_count": 5,
   "id": "demo-code",
   "metadata": {},
   "outputs": [
    {
     "data": {
      "text/plain": [
       "          Path Wave Propagation (Stabilized at Tick #17)           \n",
       "┏━━━━━━━━━━━━━━━━━━━━━━━━━━━━━━━━━━━━━━━━━━━━━━━━━━━━━━━━━━━━━━━━━━┓\n",
       "┃         ┃         ┃         ┃         ┃         ┃         ┃      ┃\n",
       "┃   █     ┃   █     ┃   █     ┃   █     ┃   █     ┃   █     ┃  █   ┃\n",
       "┃         ┃         ┃         ┃         ┃         ┃         ┃      ┃\n",
       "┠─────────┼─────────┼─────────┼─────────┼─────────┼─────────┼──────┨\n",
       "┃         ┃         ┃         ┃         ┃         ┃         ┃      ┃\n",
       "┃    7    ┃    6    ┃    5    ┃    D    ┃    5    ┃    6    ┃  █   ┃\n",
       "┃         ┃         ┃         ┃         ┃         ┃         ┃      ┃\n",
       "┠─────────┼─────────┼─────────┼─────────┼─────────┼─────────┼──────┨\n",
       "┃         ┃         ┃         ┃         ┃         ┃         ┃      ┃\n",
       "┃    6    ┃    5    ┃    4    ┃    3    ┃    4    ┃    5    ┃  6   ┃\n",
       "┃         ┃         ┃         ┃         ┃         ┃         ┃      ┃\n",
       "┠─────────┼─────────┼─────────┼─────────┼─────────┼─────────┼──────┨\n",
       "┃         ┃         ┃         ┃         ┃         ┃         ┃      ┃\n",
       "┃    A    ┃    4    ┃    3    ┃    2    ┃    C    ┃    6    ┃  7   ┃\n",
       "┃         ┃         ┃         ┃         ┃         ┃         ┃      ┃\n",
       "┠─────────┼─────────┼─────────┼─────────┼─────────┼─────────┼──────┨\n",
       "┃         ┃         ┃         ┃         ┃         ┃         ┃      ┃\n",
       "┃    6    ┃    5    ┃    4    ┃    1    ┃    5    ┃    B    ┃  8   ┃\n",
       "┃         ┃         ┃         ┃         ┃         ┃         ┃      ┃\n",
       "┠─────────┼─────────┼─────────┼─────────┼─────────┼─────────┼──────┨\n",
       "┃         ┃         ┃         ┃         ┃         ┃         ┃      ┃\n",
       "┃    7    ┃    6    ┃    5    ┃    P    ┃    6    ┃    7    ┃  8   ┃\n",
       "┃         ┃         ┃         ┃         ┃         ┃         ┃      ┃\n",
       "┠─────────┼─────────┼─────────┼─────────┼─────────┼─────────┼──────┨\n",
       "┃         ┃         ┃         ┃         ┃         ┃         ┃      ┃\n",
       "┃   █     ┃   █     ┃   █     ┃   █     ┃   █     ┃   █     ┃  █   ┃\n",
       "┃         ┃         ┃         ┃         ┃         ┃         ┃      ┃\n",
       "┗━━━━━━━━━━━━━━━━━━━━━━━━━━━━━━━━━━━━━━━━━━━━━━━━━━━━━━━━━━━━━━━━━━┛"
      ]
     },
     "metadata": {},
     "output_type": "display_data"
    },
    {
     "data": {
      "text/plain": [
       "                     Step 1: Fulfill Item 'A'                     \n",
       "┏━━━━━━━━━━━━━━━━━━━━━━━━━━━━━━━━━━━━━━━━━━━━━━━━━━━━━━━━━━━━━━━━━━┓\n",
       "┃ 🌊 Computing path wave from Packing Station...                   ┃\n",
       "┃ 🚚 Found path for item A. Moving along gradient...               ┃\n",
       "┃ Path: (3, 0) -> (3, 1) -> (3, 2) -> (4, 2) -> (5, 2) -> (5, 3)    ┃\n",
       "┃ ✅ Item 'A' has been moved to the packing station.                 ┃\n",
       "┗━━━━━━━━━━━━━━━━━━━━━━━━━━━━━━━━━━━━━━━━━━━━━━━━━━━━━━━━━━━━━━━━━━┛"
      ]
     },
     "metadata": {},
     "output_type": "display_data"
    },
    {
     "data": {
      "text/plain": [
       "                     Step 2: Fulfill Item 'B'                     \n",
       "┏━━━━━━━━━━━━━━━━━━━━━━━━━━━━━━━━━━━━━━━━━━━━━━━━━━━━━━━━━━━━━━━━━━┓\n",
       "┃ 🌊 Computing path wave from Packing Station...                   ┃\n",
       "┃ 🚚 Found path for item B. Moving along gradient...               ┃\n",
       "┃ Path: (4, 5) -> (4, 4) -> (4, 3) -> (5, 3)                       ┃\n",
       "┃ ✅ Item 'B' has been moved to the packing station.                 ┃\n",
       "┗━━━━━━━━━━━━━━━━━━━━━━━━━━━━━━━━━━━━━━━━━━━━━━━━━━━━━━━━━━━━━━━━━━┛"
      ]
     },
     "metadata": {},
     "output_type": "display_data"
    },
    {
     "data": {
      "text/plain": [
       "                  🎉 Order Fulfillment Complete!                   \n",
       "┏━━━━━━━━━━━━━━━━━━━━━━━━━━━━━━━━━━━━━━━━━━━━━━━━━━━━━━━━━━━━━━━━━━┓\n",
       "┃ The system successfully fulfilled the order for items ['A', 'B'] ┃\n",
       "┃ by emergently computing paths through local cell interactions.   ┃\n",
       "┗━━━━━━━━━━━━━━━━━━━━━━━━━━━━━━━━━━━━━━━━━━━━━━━━━━━━━━━━━━━━━━━━━━┛"
      ]
     },
     "metadata": {},
     "output_type": "display_data"
    },
    {
     "data": {
      "text/plain": [
       "\n",
       "--- 🤖 LLM Interpretation of the Final State ---\n"
      ]
     },
     "metadata": {},
     "output_type": "display_data"
    },
    {
     "data": {
      "text/markdown": [
       "The order for items A and B has been successfully fulfilled. Item A was retrieved from its shelf at coordinates (3, 0) and transported along a 6-step path to the packing station. Subsequently, item B was retrieved from (4, 5) and moved along a 4-step path to the same destination. The warehouse floor is now clear and ready for the next order."
      ],
      "text/plain": [
       "The order for items A and B has been successfully fulfilled. Item A was retrieved from its shelf at coordinates (3, 0) and transported along a 6-step path to the packing station. Subsequently, item B was retrieved from (4, 5) and moved along a 4-step path to the same destination. The warehouse floor is now clear and ready for the next order."
      ]
     },
     "metadata": {},
     "output_type": "display_data"
    }
   ],
   "source": [
    "def fulfill_order(layout: List[str], order: List[str], visualize_waves: bool = False):\n",
    "    \"\"\"The main orchestration function.\"\"\"\n",
    "    grid = WarehouseGrid(layout)\n",
    "    console.print(\"--- Initial Warehouse State ---\")\n",
    "    grid.visualize()\n",
    "    \n",
    "    packing_station_pos = grid.item_locations['P']\n",
    "    \n",
    "    for i, item_id in enumerate(order):\n",
    "        panel_title = f\"[bold]Step {i+1}: Fulfill Item '{item_id}'[/bold]\"\n",
    "        log_messages = []\n",
    "        \n",
    "        item_pos = grid.item_locations.get(item_id)\n",
    "        if not item_pos:\n",
    "            console.print(Panel(f\"[red]Error: Item '{item_id}' not found in warehouse.[/red]\", title=panel_title))\n",
    "            continue\n",
    "            \n",
    "        # 1. Compute the path wave from the packing station\n",
    "        log_messages.append(\"🌊 Computing path wave from Packing Station...\")\n",
    "        propagate_path_wave(grid, packing_station_pos, visualize_steps=visualize_waves)\n",
    "        \n",
    "        # 2. Trace the path for the current item\n",
    "        log_messages.append(f\"🚚 Found path for item {item_id}. Moving along gradient...\")\n",
    "        path = trace_and_move_item(grid, item_pos)\n",
    "        path_str = ' -> '.join(map(str, path))\n",
    "        log_messages.append(f\"Path: {path_str}\")\n",
    "\n",
    "        # 3. Update the grid state (item is now at packing station)\n",
    "        grid.grid[item_pos].type = 'EMPTY'\n",
    "        grid.grid[item_pos].item = None\n",
    "        log_messages.append(f\"✅ Item '{item_id}' has been moved to the packing station.\")\n",
    "        console.print(Panel('\\n'.join(log_messages), title=panel_title, border_style=\"blue\"))\n",
    "        \n",
    "    console.print(Panel(f\"The system successfully fulfilled the order for items {order} by emergently computing paths through local cell interactions.\", title=\"[bold green]🎉 Order Fulfillment Complete![/bold green]\", border_style=\"green\"))\n",
    "    return grid\n",
    "\n",
    "# --- Main Execution ---\n",
    "warehouse_layout = [\n",
    "    \"#######\",\n",
    "    \"# D   #\",\n",
    "    \"# ### #\",\n",
    "    \"#A#C# #\",\n",
    "    \"# # #B#\",\n",
    "    \"#  P  #\",\n",
    "    \"#######\",\n",
    "]\n",
    "order_to_fulfill = ['A', 'B']\n",
    "final_grid = fulfill_order(warehouse_layout, order_to_fulfill, visualize_waves=True)\n",
    "\n",
    "# --- Optional: LLM Interpretation ---\n",
    "console.print(\"\\n--- 🤖 LLM Interpretation of the Final State ---\")\n",
    "llm = ChatNebius(model=\"mistralai/Mixtral-8x22B-Instruct-v0.1\")\n",
    "summary_prompt = ChatPromptTemplate.from_template(\"You are a logistics manager. Briefly summarize the outcome of the following order fulfillment report.\\n\\nOrder: {order}\\nFinal Warehouse State: All items from the order have been moved to the packing station. Items A and B were retrieved. Original locations were {loc_A} and {loc_B}. The floor is now clear.\")\n",
    "summary_chain = summary_prompt | llm\n",
    "final_summary = summary_chain.invoke({\n",
    "    \"order\": order_to_fulfill, \n",
    "    \"loc_A\": WarehouseGrid(warehouse_layout).item_locations['A'],\n",
    "    \"loc_B\": WarehouseGrid(warehouse_layout).item_locations['B']\n",
    "}).content\n",
    "console.print(Markdown(final_summary))"
   ]
  },
  {
   "cell_type": "markdown",
   "id": "analysis-markdown",
   "metadata": {},
   "source": [
    "### Analysis of the Results\n",
    "\n",
    "This detailed implementation perfectly showcases the unique nature of Cellular Automata for problem-solving:\n",
    "\n",
    "1.  **No Central Planner:** At no point did we use a global pathfinding algorithm like A*. We never calculated a path in a top-down manner. The optimal path was an *emergent property* of the grid itself.\n",
    "\n",
    "2.  **Information as a Wave:** The `propagate_path_wave` function is the key. The visualization shows how the 'distance' from the packing station spreads across the grid tick by tick, flowing around obstacles naturally. This is the \"computational fabric\" at work. The grid has essentially computed the shortest path from *every single empty square* to the packing station simultaneously.\n",
    "\n",
    "3.  **Simple Agent, Complex Behavior:** The \"carrier\" that moves the item is incredibly simple. Its only logic is \"find the neighbor with the lowest number and move there.\" All the complex environmental reasoning was already encoded into the grid's state by the path wave.\n",
    "\n",
    "4.  **Adaptability:** If we were to change the warehouse layout by adding a new obstacle, we wouldn't need to rewrite a complex pathfinding algorithm. We would simply re-run the wave propagation, and the path values would automatically and correctly flow around the new obstacle, demonstrating the system's inherent adaptability.\n",
    "\n",
    "This is a fundamental shift from traditional agent design. Instead of building one smart agent that navigates a dumb environment, we build a smart environment composed of many dumb agents that collectively solves the problem."
   ]
  },
  {
   "cell_type": "markdown",
   "id": "conclusion",
   "metadata": {},
   "source": [
    "## Conclusion\n",
    "\n",
    "In this notebook, we have built a fully-realized **Cellular Automata / Grid-Based Agent System**. We moved beyond theory and implemented a practical solution to a complex spatial reasoning problem, warehouse logistics.\n",
    "\n",
    "We have seen firsthand how complex, goal-oriented behavior can emerge from the synchronous execution of simple, local rules across a grid of mini-agents. The concepts of **wave propagation** and **gradient descent** were not explicitly programmed in a top-down manner but were the natural result of the cellular automata's evolution.\n",
    "\n",
    "This architecture, while not suited for all problems, is exceptionally powerful for tasks involving spatial reasoning, simulation, and optimization in dynamic environments. It encourages us to think of agentic systems less as individual \"bots\" and more as a **programmable, computational environment** that can be configured to solve problems in a massively parallel and adaptive way."
   ]
  }
 ],
 "metadata": {
  "kernelspec": {
   "display_name": "Python 3 (ipykernel)",
   "language": "python",
   "name": "python3"
  },
  "language_info": {
   "codemirror_mode": {
    "name": "ipython",
    "version": 3
   },
   "file_extension": ".py",
   "mimetype": "text/x-python",
   "name": "python",
   "nbconvert_exporter": "python",
   "pygments_lexer": "ipython3",
   "version": "3.10.13"
  }
 },
 "nbformat": 4,
 "nbformat_minor": 5
}
