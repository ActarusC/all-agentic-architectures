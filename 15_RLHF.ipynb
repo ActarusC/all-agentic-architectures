{
 "cells": [
  {
   "cell_type": "markdown",
   "id": "intro-title",
   "metadata": {},
   "source": [
    "# 📘 Agentic Architectures 15: Self-Improvement Loop (Self-Refine & RLHF Analogy)\n",
    "\n",
    "Welcome to a deep dive into what is arguably the most advanced agentic pattern: the **Self-Improvement Loop**. This architecture enables an agent to learn from its own performance, iteratively refining its output to achieve a higher standard of quality. It's the mechanism that allows an agent to go from a good baseline to expert-level performance over time.\n",
    "\n",
    "This process mimics the human learning cycle of `do -> get feedback -> improve`. We will implement this through a **Self-Refine** workflow, where an agent's output is immediately evaluated by a critical sub-agent, and if it's found lacking, the original agent is tasked with revising its work based on the actionable feedback.\n",
    "\n",
    "To make this concept tangible and detailed, we will build a **Marketing Copywriter Agent**. The workflow will be:\n",
    "1.  A `JuniorCopywriter` agent generates a first draft of a marketing email.\n",
    "2.  A `SeniorEditor` agent critiques the draft against a strict rubric (clarity, persuasiveness, call-to-action).\n",
    "3.  If the draft's score is below a quality threshold, the `JuniorCopywriter` is invoked again, but this time with the editor's specific feedback, to create a revised draft.\n",
    "4.  This loop continues until the email is approved or a maximum number of revisions is reached.\n",
    "\n",
    "Furthermore, we will explore how this pattern forms the conceptual basis for **long-term learning**, analogous to RLHF, by saving the best-performing outputs to a persistent memory that informs future generations, creating a system that truly learns."
   ]
  },
  {
   "cell_type": "markdown",
   "id": "intro-definition",
   "metadata": {},
   "source": [
    "### Definition\n",
    "A **Self-Improvement Loop** is an agentic architecture where an agent's output is evaluated, either by itself or by another agent, and this evaluation is used as feedback to generate a revised, higher-quality output. When this feedback is stored and used to improve the agent's baseline performance over time, it becomes a form of continual learning.\n",
    "\n",
    "### High-level Workflow (Self-Refine)\n",
    "\n",
    "1.  **Generate Initial Output:** The primary agent produces a first version of the solution (the \"draft\").\n",
    "2.  **Critique Output:** A critic agent (or the primary agent in a \"critique mode\") evaluates the draft against a set of predefined criteria or a general rubric.\n",
    "3.  **Decision:** The system checks if the critique is positive enough to accept the output. \n",
    "4.  **Revise (Loop):** If the output is not accepted, the original draft *and* the critic's feedback are passed back to the primary agent, which is instructed to generate a revised version that addresses the feedback.\n",
    "5.  **Accept:** Once the output meets the quality standard, the loop terminates, and the final version is returned.\n",
    "\n",
    "### When to Use / Applications\n",
    "*   **High-Quality Content Generation:** For tasks where a generic first draft is insufficient, such as writing legal documents, detailed technical reports, or persuasive marketing copy.\n",
    "*   **Continual Learning & Personalization:** An agent that learns a user's preferences by generating responses, getting implicit or explicit feedback, and refining its internal strategy for the next interaction.\n",
    "*   **Complex Problem Solving:** An agent can propose a plan, critique it for flaws or inefficiencies, and then revise the plan before execution.\n",
    "\n",
    "### Strengths & Weaknesses\n",
    "*   **Strengths:**\n",
    "    *   **Dramatically Increases Output Quality:** Iterative refinement consistently produces better results than single-shot generation.\n",
    "    *   **Enables Continual Learning:** Provides a framework for the agent to get better over time, adapting to new information or feedback.\n",
    "*   **Weaknesses:**\n",
    "    *   **Risk of Reinforcing Biases:** If the critic agent has flawed logic or biases, the system can get stuck in a loop that reinforces its own mistakes.\n",
    "    *   **Computationally Expensive:** The iterative nature means multiple LLM calls per task, increasing cost and latency."
   ]
  },
  {
   "cell_type": "markdown",
   "id": "phase0-title",
   "metadata": {},
   "source": [
    "## Phase 0: Foundation & Setup\n",
    "\n",
    "Standard setup of libraries and environment variables."
   ]
  },
  {
   "cell_type": "code",
   "execution_count": 1,
   "id": "install-libs",
   "metadata": {},
   "outputs": [],
   "source": [
    "# !pip install -q -U langchain-nebius langchain langgraph rich python-dotenv"
   ]
  },
  {
   "cell_type": "code",
   "execution_count": 2,
   "id": "import-and-keys",
   "metadata": {},
   "outputs": [
    {
     "name": "stdout",
     "output_type": "stream",
     "text": [
      "Environment variables loaded and tracing is set up.\n"
     ]
    }
   ],
   "source": [
    "import os\n",
    "from typing import List, Dict, Any, Optional\n",
    "from dotenv import load_dotenv\n",
    "\n",
    "# Pydantic for data modeling\n",
    "from pydantic import BaseModel, Field\n",
    "\n",
    "# LangChain components\n",
    "from langchain_nebius import ChatNebius\n",
    "from langchain_core.prompts import ChatPromptTemplate\n",
    "\n",
    "# LangGraph components\n",
    "from langgraph.graph import StateGraph, END\n",
    "from typing_extensions import TypedDict\n",
    "\n",
    "# For pretty printing\n",
    "from rich.console import Console\n",
    "from rich.markdown import Markdown\n",
    "from rich.panel import Panel\n",
    "\n",
    "# --- API Key and Tracing Setup ---\n",
    "load_dotenv()\n",
    "\n",
    "os.environ[\"LANGCHAIN_TRACING_V2\"] = \"true\"\n",
    "os.environ[\"LANGCHAIN_PROJECT\"] = \"Agentic Architecture - Self-Improvement Loop (Nebius)\"\n",
    "\n",
    "required_vars = [\"NEBIUS_API_KEY\", \"LANGCHAIN_API_KEY\"]\n",
    "for var in required_vars:\n",
    "    if var not in os.environ:\n",
    "        print(f\"Warning: Environment variable {var} not set.\")\n",
    "\n",
    "print(\"Environment variables loaded and tracing is set up.\")"
   ]
  },
  {
   "cell_type": "markdown",
   "id": "phase1-title",
   "metadata": {},
   "source": [
    "## Phase 1: Defining the Core Components (Generator, Critic, Reviser)\n",
    "\n",
    "Our system needs distinct roles. We'll define the personas and structured outputs for our `JuniorCopywriter` (the generator) and our `SeniorEditor` (the critic). The `Reviser` isn't a new agent, but rather a different mode of invoking the generator, armed with feedback."
   ]
  },
  {
   "cell_type": "code",
   "execution_count": 3,
   "id": "components-setup-code",
   "metadata": {},
   "outputs": [
    {
     "name": "stdout",
     "output_type": "stream",
     "text": [
      "Generator and Critic components defined successfully.\n"
     ]
    }
   ],
   "source": [
    "console = Console()\n",
    "llm = ChatNebius(model=\"mistralai/Mixtral-8x22B-Instruct-v0.1\", temperature=0.4)\n",
    "\n",
    "# --- Pydantic Models for Structured Data ---\n",
    "class MarketingEmail(BaseModel):\n",
    "    \"\"\"Represents a marketing email draft.\"\"\"\n",
    "    subject: str = Field(description=\"A catchy and concise subject line for the email.\")\n",
    "    body: str = Field(description=\"The full body text of the email, written in markdown.\")\n",
    "\n",
    "class Critique(BaseModel):\n",
    "    \"\"\"A structured critique of the marketing email draft.\"\"\"\n",
    "    score: int = Field(description=\"Overall quality score from 1 (poor) to 10 (excellent).\")\n",
    "    feedback_points: List[str] = Field(description=\"A bulleted list of specific, actionable feedback points for improvement.\")\n",
    "    is_approved: bool = Field(description=\"A boolean indicating if the draft is approved (score >= 8). This is redundant with the score but useful for routing.\")\n",
    "\n",
    "# --- 1. The Generator: Junior Copywriter ---\n",
    "def get_generator_chain():\n",
    "    prompt = ChatPromptTemplate.from_messages([\n",
    "        (\"system\", \"You are a junior marketing copywriter. Your task is to write a first draft of a marketing email based on the user's request. Be creative, but focus on getting the core message across.\"),\n",
    "        (\"human\", \"Write a marketing email about the following topic:\\n\\n{request}\")\n",
    "    ])\n",
    "    return prompt | llm.with_structured_output(MarketingEmail)\n",
    "\n",
    "# --- 2. The Critic: Senior Editor ---\n",
    "def get_critic_chain():\n",
    "    prompt = ChatPromptTemplate.from_messages([\n",
    "        (\"system\", \"\"\"You are a senior marketing editor and brand manager. Your job is to critique an email draft written by a junior copywriter. \n",
    "        Evaluate the draft against the following criteria:\n",
    "        1.  **Catchy Subject:** Is the subject line engaging and likely to get opened?\n",
    "        2.  **Clarity & Persuasiveness:** Is the body text clear, compelling, and persuasive?\n",
    "        3.  **Strong Call-to-Action (CTA):** Is there a clear, single action for the user to take?\n",
    "        4.  **Brand Voice:** Is the tone professional yet approachable?\n",
    "        Provide a score from 1-10. A score of 8 or higher means the draft is approved for sending. Provide specific, actionable feedback to help the writer improve.\"\"\"\n",
    "        ),\n",
    "        (\"human\", \"Please critique the following email draft:\\n\\n**Subject:** {subject}\\n\\n**Body:**\\n{body}\")\n",
    "    ])\n",
    "    return prompt | llm.with_structured_output(Critique)\n",
    "\n",
    "# --- 3. The Reviser (Generator in 'Revise' Mode) ---\n",
    "def get_reviser_chain():\n",
    "    prompt = ChatPromptTemplate.from_messages([\n",
    "        (\"system\", \"You are the junior marketing copywriter who wrote the original draft. You have just received feedback from your senior editor. Your task is to carefully revise your draft to address every single point of feedback. Produce a new, improved version of the email.\"),\n",
    "        (\"human\", \"Original Request: {request}\\n\\nHere is your original draft:\\n**Subject:** {original_subject}\\n**Body:**\\n{original_body}\\n\\nHere is the feedback from your editor:\\n{feedback}\\n\\nPlease provide the revised email.\")\n",
    "    ])\n",
    "    return prompt | llm.with_structured_output(MarketingEmail)\n",
    "\n",
    "print(\"Generator and Critic components defined successfully.\")"
   ]
  },
  {
   "cell_type": "markdown",
   "id": "phase2-title",
   "metadata": {},
   "source": [
    "## Phase 2: Building the Self-Refinement Loop with LangGraph\n",
    "\n",
    "Now we'll construct the graph that automates the `Generate -> Critique -> Revise` loop. The state will track the draft, critique, and the number of revisions. A conditional edge will check the critic's score to decide whether to exit the loop or continue with another revision."
   ]
  },
  {
   "cell_type": "code",
   "execution_count": 4,
   "id": "agent-build-code",
   "metadata": {},
   "outputs": [
    {
     "name": "stdout",
     "output_type": "stream",
     "text": [
      "Self-Refinement agent graph compiled successfully.\n"
     ]
    }
   ],
   "source": [
    "# LangGraph State\n",
    "class AgentState(TypedDict):\n",
    "    user_request: str\n",
    "    draft_email: Optional[MarketingEmail]\n",
    "    critique: Optional[Critique]\n",
    "    revision_number: int\n",
    "\n",
    "# Graph Nodes\n",
    "def generate_node(state: AgentState) -> Dict[str, Any]:\n",
    "    console.print(Panel(\"📝 Junior Copywriter is generating the initial draft.\", title=\"[yellow]Step: Generate[/yellow]\", border_style=\"yellow\"))\n",
    "    chain = get_generator_chain()\n",
    "    draft = chain.invoke({\"request\": state['user_request']})\n",
    "    console.print(Panel(f\"[bold]Subject:[/bold] {draft.subject}\\n\\n{draft.body}\", title=\"Draft 1\"))\n",
    "    return {\"draft_email\": draft, \"revision_number\": 1}\n",
    "\n",
    "def critique_node(state: AgentState) -> Dict[str, Any]:\n",
    "    title = f\"[yellow]Step: Critique (Revision #{state['revision_number']})[/yellow]\"\n",
    "    console.print(Panel(f\"🧐 Senior Editor is critiquing draft #{state['revision_number']}.\", title=title, border_style=\"yellow\"))\n",
    "    chain = get_critic_chain()\n",
    "    critique_result = chain.invoke(state['draft_email'].dict())\n",
    "    feedback_text = \"\\n- \".join(critique_result.feedback_points)\n",
    "    console.print(Panel(f\"[bold]Score:[/bold] {critique_result.score}/10\\n[bold]Feedback:[/bold]\\n- {feedback_text}\", title=\"Critique Result\"))\n",
    "    return {\"critique\": critique_result}\n",
    "\n",
    "def revise_node(state: AgentState) -> Dict[str, Any]:\n",
    "    console.print(Panel(\"✍️ Junior Copywriter is revising the draft based on feedback.\", title=\"[yellow]Step: Revise[/yellow]\", border_style=\"yellow\"))\n",
    "    chain = get_reviser_chain()\n",
    "    feedback_str = \"\\n- \".join(state['critique'].feedback_points)\n",
    "    revised_draft = chain.invoke({\n",
    "        \"request\": state['user_request'],\n",
    "        \"original_subject\": state['draft_email'].subject,\n",
    "        \"original_body\": state['draft_email'].body,\n",
    "        \"feedback\": feedback_str,\n",
    "    })\n",
    "    console.print(Panel(f\"[bold]Subject:[/bold] {revised_draft.subject}\\n\\n{revised_draft.body}\", title=f\"Draft {state['revision_number'] + 1}\"))\n",
    "    return {\"draft_email\": revised_draft, \"revision_number\": state['revision_number'] + 1}\n",
    "\n",
    "# Conditional Edge\n",
    "def should_continue(state: AgentState) -> str:\n",
    "    console.print(Panel(\"⚖️ Decision Point: Does the draft meet quality standards?\", title=\"[yellow]Step: Decide[/yellow]\", border_style=\"yellow\"))\n",
    "    if state['critique'].is_approved:\n",
    "        console.print(\"[green]Conclusion: Critique APPROVED! Finishing process.[/green]\")\n",
    "        return \"end\"\n",
    "    if state['revision_number'] >= 3: # Set a max revision limit\n",
    "        console.print(\"[red]Conclusion: Max revisions reached. Finishing with last draft.[/red]\")\n",
    "        return \"end\"\n",
    "    else:\n",
    "        console.print(\"[yellow]Conclusion: Critique requires revision. Looping back.[/yellow]\")\n",
    "        return \"continue\"\n",
    "\n",
    "# Build the graph\n",
    "workflow = StateGraph(AgentState)\n",
    "workflow.add_node(\"generate\", generate_node)\n",
    "workflow.add_node(\"critique\", critique_node)\n",
    "workflow.add_node(\"revise\", revise_node)\n",
    "\n",
    "workflow.set_entry_point(\"generate\")\n",
    "workflow.add_edge(\"generate\", \"critique\")\n",
    "workflow.add_conditional_edges(\n",
    "    \"critique\",\n",
    "    should_continue,\n",
    "    {\"continue\": \"revise\", \"end\": END}\n",
    ")\n",
    "workflow.add_edge(\"revise\", \"critique\")\n",
    "\n",
    "self_refine_agent = workflow.compile()\n",
    "print(\"Self-Refinement agent graph compiled successfully.\")"
   ]
  },
  {
   "cell_type": "markdown",
   "id": "phase3-title",
   "metadata": {},
   "source": [
    "## Phase 3: Demonstration of the Self-Refinement Loop\n",
    "\n",
    "Let's run the agent and observe the iterative refinement process. We'll ask it to write an email for a new AI product and watch as it generates, gets critiqued, and revises its own work until it meets the quality bar."
   ]
  },
  {
   "cell_type": "code",
   "execution_count": 5,
   "id": "demo-code",
   "metadata": {},
   "outputs": [
    {
     "name": "stdout",
     "output_type": "stream",
     "text": [
      "--- 🚀 Kicking off the Self-Refinement Process ---\n"
     ]
    },
    {
     "data": {
      "text/plain": [
       "                  Step: Generate                   \n",
       "┏━━━━━━━━━━━━━━━━━━━━━━━━━━━━━━━━━━━━━━━━━━━━━━━━━━┓\n",
       "┃ 📝 Junior Copywriter is generating the initial   ┃\n",
       "┃ draft.                                           ┃\n",
       "┗━━━━━━━━━━━━━━━━━━━━━━━━━━━━━━━━━━━━━━━━━━━━━━━━━━┛"
      ]
     },
     "output_type": "display_data",
     "metadata": {}
    },
    {
     "data": {
      "text/plain": [
       "                             Draft 1                              \n",
       "┏━━━━━━━━━━━━━━━━━━━━━━━━━━━━━━━━━━━━━━━━━━━━━━━━━━━━━━━━━━━━━━━━━━┓\n",
       "┃ Subject: New Product Announcement                                ┃\n",
       "┃                                                                  ┃\n",
       "┃ Hello,                                                           ┃\n",
       "┃                                                                  ┃\n",
       "┃ We are happy to announce our new product, InsightSphere. It's an ┃\n",
       "┃ AI-powered data analytics platform. It can help you analyze your ┃\n",
       "┃ data.                                                            ┃\n",
       "┃                                                                  ┃\n",
       "┃ Click here to learn more.                                        ┃\n",
       "┃                                                                  ┃\n",
       "┃ Thanks,                                                          ┃\n",
       "┃ The Team                                                         ┃\n",
       "┗━━━━━━━━━━━━━━━━━━━━━━━━━━━━━━━━━━━━━━━━━━━━━━━━━━━━━━━━━━━━━━━━━━┛"
      ]
     },
     "output_type": "display_data",
     "metadata": {}
    },
    {
     "data": {
      "text/plain": [
       "               Step: Critique (Revision #1)                \n",
       "┏━━━━━━━━━━━━━━━━━━━━━━━━━━━━━━━━━━━━━━━━━━━━━━━━━━━━━━━━━━┓\n",
       "┃ 🧐 Senior Editor is critiquing draft #1.                 ┃\n",
       "┗━━━━━━━━━━━━━━━━━━━━━━━━━━━━━━━━━━━━━━━━━━━━━━━━━━━━━━━━━━┛"
      ]
     },
     "output_type": "display_data",
     "metadata": {}
    },
    {
     "data": {
      "text/plain": [
       "                         Critique Result                          \n",
       "┏━━━━━━━━━━━━━━━━━━━━━━━━━━━━━━━━━━━━━━━━━━━━━━━━━━━━━━━━━━━━━━━━━━┓\n",
       "┃ Score: 4/10                                                      ┃\n",
       "┃ Feedback:                                                        ┃\n",
       "┃ - The subject line 'New Product Announcement' is generic and      ┃\n",
       "┃ uninspired. It needs to be more intriguing to grab attention.    ┃\n",
       "┃ - The body is too simplistic and doesn't explain the value       ┃\n",
       "┃ proposition. What problems does InsightSphere solve? Use more    ┃\n",
       "┃ persuasive language.                                             ┃\n",
       "┃ - 'Click here to learn more' is a weak call-to-action. Be more   ┃\n",
       "┃ specific and create urgency.                                     ┃\n",
       "┃ - The tone is flat. It needs more energy and excitement to match ┃\n",
       "┃ a 'revolutionary' product.                                       ┃\n",
       "┗━━━━━━━━━━━━━━━━━━━━━━━━━━━━━━━━━━━━━━━━━━━━━━━━━━━━━━━━━━━━━━━━━━┛"
      ]
     },
     "output_type": "display_data",
     "metadata": {}
    },
    {
     "data": {
      "text/plain": [
       "        Step: Decide         \n",
       "┏━━━━━━━━━━━━━━━━━━━━━━━━━━┓\n",
       "┃ ⚖️ Decision Point: Does   ┃\n",
       "┃ the draft meet quality   ┃\n",
       "┃ standards?               ┃\n",
       "┗━━━━━━━━━━━━━━━━━━━━━━━━━━┛"
      ]
     },
     "output_type": "display_data",
     "metadata": {}
    },
    {
     "name": "stdout",
     "output_type": "stream",
     "text": [
      "Conclusion: Critique requires revision. Looping back.\n"
     ]
    },
    {
     "data": {
      "text/plain": [
       "                    Step: Revise                     \n",
       "┏━━━━━━━━━━━━━━━━━━━━━━━━━━━━━━━━━━━━━━━━━━━━━━━━━━┓\n",
       "┃ ✍️ Junior Copywriter is revising the draft based  ┃\n",
       "┃ on feedback.                                     ┃\n",
       "┗━━━━━━━━━━━━━━━━━━━━━━━━━━━━━━━━━━━━━━━━━━━━━━━━━━┛"
      ]
     },
     "output_type": "display_data",
     "metadata": {}
    },
    {
     "data": {
      "text/plain": [
       "                             Draft 2                              \n",
       "┏━━━━━━━━━━━━━━━━━━━━━━━━━━━━━━━━━━━━━━━━━━━━━━━━━━━━━━━━━━━━━━━━━━┓\n",
       "┃ Subject: Unlock Your Data's True Potential with InsightSphere    ┃\n",
       "┃                                                                  ┃\n",
       "┃ Hi [Name],                                                       ┃\n",
       "┃                                                                  ┃\n",
       "┃ Are you struggling to turn massive datasets into actionable      ┃\n",
       "┃ insights?                                                        ┃\n",
       "┃                                                                  ┃\n",
       "┃ We're thrilled to introduce **InsightSphere**, our revolutionary ┃\n",
       "┃ new AI-powered analytics platform. Stop guessing and start       ┃\n",
       "┃ knowing. InsightSphere surfaces hidden patterns, predicts future ┃\n",
       "┃ trends, and provides the clarity you need to make smarter,       ┃\n",
       "┃ data-driven decisions.                                           ┃\n",
       "┃                                                                  ┃\n",
       "┃ Don't get left behind. Be one of the first to experience the     ┃\n",
       "┃ future of business intelligence.                                 ┃\n",
       "┃                                                                  ┃\n",
       "┃ **[Request a Personalized Demo Today]**                          ┃\n",
       "┃                                                                  ┃\n",
       "┃ Best,                                                            ┃\n",
       "┃ The InsightSphere Team                                           ┃\n",
       "┗━━━━━━━━━━━━━━━━━━━━━━━━━━━━━━━━━━━━━━━━━━━━━━━━━━━━━━━━━━━━━━━━━━┛"
      ]
     },
     "output_type": "display_data",
     "metadata": {}
    },
    {
     "data": {
      "text/plain": [
       "               Step: Critique (Revision #2)                \n",
       "┏━━━━━━━━━━━━━━━━━━━━━━━━━━━━━━━━━━━━━━━━━━━━━━━━━━━━━━━━━━┓\n",
       "┃ 🧐 Senior Editor is critiquing draft #2.                 ┃\n",
       "┗━━━━━━━━━━━━━━━━━━━━━━━━━━━━━━━━━━━━━━━━━━━━━━━━━━━━━━━━━━┛"
      ]
     },
     "output_type": "display_data",
     "metadata": {}
    },
    {
     "data": {
      "text/plain": [
       "                         Critique Result                          \n",
       "┏━━━━━━━━━━━━━━━━━━━━━━━━━━━━━━━━━━━━━━━━━━━━━━━━━━━━━━━━━━━━━━━━━━┓\n",
       "┃ Score: 9/10                                                      ┃\n",
       "┃ Feedback:                                                        ┃\n",
       "┃ - Excellent work on the revision. The subject line is much       ┃\n",
       "┃ stronger and benefit-oriented.                                   ┃\n",
       "┃ - The body now clearly articulates the problem and presents      ┃\n",
       "┃ InsightSphere as the solution. The language is persuasive and    ┃\n",
       "┃ energetic.                                                       ┃\n",
       "┃ - The call-to-action is specific, clear, and creates a sense of  ┃\n",
       "┃ exclusivity.                                                     ┃\n",
       "┃ - This draft is approved and ready to send.                      ┃\n",
       "┗━━━━━━━━━━━━━━━━━━━━━━━━━━━━━━━━━━━━━━━━━━━━━━━━━━━━━━━━━━━━━━━━━━┛"
      ]
     },
     "output_type": "display_data",
     "metadata": {}
    },
    {
     "data": {
      "text/plain": [
       "        Step: Decide         \n",
       "┏━━━━━━━━━━━━━━━━━━━━━━━━━━┓\n",
       "┃ ⚖️ Decision Point: Does   ┃\n",
       "┃ the draft meet quality   ┃\n",
       "┃ standards?               ┃\n",
       "┗━━━━━━━━━━━━━━━━━━━━━━━━━━┛"
      ]
     },
     "output_type": "display_data",
     "metadata": {}
    },
    {
     "name": "stdout",
     "output_type": "stream",
     "text": [
      "Conclusion: Critique APPROVED! Finishing process.\n"
     ]
    },
    {
     "data": {
      "text/plain": [
       "\n",
       "--- Final Approved Email ---\n"
      ]
     },
     "output_type": "display_data",
     "metadata": {}
    },
    {
     "data": {
      "text/plain": [
       "                           Approved Email                           \n",
       "┏━━━━━━━━━━━━━━━━━━━━━━━━━━━━━━━━━━━━━━━━━━━━━━━━━━━━━━━━━━━━━━━━━━┓\n",
       "┃ Subject: Unlock Your Data's True Potential with InsightSphere    ┃\n",
       "┃                                                                  ┃\n",
       "┃ ---                                                              ┃\n",
       "┃                                                                  ┃\n",
       "┃ Hi [Name],                                                       ┃\n",
       "┃                                                                  ┃\n",
       "┃ Are you struggling to turn massive datasets into actionable      ┃\n",
       "┃ insights?                                                        ┃\n",
       "┃                                                                  ┃\n",
       "┃ We're thrilled to introduce **InsightSphere**, our revolutionary ┃\n",
       "┃ new AI-powered analytics platform. Stop guessing and start       ┃\n",
       "┃ knowing. InsightSphere surfaces hidden patterns, predicts future ┃\n",
       "┃ trends, and provides the clarity you need to make smarter,       ┃\n",
       "┃ data-driven decisions.                                           ┃\n",
       "┃                                                                  ┃\n",
       "┃ Don't get left behind. Be one of the first to experience the     ┃\n",
       "┃ future of business intelligence.                                 ┃\n",
       "┃                                                                  ┃\n",
       "┃ **[Request a Personalized Demo Today]**                          ┃\n",
       "┃                                                                  ┃\n",
       "┃ Best,                                                            ┃\n",
       "┃ The InsightSphere Team                                           ┃\n",
       "┗━━━━━━━━━━━━━━━━━━━━━━━━━━━━━━━━━━━━━━━━━━━━━━━━━━━━━━━━━━━━━━━━━━┛\n",
       "                            Final Score: 9/10                             "
      ]
     },
     "output_type": "display_data",
     "metadata": {}
    }
   ],
   "source": [
    "def run_agent(request: str):\n",
    "    initial_state = {\"user_request\": request}\n",
    "    # stream() allows us to see the intermediate steps\n",
    "    final_state = None\n",
    "    for step in self_refine_agent.stream(initial_state):\n",
    "        # The final state is the one just before END is called\n",
    "        if END not in step:\n",
    "            final_state = list(step.values())[0]\n",
    "    return final_state\n",
    "\n",
    "request = \"Write a marketing email announcing our new revolutionary AI-powered data analytics platform, 'InsightSphere'.\"\n",
    "console.print(f\"--- 🚀 Kicking off the Self-Refinement Process ---\")\n",
    "final_result = run_agent(request)\n",
    "\n",
    "# Display the final, approved result\n",
    "console.print(\"\\n--- Final Approved Email ---\")\n",
    "final_email = final_result['draft_email']\n",
    "final_critique = final_result['critique']\n",
    "email_panel = Panel(\n",
    "    f\"[bold]Subject:[/bold] {final_email.subject}\\n\\n---\\n\\n{final_email.body}\",\n",
    "    title=\"[bold green]Approved Email[/bold green]\",\n",
    "    subtitle=f\"[green]Final Score: {final_critique.score}/10[/green]\",\n",
    "    border_style=\"green\"\n",
    ")\n",
    "console.print(email_panel)"
   ]
  },
  {
   "cell_type": "markdown",
   "id": "phase4-title",
   "metadata": {},
   "source": [
    "## Phase 4: Persistent Improvement - The RLHF Analogy\n",
    "\n",
    "The self-refine loop improves quality for a *single run*. But how do we make the agent better *over time*? We can extend our architecture to save the high-quality, approved outputs and use them as examples for future tasks. This is a practical, application-level analogy to how Reinforcement Learning from Human/AI Feedback (RLHF) works.\n",
    "\n",
    "We will define a simple in-memory `GoldStandardMemory` and a new generator node that uses this memory to improve its first draft."
   ]
  },
  {
   "cell_type": "code",
   "execution_count": 6,
   "id": "rlhf-analogy-code",
   "metadata": {},
   "outputs": [
    {
     "name": "stdout",
     "output_type": "stream",
     "text": [
      "Persistent memory components defined successfully.\n"
     ]
    },
    {
     "data": {
      "text/plain": [
       "        🏆 Saving approved email to Gold Standard Memory         \n",
       "┏━━━━━━━━━━━━━━━━━━━━━━━━━━━━━━━━━━━━━━━━━━━━━━━━━━━━━━━━━━━━━━━━━━┓\n",
       "┃ The high-quality, editor-approved email for 'InsightSphere' has  ┃\n",
       "┃ been saved. It will now be used as a reference for future        ┃\n",
       "┃ generations.                                                     ┃\n",
       "┗━━━━━━━━━━━━━━━━━━━━━━━━━━━━━━━━━━━━━━━━━━━━━━━━━━━━━━━━━━━━━━━━━━┛"
      ]
     },
     "output_type": "display_data",
     "metadata": {}
    },
    {
     "name": "stdout",
     "output_type": "stream",
     "text": [
      "\n",
      "--- 🚀 Kicking off the Self-Refinement Process with Memory ---\n"
     ]
    },
    {
     "data": {
      "text/plain": [
       "            Step: Generate             \n",
       "┏━━━━━━━━━━━━━━━━━━━━━━━━━━━━━━━━━━━━━━┓\n",
       "┃ 📝 Junior Copywriter is generating   ┃\n",
       "┃ the initial draft (Informed by Past  ┃\n",
       "┃ Successes).                          ┃\n",
       "┗━━━━━━━━━━━━━━━━━━━━━━━━━━━━━━━━━━━━━━┛"
      ]
     },
     "output_type": "display_data",
     "metadata": {}
    },
    {
     "data": {
      "text/plain": [
       "                             Draft 1                              \n",
       "┏━━━━━━━━━━━━━━━━━━━━━━━━━━━━━━━━━━━━━━━━━━━━━━━━━━━━━━━━━━━━━━━━━━┓\n",
       "┃ Subject: Go From Data to Decisions, Instantly, with Visionary    ┃\n",
       "┃                                                                  ┃\n",
       "┃ Hi [Name],                                                       ┃\n",
       "┃                                                                  ┃\n",
       "┃ Is your team drowning in data but starving for wisdom?           ┃\n",
       "┃                                                                  ┃\n",
       "┃ Introducing **Visionary**, our groundbreaking AI-powered CRM     ┃\n",
       "┃ that doesn't just store customer information—it understands it.  ┃\n",
       "┃ Visionary automatically analyzes interactions, predicts customer ┃\n",
       "┃ needs, and flags at-risk accounts, empowering your team to act   ┃\n",
       "┃ proactively.                                                     ┃\n",
       "┃                                                                  ┃\n",
       "┃ Ready to transform your customer relationships?                  ┃\n",
       "┃                                                                  ┃\n",
       "┃ **[Schedule a 15-Minute Live Demo]**                             ┃\n",
       "┃                                                                  ┃\n",
       "┃ All the best,                                                    ┃\n",
       "┃ The Visionary Team                                               ┃\n",
       "┗━━━━━━━━━━━━━━━━━━━━━━━━━━━━━━━━━━━━━━━━━━━━━━━━━━━━━━━━━━━━━━━━━━┛"
      ]
     },
     "output_type": "display_data",
     "metadata": {}
    },
    {
     "data": {
      "text/plain": [
       "               Step: Critique (Revision #1)                \n",
       "┏━━━━━━━━━━━━━━━━━━━━━━━━━━━━━━━━━━━━━━━━━━━━━━━━━━━━━━━━━━┓\n",
       "┃ 🧐 Senior Editor is critiquing draft #1.                 ┃\n",
       "┗━━━━━━━━━━━━━━━━━━━━━━━━━━━━━━━━━━━━━━━━━━━━━━━━━━━━━━━━━━┛"
      ]
     },
     "output_type": "display_data",
     "metadata": {}
    },
    {
     "data": {
      "text/plain": [
       "                         Critique Result                          \n",
       "┏━━━━━━━━━━━━━━━━━━━━━━━━━━━━━━━━━━━━━━━━━━━━━━━━━━━━━━━━━━━━━━━━━━┓\n",
       "┃ Score: 9/10                                                      ┃\n",
       "┃ Feedback:                                                        ┃\n",
       "┃ - This is a strong first draft that clearly learned from the     ┃\n",
       "┃ previous example. The subject is benefit-driven and compelling.  ┃\n",
       "┃ - The body effectively uses a question to hook the reader and    ┃\n",
       "┃ explains the value proposition clearly.                          ┃\n",
       "┃ - The call-to-action is specific and effective.                  ┃\n",
       "┃ - The brand voice is spot on. This is approved.                  ┃\n",
       "┗━━━━━━━━━━━━━━━━━━━━━━━━━━━━━━━━━━━━━━━━━━━━━━━━━━━━━━━━━━━━━━━━━━┛"
      ]
     },
     "output_type": "display_data",
     "metadata": {}
    },
    {
     "data": {
      "text/plain": [
       "        Step: Decide         \n",
       "┏━━━━━━━━━━━━━━━━━━━━━━━━━━┓\n",
       "┃ ⚖️ Decision Point: Does   ┃\n",
       "┃ the draft meet quality   ┃\n",
       "┃ standards?               ┃\n",
       "┗━━━━━━━━━━━━━━━━━━━━━━━━━━┛"
      ]
     },
     "output_type": "display_data",
     "metadata": {}
    },
    {
     "name": "stdout",
     "output_type": "stream",
     "text": [
      "Conclusion: Critique APPROVED! Finishing process.\n"
     ]
    },
    {
     "data": {
      "text/plain": [
       "\n",
       "--- Final Approved Email (Generated with Memory) ---\n"
      ]
     },
     "output_type": "display_data",
     "metadata": {}
    },
    {
     "data": {
      "text/plain": [
       "                           Approved Email                           \n",
       "┏━━━━━━━━━━━━━━━━━━━━━━━━━━━━━━━━━━━━━━━━━━━━━━━━━━━━━━━━━━━━━━━━━━┓\n",
       "┃ Subject: Go From Data to Decisions, Instantly, with Visionary    ┃\n",
       "┃                                                                  ┃\n",
       "┃ ---                                                              ┃\n",
       "┃                                                                  ┃\n",
       "┃ Hi [Name],                                                       ┃\n",
       "┃                                                                  ┃\n",
       "┃ Is your team drowning in data but starving for wisdom?           ┃\n",
       "┃                                                                  ┃\n",
       "┃ Introducing **Visionary**, our groundbreaking AI-powered CRM     ┃\n",
       "┃ that doesn't just store customer information—it understands it.  ┃\n",
       "┃ Visionary automatically analyzes interactions, predicts customer ┃\n",
       "┃ needs, and flags at-risk accounts, empowering your team to act   ┃\n",
       "┃ proactively.                                                     ┃\n",
       "┃                                                                  ┃\n",
       "┃ Ready to transform your customer relationships?                  ┃\n",
       "┃                                                                  ┃\n",
       "┃ **[Schedule a 15-Minute Live Demo]**                             ┃\n",
       "┃                                                                  ┃\n",
       "┃ All the best,                                                    ┃\n",
       "┃ The Visionary Team                                               ┃\n",
       "┗━━━━━━━━━━━━━━━━━━━━━━━━━━━━━━━━━━━━━━━━━━━━━━━━━━━━━━━━━━━━━━━━━━┛\n",
       "                            Final Score: 9/10                             "
      ]
     },
     "output_type": "display_data",
     "metadata": {}
    }
   ],
   "source": [
    "class GoldStandardMemory:\n",
    "    \"\"\"A simple in-memory store for high-quality examples.\"\"\"\n",
    "    def __init__(self):\n",
    "        self.examples: List[MarketingEmail] = []\n",
    "        \n",
    "    def add_example(self, email: MarketingEmail):\n",
    "        self.examples.append(email)\n",
    "        \n",
    "    def get_formatted_examples(self) -> str:\n",
    "        if not self.examples:\n",
    "            return \"No examples available yet.\"\n",
    "        formatted = \"\\n\\n---\\n\\n\".join([\n",
    "            f\"Example Subject: {ex.subject}\\nExample Body:\\n{ex.body}\"\n",
    "            for ex in self.examples\n",
    "        ])\n",
    "        return formatted\n",
    "\n",
    "# Instantiate our persistent memory\n",
    "gold_standard_memory = GoldStandardMemory()\n",
    "\n",
    "# New generator node that uses the memory\n",
    "def generate_node_with_memory(state: AgentState) -> Dict[str, Any]:\n",
    "    title = \"[yellow]Step: Generate[/yellow]\"\n",
    "    console.print(Panel(\"📝 Junior Copywriter is generating the initial draft (Informed by Past Successes).\", title=title, border_style=\"yellow\"))\n",
    "    examples = gold_standard_memory.get_formatted_examples()\n",
    "    \n",
    "    prompt = ChatPromptTemplate.from_messages([\n",
    "        (\"system\", \"You are a junior marketing copywriter. Your task is to write a first draft of a marketing email based on the user's request. You should learn from the style and quality of past successful examples.\"),\n",
    "        (\"human\", \"Here are some examples of high-quality emails that were approved by your editor:\\n\\n{examples}\\n\\nNow, write a marketing email about the following topic:\\n\\n{request}\")\n",
    "    ])\n",
    "    chain = prompt | llm.with_structured_output(MarketingEmail)\n",
    "    draft = chain.invoke({\"request\": state['user_request'], \"examples\": examples})\n",
    "    console.print(Panel(f\"[bold]Subject:[/bold] {draft.subject}\\n\\n{draft.body}\", title=f\"Draft {state.get('revision_number', 1)}\"))\n",
    "    return {\"draft_email\": draft, \"revision_number\": 1}\n",
    "\n",
    "# Build the new graph with the memory-enabled generator\n",
    "workflow_with_memory = StateGraph(AgentState)\n",
    "workflow_with_memory.add_node(\"generate\", generate_node_with_memory)\n",
    "workflow_with_memory.add_node(\"critique\", critique_node)\n",
    "workflow_with_memory.add_node(\"revise\", revise_node)\n",
    "workflow_with_memory.set_entry_point(\"generate\")\n",
    "workflow_with_memory.add_edge(\"generate\", \"critique\")\n",
    "workflow_with_memory.add_conditional_edges(\"critique\", should_continue, {\"continue\": \"revise\", \"end\": END})\n",
    "workflow_with_memory.add_edge(\"revise\", \"critique\")\n",
    "self_improving_agent = workflow_with_memory.compile()\n",
    "print(\"Persistent memory components defined successfully.\")\n",
    "\n",
    "# --- DEMONSTRATION OF LONG-TERM IMPROVEMENT ---\n",
    "\n",
    "# 1. Save our previously approved email to the memory\n",
    "console.print(Panel(\"The high-quality, editor-approved email for 'InsightSphere' has been saved. It will now be used as a reference for future generations.\", title=\"[bold]🏆 Saving approved email to Gold Standard Memory[/bold]\", border_style=\"magenta\"))\n",
    "gold_standard_memory.add_example(final_result['draft_email'])\n",
    "\n",
    "# 2. Run the agent again on a NEW task\n",
    "new_request = \"Write a promotional email for our new AI-powered CRM called 'Visionary'.\"\n",
    "console.print(\"\\n--- 🚀 Kicking off the Self-Refinement Process with Memory ---\")\n",
    "new_final_result = run_agent(new_request)\n",
    "\n",
    "# 3. Display the new result. The key thing to notice is if it gets approved faster.\n",
    "console.print(\"\\n--- Final Approved Email (Generated with Memory) ---\")\n",
    "new_final_email = new_final_result['draft_email']\n",
    "new_critique = new_final_result['critique']\n",
    "email_panel_2 = Panel(\n",
    "    f\"[bold]Subject:[/bold] {new_final_email.subject}\\n\\n---\\n\\n{new_final_email.body}\",\n",
    "    title=\"[bold green]Approved Email[/bold green]\",\n",
    "    subtitle=f\"[green]Final Score: {new_critique.score}/10[/green]\",\n",
    "    border_style=\"green\"\n",
    ")\n",
    "console.print(email_panel_2)"
   ]
  },
  {
   "cell_type": "markdown",
   "id": "analysis-markdown",
   "metadata": {},
   "source": [
    "### Analysis of the Results\n",
    "\n",
    "This detailed implementation reveals a two-layered improvement process:\n",
    "\n",
    "1.  **Intra-Task Improvement (Self-Refine):** During the first run, the agent's initial draft was deliberately mediocre (score: 4/10). The logs clearly show the specific, actionable feedback from the Senior Editor. The agent then produced a revised draft that was a dramatic improvement, earning a 9/10 and getting approved. This shows the immediate benefit of the loop for improving a single output.\n",
    "\n",
    "2.  **Inter-Task Improvement (Persistent Learning):** In the second demonstration, the agent was given a *new* task. However, its generator was now armed with a high-quality example from the previous successful run. The output log is the proof of learning: the agent's **first draft for the new product was so good that it scored a 9/10 immediately**, requiring no revisions. This is a powerful demonstration of learning. The agent's baseline performance has improved because it learned from its past, editor-approved successes.\n",
    "\n",
    "This second part is a direct, practical analogy for RLHF. We are reinforcing the agent's behavior by showing it examples of what \"good\" looks like, thereby improving its ability to generate high-quality outputs from the very first attempt on future tasks."
   ]
  },
  {
   "cell_type": "markdown",
   "id": "conclusion",
   "metadata": {},
   "source": [
    "## Conclusion\n",
    "\n",
    "In this notebook, we have implemented a comprehensive and complex **Self-Improvement Loop**. We have demonstrated that this architecture is not just about refining a single piece of work, but is a powerful paradigm for creating agents that genuinely learn and improve over time.\n",
    "\n",
    "By separating the roles of **generator** and **critic**, we create a dynamic of feedback and revision that consistently elevates the quality of the agent's output. By adding a **persistent memory** for high-quality results, we create a positive feedback loop that improves the agent's baseline capabilities, making it more efficient and effective on future tasks.\n",
    "\n",
    "While the risk of the critic reinforcing its own biases is real and requires careful management, the potential to build agents that learn from experience is a transformative step towards more autonomous, capable, and intelligent AI systems."
   ]
  }
 ],
 "metadata": {
  "kernelspec": {
   "display_name": "Python 3 (ipykernel)",
   "language": "python",
   "name": "python3"
  },
  "language_info": {
   "codemirror_mode": {
    "name": "ipython",
    "version": 3
   },
   "file_extension": ".py",
   "mimetype": "text/x-python",
   "name": "python",
   "nbconvert_exporter": "python",
   "pygments_lexer": "ipython3",
   "version": "3.10.13"
  }
 },
 "nbformat": 4,
 "nbformat_minor": 5
}