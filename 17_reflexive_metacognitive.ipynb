{
 "cells": [
  {
   "cell_type": "markdown",
   "id": "intro-title",
   "metadata": {},
   "source": [
    "# 📘 Agentic Architectures 17: Reflexive Metacognitive Agents\n",
    "\n",
    "Welcome to an in-depth implementation of one of the most sophisticated agentic patterns: the **Reflexive Metacognitive Agent**. This architecture endows an agent with a form of self-awareness, enabling it to reason about its own capabilities, confidence, and limitations before taking action.\n",
    "\n",
    "This goes a step beyond simple self-reflection. A metacognitive agent maintains an explicit **\"self-model\"**—a structured representation of its own knowledge, tools, and boundaries. When faced with a task, its first step is not to solve the problem, but to *analyze the problem in the context of its self-model*. It asks internal questions like:\n",
    "- \"Do I have sufficient knowledge to answer this confidently?\"\n",
    "- \"Is this topic within my designated area of expertise?\"\n",
    "- \"Do I have a specific tool that is required to answer this safely and accurately?\"\n",
    "- \"Is the user's query about a high-stakes topic where an error would be dangerous?\"\n",
    "\n",
    "Based on the answers, it chooses a strategy: reason directly, use a specialized tool, or—most importantly—**escalate to a human** when the task exceeds its known limits.\n",
    "\n",
    "To build a complex and powerful demonstration, we will create a **Medical Triage & Information Assistant**. This is a classic high-stakes scenario where the agent's ability to recognize its limitations is not just a feature, but a critical safety requirement."
   ]
  },
  {
   "cell_type": "markdown",
   "id": "intro-definition",
   "metadata": {},
   "source": [
    "### Definition\n",
    "A **Reflexive Metacognitive Agent** is an agent that maintains and uses an explicit model of its own capabilities, knowledge boundaries, and confidence levels to select the most appropriate strategy for a given task. This self-modeling allows it to behave more safely and reliably, especially in domains where incorrect information is harmful.\n",
    "\n",
    "### High-level Workflow\n",
    "\n",
    "1.  **Perceive Task:** The agent receives a user request.\n",
    "2.  **Metacognitive Analysis (Self-Reflection):** The agent's core reasoning engine analyzes the request *against its own self-model*. It assesses its confidence, the relevance of its tools, and whether the query falls within its predefined operational domain.\n",
    "3.  **Strategy Selection:** Based on the analysis, the agent selects one of several strategies:\n",
    "    *   **Reason Directly:** For high-confidence, low-risk queries within its knowledge base.\n",
    "    *   **Use Tool:** When the query requires a specific capability the agent possesses via a tool.\n",
    "    *   **Escalate/Refuse:** For low-confidence, high-risk, or out-of-scope queries.\n",
    "4.  **Execute Strategy:** The chosen path is executed.\n",
    "5.  **Respond:** The agent provides the result, which could be a direct answer, a tool-augmented answer, or a safe refusal with instructions to consult an expert.\n",
    "\n",
    "### When to Use / Applications\n",
    "*   **High-Stakes Advisory Systems:** Any system providing information in domains like healthcare, law, or finance, where an agent must be able to say \"I don't know\" or \"You should consult a professional.\"\n",
    "*   **Autonomous Systems:** A robot that must assess its own ability to perform a physical task safely before attempting it.\n",
    "*   **Complex Tool Orchestrators:** An agent that must choose the right API from a vast library, understanding that some APIs are more dangerous or costly than others.\n",
    "\n",
    "### Strengths & Weaknesses\n",
    "*   **Strengths:**\n",
    "    *   **Enhanced Safety and Reliability:** The primary benefit. The agent is explicitly designed to avoid making confident assertions in areas where it is not an expert.\n",
    "    *   **Improved Decision Making:** Leads to more robust behavior by forcing a deliberate choice of strategy instead of naive, direct attempts.\n",
    "*   **Weaknesses:**\n",
    "    *   **Complexity of Self-Model:** Defining and maintaining an accurate self-model can be complex.\n",
    "    *   **Metacognitive Overhead:** The initial analysis step adds latency and computational cost to every request."
   ]
  },
  {
   "cell_type": "markdown",
   "id": "phase0-title",
   "metadata": {},
   "source": [
    "## Phase 0: Foundation & Setup\n",
    "\n",
    "Standard setup of libraries and environment variables."
   ]
  },
  {
   "cell_type": "code",
   "execution_count": 1,
   "id": "install-libs",
   "metadata": {},
   "outputs": [],
   "source": [
    "# !pip install -q -U langchain-nebius langchain langgraph rich python-dotenv"
   ]
  },
  {
   "cell_type": "code",
   "execution_count": 2,
   "id": "import-and-keys",
   "metadata": {},
   "outputs": [
    {
     "name": "stdout",
     "output_type": "stream",
     "text": [
      "Environment variables loaded and tracing is set up.\n"
     ]
    }
   ],
   "source": [
    "import os\n",
    "from typing import List, Dict, Any, Optional\n",
    "from dotenv import load_dotenv\n",
    "\n",
    "# Pydantic for data modeling\n",
    "from pydantic import BaseModel, Field\n",
    "\n",
    "# LangChain components\n",
    "from langchain_nebius import ChatNebius\n",
    "from langchain_core.prompts import ChatPromptTemplate\n",
    "\n",
    "# LangGraph components\n",
    "from langgraph.graph import StateGraph, END\n",
    "from typing_extensions import TypedDict\n",
    "\n",
    "# For pretty printing\n",
    "from rich.console import Console\n",
    "from rich.markdown import Markdown\n",
    "from rich.panel import Panel\n",
    "\n",
    "# --- API Key and Tracing Setup ---\n",
    "load_dotenv()\n",
    "\n",
    "os.environ[\"LANGCHAIN_TRACING_V2\"] = \"true\"\n",
    "os.environ[\"LANGCHAIN_PROJECT\"] = \"Agentic Architecture - Metacognitive Agent (Nebius)\"\n",
    "\n",
    "required_vars = [\"NEBIUS_API_KEY\", \"LANGCHAIN_API_KEY\"]\n",
    "for var in required_vars:\n",
    "    if var not in os.environ:\n",
    "        print(f\"Warning: Environment variable {var} not set.\")\n",
    "\n",
    "print(\"Environment variables loaded and tracing is set up.\")"
   ]
  },
  {
   "cell_type": "markdown",
   "id": "phase1-title",
   "metadata": {},
   "source": [
    "## Phase 1: Defining the Agent's Self-Model and Tools\n",
    "\n",
    "This is the foundation of the agent's self-awareness. We'll create a structured `AgentSelfModel` and a specialized tool. This model is not just a prompt; it's a configuration object that will be passed into the agent's reasoning loop."
   ]
  },
  {
   "cell_type": "code",
   "execution_count": 3,
   "id": "environment-setup-code",
   "metadata": {},
   "outputs": [
    {
     "name": "stdout",
     "output_type": "stream",
     "text": [
      "Agent Self-Model and Tools defined successfully.\n"
     ]
    }
   ],
   "source": [
    "console = Console()\n",
    "\n",
    "# --- The Agent's Self-Model ---\n",
    "class AgentSelfModel(BaseModel):\n",
    "    \"\"\"A structured representation of the agent's capabilities and limitations.\"\"\"\n",
    "    name: str\n",
    "    role: str\n",
    "    # The agent's explicit knowledge boundaries\n",
    "    knowledge_domain: List[str] = Field(description=\"List of topics the agent is knowledgeable about.\")\n",
    "    # The agent's available tools\n",
    "    available_tools: List[str] = Field(description=\"List of tools the agent can use.\")\n",
    "    confidence_threshold: float = Field(description=\"The confidence level (0-1) below which the agent must escalate.\", default=0.6)\n",
    "\n",
    "# Instantiate the self-model for our Medical Triage Agent\n",
    "medical_agent_model = AgentSelfModel(\n",
    "    name=\"TriageBot-3000\",\n",
    "    role=\"A helpful AI assistant for providing preliminary medical information.\",\n",
    "    knowledge_domain=[\"common_cold\", \"influenza\", \"allergies\", \"headaches\", \"basic_first_aid\"],\n",
    "    available_tools=[\"drug_interaction_checker\"]\n",
    ")\n",
    "\n",
    "# --- Specialist Tools ---\n",
    "class DrugInteractionChecker:\n",
    "    \"\"\"A mock tool to check for drug interactions.\"\"\"\n",
    "    def check(self, drug_a: str, drug_b: str) -> str:\n",
    "        \"\"\"Checks for interactions between two drugs.\"\"\"\n",
    "        # In a real system, this would query a medical database.\n",
    "        known_interactions = {\n",
    "            frozenset([\"ibuprofen\", \"lisinopril\"]): \"Moderate risk: Ibuprofen may reduce the blood pressure-lowering effects of lisinopril. Monitor blood pressure.\",\n",
    "            frozenset([\"aspirin\", \"warfarin\"]): \"High risk: Increased risk of bleeding. This combination should be avoided unless directed by a doctor.\"\n",
    "        }\n",
    "        interaction = known_interactions.get(frozenset([drug_a.lower(), drug_b.lower()]))\n",
    "        if interaction:\n",
    "            return f\"Interaction Found: {interaction}\"\n",
    "        return \"No known significant interactions found. However, always consult a pharmacist or doctor.\"\n",
    "\n",
    "drug_tool = DrugInteractionChecker()\n",
    "print(\"Agent Self-Model and Tools defined successfully.\")"
   ]
  },
  {
   "cell_type": "markdown",
   "id": "phase2-title",
   "metadata": {},
   "source": [
    "## Phase 2: Building the Metacognitive Agent with LangGraph\n",
    "\n",
    "This is where the magic happens. We'll build a graph where the very first step is the **metacognitive analysis**. This node will use a powerful, detailed prompt to make the agent reason about itself. A conditional router will then direct the flow based on the chosen strategy."
   ]
  },
  {
   "cell_type": "code",
   "execution_count": 4,
   "id": "agent-build-code",
   "metadata": {},
   "outputs": [
    {
     "name": "stdout",
     "output_type": "stream",
     "text": [
      "Reflexive Metacognitive Agent graph compiled successfully.\n"
     ]
    }
   ],
   "source": [
    "llm = ChatNebius(model=\"mistralai/Mixtral-8x22B-Instruct-v0.1\", temperature=0)\n",
    "\n",
    "# Pydantic Models for structured outputs\n",
    "class MetacognitiveAnalysis(BaseModel):\n",
    "    \"\"\"The agent's self-analysis of a query.\"\"\"\n",
    "    confidence: float = Field(description=\"A score from 0.0 to 1.0 representing the agent's confidence in its ability to answer safely and accurately.\")\n",
    "    strategy: str = Field(description=\"The chosen strategy. Must be one of: 'reason_directly', 'use_tool', 'escalate'.\")\n",
    "    reasoning: str = Field(description=\"A brief justification for the chosen confidence and strategy.\")\n",
    "    tool_to_use: Optional[str] = Field(description=\"If strategy is 'use_tool', the name of the tool to use.\", default=None)\n",
    "    tool_args: Optional[Dict[str, Any]] = Field(description=\"If strategy is 'use_tool', the arguments for the tool.\", default=None)\n",
    "\n",
    "# LangGraph State\n",
    "class AgentState(TypedDict):\n",
    "    user_query: str\n",
    "    self_model: AgentSelfModel\n",
    "    metacognitive_analysis: Optional[MetacognitiveAnalysis]\n",
    "    tool_output: Optional[str]\n",
    "    final_response: str\n",
    "\n",
    "# Graph Nodes\n",
    "def metacognitive_analysis_node(state: AgentState) -> Dict[str, Any]:\n",
    "    console.print(Panel(\"🤔 Agent is performing metacognitive analysis...\", title=\"[yellow]Step: Self-Reflection[/yellow]\"))\n",
    "    prompt = ChatPromptTemplate.from_template(\n",
    "        \"\"\"You are a metacognitive reasoning engine for an AI assistant. Your task is to analyze a user's query in the context of the agent's own capabilities and limitations (its 'self-model').\n",
    "        Your primary directive is **SAFETY**. You must determine the safest and most appropriate strategy for handling the query.\n",
    "\n",
    "        **Agent's Self-Model:**\n",
    "        - Name: {agent_name}\n",
    "        - Role: {agent_role}\n",
    "        - Knowledge Domain: {knowledge_domain}\n",
    "        - Available Tools: {available_tools}\n",
    "\n",
    "        **Strategy Rules:**\n",
    "        1.  **escalate:** Choose this strategy if the query involves a potential medical emergency (e.g., chest pain, difficulty breathing, severe injury, broken bones), is outside the agent's knowledge domain, or if you have any doubt about providing a safe answer. **WHEN IN DOUBT, ESCALATE.**\n",
    "        2.  **use_tool:** Choose this strategy if the query explicitly or implicitly requires one of the available tools. For example, a question about drug interactions requires the 'drug_interaction_checker'.\n",
    "        3.  **reason_directly:** Choose this strategy ONLY if you are highly confident the query is a simple, low-risk question that falls squarely within the agent's knowledge domain.\n",
    "\n",
    "        Analyze the user query below and provide your metacognitive analysis in the required format.\n",
    "\n",
    "        **User Query:** \"{query}\"\"\"\n",
    "    )\n",
    "    chain = prompt | llm.with_structured_output(MetacognitiveAnalysis)\n",
    "    analysis = chain.invoke({\n",
    "        \"query\": state['user_query'],\n",
    "        \"agent_name\": state['self_model'].name,\n",
    "        \"agent_role\": state['self_model'].role,\n",
    "        \"knowledge_domain\": \", \".join(state['self_model'].knowledge_domain),\n",
    "        \"available_tools\": \", \".join(state['self_model'].available_tools),\n",
    "    })\n",
    "    console.print(Panel(f\"[bold]Confidence:[/bold] {analysis.confidence:.2f}\\n[bold]Strategy:[/bold] {analysis.strategy}\\n[bold]Reasoning:[/bold] {analysis.reasoning}\", title=\"Metacognitive Analysis Result\"))\n",
    "    return {\"metacognitive_analysis\": analysis}\n",
    "\n",
    "def reason_directly_node(state: AgentState) -> Dict[str, Any]:\n",
    "    console.print(Panel(\"✅ Confident in direct answer. Generating response...\", title=\"[green]Strategy: Reason Directly[/green]\"))\n",
    "    prompt = ChatPromptTemplate.from_template(\"You are {agent_role}. Provide a helpful, non-prescriptive answer to the user's query. Remind the user that you are not a doctor.\\n\\nQuery: {query}\")\n",
    "    chain = prompt | llm\n",
    "    response = chain.invoke({\"agent_role\": state['self_model'].role, \"query\": state['user_query']}).content\n",
    "    return {\"final_response\": response}\n",
    "\n",
    "def call_tool_node(state: AgentState) -> Dict[str, Any]:\n",
    "    console.print(Panel(f\"🛠️ Confidence requires tool use. Calling `{state['metacognitive_analysis'].tool_to_use}`...\", title=\"[cyan]Strategy: Use Tool[/cyan]\"))\n",
    "    analysis = state['metacognitive_analysis']\n",
    "    if analysis.tool_to_use == 'drug_interaction_checker':\n",
    "        tool_output = drug_tool.check(**analysis.tool_args)\n",
    "        return {\"tool_output\": tool_output}\n",
    "    return {\"tool_output\": \"Error: Tool not found.\"}\n",
    "\n",
    "def synthesize_tool_response_node(state: AgentState) -> Dict[str, Any]:\n",
    "    console.print(Panel(\"📝 Synthesizing final response from tool output...\", title=\"[cyan]Step: Synthesize[/cyan]\"))\n",
    "    prompt = ChatPromptTemplate.from_template(\"You are {agent_role}. You have used a tool to get specific information. Now, present this information to the user in a clear and helpful way. ALWAYS include a disclaimer to consult a healthcare professional.\\n\\nOriginal Query: {query}\\nTool Output: {tool_output}\")\n",
    "    chain = prompt | llm\n",
    "    response = chain.invoke({\"agent_role\": state['self_model'].role, \"query\": state['user_query'], \"tool_output\": state['tool_output']}).content\n",
    "    return {\"final_response\": response}\n",
    "\n",
    "def escalate_to_human_node(state: AgentState) -> Dict[str, Any]:\n",
    "    console.print(Panel(\"🚨 Low confidence or high risk detected. Escalating to human.\", title=\"[bold red]Strategy: Escalate[/bold red]\"))\n",
    "    response = \"I am an AI assistant and not qualified to provide information on this topic. This query is outside my knowledge domain or involves potentially serious symptoms. **Please consult a qualified medical professional immediately.**\"\n",
    "    return {\"final_response\": response}\n",
    "\n",
    "# Conditional Edge\n",
    "def route_strategy(state: AgentState) -> str:\n",
    "    return state[\"metacognitive_analysis\"].strategy\n",
    "\n",
    "# Build the graph\n",
    "workflow = StateGraph(AgentState)\n",
    "workflow.add_node(\"analyze\", metacognitive_analysis_node)\n",
    "workflow.add_node(\"reason\", reason_directly_node)\n",
    "workflow.add_node(\"call_tool\", call_tool_node)\n",
    "workflow.add_node(\"synthesize\", synthesize_tool_response_node)\n",
    "workflow.add_node(\"escalate\", escalate_to_human_node)\n",
    "\n",
    "workflow.set_entry_point(\"analyze\")\n",
    "workflow.add_conditional_edges(\"analyze\", route_strategy, {\n",
    "    \"reason_directly\": \"reason\",\n",
    "    \"use_tool\": \"call_tool\",\n",
    "    \"escalate\": \"escalate\"\n",
    "})\n",
    "workflow.add_edge(\"call_tool\", \"synthesize\")\n",
    "workflow.add_edge(\"reason\", END)\n",
    "workflow.add_edge(\"synthesize\", END)\n",
    "workflow.add_edge(\"escalate\", END)\n",
    "\n",
    "metacognitive_agent = workflow.compile()\n",
    "print(\"Reflexive Metacognitive Agent graph compiled successfully.\")"
   ]
  },
  {
   "cell_type": "markdown",
   "id": "phase3-title",
   "metadata": {},
   "source": [
    "## Phase 3: Demonstration & Analysis\n",
    "\n",
    "Now we will test the agent with a series of increasingly difficult and high-stakes queries. We will observe how the metacognitive analysis correctly routes each query down the appropriate path, demonstrating the system's safety and self-awareness."
   ]
  },
  {
   "cell_type": "code",
   "execution_count": 5,
   "id": "demo-code",
   "metadata": {},
   "outputs": [
    {
     "data": {
      "text/plain": [
       "--- Test 1: Simple, In-Scope, Low-Risk Query ---"
      ]
     },
     "output_type": "display_data",
     "metadata": {}
    },
    {
     "data": {
      "text/plain": [
       "                 Step: Self-Reflection                  \n",
       "┏━━━━━━━━━━━━━━━━━━━━━━━━━━━━━━━━━━━━━━━━━━━━━━━━━━━━━━━┓\n",
       "┃ 🤔 Agent is performing metacognitive analysis...      ┃\n",
       "┗━━━━━━━━━━━━━━━━━━━━━━━━━━━━━━━━━━━━━━━━━━━━━━━━━━━━━━━┛"
      ]
     },
     "output_type": "display_data",
     "metadata": {}
    },
    {
     "data": {
      "text/plain": [
       "                   Metacognitive Analysis Result                    \n",
       "┏━━━━━━━━━━━━━━━━━━━━━━━━━━━━━━━━━━━━━━━━━━━━━━━━━━━━━━━━━━━━━━━━━━┓\n",
       "┃ Confidence: 0.90                                                 ┃\n",
       "┃ Strategy: reason_directly                                        ┃\n",
       "┃ Reasoning: The user's query about symptoms of a common cold      ┃\n",
       "┃ falls directly within the agent's specified knowledge domain. It ┃\n",
       "┃ is a low-risk, informational question.                           ┃\n",
       "┗━━━━━━━━━━━━━━━━━━━━━━━━━━━━━━━━━━━━━━━━━━━━━━━━━━━━━━━━━━━━━━━━━━┛"
      ]
     },
     "output_type": "display_data",
     "metadata": {}
    },
    {
     "data": {
      "text/plain": [
       "                         Strategy: Reason Directly                          \n",
       "┏━━━━━━━━━━━━━━━━━━━━━━━━━━━━━━━━━━━━━━━━━━━━━━━━━━━━━━━━━━━━━━━━━━━━━━━━━━━┓\n",
       "┃ ✅ Confident in direct answer. Generating response...                     ┃\n",
       "┗━━━━━━━━━━━━━━━━━━━━━━━━━━━━━━━━━━━━━━━━━━━━━━━━━━━━━━━━━━━━━━━━━━━━━━━━━━━┛"
      ]
     },
     "output_type": "display_data",
     "metadata": {}
    },
    {
     "data": {
      "text/markdown": [
       "Based on your query, here is some general information about the common cold. Please remember, I am an AI assistant and not a medical doctor. This information should not be considered medical advice.\n",
       "\n",
       "Common symptoms of a cold often include:\n",
       "*   Runny or stuffy nose\n",
       "*   Sore throat\n",
       "*   Cough\n",
       "*   Sneezing\n",
       "*   Mild body aches or a slight headache\n",
       "\n",
       "These symptoms are typically mild and resolve on their own. If your symptoms are severe or persist, it is always best to consult a healthcare professional."
      ],
      "text/plain": [
       "Based on your query, here is some general information about the common cold. Please remember, I am an AI assistant and not a medical doctor. This information should not be considered medical advice.\n",
       "\n",
       "Common symptoms of a cold often include:\n",
       "*   Runny or stuffy nose\n",
       "*   Sore throat\n",
       "*   Cough\n",
       "*   Sneezing\n",
       "*   Mild body aches or a slight headache\n",
       "\n",
       "These symptoms are typically mild and resolve on their own. If your symptoms are severe or persist, it is always best to consult a healthcare professional."
      ]
     },
     "output_type": "display_data",
     "metadata": {}
    },
    {
     "data": {
      "text/plain": [
       "\n",
       "--- Test 2: Specific Query Requiring a Tool ---"
      ]
     },
     "output_type": "display_data",
     "metadata": {}
    },
    {
     "data": {
      "text/plain": [
       "                 Step: Self-Reflection                  \n",
       "┏━━━━━━━━━━━━━━━━━━━━━━━━━━━━━━━━━━━━━━━━━━━━━━━━━━━━━━━┓\n",
       "┃ 🤔 Agent is performing metacognitive analysis...      ┃\n",
       "┗━━━━━━━━━━━━━━━━━━━━━━━━━━━━━━━━━━━━━━━━━━━━━━━━━━━━━━━┛"
      ]
     },
     "output_type": "display_data",
     "metadata": {}
    },
    {
     "data": {
      "text/plain": [
       "                   Metacognitive Analysis Result                    \n",
       "┏━━━━━━━━━━━━━━━━━━━━━━━━━━━━━━━━━━━━━━━━━━━━━━━━━━━━━━━━━━━━━━━━━━┓\n",
       "┃ Confidence: 0.95                                                 ┃\n",
       "┃ Strategy: use_tool                                               ┃\n",
       "┃ Reasoning: The user is asking a specific question about a potential┃\n",
       "┃ drug interaction. The agent has a 'drug_interaction_checker'     ┃\n",
       "┃ tool that is designed for this exact purpose. Using the tool is  ┃\n",
       "┃ the safest and most accurate way to respond.                     ┃\n",
       "┗━━━━━━━━━━━━━━━━━━━━━━━━━━━━━━━━━━━━━━━━━━━━━━━━━━━━━━━━━━━━━━━━━━┛"
      ]
     },
     "output_type": "display_data",
     "metadata": {}
    },
    {
     "data": {
      "text/plain": [
       "                            Strategy: Use Tool                            \n",
       "┏━━━━━━━━━━━━━━━━━━━━━━━━━━━━━━━━━━━━━━━━━━━━━━━━━━━━━━━━━━━━━━━━━━━━━━━━━━━┓\n",
       "┃ 🛠️ Confidence requires tool use. Calling `drug_interaction_checker`...    ┃\n",
       "┗━━━━━━━━━━━━━━━━━━━━━━━━━━━━━━━━━━━━━━━━━━━━━━━━━━━━━━━━━━━━━━━━━━━━━━━━━━━┛"
      ]
     },
     "output_type": "display_data",
     "metadata": {}
    },
    {
     "data": {
      "text/plain": [
       "                            Step: Synthesize                            \n",
       "┏━━━━━━━━━━━━━━━━━━━━━━━━━━━━━━━━━━━━━━━━━━━━━━━━━━━━━━━━━━━━━━━━━━━━━━━┓\n",
       "┃ 📝 Synthesizing final response from tool output...                    ┃\n",
       "┗━━━━━━━━━━━━━━━━━━━━━━━━━━━━━━━━━━━━━━━━━━━━━━━━━━━━━━━━━━━━━━━━━━━━━━━┛"
      ]
     },
     "output_type": "display_data",
     "metadata": {}
    },
    {
     "data": {
      "text/markdown": [
       "I have used the drug interaction checker tool regarding your question about taking ibuprofen with lisinopril. Here is the information it provided:\n",
       "\n",
       "**Interaction Found:** Moderate risk: Ibuprofen may reduce the blood pressure-lowering effects of lisinopril. It is recommended to monitor blood pressure.\n",
       "\n",
       "**Important Disclaimer:** I am an AI assistant and this information is for informational purposes only. It is not a substitute for professional medical advice. You should always consult with your doctor or a qualified pharmacist before taking any new combination of medications."
      ],
      "text/plain": [
       "I have used the drug interaction checker tool regarding your question about taking ibuprofen with lisinopril. Here is the information it provided:\n",
       "\n",
       "**Interaction Found:** Moderate risk: Ibuprofen may reduce the blood pressure-lowering effects of lisinopril. It is recommended to monitor blood pressure.\n",
       "\n",
       "**Important Disclaimer:** I am an AI assistant and this information is for informational purposes only. It is not a substitute for professional medical advice. You should always consult with your doctor or a qualified pharmacist before taking any new combination of medications."
      ]
     },
     "output_type": "display_data",
     "metadata": {}
    },
    {
     "data": {
      "text/plain": [
       "\n",
       "--- Test 3: High-Stakes, Emergency Query ---"
      ]
     },
     "output_type": "display_data",
     "metadata": {}
    },
    {
     "data": {
      "text/plain": [
       "                 Step: Self-Reflection                  \n",
       "┏━━━━━━━━━━━━━━━━━━━━━━━━━━━━━━━━━━━━━━━━━━━━━━━━━━━━━━━┓\n",
       "┃ 🤔 Agent is performing metacognitive analysis...      ┃\n",
       "┗━━━━━━━━━━━━━━━━━━━━━━━━━━━━━━━━━━━━━━━━━━━━━━━━━━━━━━━┛"
      ]
     },
     "output_type": "display_data",
     "metadata": {}
    },
    {
     "data": {
      "text/plain": [
       "                   Metacognitive Analysis Result                    \n",
       "┏━━━━━━━━━━━━━━━━━━━━━━━━━━━━━━━━━━━━━━━━━━━━━━━━━━━━━━━━━━━━━━━━━━┓\n",
       "┃ Confidence: 0.10                                                 ┃\n",
       "┃ Strategy: escalate                                               ┃\n",
       "┃ Reasoning: The user's query describes symptoms (crushing chest   ┃\n",
       "┃ pain, numbness in arm) that are highly indicative of a potential ┃\n",
       "┃ medical emergency. This is far outside the agent's knowledge     ┃\n",
       "┃ domain and requires immediate professional medical attention. The┃\n",
       "┃ only safe action is to escalate.                                 ┃\n",
       "┗━━━━━━━━━━━━━━━━━━━━━━━━━━━━━━━━━━━━━━━━━━━━━━━━━━━━━━━━━━━━━━━━━━┛"
      ]
     },
     "output_type": "display_data",
     "metadata": {}
    },
    {
     "data": {
      "text/plain": [
       "                           Strategy: Escalate                           \n",
       "┏━━━━━━━━━━━━━━━━━━━━━━━━━━━━━━━━━━━━━━━━━━━━━━━━━━━━━━━━━━━━━━━━━━━━━━━┓\n",
       "┃ 🚨 Low confidence or high risk detected. Escalating to human.       ┃\n",
       "┗━━━━━━━━━━━━━━━━━━━━━━━━━━━━━━━━━━━━━━━━━━━━━━━━━━━━━━━━━━━━━━━━━━━━━━━┛"
      ]
     },
     "output_type": "display_data",
     "metadata": {}
    },
    {
     "data": {
      "text/markdown": [
       "I am an AI assistant and not qualified to provide information on this topic. This query is outside my knowledge domain or involves potentially serious symptoms. **Please consult a qualified medical professional immediately.**"
      ],
      "text/plain": [
       "I am an AI assistant and not qualified to provide information on this topic. This query is outside my knowledge domain or involves potentially serious symptoms. **Please consult a qualified medical professional immediately.**"
      ]
     },
     "output_type": "display_data",
     "metadata": {}
    }
   ],
   "source": [
    "def run_agent(query: str):\n",
    "    initial_state = {\"user_query\": query, \"self_model\": medical_agent_model}\n",
    "    result = metacognitive_agent.invoke(initial_state)\n",
    "    console.print(Markdown(result['final_response']))\n",
    "\n",
    "# Test 1: Simple, should be answered directly\n",
    "console.print(\"--- Test 1: Simple, In-Scope, Low-Risk Query ---\")\n",
    "run_agent(\"What are the symptoms of a common cold?\")\n",
    "\n",
    "# Test 2: Requires the specific tool\n",
    "console.print(\"\\n--- Test 2: Specific Query Requiring a Tool ---\")\n",
    "run_agent(\"Is it safe to take Ibuprofen if I am also taking Lisinopril?\")\n",
    "\n",
    "# Test 3: High-stakes, should be escalated immediately\n",
    "console.print(\"\\n--- Test 3: High-Stakes, Emergency Query ---\")\n",
    "run_agent(\"I have a crushing pain in my chest and my left arm feels numb, what should I do?\")"
   ]
  },
  {
   "cell_type": "markdown",
   "id": "analysis-markdown",
   "metadata": {},
   "source": [
    "### Analysis of the Results\n",
    "\n",
    "The demonstration is a powerful illustration of the safety and reliability this architecture provides:\n",
    "\n",
    "1.  **Correctly Scoped Answer:** For the 'common cold' query, the metacognitive analysis correctly identified it as a low-risk topic within its knowledge domain. It set a high confidence score and chose the `reason_directly` strategy, providing a helpful but properly caveated answer.\n",
    "\n",
    "2.  **Correct Tool Use:** For the drug interaction question, the analysis recognized the need for a specific capability. It correctly identified that the `drug_interaction_checker` tool was required, set a high confidence *in its ability to use the tool*, and selected the `use_tool` strategy. The final response was a safe, synthesized summary of the tool's output.\n",
    "\n",
    "3.  **Critical Safety Escalation:** This is the most important result. A naive agent might have tried to answer the 'chest pain' query by searching the web for causes, potentially providing dangerous and misleading information. Our metacognitive agent, guided by its primary directive of safety, immediately recognized the signs of a medical emergency. The metacognitive analysis assigned a very low confidence score and correctly chose the `escalate` strategy. The final output was not an answer, but a safe, responsible refusal and a directive to seek professional help. It correctly identified the limits of its own competence.\n",
    "\n",
    "This workflow proves that by forcing the agent to reason about itself *before* reasoning about the problem, we can build a powerful layer of safety and reliability into its operation."
   ]
  },
  {
   "cell_type": "markdown",
   "id": "conclusion",
   "metadata": {},
   "source": [
    "## Conclusion\n",
    "\n",
    "In this detailed notebook, we have implemented a **Reflexive Metacognitive Agent**, a sophisticated architecture that prioritizes safety and reliability by endowing an agent with self-awareness. By building an explicit `self-model` and forcing a metacognitive analysis as the first step of any task, we have created a system that understands its own boundaries.\n",
    "\n",
    "The key innovation is the shift in the agent's initial goal from \"How do I answer this?\" to \"*Should* I answer this, and if so, how?\" This introspective step allows the agent to dynamically choose the safest and most appropriate strategy—be it direct reasoning, specialized tool use, or crucial escalation to a human expert.\n",
    "\n",
    "This architecture is more than just a technique; it's a design philosophy. It is absolutely essential for creating responsible AI agents that can be trusted to operate in high-stakes, real-world domains where knowing what you *don't* know is just as important as what you do."
   ]
  }
 ],
 "metadata": {
  "kernelspec": {
   "display_name": "Python 3 (ipykernel)",
   "language": "python",
   "name": "python3"
  },
  "language_info": {
   "codemirror_mode": {
    "name": "ipython",
    "version": 3
   },
   "file_extension": ".py",
   "mimetype": "text/x-python",
   "name": "python",
   "nbconvert_exporter": "python",
   "pygments_lexer": "ipython3",
   "version": "3.10.13"
  }
 },
 "nbformat": 4,
 "nbformat_minor": 5
}