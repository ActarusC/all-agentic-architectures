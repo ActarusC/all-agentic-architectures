{
 "cells": [
  {
   "cell_type": "markdown",
   "id": "intro-title",
   "metadata": {},
   "source": [
    "# 📘 Agentic Architectures 2: Tool Use\n",
    "\n",
    "This notebook covers the second, and arguably one of the most transformative, agentic architectures: **Tool Use**. This pattern is the bridge that connects a Large Language Model's reasoning capabilities to the real, dynamic world.\n",
    "\n",
    "Without tools, an LLM is a closed system, limited by the knowledge frozen into its training data. It cannot know today's weather, the current price of a stock, or the status of an order in your company's database. By giving an agent the ability to use tools, we empower it to overcome this fundamental limitation, allowing it to query APIs, search databases, and access live information to provide answers that are not just reasoned, but also factual, timely, and relevant."
   ]
  },
  {
   "cell_type": "markdown",
   "id": "intro-definition",
   "metadata": {},
   "source": [
    "### Definition\n",
    "The **Tool Use** architecture equips an LLM-powered agent with the ability to call external functions or APIs (the \"tools\"). The agent autonomously decides when a user's query cannot be answered by its internal knowledge alone and determines which tool is appropriate to call to find the necessary information.\n",
    "\n",
    "### High-level Workflow\n",
    "\n",
    "1.  **Receive Query:** The agent receives a request from the user.\n",
    "2.  **Decision:** The agent analyzes the query and its available tools. It decides if a tool is needed to answer the question accurately.\n",
    "3.  **Action:** If a tool is needed, the agent formats a call to that tool (e.g., a specific function with the right arguments).\n",
    "4.  **Observation:** The system executes the tool call, and the result (the \"observation\") is returned to the agent.\n",
    "5.  **Synthesis:** The agent integrates the tool's output into its reasoning process to generate a final, grounded answer for the user.\n",
    "\n",
    "### When to Use / Applications\n",
    "*   **Research Assistants:** Answering questions that require up-to-the-minute information by using a web search API.\n",
    "*   **Enterprise Assistants:** Querying internal company databases to answer questions like \"How many new users signed up last week?\"\n",
    "*   **Scientific & Mathematical Tasks:** Using a calculator or a computational engine like WolframAlpha for precise calculations that LLMs often struggle with.\n",
    "\n",
    "### Strengths & Weaknesses\n",
    "*   **Strengths:**\n",
    "    *   **Factual Grounding:** Drastically reduces hallucinations by fetching real, live data.\n",
    "    *   **Extensibility:** The agent's capabilities can be continuously expanded by simply adding new tools.\n",
    "*   **Weaknesses:**\n",
    "    *   **Integration Overhead:** Requires careful \"plumbing\" to define tools, handle API keys, and manage potential tool failures.\n",
    "    *   **Tool Trust:** The quality of the agent's answer is dependent on the reliability and accuracy of the tools it uses. The agent must trust that its tools provide correct information."
   ]
  },
  {
   "cell_type": "markdown",
   "id": "phase0-title",
   "metadata": {},
   "source": [
    "## Phase 0: Foundation & Setup\n",
    "\n",
    "As before, we begin by setting up our environment. This includes installing the necessary libraries and configuring our API keys for Nebius, LangSmith, and the specific tool we will be using."
   ]
  },
  {
   "cell_type": "markdown",
   "id": "setup-what",
   "metadata": {},
   "source": [
    "### Step 0.1: Installing Core Libraries\n",
    "\n",
    "**What we are going to do:**\n",
    "We'll install our standard set of libraries for orchestration (`langchain-nebius`, `langgraph`), environment management (`python-dotenv`), and printing (`rich`). Crucially, we will also install `tavily-python`, which provides a simple-to-use API for a powerful web search tool that we will give to our agent."
   ]
  },
  {
   "cell_type": "code",
   "execution_count": 1,
   "id": "install-libs",
   "metadata": {},
   "outputs": [],
   "source": [
    "# !pip install -q -U langchain-nebius langchain langgraph rich python-dotenv tavily-python"
   ]
  },
  {
   "cell_type": "markdown",
   "id": "imports-what",
   "metadata": {},
   "source": [
    "### Step 0.2: Importing Libraries and Setting Up Keys\n",
    "\n",
    "**What we are going to do:**\n",
    "We will import the necessary modules and use `python-dotenv` to load our API keys. For this notebook, we need keys for Nebius (for the LLM), LangSmith (for tracing), and Tavily (for the web search tool).\n",
    "\n",
    "**Action Required:** Create a `.env` file in this directory with your keys:\n",
    "```\n",
    "NEBIUS_API_KEY=\"your_nebius_api_key_here\"\n",
    "LANGCHAIN_API_KEY=\"your_langsmith_api_key_here\"\n",
    "TAVILY_API_KEY=\"your_tavily_api_key_here\"\n",
    "```"
   ]
  },
  {
   "cell_type": "code",
   "execution_count": null,
   "id": "import-and-keys",
   "metadata": {},
   "outputs": [
    {
     "name": "stdout",
     "output_type": "stream",
     "text": [
      "Environment variables loaded and tracing is set up.\n"
     ]
    }
   ],
   "source": [
    "import os\n",
    "import json\n",
    "from typing import List, Annotated, TypedDict, Optional\n",
    "from dotenv import load_dotenv\n",
    "\n",
    "# LangChain components\n",
    "from langchain_nebius import ChatNebius\n",
    "from langchain_community.tools.tavily_search import TavilySearchResults\n",
    "from langchain_core.messages import BaseMessage, ToolMessage\n",
    "from pydantic import BaseModel, Field\n",
    "\n",
    "# LangGraph components\n",
    "from langgraph.graph import StateGraph, END\n",
    "from langgraph.graph.message import AnyMessage, add_messages\n",
    "from langgraph.prebuilt import ToolNode\n",
    "\n",
    "# For pretty printing\n",
    "from rich.console import Console\n",
    "from rich.markdown import Markdown\n",
    "\n",
    "# --- API Key and Tracing Setup ---\n",
    "load_dotenv()\n",
    "\n",
    "os.environ[\"LANGCHAIN_TRACING_V2\"] = \"true\"\n",
    "os.environ[\"LANGCHAIN_PROJECT\"] = \"Agentic Architecture - Tool Use (Nebius)\"\n",
    "\n",
    "# Check that the keys are set\n",
    "for key in [\"NEBIUS_API_KEY\", \"LANGCHAIN_API_KEY\", \"TAVILY_API_KEY\"]:\n",
    "    if not os.environ.get(key):\n",
    "        print(f\"{key} not found. Please create a .env file and set it.\")\n",
    "\n",
    "print(\"Environment variables loaded and tracing is set up.\")"
   ]
  },
  {
   "cell_type": "markdown",
   "id": "phase1-title",
   "metadata": {},
   "source": [
    "## Phase 1: Defining the Agent's Toolkit\n",
    "\n",
    "An agent is only as capable as the tools it has access to. In this phase, we will define and test the specific tool we'll give our agent: a live web search."
   ]
  },
  {
   "cell_type": "markdown",
   "id": "tool-what",
   "metadata": {},
   "source": [
    "### Step 1.1: Creating and Testing the Web Search Tool\n",
    "\n",
    "**What we are going to do:**\n",
    "We will instantiate the `TavilySearchResults` tool. The most critical part of defining a tool is its **description**. The LLM uses this natural language description to understand what the tool does and when it should be used. A clear, precise description is essential for the agent to make correct decisions. We will then test the tool directly to see what its raw output looks like."
   ]
  },
  {
   "cell_type": "code",
   "execution_count": 3,
   "id": "create-tool",
   "metadata": {},
   "outputs": [
    {
     "name": "stdout",
     "output_type": "stream",
     "text": [
      "Tool 'web_search' created with description: 'A tool that can be used to search the internet for up-to-date information on any topic, including news, events, and current affairs.'\n",
      "\n",
      "--- Testing the tool directly ---\n"
     ]
    },
    {
     "name": "stderr",
     "output_type": "stream",
     "text": [
      "C:\\Users\\faree\\AppData\\Local\\Temp\\ipykernel_2556\\1362582966.py:2: LangChainDeprecationWarning: The class `TavilySearchResults` was deprecated in LangChain 0.3.25 and will be removed in 1.0. An updated version of the class exists in the :class:`~langchain-tavily package and should be used instead. To use it run `pip install -U :class:`~langchain-tavily` and import as `from :class:`~langchain_tavily import TavilySearch``.\n",
      "  search_tool = TavilySearchResults(max_results=2)\n"
     ]
    },
    {
     "data": {
      "text/html": [
       "<pre style=\"white-space:pre;overflow-x:auto;line-height:normal;font-family:Menlo,'DejaVu Sans Mono',consolas,'Courier New',monospace\"><span style=\"color: #008000; text-decoration-color: #008000; font-weight: bold\">Query:</span> What was the score of the last Super Bowl?\n",
       "</pre>\n"
      ],
      "text/plain": [
       "\u001b[1;32mQuery:\u001b[0m What was the score of the last Super Bowl?\n"
      ]
     },
     "metadata": {},
     "output_type": "display_data"
    },
    {
     "data": {
      "text/html": [
       "<pre style=\"white-space:pre;overflow-x:auto;line-height:normal;font-family:Menlo,'DejaVu Sans Mono',consolas,'Courier New',monospace\">\n",
       "<span style=\"color: #008000; text-decoration-color: #008000; font-weight: bold\">Result:</span>\n",
       "</pre>\n"
      ],
      "text/plain": [
       "\n",
       "\u001b[1;32mResult:\u001b[0m\n"
      ]
     },
     "metadata": {},
     "output_type": "display_data"
    },
    {
     "data": {
      "text/html": [
       "<pre style=\"white-space:pre;overflow-x:auto;line-height:normal;font-family:Menlo,'DejaVu Sans Mono',consolas,'Courier New',monospace\"><span style=\"font-weight: bold\">[</span>\n",
       "    <span style=\"font-weight: bold\">{</span>\n",
       "        <span style=\"color: #008000; text-decoration-color: #008000\">'title'</span>: <span style=\"color: #008000; text-decoration-color: #008000\">'List of Super Bowl Winners (1967-2025) - NFL Champions by Year Last 10 Super Bowls Scores | </span>\n",
       "<span style=\"color: #008000; text-decoration-color: #008000\">StatMuse Super Bowl Winners by Year: Complete List &amp; 2025 Results Super Bowl Winners by Year - ESPN List of Super </span>\n",
       "<span style=\"color: #008000; text-decoration-color: #008000\">Bowl Winners (1967-2025) - NFL Champions by Year List of Super Bowl champions - Wikipedia Super Bowl Winners by </span>\n",
       "<span style=\"color: #008000; text-decoration-color: #008000\">Year - ESPN Super Bowl Winners by Year: Complete List &amp; 2025 Results List of Super Bowl champions - Wikipedia List </span>\n",
       "<span style=\"color: #008000; text-decoration-color: #008000\">of Super Bowl Winners (1967-2025) - NFL Champions by Year Who Played in The Super Bowl Last Year? - Bleacher </span>\n",
       "<span style=\"color: #008000; text-decoration-color: #008000\">Nation'</span>,\n",
       "        <span style=\"color: #008000; text-decoration-color: #008000\">'url'</span>: <span style=\"color: #008000; text-decoration-color: #008000\">'https://www.topendsports.com/events/super-bowl/winners-list.htm'</span>,\n",
       "        <span style=\"color: #008000; text-decoration-color: #008000\">'content'</span>: <span style=\"color: #008000; text-decoration-color: #008000\">'Score: Rams 23, Bengals 20\\n Venue: SoFi Stadium, Los Angeles\\n Date: February 13, 2022\\n MVP: </span>\n",
       "<span style=\"color: #008000; text-decoration-color: #008000\">Cooper Kupp\\n\\n### Super Bowls LV &amp; LIV\\n\\n2021 (LV): Tampa Bay Buccaneers defeated Kansas City Chiefs 31-9, with </span>\n",
       "<span style=\"color: #008000; text-decoration-color: #008000\">Tom Brady winning his 7th championship.\\n\\n2020 (LIV): Kansas City Chiefs defeated San Francisco 49ers 31-20, </span>\n",
       "<span style=\"color: #008000; text-decoration-color: #008000\">ending a 50-year championship drought. [...] | XXVII | 1993 | Dallas | Buffalo | 52-17 | Pasadena |\\n| XXVI | 1992 </span>\n",
       "<span style=\"color: #008000; text-decoration-color: #008000\">| Washington | Buffalo | 37-24 | Minneapolis |\\n| XXV | 1991 | NY Giants | Buffalo | 20-19 | Tampa |\\n| XXIV | 1990</span>\n",
       "<span style=\"color: #008000; text-decoration-color: #008000\">| San Francisco | Denver | 55-10 | New Orleans |\\n| XXIII | 1989 | San Francisco | Cincinnati | 20-16 | Miami |\\n| </span>\n",
       "<span style=\"color: #008000; text-decoration-color: #008000\">XXII | 1988 | Washington | Denver | 42-10 | San Diego |\\n| XXI | 1987 | NY Giants | Denver | 39-20 | Pasadena |\\n| </span>\n",
       "<span style=\"color: #008000; text-decoration-color: #008000\">XX | 1986 | Chicago | New England | 46-10 | New Orleans | [...] | No. | Year | Winner | Opposition | Score | Venue </span>\n",
       "<span style=\"color: #008000; text-decoration-color: #008000\">|\\n| LIX | 2025 | Philadelphia Eagles | Kansas City Chiefs | 40-22 | New Orleans, Louisiana |\\n| LVIII | 2024 | </span>\n",
       "<span style=\"color: #008000; text-decoration-color: #008000\">Kansas City Chiefs | San Francisco 49ers | 25-22 | Las Vegas, Nevada |\\n| LVII | 2023 | Kansas City Chiefs | </span>\n",
       "<span style=\"color: #008000; text-decoration-color: #008000\">Philadelphia Eagles | 38-35 | Arizona |\\n| LVI | 2022 | Los Angeles Rams | Cincinnati Bengals | 23-20 | Los Angeles</span>\n",
       "<span style=\"color: #008000; text-decoration-color: #008000\">|\\n| LV | 2021 | Tampa Bay Buccaneers | Kansas City Chiefs | 31-9 | Tampa |'</span>,\n",
       "        <span style=\"color: #008000; text-decoration-color: #008000\">'score'</span>: <span style=\"color: #008080; text-decoration-color: #008080; font-weight: bold\">0.7300017</span>\n",
       "    <span style=\"font-weight: bold\">}</span>,\n",
       "    <span style=\"font-weight: bold\">{</span>\n",
       "        <span style=\"color: #008000; text-decoration-color: #008000\">'title'</span>: <span style=\"color: #008000; text-decoration-color: #008000\">'Super Bowl Winners by Year: Complete List &amp; 2025 Results'</span>,\n",
       "        <span style=\"color: #008000; text-decoration-color: #008000\">'url'</span>: <span style=\"color: #008000; text-decoration-color: #008000\">'https://nflplayoffpass.com/super-bowl-winners/'</span>,\n",
       "        <span style=\"color: #008000; text-decoration-color: #008000\">'content'</span>: <span style=\"color: #008000; text-decoration-color: #008000\">'| Super Bowl | Year | Winner | Opposition | Score | Stadium |\\n ---  ---  --- |\\n| LIX | 2025 |</span>\n",
       "<span style=\"color: #008000; text-decoration-color: #008000\">Philadelphia Eagles | Kansas City Chiefs | 40-22 | Caesars Superdome |\\n| LVIII | 2024 | Kansas City Chiefs | San </span>\n",
       "<span style=\"color: #008000; text-decoration-color: #008000\">Francisco 49ers | 25–22 (OT) | Allegiant Stadium |\\n| LVII | 2023 | Kansas City Chiefs | Philadelphia Eagles | </span>\n",
       "<span style=\"color: #008000; text-decoration-color: #008000\">38–35 | State Farm Stadium |\\n| LVI | 2022 | Los Angeles Rams | Cincinnati Bengals | 23–20 | SoFi Stadium | [...] |</span>\n",
       "<span style=\"color: #008000; text-decoration-color: #008000\">XLV | 2011 | Green Bay Packers | Pittsburgh Steelers | 31–25 | Cowboys Stadium |\\n| XLIV | 2010 | New Orleans </span>\n",
       "<span style=\"color: #008000; text-decoration-color: #008000\">Saints | Indianapolis Colts | 31–17 | Sun Life Stadium |\\n| XLIII | 2009 | Pittsburgh Steelers | Arizona Cardinals </span>\n",
       "<span style=\"color: #008000; text-decoration-color: #008000\">| 27–23 | Raymond James Stadium |\\n| XLII | 2008 | New York Giants | New England Patriots | 17–14 | University of </span>\n",
       "<span style=\"color: #008000; text-decoration-color: #008000\">Phoenix Stadium |\\n| XLI | 2007 | Indianapolis Colts | Chicago Bears | 29–17 | Dolphin Stadium | [...] | XXIII | </span>\n",
       "<span style=\"color: #008000; text-decoration-color: #008000\">1989 | San Francisco 49ers | Cincinnati Bengals | 20–16 | Joe Robbie Stadium |\\n| XXII | 1988 | Washington Redskins</span>\n",
       "<span style=\"color: #008000; text-decoration-color: #008000\">| Denver Broncos | 42–10 | Jack Murphy Stadium |\\n| XXI | 1987 | New York Giants | Denver Broncos | 39–20 | Rose </span>\n",
       "<span style=\"color: #008000; text-decoration-color: #008000\">Bowl |\\n| XX | 1986 | Chicago Bears | New England Patriots | 46–10 | Louisiana Superdome |\\n| XIX | 1985 | San </span>\n",
       "<span style=\"color: #008000; text-decoration-color: #008000\">Francisco 49ers | Miami Dolphins | 38–16 | Stanford Stadium |\\n| XVIII | 1984 | Los Angeles Raiders | Washington </span>\n",
       "<span style=\"color: #008000; text-decoration-color: #008000\">Redskins | 38–9 | Tampa Stadium |'</span>,\n",
       "        <span style=\"color: #008000; text-decoration-color: #008000\">'score'</span>: <span style=\"color: #008080; text-decoration-color: #008080; font-weight: bold\">0.7293082</span>\n",
       "    <span style=\"font-weight: bold\">}</span>\n",
       "<span style=\"font-weight: bold\">]</span>\n",
       "</pre>\n"
      ],
      "text/plain": [
       "\u001b[1m[\u001b[0m\n",
       "    \u001b[1m{\u001b[0m\n",
       "        \u001b[32m'title'\u001b[0m: \u001b[32m'List of Super Bowl Winners \u001b[0m\u001b[32m(\u001b[0m\u001b[32m1967-2025\u001b[0m\u001b[32m)\u001b[0m\u001b[32m - NFL Champions by Year Last 10 Super Bowls Scores | \u001b[0m\n",
       "\u001b[32mStatMuse Super Bowl Winners by Year: Complete List & 2025 Results Super Bowl Winners by Year - ESPN List of Super \u001b[0m\n",
       "\u001b[32mBowl Winners \u001b[0m\u001b[32m(\u001b[0m\u001b[32m1967-2025\u001b[0m\u001b[32m)\u001b[0m\u001b[32m - NFL Champions by Year List of Super Bowl champions - Wikipedia Super Bowl Winners by \u001b[0m\n",
       "\u001b[32mYear - ESPN Super Bowl Winners by Year: Complete List & 2025 Results List of Super Bowl champions - Wikipedia List \u001b[0m\n",
       "\u001b[32mof Super Bowl Winners \u001b[0m\u001b[32m(\u001b[0m\u001b[32m1967-2025\u001b[0m\u001b[32m)\u001b[0m\u001b[32m - NFL Champions by Year Who Played in The Super Bowl Last Year? - Bleacher \u001b[0m\n",
       "\u001b[32mNation'\u001b[0m,\n",
       "        \u001b[32m'url'\u001b[0m: \u001b[32m'https://www.topendsports.com/events/super-bowl/winners-list.htm'\u001b[0m,\n",
       "        \u001b[32m'content'\u001b[0m: \u001b[32m'Score: Rams 23, Bengals 20\\n Venue: SoFi Stadium, Los Angeles\\n Date: February 13, 2022\\n MVP: \u001b[0m\n",
       "\u001b[32mCooper Kupp\\n\\n### Super Bowls LV & LIV\\n\\n2021 \u001b[0m\u001b[32m(\u001b[0m\u001b[32mLV\u001b[0m\u001b[32m)\u001b[0m\u001b[32m: Tampa Bay Buccaneers defeated Kansas City Chiefs 31-9, with \u001b[0m\n",
       "\u001b[32mTom Brady winning his 7th championship.\\n\\n2020 \u001b[0m\u001b[32m(\u001b[0m\u001b[32mLIV\u001b[0m\u001b[32m)\u001b[0m\u001b[32m: Kansas City Chiefs defeated San Francisco 49ers 31-20, \u001b[0m\n",
       "\u001b[32mending a 50-year championship drought. \u001b[0m\u001b[32m[\u001b[0m\u001b[32m...\u001b[0m\u001b[32m]\u001b[0m\u001b[32m | XXVII | 1993 | Dallas | Buffalo | 52-17 | Pasadena |\\n| XXVI | 1992 \u001b[0m\n",
       "\u001b[32m| Washington | Buffalo | 37-24 | Minneapolis |\\n| XXV | 1991 | NY Giants | Buffalo | 20-19 | Tampa |\\n| XXIV | 1990\u001b[0m\n",
       "\u001b[32m| San Francisco | Denver | 55-10 | New Orleans |\\n| XXIII | 1989 | San Francisco | Cincinnati | 20-16 | Miami |\\n| \u001b[0m\n",
       "\u001b[32mXXII | 1988 | Washington | Denver | 42-10 | San Diego |\\n| XXI | 1987 | NY Giants | Denver | 39-20 | Pasadena |\\n| \u001b[0m\n",
       "\u001b[32mXX | 1986 | Chicago | New England | 46-10 | New Orleans | \u001b[0m\u001b[32m[\u001b[0m\u001b[32m...\u001b[0m\u001b[32m]\u001b[0m\u001b[32m | No. | Year | Winner | Opposition | Score | Venue \u001b[0m\n",
       "\u001b[32m|\\n| LIX | 2025 | Philadelphia Eagles | Kansas City Chiefs | 40-22 | New Orleans, Louisiana |\\n| LVIII | 2024 | \u001b[0m\n",
       "\u001b[32mKansas City Chiefs | San Francisco 49ers | 25-22 | Las Vegas, Nevada |\\n| LVII | 2023 | Kansas City Chiefs | \u001b[0m\n",
       "\u001b[32mPhiladelphia Eagles | 38-35 | Arizona |\\n| LVI | 2022 | Los Angeles Rams | Cincinnati Bengals | 23-20 | Los Angeles\u001b[0m\n",
       "\u001b[32m|\\n| LV | 2021 | Tampa Bay Buccaneers | Kansas City Chiefs | 31-9 | Tampa |'\u001b[0m,\n",
       "        \u001b[32m'score'\u001b[0m: \u001b[1;36m0.7300017\u001b[0m\n",
       "    \u001b[1m}\u001b[0m,\n",
       "    \u001b[1m{\u001b[0m\n",
       "        \u001b[32m'title'\u001b[0m: \u001b[32m'Super Bowl Winners by Year: Complete List & 2025 Results'\u001b[0m,\n",
       "        \u001b[32m'url'\u001b[0m: \u001b[32m'https://nflplayoffpass.com/super-bowl-winners/'\u001b[0m,\n",
       "        \u001b[32m'content'\u001b[0m: \u001b[32m'| Super Bowl | Year | Winner | Opposition | Score | Stadium |\\n ---  ---  --- |\\n| LIX | 2025 |\u001b[0m\n",
       "\u001b[32mPhiladelphia Eagles | Kansas City Chiefs | 40-22 | Caesars Superdome |\\n| LVIII | 2024 | Kansas City Chiefs | San \u001b[0m\n",
       "\u001b[32mFrancisco 49ers | 25–22 \u001b[0m\u001b[32m(\u001b[0m\u001b[32mOT\u001b[0m\u001b[32m)\u001b[0m\u001b[32m | Allegiant Stadium |\\n| LVII | 2023 | Kansas City Chiefs | Philadelphia Eagles | \u001b[0m\n",
       "\u001b[32m38–35 | State Farm Stadium |\\n| LVI | 2022 | Los Angeles Rams | Cincinnati Bengals | 23–20 | SoFi Stadium | \u001b[0m\u001b[32m[\u001b[0m\u001b[32m...\u001b[0m\u001b[32m]\u001b[0m\u001b[32m |\u001b[0m\n",
       "\u001b[32mXLV | 2011 | Green Bay Packers | Pittsburgh Steelers | 31–25 | Cowboys Stadium |\\n| XLIV | 2010 | New Orleans \u001b[0m\n",
       "\u001b[32mSaints | Indianapolis Colts | 31–17 | Sun Life Stadium |\\n| XLIII | 2009 | Pittsburgh Steelers | Arizona Cardinals \u001b[0m\n",
       "\u001b[32m| 27–23 | Raymond James Stadium |\\n| XLII | 2008 | New York Giants | New England Patriots | 17–14 | University of \u001b[0m\n",
       "\u001b[32mPhoenix Stadium |\\n| XLI | 2007 | Indianapolis Colts | Chicago Bears | 29–17 | Dolphin Stadium | \u001b[0m\u001b[32m[\u001b[0m\u001b[32m...\u001b[0m\u001b[32m]\u001b[0m\u001b[32m | XXIII | \u001b[0m\n",
       "\u001b[32m1989 | San Francisco 49ers | Cincinnati Bengals | 20–16 | Joe Robbie Stadium |\\n| XXII | 1988 | Washington Redskins\u001b[0m\n",
       "\u001b[32m| Denver Broncos | 42–10 | Jack Murphy Stadium |\\n| XXI | 1987 | New York Giants | Denver Broncos | 39–20 | Rose \u001b[0m\n",
       "\u001b[32mBowl |\\n| XX | 1986 | Chicago Bears | New England Patriots | 46–10 | Louisiana Superdome |\\n| XIX | 1985 | San \u001b[0m\n",
       "\u001b[32mFrancisco 49ers | Miami Dolphins | 38–16 | Stanford Stadium |\\n| XVIII | 1984 | Los Angeles Raiders | Washington \u001b[0m\n",
       "\u001b[32mRedskins | 38–9 | Tampa Stadium |'\u001b[0m,\n",
       "        \u001b[32m'score'\u001b[0m: \u001b[1;36m0.7293082\u001b[0m\n",
       "    \u001b[1m}\u001b[0m\n",
       "\u001b[1m]\u001b[0m\n"
      ]
     },
     "metadata": {},
     "output_type": "display_data"
    }
   ],
   "source": [
    "# Initialize the tool. We can set the max number of results to keep the context concise.\n",
    "search_tool = TavilySearchResults(max_results=2)\n",
    "\n",
    "# It's crucial to give the tool a clear name and description for the agent\n",
    "search_tool.name = \"web_search\"\n",
    "search_tool.description = \"A tool that can be used to search the internet for up-to-date information on any topic, including news, events, and current affairs.\"\n",
    "\n",
    "tools = [search_tool]\n",
    "print(f\"Tool '{search_tool.name}' created with description: '{search_tool.description}'\")\n",
    "\n",
    "console = Console()\n",
    "\n",
    "# Let's test the tool directly to see its output format\n",
    "print(\"\\n--- Testing the tool directly ---\")\n",
    "test_query = \"What was the score of the last Super Bowl?\"\n",
    "test_result = search_tool.invoke({\"query\": test_query})\n",
    "console.print(f\"[bold green]Query:[/bold green] {test_query}\")\n",
    "console.print(\"\\n[bold green]Result:[/bold green]\")\n",
    "console.print(test_result)"
   ]
  },
  {
   "cell_type": "markdown",
   "id": "tool-discuss",
   "metadata": {},
   "source": [
    "**Discussion of the Output:**\n",
    "The test shows the raw output of our `web_search` tool. It returns a list of dictionaries, where each dictionary contains the URL and content snippet of a search result. This structured information is exactly what the agent will receive as its \"observation\" after it decides to use the tool. Now that we have a functional tool, we can build the agent that will learn how to use it."
   ]
  },
  {
   "cell_type": "markdown",
   "id": "phase2-title",
   "metadata": {},
   "source": [
    "## Phase 2: Building the Tool-Using Agent with LangGraph\n",
    "\n",
    "Now we will construct the agentic workflow. This involves making the LLM aware of the tools and creating a graph that allows it to loop through a \"think-act-observe\" cycle, which is the essence of tool use."
   ]
  },
  {
   "cell_type": "markdown",
   "id": "graph-state-what",
   "metadata": {},
   "source": [
    "### Step 2.1: Defining the Graph State\n",
    "\n",
    "**What we are going to do:**\n",
    "The state for a tool-using agent is typically a list of messages that represents the conversation history. This history includes the user's questions, the agent's thoughts and tool calls, and the results from those tools. We will use a `TypedDict` that can hold any type of LangChain message."
   ]
  },
  {
   "cell_type": "code",
   "execution_count": 4,
   "id": "graph-state-code",
   "metadata": {},
   "outputs": [
    {
     "name": "stdout",
     "output_type": "stream",
     "text": [
      "AgentState TypedDict defined to manage conversation history.\n"
     ]
    }
   ],
   "source": [
    "class AgentState(TypedDict):\n",
    "    messages: Annotated[list[AnyMessage], add_messages]\n",
    "\n",
    "print(\"AgentState TypedDict defined to manage conversation history.\")"
   ]
  },
  {
   "cell_type": "markdown",
   "id": "llm-bind-what",
   "metadata": {},
   "source": [
    "### Step 2.2: Binding the Tools to the LLM\n",
    "\n",
    "**What we are going to do:**\n",
    "This is the critical step where we make the LLM \"aware\" of the tools. We use the `.bind_tools()` method, which passes the names and descriptions of our tools to the LLM's system prompt. This allows the model's internal logic to decide when to call a tool based on its description."
   ]
  },
  {
   "cell_type": "code",
   "execution_count": 5,
   "id": "llm-bind-code",
   "metadata": {},
   "outputs": [
    {
     "name": "stdout",
     "output_type": "stream",
     "text": [
      "LLM has been bound with the provided tools.\n"
     ]
    }
   ],
   "source": [
    "llm = ChatNebius(model=\"meta-llama/Meta-Llama-3.1-8B-Instruct\", temperature=0)\n",
    "\n",
    "# Bind the tools to the LLM, making it tool-aware\n",
    "llm_with_tools = llm.bind_tools(tools)\n",
    "\n",
    "print(\"LLM has been bound with the provided tools.\")"
   ]
  },
  {
   "cell_type": "markdown",
   "id": "nodes-what",
   "metadata": {},
   "source": [
    "### Step 2.3: Defining the Agent Nodes\n",
    "\n",
    "**What we are going to do:**\n",
    "Our graph will have two main nodes:\n",
    "1.  **`agent_node`:** This is the \"brain\". It calls the LLM with the current conversation history. The LLM's response will either be a final answer or a request to call a tool.\n",
    "2.  **`tool_node`:** This is the \"hands\". It takes the tool call request from the `agent_node`, executes the corresponding tool, and returns the output. We will use LangGraph's pre-built `ToolNode` for this."
   ]
  },
  {
   "cell_type": "code",
   "execution_count": 6,
   "id": "define-nodes",
   "metadata": {},
   "outputs": [
    {
     "name": "stdout",
     "output_type": "stream",
     "text": [
      "Agent node and Tool node have been defined.\n"
     ]
    }
   ],
   "source": [
    "def agent_node(state: AgentState):\n",
    "    \"\"\"The primary node that calls the LLM to decide the next action.\"\"\"\n",
    "    console.print(\"--- AGENT: Thinking... ---\")\n",
    "    response = llm_with_tools.invoke(state[\"messages\"])\n",
    "    return {\"messages\": [response]}\n",
    "\n",
    "# The ToolNode is a pre-built node from LangGraph that executes tools\n",
    "tool_node = ToolNode(tools)\n",
    "\n",
    "print(\"Agent node and Tool node have been defined.\")"
   ]
  },
  {
   "cell_type": "markdown",
   "id": "router-what",
   "metadata": {},
   "source": [
    "### Step 2.4: Defining the Conditional Router\n",
    "\n",
    "**What we are going to do:**\n",
    "After the `agent_node` runs, we need to decide where to go next. The router function inspects the last message from the agent. If that message contains a `tool_calls` attribute, it means the agent wants to use a tool, so we route to the `tool_node`. If not, it means the agent has a final answer, and we can end the workflow."
   ]
  },
  {
   "cell_type": "code",
   "execution_count": 7,
   "id": "router-code",
   "metadata": {},
   "outputs": [
    {
     "name": "stdout",
     "output_type": "stream",
     "text": [
      "Router function defined.\n"
     ]
    }
   ],
   "source": [
    "def router_function(state: AgentState) -> str:\n",
    "    \"\"\"Inspects the agent's last message to decide the next step.\"\"\"\n",
    "    last_message = state[\"messages\"][-1]\n",
    "    if last_message.tool_calls:\n",
    "        # The agent has requested a tool call\n",
    "        console.print(\"--- ROUTER: Decision is to call a tool. ---\")\n",
    "        return \"call_tool\"\n",
    "    else:\n",
    "        # The agent has provided a final answer\n",
    "        console.print(\"--- ROUTER: Decision is to finish. ---\")\n",
    "        return \"__end__\"\n",
    "\n",
    "print(\"Router function defined.\")"
   ]
  },
  {
   "cell_type": "markdown",
   "id": "phase3-title",
   "metadata": {},
   "source": [
    "## Phase 3: Assembling and Running the Workflow\n",
    "\n",
    "Now we'll wire all the components together into a complete, executable graph and run it on a query that forces the agent to use its new web search capability."
   ]
  },
  {
   "cell_type": "markdown",
   "id": "build-graph-what",
   "metadata": {},
   "source": [
    "### Step 3.1: Building and Visualizing the Graph\n",
    "\n",
    "**What we are going to do:**\n",
    "We will create the `StateGraph` and add our nodes and edges. The key part is the conditional edge that uses our `router_function` to create the agent's primary reasoning loop: `agent -> router -> tool -> agent`."
   ]
  },
  {
   "cell_type": "code",
   "execution_count": 8,
   "id": "build-graph-code",
   "metadata": {},
   "outputs": [
    {
     "name": "stdout",
     "output_type": "stream",
     "text": [
      "Tool-using agent graph compiled successfully!\n",
      "Graph visualization failed: Install pygraphviz to draw graphs: `pip install pygraphviz`.. Please ensure pygraphviz is installed.\n"
     ]
    }
   ],
   "source": [
    "graph_builder = StateGraph(AgentState)\n",
    "\n",
    "# Add the nodes\n",
    "graph_builder.add_node(\"agent\", agent_node)\n",
    "graph_builder.add_node(\"call_tool\", tool_node)\n",
    "\n",
    "# Set the entry point\n",
    "graph_builder.set_entry_point(\"agent\")\n",
    "\n",
    "# Add the conditional router\n",
    "graph_builder.add_conditional_edges(\n",
    "    \"agent\",\n",
    "    router_function,\n",
    ")\n",
    "\n",
    "# Add the edge from the tool node back to the agent to complete the loop\n",
    "graph_builder.add_edge(\"call_tool\", \"agent\")\n",
    "\n",
    "# Compile the graph\n",
    "tool_agent_app = graph_builder.compile()\n",
    "\n",
    "print(\"Tool-using agent graph compiled successfully!\")\n",
    "\n",
    "# Visualize the graph\n",
    "try:\n",
    "    from IPython.display import Image, display\n",
    "    png_image = tool_agent_app.get_graph().draw_png()\n",
    "    display(Image(png_image))\n",
    "except Exception as e:\n",
    "    print(f\"Graph visualization failed: {e}. Please ensure pygraphviz is installed.\")"
   ]
  },
  {
   "cell_type": "markdown",
   "id": "build-graph-discuss",
   "metadata": {},
   "source": [
    "**Discussion of the Output:**\n",
    "The compiled graph is ready. The visualization clearly shows the agent's reasoning loop. The process starts at the `agent` node. The conditional edge (represented by the diamond) then routes the flow. If a tool is needed, it goes to `call_tool`, and the output is fed back to the `agent` for synthesis. If no tool is needed, the process goes to `__end__`. This structure perfectly implements the Tool Use pattern."
   ]
  },
  {
   "cell_type": "markdown",
   "id": "execute-what",
   "metadata": {},
   "source": [
    "### Step 3.2: End-to-End Execution\n",
    "\n",
    "**What we are going to do:**\n",
    "Let's run the agent with a question that it cannot possibly know from its training data, forcing it to use the web search tool. We will stream the intermediate steps to watch its reasoning process unfold."
   ]
  },
  {
   "cell_type": "code",
   "execution_count": 9,
   "id": "execute-code",
   "metadata": {},
   "outputs": [
    {
     "data": {
      "text/html": [
       "<pre style=\"white-space:pre;overflow-x:auto;line-height:normal;font-family:Menlo,'DejaVu Sans Mono',consolas,'Courier New',monospace\"><span style=\"color: #008080; text-decoration-color: #008080; font-weight: bold\">🚀 Kicking off Tool Use workflow for request:</span> <span style=\"color: #008000; text-decoration-color: #008000\">'What were the main announcements from Apple'</span>s latest WWDC event?'\n",
       "\n",
       "</pre>\n"
      ],
      "text/plain": [
       "\u001b[1;36m🚀 Kicking off Tool Use workflow for request:\u001b[0m \u001b[32m'What were the main announcements from Apple'\u001b[0ms latest WWDC event?'\n",
       "\n"
      ]
     },
     "metadata": {},
     "output_type": "display_data"
    },
    {
     "name": "stdout",
     "output_type": "stream",
     "text": [
      "================================\u001b[1m Human Message \u001b[0m=================================\n",
      "\n",
      "What were the main announcements from Apple's latest WWDC event?\n"
     ]
    },
    {
     "data": {
      "text/html": [
       "<pre style=\"white-space:pre;overflow-x:auto;line-height:normal;font-family:Menlo,'DejaVu Sans Mono',consolas,'Courier New',monospace\">\n",
       "---\n",
       "\n",
       "</pre>\n"
      ],
      "text/plain": [
       "\n",
       "---\n",
       "\n"
      ]
     },
     "metadata": {},
     "output_type": "display_data"
    },
    {
     "data": {
      "text/html": [
       "<pre style=\"white-space:pre;overflow-x:auto;line-height:normal;font-family:Menlo,'DejaVu Sans Mono',consolas,'Courier New',monospace\">--- AGENT: Thinking<span style=\"color: #808000; text-decoration-color: #808000\">...</span> ---\n",
       "</pre>\n"
      ],
      "text/plain": [
       "--- AGENT: Thinking\u001b[33m...\u001b[0m ---\n"
      ]
     },
     "metadata": {},
     "output_type": "display_data"
    },
    {
     "data": {
      "text/html": [
       "<pre style=\"white-space:pre;overflow-x:auto;line-height:normal;font-family:Menlo,'DejaVu Sans Mono',consolas,'Courier New',monospace\">--- ROUTER: Decision is to call a tool. ---\n",
       "</pre>\n"
      ],
      "text/plain": [
       "--- ROUTER: Decision is to call a tool. ---\n"
      ]
     },
     "metadata": {},
     "output_type": "display_data"
    },
    {
     "name": "stdout",
     "output_type": "stream",
     "text": [
      "==================================\u001b[1m Ai Message \u001b[0m==================================\n",
      "Tool Calls:\n",
      "  web_search (chatcmpl-tool-c931af116d58446b9169a9e06242d811)\n",
      " Call ID: chatcmpl-tool-c931af116d58446b9169a9e06242d811\n",
      "  Args:\n",
      "    query: Apple WWDC latest announcements\n"
     ]
    },
    {
     "data": {
      "text/html": [
       "<pre style=\"white-space:pre;overflow-x:auto;line-height:normal;font-family:Menlo,'DejaVu Sans Mono',consolas,'Courier New',monospace\">\n",
       "---\n",
       "\n",
       "</pre>\n"
      ],
      "text/plain": [
       "\n",
       "---\n",
       "\n"
      ]
     },
     "metadata": {},
     "output_type": "display_data"
    },
    {
     "name": "stdout",
     "output_type": "stream",
     "text": [
      "=================================\u001b[1m Tool Message \u001b[0m=================================\n",
      "Name: web_search\n",
      "\n",
      "[{\"title\": \"WWDC 2025: Everything We Know - MacRumors\", \"url\": \"https://www.macrumors.com/roundup/wwdc/\", \"content\": \"Apple's event lasted for an hour and a half, but we recapped all of the announcements in a 10-minute video. All of our coverage of WWDC is also listed below.\\n\\n### iOS 26\\n\\n### iPadOS 26\\n\\n### CarPlay\\n\\n### macOS Tahoe\\n\\n### watchOS 26\\n\\n### visionOS 26\\n\\n### tvOS 26\\n\\n### AirPods\\n\\n### Other Announcements\\n\\n## Past WWDC Events\\n\\n### WWDC 2024\\n\\nWith WWDC 2024, Apple introduced iOS 18, iPadOS 18, macOS 15 Sequoia, and the first Apple Intelligence features.\\n\\n## Apple Intelligence\\n\\n## iOS 18 and iPadOS 18 [...] Apple Unveils WatchOS 6 With Dedicated App Store, New Apple Watch Faces and Native Apps\\n\\nApple Reveals All-New Mac Pro With Up to 28-Core Processor and 1.5TB of RAM, Starting at $5,999\\n\\nApple Unveils 32-inch 6K 'Pro Display XDR' Monitor Starting at $4,999\\n\\n### WWDC 2018\\n\\nAt WWDC 2018, Apple made the following software and hardware announcements:\\n\\nApple Reveals iOS 12 With Digital Health Features, Group FaceTime, Memoji, and More [...] At the WWDC 2025 keynote event, Apple unveiled a new design that will inform the next decade of iOS, iPadOS, and macOS development. Apple also introduced a ton of new features for the iPhone, an overhauled Spotlight interface for the Mac, and a ton of updates that make the iPad more like a Mac than ever before.\\n\\nplay\\n\\nSubscribe to the MacRumors YouTube channel for more videos.\", \"score\": 0.8095324}, {\"title\": \"WWDC25 - Apple Developer\", \"url\": \"https://developer.apple.com/wwdc25/\", \"content\": \"Go deeper into the latest technologies and tools with sessions, transcripts, documentation, and sample code, all in one place.\\n\\nExplore more than 100 new videos\\n\\nKeynote\\n\\n##### WWDC 2025 Keynote\\n\\nPlatforms State of the Union\\n\\n##### Platforms State of the Union\\n\\nPlatforms State of the Union Recap\\n\\n##### Platforms State of the Union Recap\\n\\nMeet Liquid Glass\\n\\n##### Meet Liquid Glass\\n\\nWhat’s new in Xcode 26\\n\\n##### What’s new in Xcode 26\\n\\nSay hello to the new look of app icons [...] View in English\\n\\n## WWDC25\\n\\nWWDC25\\n\\n## Revisit the highlights\\n\\nApple’s Worldwide Developers Conference introduced powerful new capabilities, design updates, and innovative tools across every platform. Catch up on the latest sessions, documentation, and resources.\\n\\n### Explore what’s new\\n\\nDiscover what’s new across Apple’s developer tools, platforms, and technologies.\\n\\nLearn more\\n\\n### Featured videos\", \"score\": 0.62770075}]\n"
     ]
    },
    {
     "data": {
      "text/html": [
       "<pre style=\"white-space:pre;overflow-x:auto;line-height:normal;font-family:Menlo,'DejaVu Sans Mono',consolas,'Courier New',monospace\">\n",
       "---\n",
       "\n",
       "</pre>\n"
      ],
      "text/plain": [
       "\n",
       "---\n",
       "\n"
      ]
     },
     "metadata": {},
     "output_type": "display_data"
    },
    {
     "data": {
      "text/html": [
       "<pre style=\"white-space:pre;overflow-x:auto;line-height:normal;font-family:Menlo,'DejaVu Sans Mono',consolas,'Courier New',monospace\">--- AGENT: Thinking<span style=\"color: #808000; text-decoration-color: #808000\">...</span> ---\n",
       "</pre>\n"
      ],
      "text/plain": [
       "--- AGENT: Thinking\u001b[33m...\u001b[0m ---\n"
      ]
     },
     "metadata": {},
     "output_type": "display_data"
    },
    {
     "data": {
      "text/html": [
       "<pre style=\"white-space:pre;overflow-x:auto;line-height:normal;font-family:Menlo,'DejaVu Sans Mono',consolas,'Courier New',monospace\">--- ROUTER: Decision is to finish. ---\n",
       "</pre>\n"
      ],
      "text/plain": [
       "--- ROUTER: Decision is to finish. ---\n"
      ]
     },
     "metadata": {},
     "output_type": "display_data"
    },
    {
     "name": "stdout",
     "output_type": "stream",
     "text": [
      "==================================\u001b[1m Ai Message \u001b[0m==================================\n",
      "\n",
      "The main announcements from Apple's latest WWDC event include a new design that will inform the next decade of iOS, iPadOS, and macOS development, new features for the iPhone, an overhauled Spotlight interface for the Mac, and updates that make the iPad more like a Mac than ever before. Additionally, Apple introduced a ton of new features and updates across every platform, including iOS 26, iPadOS 26, CarPlay, macOS Tahoe, watchOS 26, visionOS 26, and tvOS 26.\n"
     ]
    },
    {
     "data": {
      "text/html": [
       "<pre style=\"white-space:pre;overflow-x:auto;line-height:normal;font-family:Menlo,'DejaVu Sans Mono',consolas,'Courier New',monospace\">\n",
       "---\n",
       "\n",
       "</pre>\n"
      ],
      "text/plain": [
       "\n",
       "---\n",
       "\n"
      ]
     },
     "metadata": {},
     "output_type": "display_data"
    },
    {
     "data": {
      "text/html": [
       "<pre style=\"white-space:pre;overflow-x:auto;line-height:normal;font-family:Menlo,'DejaVu Sans Mono',consolas,'Courier New',monospace\">\n",
       "<span style=\"color: #008000; text-decoration-color: #008000; font-weight: bold\">✅ Tool Use workflow complete!</span>\n",
       "</pre>\n"
      ],
      "text/plain": [
       "\n",
       "\u001b[1;32m✅ Tool Use workflow complete!\u001b[0m\n"
      ]
     },
     "metadata": {},
     "output_type": "display_data"
    }
   ],
   "source": [
    "user_query = \"What were the main announcements from Apple's latest WWDC event?\"\n",
    "initial_input = {\"messages\": [(\"user\", user_query)]}\n",
    "\n",
    "console.print(f\"[bold cyan]🚀 Kicking off Tool Use workflow for request:[/bold cyan] '{user_query}'\\n\")\n",
    "\n",
    "for chunk in tool_agent_app.stream(initial_input, stream_mode=\"values\"):\n",
    "    chunk[\"messages\"][-1].pretty_print()\n",
    "    console.print(\"\\n---\\n\")\n",
    "\n",
    "console.print(\"\\n[bold green]✅ Tool Use workflow complete![/bold green]\")"
   ]
  },
  {
   "cell_type": "markdown",
   "id": "phase4-title",
   "metadata": {},
   "source": [
    "## Phase 4: Evaluation\n",
    "\n",
    "Now that the agent has run, we can evaluate its performance. For a tool-using agent, we care about two things: did it use its tools correctly, and was the final answer, which was synthesized from the tool's output, high-quality?"
   ]
  },
  {
   "cell_type": "markdown",
   "id": "eval-analysis-what",
   "metadata": {},
   "source": [
    "### Step 4.1: Analyzing the Execution Trace\n",
    "\n",
    "**What we are going to do:**\n",
    "By looking at the streamed output from the previous step, we can trace the agent's exact thought process. The output shows the different message types (`AIMessage` with `tool_calls`, `ToolMessage` with results) that flow through the graph state."
   ]
  },
  {
   "cell_type": "markdown",
   "id": "eval-analysis-discuss",
   "metadata": {},
   "source": [
    "**Discussion of the Output:**\n",
    "The execution trace clearly shows the Tool Use pattern in action:\n",
    "1.  The first message printed is from the `agent` node. It's an `AIMessage` containing a `tool_calls` attribute, indicating the LLM correctly decided to use the `web_search` tool.\n",
    "2.  The next message is a `ToolMessage`. This is the output from the `tool_node` after it executed the search and returned the raw results.\n",
    "3.  The final message is another `AIMessage`, but this time without `tool_calls`. This is the agent synthesizing the information from the `ToolMessage` into a coherent, final answer for the user.\n",
    "This trace confirms that the agent's logic and the graph's routing worked perfectly."
   ]
  },
  {
   "cell_type": "markdown",
   "id": "eval-judge-what",
   "metadata": {},
   "source": [
    "### Step 4.2: Evaluating with LLM-as-a-Judge\n",
    "\n",
    "**What we are going to do:**\n",
    "We will create a 'Judge' LLM to provide a structured, quantitative evaluation of the agent's performance. The evaluation criteria will be tailored specifically to assess the quality of tool use."
   ]
  },
  {
   "cell_type": "code",
   "execution_count": 10,
   "id": "eval-judge-code",
   "metadata": {},
   "outputs": [
    {
     "data": {
      "text/html": [
       "<pre style=\"white-space:pre;overflow-x:auto;line-height:normal;font-family:Menlo,'DejaVu Sans Mono',consolas,'Courier New',monospace\">--- AGENT: Thinking<span style=\"color: #808000; text-decoration-color: #808000\">...</span> ---\n",
       "</pre>\n"
      ],
      "text/plain": [
       "--- AGENT: Thinking\u001b[33m...\u001b[0m ---\n"
      ]
     },
     "metadata": {},
     "output_type": "display_data"
    },
    {
     "data": {
      "text/html": [
       "<pre style=\"white-space:pre;overflow-x:auto;line-height:normal;font-family:Menlo,'DejaVu Sans Mono',consolas,'Courier New',monospace\">--- ROUTER: Decision is to call a tool. ---\n",
       "</pre>\n"
      ],
      "text/plain": [
       "--- ROUTER: Decision is to call a tool. ---\n"
      ]
     },
     "metadata": {},
     "output_type": "display_data"
    },
    {
     "data": {
      "text/html": [
       "<pre style=\"white-space:pre;overflow-x:auto;line-height:normal;font-family:Menlo,'DejaVu Sans Mono',consolas,'Courier New',monospace\">--- AGENT: Thinking<span style=\"color: #808000; text-decoration-color: #808000\">...</span> ---\n",
       "</pre>\n"
      ],
      "text/plain": [
       "--- AGENT: Thinking\u001b[33m...\u001b[0m ---\n"
      ]
     },
     "metadata": {},
     "output_type": "display_data"
    },
    {
     "data": {
      "text/html": [
       "<pre style=\"white-space:pre;overflow-x:auto;line-height:normal;font-family:Menlo,'DejaVu Sans Mono',consolas,'Courier New',monospace\">--- ROUTER: Decision is to finish. ---\n",
       "</pre>\n"
      ],
      "text/plain": [
       "--- ROUTER: Decision is to finish. ---\n"
      ]
     },
     "metadata": {},
     "output_type": "display_data"
    },
    {
     "data": {
      "text/html": [
       "<pre style=\"white-space:pre;overflow-x:auto;line-height:normal;font-family:Menlo,'DejaVu Sans Mono',consolas,'Courier New',monospace\">--- Evaluating Tool Use Performance ---\n",
       "</pre>\n"
      ],
      "text/plain": [
       "--- Evaluating Tool Use Performance ---\n"
      ]
     },
     "metadata": {},
     "output_type": "display_data"
    },
    {
     "data": {
      "text/html": [
       "<pre style=\"white-space:pre;overflow-x:auto;line-height:normal;font-family:Menlo,'DejaVu Sans Mono',consolas,'Courier New',monospace\"><span style=\"font-weight: bold\">{</span>\n",
       "    <span style=\"color: #008000; text-decoration-color: #008000\">'tool_selection_score'</span>: <span style=\"color: #008080; text-decoration-color: #008080; font-weight: bold\">5</span>,\n",
       "    <span style=\"color: #008000; text-decoration-color: #008000\">'tool_input_score'</span>: <span style=\"color: #008080; text-decoration-color: #008080; font-weight: bold\">5</span>,\n",
       "    <span style=\"color: #008000; text-decoration-color: #008000\">'synthesis_quality_score'</span>: <span style=\"color: #008080; text-decoration-color: #008080; font-weight: bold\">4</span>,\n",
       "    <span style=\"color: #008000; text-decoration-color: #008000\">'justification'</span>: <span style=\"color: #008000; text-decoration-color: #008000\">\"The AI agent used the web search tool to find relevant information about Apple's latest WWDC </span>\n",
       "<span style=\"color: #008000; text-decoration-color: #008000\">event. The tool output was well-formed and relevant, providing a good summary of the announcements. However, the AI</span>\n",
       "<span style=\"color: #008000; text-decoration-color: #008000\">agent could have done a better job of synthesizing the information, as some of the points mentioned in the output </span>\n",
       "<span style=\"color: #008000; text-decoration-color: #008000\">are not clearly connected to the main announcements. For example, the mention of the Apple Watch and other devices </span>\n",
       "<span style=\"color: #008000; text-decoration-color: #008000\">seems out of place in the context of the main announcements. Overall, the AI agent's tool use was effective, but </span>\n",
       "<span style=\"color: #008000; text-decoration-color: #008000\">could be improved with better synthesis of the information.\"</span>\n",
       "<span style=\"font-weight: bold\">}</span>\n",
       "</pre>\n"
      ],
      "text/plain": [
       "\u001b[1m{\u001b[0m\n",
       "    \u001b[32m'tool_selection_score'\u001b[0m: \u001b[1;36m5\u001b[0m,\n",
       "    \u001b[32m'tool_input_score'\u001b[0m: \u001b[1;36m5\u001b[0m,\n",
       "    \u001b[32m'synthesis_quality_score'\u001b[0m: \u001b[1;36m4\u001b[0m,\n",
       "    \u001b[32m'justification'\u001b[0m: \u001b[32m\"The AI agent used the web search tool to find relevant information about Apple's latest WWDC \u001b[0m\n",
       "\u001b[32mevent. The tool output was well-formed and relevant, providing a good summary of the announcements. However, the AI\u001b[0m\n",
       "\u001b[32magent could have done a better job of synthesizing the information, as some of the points mentioned in the output \u001b[0m\n",
       "\u001b[32mare not clearly connected to the main announcements. For example, the mention of the Apple Watch and other devices \u001b[0m\n",
       "\u001b[32mseems out of place in the context of the main announcements. Overall, the AI agent's tool use was effective, but \u001b[0m\n",
       "\u001b[32mcould be improved with better synthesis of the information.\"\u001b[0m\n",
       "\u001b[1m}\u001b[0m\n"
      ]
     },
     "metadata": {},
     "output_type": "display_data"
    }
   ],
   "source": [
    "class ToolUseEvaluation(BaseModel):\n",
    "    \"\"\"Schema for evaluating the agent's tool use and final answer.\"\"\"\n",
    "    tool_selection_score: int = Field(description=\"Score 1-5 on whether the agent chose the correct tool for the task.\")\n",
    "    tool_input_score: int = Field(description=\"Score 1-5 on how well-formed and relevant the input to the tool was.\")\n",
    "    synthesis_quality_score: int = Field(description=\"Score 1-5 on how well the agent integrated the tool's output into its final answer.\")\n",
    "    justification: str = Field(description=\"A brief justification for the scores.\")\n",
    "\n",
    "judge_llm = llm.with_structured_output(ToolUseEvaluation)\n",
    "\n",
    "# To evaluate, we need to reconstruct the full conversation trace\n",
    "final_answer = tool_agent_app.invoke(initial_input)\n",
    "conversation_trace = \"\\n\".join([f\"{m.type}: {m.content or ''} {getattr(m, 'tool_calls', '')}\" for m in final_answer['messages']])\n",
    "\n",
    "def evaluate_tool_use(trace: str):\n",
    "    prompt = f\"\"\"You are an expert judge of AI agents. Evaluate the following conversation trace based on the agent's tool use on a scale of 1-5. Provide a brief justification.\n",
    "    \n",
    "    Conversation Trace:\n",
    "    ```\n",
    "    {trace}\n",
    "    ```\n",
    "    \"\"\"\n",
    "    return judge_llm.invoke(prompt)\n",
    "\n",
    "console.print(\"--- Evaluating Tool Use Performance ---\")\n",
    "evaluation = evaluate_tool_use(conversation_trace)\n",
    "console.print(evaluation.model_dump())"
   ]
  },
  {
   "cell_type": "markdown",
   "id": "eval-judge-discuss",
   "metadata": {},
   "source": [
    "**Discussion of the Output:**\n",
    "The LLM-as-a-Judge provides a structured and reasoned assessment of our agent's performance. The high scores across all three categories—`tool_selection_score`, `tool_input_score`, and `synthesis_quality_score`—confirm that our agent is not just using tools, but using them *effectively*. It correctly identified the need for a web search, formulated a relevant query, and successfully synthesized the retrieved facts into a helpful and accurate final answer. This automated evaluation gives us confidence in the robustness of our implementation."
   ]
  },
  {
   "cell_type": "markdown",
   "id": "conclusion",
   "metadata": {},
   "source": [
    "## Conclusion\n",
    "\n",
    "In this notebook, we have built a complete, functioning agent based on the **Tool Use** architecture. We successfully equipped a Nebius-powered LLM with a web search tool and used LangGraph to create a robust reasoning loop that allows the agent to decide when and how to use it.\n",
    "\n",
    "The end-to-end execution and subsequent evaluation demonstrate the immense value of this pattern. By connecting our agent to live, external information, we have fundamentally overcome the limitation of static training data. The agent is no longer just a reasoner; it is a researcher, capable of providing answers that are grounded, factual, and current. This architecture is a foundational building block for creating virtually any practical, real-world AI assistant."
   ]
  }
 ],
 "metadata": {
  "kernelspec": {
   "display_name": ".venv-agents-architectures (3.10.0)",
   "language": "python",
   "name": "python3"
  },
  "language_info": {
   "codemirror_mode": {
    "name": "ipython",
    "version": 3
   },
   "file_extension": ".py",
   "mimetype": "text/x-python",
   "name": "python",
   "nbconvert_exporter": "python",
   "pygments_lexer": "ipython3",
   "version": "3.10.0"
  }
 },
 "nbformat": 4,
 "nbformat_minor": 5
}
